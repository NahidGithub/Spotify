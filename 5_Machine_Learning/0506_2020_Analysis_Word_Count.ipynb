{
 "cells": [
  {
   "cell_type": "code",
   "execution_count": 1,
   "metadata": {},
   "outputs": [],
   "source": [
    "import pandas as pd\n",
    "import numpy as np\n",
    "from sklearn.feature_extraction.text import TfidfVectorizer\n",
    "import nltk\n",
    "import boto3\n",
    "\n",
    "from s3 import get_file\n"
   ]
  },
  {
   "cell_type": "code",
   "execution_count": 2,
   "metadata": {},
   "outputs": [],
   "source": [
    "s3 = boto3.resource('s3')\n",
    "df_lyrics = get_file(s3,'s3ssp',download_file='NLP_Data/master_lyrics_audio_features.csv',rename_file='Data/0320_2020_nlp.csv')"
   ]
  },
  {
   "cell_type": "code",
   "execution_count": 3,
   "metadata": {},
   "outputs": [],
   "source": [
    "df = pd.read_csv(df_lyrics,sep='|',encoding='utf-8')\n",
    "df = df.dropna()"
   ]
  },
  {
   "cell_type": "code",
   "execution_count": 4,
   "metadata": {},
   "outputs": [],
   "source": [
    "clean = df['lyrics'].str.replace('\\n',' ')\n",
    "#clean = clean.str.replace('(\\[.*\\])*','')"
   ]
  },
  {
   "cell_type": "markdown",
   "metadata": {},
   "source": [
    "## Topic Analysis"
   ]
  },
  {
   "cell_type": "code",
   "execution_count": 22,
   "metadata": {},
   "outputs": [],
   "source": [
    "#Pick from bag of words how many elements\n",
    "from sklearn.decomposition import NMF, LatentDirichletAllocation\n",
    "no_features = 500\n",
    "\n",
    "# NMF is able to use tf-idf\n",
    "tfidf_vectorizer = TfidfVectorizer(decode_error='strict',#strip_accents=,\n",
    "                                   stop_words='english',ngram_range=(1,2),\n",
    "                                   max_df=0.95,min_df=2, \n",
    "                                   max_features=no_features#vocabulary=,\n",
    "                                   #binary=,#norm=,\n",
    "                                   #use_idf=True,\n",
    "                                   #smooth_idf=True,\n",
    "                                   #sublinear_tf=\n",
    "                                   )\n",
    "\n",
    "\n",
    "\n",
    "\n",
    "\n",
    "\n",
    "\n",
    "\n",
    "\n",
    "\n",
    "\n",
    "\n",
    "\n",
    "\n",
    "\n",
    "\n",
    "\n",
    "\n",
    "tfidf = tfidf_vectorizer.fit_transform(clean.values.astype('U'))\n",
    "tfidf_feature_names = tfidf_vectorizer.get_feature_names()"
   ]
  },
  {
   "cell_type": "code",
   "execution_count": 23,
   "metadata": {},
   "outputs": [],
   "source": [
    "#Divide those elements into how many topics\n",
    "no_topics = 10\n",
    "\n",
    "# Run NMF\n",
    "nmf = NMF(n_components=no_topics, random_state=1, alpha=.1, l1_ratio=.5, init='nndsvd').fit(tfidf)"
   ]
  },
  {
   "cell_type": "code",
   "execution_count": 24,
   "metadata": {},
   "outputs": [
    {
     "name": "stdout",
     "output_type": "stream",
     "text": [
      "Topic 0:\n",
      "instrumental song redman music\n",
      "Topic 1:\n",
      "away time life day\n",
      "Topic 2:\n",
      "like shit yo flex\n",
      "Topic 3:\n",
      "que la en el\n",
      "Topic 4:\n",
      "love love love heart baby\n",
      "Topic 5:\n",
      "don want know just\n",
      "Topic 6:\n",
      "oh oh oh fool oh yeah\n",
      "Topic 7:\n",
      "ve got ve got seen\n",
      "Topic 8:\n",
      "ll know won true\n",
      "Topic 9:\n",
      "yeah baby yeah yeah gonna\n"
     ]
    }
   ],
   "source": [
    "def display_topics(model, feature_names, no_top_words):\n",
    "    for topic_idx, topic in enumerate(model.components_):\n",
    "        print(\"Topic {i}:\".format(i=topic_idx))\n",
    "        print(\" \".join([feature_names[i]\n",
    "                        for i in topic.argsort()[:-no_top_words - 1:-1]]))\n",
    "#How many words per topic\n",
    "no_top_words = 4\n",
    "display_topics(nmf, tfidf_feature_names, no_top_words)"
   ]
  },
  {
   "cell_type": "code",
   "execution_count": 8,
   "metadata": {},
   "outputs": [
    {
     "name": "stdout",
     "output_type": "stream",
     "text": [
      "Topic 0:\n",
      "instrumental song redman music\n",
      "Topic 1:\n",
      "away time life day\n",
      "Topic 2:\n",
      "like shit yo flex\n",
      "Topic 3:\n",
      "que la en el\n",
      "Topic 4:\n",
      "love heart baby sweet\n",
      "Topic 5:\n",
      "don know baby let\n",
      "Topic 6:\n",
      "oh yeah baby ooh\n",
      "Topic 7:\n",
      "ve got just seen\n",
      "Topic 8:\n",
      "ll know won true\n",
      "Topic 9:\n",
      "want just need dance\n"
     ]
    }
   ],
   "source": [
    "def display_topics(model, feature_names, no_top_words):\n",
    "    for topic_idx, topic in enumerate(model.components_):\n",
    "        print(\"Topic {i}:\".format(i=topic_idx))\n",
    "        print(\" \".join([feature_names[i]\n",
    "                        for i in topic.argsort()[:-no_top_words - 1:-1]]))\n",
    "#How many words per topic\n",
    "no_top_words = 4\n",
    "display_topics(nmf, tfidf_feature_names, no_top_words)"
   ]
  },
  {
   "cell_type": "code",
   "execution_count": null,
   "metadata": {},
   "outputs": [],
   "source": []
  }
 ],
 "metadata": {
  "kernelspec": {
   "display_name": "Python 3",
   "language": "python",
   "name": "python3"
  },
  "language_info": {
   "codemirror_mode": {
    "name": "ipython",
    "version": 3
   },
   "file_extension": ".py",
   "mimetype": "text/x-python",
   "name": "python",
   "nbconvert_exporter": "python",
   "pygments_lexer": "ipython3",
   "version": "3.7.4"
  }
 },
 "nbformat": 4,
 "nbformat_minor": 2
}
