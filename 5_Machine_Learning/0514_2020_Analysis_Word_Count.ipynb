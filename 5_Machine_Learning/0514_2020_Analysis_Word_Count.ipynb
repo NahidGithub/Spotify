{
 "cells": [
  {
   "cell_type": "code",
   "execution_count": 1,
   "metadata": {},
   "outputs": [],
   "source": [
    "import pandas as pd\n",
    "import numpy as np\n",
    "from sklearn.feature_extraction.text import TfidfVectorizer,CountVectorizer\n",
    "from nltk import word_tokenize\n",
    "import boto3\n",
    "from s3 import get_file\n",
    "import re\n",
    "import mglearn\n",
    "import sklearn\n",
    "import yellowbrick\n",
    "from nltk.corpus import stopwords"
   ]
  },
  {
   "cell_type": "code",
   "execution_count": 2,
   "metadata": {},
   "outputs": [],
   "source": [
    "from sklearn.feature_extraction.stop_words import ENGLISH_STOP_WORDS"
   ]
  },
  {
   "cell_type": "code",
   "execution_count": 3,
   "metadata": {},
   "outputs": [],
   "source": [
    "s3 = boto3.resource('s3')\n",
    "lyrics = get_file(s3,'s3ssp',download_file='NLP_Data/master_lyrics_audio_features.csv',rename_file='0320_2020_nlp.csv')"
   ]
  },
  {
   "cell_type": "code",
   "execution_count": 4,
   "metadata": {},
   "outputs": [],
   "source": [
    "df = pd.read_csv(lyrics,sep='|',encoding='utf-8')"
   ]
  },
  {
   "cell_type": "code",
   "execution_count": 5,
   "metadata": {},
   "outputs": [],
   "source": [
    "df = df.drop(columns=['instrumentalness','key','mode','liveness','speechiness','time_signature'])"
   ]
  },
  {
   "cell_type": "code",
   "execution_count": 6,
   "metadata": {},
   "outputs": [
    {
     "data": {
      "text/html": [
       "<div>\n",
       "<style scoped>\n",
       "    .dataframe tbody tr th:only-of-type {\n",
       "        vertical-align: middle;\n",
       "    }\n",
       "\n",
       "    .dataframe tbody tr th {\n",
       "        vertical-align: top;\n",
       "    }\n",
       "\n",
       "    .dataframe thead th {\n",
       "        text-align: right;\n",
       "    }\n",
       "</style>\n",
       "<table border=\"1\" class=\"dataframe\">\n",
       "  <thead>\n",
       "    <tr style=\"text-align: right;\">\n",
       "      <th></th>\n",
       "      <th>artist_uri_x</th>\n",
       "      <th>artist_name</th>\n",
       "      <th>track_uri</th>\n",
       "      <th>track_name</th>\n",
       "      <th>lyrics</th>\n",
       "      <th>acousticness</th>\n",
       "      <th>danceability</th>\n",
       "      <th>energy</th>\n",
       "      <th>loudness</th>\n",
       "      <th>tempo</th>\n",
       "      <th>valence</th>\n",
       "    </tr>\n",
       "  </thead>\n",
       "  <tbody>\n",
       "    <tr>\n",
       "      <th>0</th>\n",
       "      <td>6vWDO969PvNqNYHIOW5v0m</td>\n",
       "      <td>Beyoncé</td>\n",
       "      <td>5Ui8M6tfknhXo4MuGHt3Dy</td>\n",
       "      <td>why don't you love me</td>\n",
       "      <td>N-n-now, honey\\nYou better sit down and look a...</td>\n",
       "      <td>0.0463</td>\n",
       "      <td>0.693</td>\n",
       "      <td>0.730</td>\n",
       "      <td>-4.571</td>\n",
       "      <td>136.882</td>\n",
       "      <td>0.7410</td>\n",
       "    </tr>\n",
       "    <tr>\n",
       "      <th>1</th>\n",
       "      <td>6vWDO969PvNqNYHIOW5v0m</td>\n",
       "      <td>Beyoncé</td>\n",
       "      <td>5dhPqcLr5EcSd7Fe4fslCq</td>\n",
       "      <td>save the hero</td>\n",
       "      <td>I lay alone awake at night\\nSorrow fills my ey...</td>\n",
       "      <td>0.6730</td>\n",
       "      <td>0.551</td>\n",
       "      <td>0.467</td>\n",
       "      <td>-10.364</td>\n",
       "      <td>116.966</td>\n",
       "      <td>0.1480</td>\n",
       "    </tr>\n",
       "    <tr>\n",
       "      <th>2</th>\n",
       "      <td>6vWDO969PvNqNYHIOW5v0m</td>\n",
       "      <td>Beyoncé</td>\n",
       "      <td>5dWTQXVHdoIsSLpEyS3woy</td>\n",
       "      <td>broken-hearted girl</td>\n",
       "      <td>Youre everything I thought you never were\\nAnd...</td>\n",
       "      <td>0.5030</td>\n",
       "      <td>0.336</td>\n",
       "      <td>0.424</td>\n",
       "      <td>-7.203</td>\n",
       "      <td>82.149</td>\n",
       "      <td>0.1590</td>\n",
       "    </tr>\n",
       "    <tr>\n",
       "      <th>3</th>\n",
       "      <td>6vWDO969PvNqNYHIOW5v0m</td>\n",
       "      <td>Beyoncé</td>\n",
       "      <td>0QRxJvOohS8yiGC1n98uFM</td>\n",
       "      <td>lift ev'ry voice and sing - homecoming live</td>\n",
       "      <td>He is always laughin' and flirting with me\\nAn...</td>\n",
       "      <td>0.1240</td>\n",
       "      <td>0.127</td>\n",
       "      <td>0.409</td>\n",
       "      <td>-13.089</td>\n",
       "      <td>79.904</td>\n",
       "      <td>0.0782</td>\n",
       "    </tr>\n",
       "    <tr>\n",
       "      <th>4</th>\n",
       "      <td>6vWDO969PvNqNYHIOW5v0m</td>\n",
       "      <td>Beyoncé</td>\n",
       "      <td>4DActPOAtak2m8meZeMt3B</td>\n",
       "      <td>no angel</td>\n",
       "      <td>This is for my fans\\n(Uhu, uhu)\\nThis is for m...</td>\n",
       "      <td>0.0424</td>\n",
       "      <td>0.571</td>\n",
       "      <td>0.466</td>\n",
       "      <td>-9.153</td>\n",
       "      <td>111.580</td>\n",
       "      <td>0.5120</td>\n",
       "    </tr>\n",
       "  </tbody>\n",
       "</table>\n",
       "</div>"
      ],
      "text/plain": [
       "             artist_uri_x artist_name               track_uri  \\\n",
       "0  6vWDO969PvNqNYHIOW5v0m     Beyoncé  5Ui8M6tfknhXo4MuGHt3Dy   \n",
       "1  6vWDO969PvNqNYHIOW5v0m     Beyoncé  5dhPqcLr5EcSd7Fe4fslCq   \n",
       "2  6vWDO969PvNqNYHIOW5v0m     Beyoncé  5dWTQXVHdoIsSLpEyS3woy   \n",
       "3  6vWDO969PvNqNYHIOW5v0m     Beyoncé  0QRxJvOohS8yiGC1n98uFM   \n",
       "4  6vWDO969PvNqNYHIOW5v0m     Beyoncé  4DActPOAtak2m8meZeMt3B   \n",
       "\n",
       "                                    track_name  \\\n",
       "0                        why don't you love me   \n",
       "1                                save the hero   \n",
       "2                          broken-hearted girl   \n",
       "3  lift ev'ry voice and sing - homecoming live   \n",
       "4                                     no angel   \n",
       "\n",
       "                                              lyrics  acousticness  \\\n",
       "0  N-n-now, honey\\nYou better sit down and look a...        0.0463   \n",
       "1  I lay alone awake at night\\nSorrow fills my ey...        0.6730   \n",
       "2  Youre everything I thought you never were\\nAnd...        0.5030   \n",
       "3  He is always laughin' and flirting with me\\nAn...        0.1240   \n",
       "4  This is for my fans\\n(Uhu, uhu)\\nThis is for m...        0.0424   \n",
       "\n",
       "   danceability  energy  loudness    tempo  valence  \n",
       "0         0.693   0.730    -4.571  136.882   0.7410  \n",
       "1         0.551   0.467   -10.364  116.966   0.1480  \n",
       "2         0.336   0.424    -7.203   82.149   0.1590  \n",
       "3         0.127   0.409   -13.089   79.904   0.0782  \n",
       "4         0.571   0.466    -9.153  111.580   0.5120  "
      ]
     },
     "execution_count": 6,
     "metadata": {},
     "output_type": "execute_result"
    }
   ],
   "source": [
    "df.head()"
   ]
  },
  {
   "cell_type": "code",
   "execution_count": 7,
   "metadata": {},
   "outputs": [],
   "source": [
    "df_lastfm_stopwords = pd.read_csv('lastfm-lyrics-analysis/stopwords.txt')"
   ]
  },
  {
   "cell_type": "code",
   "execution_count": 8,
   "metadata": {},
   "outputs": [],
   "source": [
    "lyrics = df['lyrics'].str.replace('\\n',' ')\n",
    "df['lyrics'] = lyrics.to_frame()\n",
    "lastfm_stopwords = df_lastfm_stopwords['a'].str.replace('\\n',' ')\n",
    "df_lastfm_stopwords['last_fm_stopwords'] = lastfm_stopwords.to_frame()\n",
    "#df_clean = .str.replace('(\\[.*\\])*','')"
   ]
  },
  {
   "cell_type": "code",
   "execution_count": 9,
   "metadata": {},
   "outputs": [
    {
     "data": {
      "text/html": [
       "<div>\n",
       "<style scoped>\n",
       "    .dataframe tbody tr th:only-of-type {\n",
       "        vertical-align: middle;\n",
       "    }\n",
       "\n",
       "    .dataframe tbody tr th {\n",
       "        vertical-align: top;\n",
       "    }\n",
       "\n",
       "    .dataframe thead th {\n",
       "        text-align: right;\n",
       "    }\n",
       "</style>\n",
       "<table border=\"1\" class=\"dataframe\">\n",
       "  <thead>\n",
       "    <tr style=\"text-align: right;\">\n",
       "      <th></th>\n",
       "      <th>a</th>\n",
       "      <th>last_fm_stopwords</th>\n",
       "    </tr>\n",
       "  </thead>\n",
       "  <tbody>\n",
       "    <tr>\n",
       "      <th>0</th>\n",
       "      <td>able</td>\n",
       "      <td>able</td>\n",
       "    </tr>\n",
       "    <tr>\n",
       "      <th>1</th>\n",
       "      <td>about</td>\n",
       "      <td>about</td>\n",
       "    </tr>\n",
       "    <tr>\n",
       "      <th>2</th>\n",
       "      <td>above</td>\n",
       "      <td>above</td>\n",
       "    </tr>\n",
       "    <tr>\n",
       "      <th>3</th>\n",
       "      <td>abst</td>\n",
       "      <td>abst</td>\n",
       "    </tr>\n",
       "    <tr>\n",
       "      <th>4</th>\n",
       "      <td>accordance</td>\n",
       "      <td>accordance</td>\n",
       "    </tr>\n",
       "  </tbody>\n",
       "</table>\n",
       "</div>"
      ],
      "text/plain": [
       "            a last_fm_stopwords\n",
       "0        able              able\n",
       "1       about             about\n",
       "2       above             above\n",
       "3        abst              abst\n",
       "4  accordance        accordance"
      ]
     },
     "execution_count": 9,
     "metadata": {},
     "output_type": "execute_result"
    }
   ],
   "source": [
    "df_lastfm_stopwords.head()"
   ]
  },
  {
   "cell_type": "code",
   "execution_count": 10,
   "metadata": {},
   "outputs": [],
   "source": [
    "df_lastfm_stopwords_list = df_lastfm_stopwords['last_fm_stopwords'].tolist()"
   ]
  },
  {
   "cell_type": "code",
   "execution_count": 11,
   "metadata": {},
   "outputs": [],
   "source": [
    "#In development delete rows with instumental as its column\n",
    "\n",
    "df = df.dropna()\n",
    "df_lyrics = df['lyrics']\n",
    "df_playlist = df\n",
    "df_playlist['instrumental'] = df_lyrics.apply(lambda x: x.find('instrumental'))\n",
    "df_playlist = df.drop(df[df['instrumental'] != -1].index)\n",
    "#df = df.drop(df[df['lyrics']=='This is an instrumental'].index)"
   ]
  },
  {
   "cell_type": "code",
   "execution_count": 12,
   "metadata": {},
   "outputs": [],
   "source": [
    "def lastfm_preprocessor(text):\n",
    "    tokens = word_tokenize(text)\n",
    "    return (\" \").join([word for word in tokens if word not in df_lastfm_stopwords_list])\n",
    "\n",
    "def nltk_preprocessor(text):\n",
    "    stop_words = stopwords.words('english')\n",
    "    tokens = word_tokenize(text)\n",
    "    return (\" \").join([word for word in tokens if word not in stop_words])"
   ]
  },
  {
   "cell_type": "code",
   "execution_count": 13,
   "metadata": {},
   "outputs": [],
   "source": [
    "df_demo = df_playlist.sample(50)\n",
    "\n",
    "df_demo['last_fm_lyrics'] = df_demo['lyrics'].apply(lambda x: lastfm_preprocessor(x))\n",
    "df_demo['nltk_lyrics'] = df_demo['last_fm_lyrics'].apply(lambda x: nltk_preprocessor(x))"
   ]
  },
  {
   "cell_type": "code",
   "execution_count": 14,
   "metadata": {
    "scrolled": true
   },
   "outputs": [
    {
     "data": {
      "text/html": [
       "<div>\n",
       "<style scoped>\n",
       "    .dataframe tbody tr th:only-of-type {\n",
       "        vertical-align: middle;\n",
       "    }\n",
       "\n",
       "    .dataframe tbody tr th {\n",
       "        vertical-align: top;\n",
       "    }\n",
       "\n",
       "    .dataframe thead th {\n",
       "        text-align: right;\n",
       "    }\n",
       "</style>\n",
       "<table border=\"1\" class=\"dataframe\">\n",
       "  <thead>\n",
       "    <tr style=\"text-align: right;\">\n",
       "      <th></th>\n",
       "      <th>artist_uri_x</th>\n",
       "      <th>artist_name</th>\n",
       "      <th>track_uri</th>\n",
       "      <th>track_name</th>\n",
       "      <th>lyrics</th>\n",
       "      <th>acousticness</th>\n",
       "      <th>danceability</th>\n",
       "      <th>energy</th>\n",
       "      <th>loudness</th>\n",
       "      <th>tempo</th>\n",
       "      <th>valence</th>\n",
       "      <th>instrumental</th>\n",
       "      <th>last_fm_lyrics</th>\n",
       "      <th>nltk_lyrics</th>\n",
       "    </tr>\n",
       "  </thead>\n",
       "  <tbody>\n",
       "    <tr>\n",
       "      <th>63825</th>\n",
       "      <td>3pTE9iaJTkWns3mxpNQlJV</td>\n",
       "      <td>Bombay Bicycle Club</td>\n",
       "      <td>6ALADzSL0wmrNyZGlflqK1</td>\n",
       "      <td>many ways</td>\n",
       "      <td>One spur in the fire, burning Now we're cleari...</td>\n",
       "      <td>0.841000</td>\n",
       "      <td>0.528</td>\n",
       "      <td>0.709</td>\n",
       "      <td>-9.914</td>\n",
       "      <td>77.492</td>\n",
       "      <td>0.784</td>\n",
       "      <td>-1</td>\n",
       "      <td>One spur fire , burning Now 're clearing ember...</td>\n",
       "      <td>One spur fire , burning Now 're clearing ember...</td>\n",
       "    </tr>\n",
       "    <tr>\n",
       "      <th>108884</th>\n",
       "      <td>5KEG7G8LDYlHgFDqZyEEs2</td>\n",
       "      <td>Chris Rea</td>\n",
       "      <td>2rNawLFXIfZ7A63OUE8hYO</td>\n",
       "      <td>e</td>\n",
       "      <td>Now there's no storyline Just a real good time...</td>\n",
       "      <td>0.286000</td>\n",
       "      <td>0.680</td>\n",
       "      <td>0.510</td>\n",
       "      <td>-13.389</td>\n",
       "      <td>131.983</td>\n",
       "      <td>0.227</td>\n",
       "      <td>-1</td>\n",
       "      <td>Now 's storyline Just a real good time And I n...</td>\n",
       "      <td>Now 's storyline Just real good time And I n't...</td>\n",
       "    </tr>\n",
       "    <tr>\n",
       "      <th>176681</th>\n",
       "      <td>3JDIAtVrJdQ7GFOX26LYpv</td>\n",
       "      <td>Accept</td>\n",
       "      <td>2JDpNgkNNeYjmhRjTQajF1</td>\n",
       "      <td>the beast inside</td>\n",
       "      <td>My mind is razor sharp And I'm wild-cat-mean I...</td>\n",
       "      <td>0.000135</td>\n",
       "      <td>0.486</td>\n",
       "      <td>0.611</td>\n",
       "      <td>-12.482</td>\n",
       "      <td>114.619</td>\n",
       "      <td>0.485</td>\n",
       "      <td>-1</td>\n",
       "      <td>My mind razor sharp And I 'm wild-cat-mean I '...</td>\n",
       "      <td>My mind razor sharp And I 'm wild-cat-mean I '...</td>\n",
       "    </tr>\n",
       "    <tr>\n",
       "      <th>111001</th>\n",
       "      <td>60GtR6PIcDY1pikPgKHNk9</td>\n",
       "      <td>Circle of Dust</td>\n",
       "      <td>2n6Q6yi1nUrcwUiClWJPZd</td>\n",
       "      <td>you are fragile</td>\n",
       "      <td>...you are fragile...</td>\n",
       "      <td>0.000101</td>\n",
       "      <td>0.503</td>\n",
       "      <td>0.881</td>\n",
       "      <td>-4.633</td>\n",
       "      <td>111.969</td>\n",
       "      <td>0.497</td>\n",
       "      <td>-1</td>\n",
       "      <td>... fragile ...</td>\n",
       "      <td>... fragile ...</td>\n",
       "    </tr>\n",
       "    <tr>\n",
       "      <th>18329</th>\n",
       "      <td>19I4tYiChJoxEO5EuviXpz</td>\n",
       "      <td>AFI</td>\n",
       "      <td>6Advyc7skv7R8VBPG9zKBO</td>\n",
       "      <td>perfect fit</td>\n",
       "      <td>What was it I was thinking, or was I even thin...</td>\n",
       "      <td>0.000788</td>\n",
       "      <td>0.374</td>\n",
       "      <td>0.972</td>\n",
       "      <td>-4.155</td>\n",
       "      <td>160.907</td>\n",
       "      <td>0.706</td>\n",
       "      <td>-1</td>\n",
       "      <td>What I thinking , I thinking ? When I I though...</td>\n",
       "      <td>What I thinking , I thinking ? When I I though...</td>\n",
       "    </tr>\n",
       "  </tbody>\n",
       "</table>\n",
       "</div>"
      ],
      "text/plain": [
       "                  artist_uri_x          artist_name               track_uri  \\\n",
       "63825   3pTE9iaJTkWns3mxpNQlJV  Bombay Bicycle Club  6ALADzSL0wmrNyZGlflqK1   \n",
       "108884  5KEG7G8LDYlHgFDqZyEEs2            Chris Rea  2rNawLFXIfZ7A63OUE8hYO   \n",
       "176681  3JDIAtVrJdQ7GFOX26LYpv               Accept  2JDpNgkNNeYjmhRjTQajF1   \n",
       "111001  60GtR6PIcDY1pikPgKHNk9       Circle of Dust  2n6Q6yi1nUrcwUiClWJPZd   \n",
       "18329   19I4tYiChJoxEO5EuviXpz                  AFI  6Advyc7skv7R8VBPG9zKBO   \n",
       "\n",
       "              track_name                                             lyrics  \\\n",
       "63825          many ways  One spur in the fire, burning Now we're cleari...   \n",
       "108884                 e  Now there's no storyline Just a real good time...   \n",
       "176681  the beast inside  My mind is razor sharp And I'm wild-cat-mean I...   \n",
       "111001   you are fragile                              ...you are fragile...   \n",
       "18329        perfect fit  What was it I was thinking, or was I even thin...   \n",
       "\n",
       "        acousticness  danceability  energy  loudness    tempo  valence  \\\n",
       "63825       0.841000         0.528   0.709    -9.914   77.492    0.784   \n",
       "108884      0.286000         0.680   0.510   -13.389  131.983    0.227   \n",
       "176681      0.000135         0.486   0.611   -12.482  114.619    0.485   \n",
       "111001      0.000101         0.503   0.881    -4.633  111.969    0.497   \n",
       "18329       0.000788         0.374   0.972    -4.155  160.907    0.706   \n",
       "\n",
       "        instrumental                                     last_fm_lyrics  \\\n",
       "63825             -1  One spur fire , burning Now 're clearing ember...   \n",
       "108884            -1  Now 's storyline Just a real good time And I n...   \n",
       "176681            -1  My mind razor sharp And I 'm wild-cat-mean I '...   \n",
       "111001            -1                                    ... fragile ...   \n",
       "18329             -1  What I thinking , I thinking ? When I I though...   \n",
       "\n",
       "                                              nltk_lyrics  \n",
       "63825   One spur fire , burning Now 're clearing ember...  \n",
       "108884  Now 's storyline Just real good time And I n't...  \n",
       "176681  My mind razor sharp And I 'm wild-cat-mean I '...  \n",
       "111001                                    ... fragile ...  \n",
       "18329   What I thinking , I thinking ? When I I though...  "
      ]
     },
     "execution_count": 14,
     "metadata": {},
     "output_type": "execute_result"
    }
   ],
   "source": [
    "df_demo.head()"
   ]
  },
  {
   "cell_type": "code",
   "execution_count": 15,
   "metadata": {},
   "outputs": [
    {
     "data": {
      "text/html": [
       "<div>\n",
       "<style scoped>\n",
       "    .dataframe tbody tr th:only-of-type {\n",
       "        vertical-align: middle;\n",
       "    }\n",
       "\n",
       "    .dataframe tbody tr th {\n",
       "        vertical-align: top;\n",
       "    }\n",
       "\n",
       "    .dataframe thead th {\n",
       "        text-align: right;\n",
       "    }\n",
       "</style>\n",
       "<table border=\"1\" class=\"dataframe\">\n",
       "  <thead>\n",
       "    <tr style=\"text-align: right;\">\n",
       "      <th></th>\n",
       "      <th>artist_name</th>\n",
       "      <th>track_name</th>\n",
       "      <th>lyrics</th>\n",
       "      <th>last_fm_lyrics</th>\n",
       "      <th>nltk_lyrics</th>\n",
       "    </tr>\n",
       "  </thead>\n",
       "  <tbody>\n",
       "    <tr>\n",
       "      <th>63825</th>\n",
       "      <td>Bombay Bicycle Club</td>\n",
       "      <td>many ways</td>\n",
       "      <td>One spur in the fire, burning Now we're cleari...</td>\n",
       "      <td>One spur fire , burning Now 're clearing ember...</td>\n",
       "      <td>One spur fire , burning Now 're clearing ember...</td>\n",
       "    </tr>\n",
       "    <tr>\n",
       "      <th>108884</th>\n",
       "      <td>Chris Rea</td>\n",
       "      <td>e</td>\n",
       "      <td>Now there's no storyline Just a real good time...</td>\n",
       "      <td>Now 's storyline Just a real good time And I n...</td>\n",
       "      <td>Now 's storyline Just real good time And I n't...</td>\n",
       "    </tr>\n",
       "    <tr>\n",
       "      <th>176681</th>\n",
       "      <td>Accept</td>\n",
       "      <td>the beast inside</td>\n",
       "      <td>My mind is razor sharp And I'm wild-cat-mean I...</td>\n",
       "      <td>My mind razor sharp And I 'm wild-cat-mean I '...</td>\n",
       "      <td>My mind razor sharp And I 'm wild-cat-mean I '...</td>\n",
       "    </tr>\n",
       "    <tr>\n",
       "      <th>111001</th>\n",
       "      <td>Circle of Dust</td>\n",
       "      <td>you are fragile</td>\n",
       "      <td>...you are fragile...</td>\n",
       "      <td>... fragile ...</td>\n",
       "      <td>... fragile ...</td>\n",
       "    </tr>\n",
       "    <tr>\n",
       "      <th>18329</th>\n",
       "      <td>AFI</td>\n",
       "      <td>perfect fit</td>\n",
       "      <td>What was it I was thinking, or was I even thin...</td>\n",
       "      <td>What I thinking , I thinking ? When I I though...</td>\n",
       "      <td>What I thinking , I thinking ? When I I though...</td>\n",
       "    </tr>\n",
       "    <tr>\n",
       "      <th>85784</th>\n",
       "      <td>Angry Salad</td>\n",
       "      <td>red cloud</td>\n",
       "      <td>Climbing up on a hill that they knew well And ...</td>\n",
       "      <td>Climbing a hill knew well And hillside , shado...</td>\n",
       "      <td>Climbing hill knew well And hillside , shadows...</td>\n",
       "    </tr>\n",
       "    <tr>\n",
       "      <th>126036</th>\n",
       "      <td>Funkmaster Flex</td>\n",
       "      <td>r</td>\n",
       "      <td>(Lauryn Hill) Yeah, we got Fugees up in here, ...</td>\n",
       "      <td>( Lauryn Hill ) Yeah , Fugees , haha ! ( Wycle...</td>\n",
       "      <td>( Lauryn Hill ) Yeah , Fugees , haha ! ( Wycle...</td>\n",
       "    </tr>\n",
       "    <tr>\n",
       "      <th>224649</th>\n",
       "      <td>Armin van Buuren</td>\n",
       "      <td>drowning (feat. laura v) - avicii remix</td>\n",
       "      <td>Rush, pull me under The world is at my feet an...</td>\n",
       "      <td>Rush , pull The feet 's wonder Your eyes speak...</td>\n",
       "      <td>Rush , pull The feet 's wonder Your eyes speak...</td>\n",
       "    </tr>\n",
       "    <tr>\n",
       "      <th>164877</th>\n",
       "      <td>Buck-O-Nine</td>\n",
       "      <td>dear anna</td>\n",
       "      <td>I'm on the couch and I'm watching TV now I kno...</td>\n",
       "      <td>I 'm couch I 'm watching TV I leave I 'm a bor...</td>\n",
       "      <td>I 'm couch I 'm watching TV I leave I 'm bored...</td>\n",
       "    </tr>\n",
       "    <tr>\n",
       "      <th>122514</th>\n",
       "      <td>Funkmaster Flex</td>\n",
       "      <td>r</td>\n",
       "      <td>It's another one of them old phunky Cypress Hi...</td>\n",
       "      <td>It 's phunky Cypress Hill things , I 'm sayin ...</td>\n",
       "      <td>It 's phunky Cypress Hill things , I 'm sayin ...</td>\n",
       "    </tr>\n",
       "  </tbody>\n",
       "</table>\n",
       "</div>"
      ],
      "text/plain": [
       "                artist_name                               track_name  \\\n",
       "63825   Bombay Bicycle Club                                many ways   \n",
       "108884            Chris Rea                                        e   \n",
       "176681               Accept                         the beast inside   \n",
       "111001       Circle of Dust                          you are fragile   \n",
       "18329                   AFI                              perfect fit   \n",
       "85784           Angry Salad                                red cloud   \n",
       "126036      Funkmaster Flex                                        r   \n",
       "224649     Armin van Buuren  drowning (feat. laura v) - avicii remix   \n",
       "164877          Buck-O-Nine                                dear anna   \n",
       "122514      Funkmaster Flex                                        r   \n",
       "\n",
       "                                                   lyrics  \\\n",
       "63825   One spur in the fire, burning Now we're cleari...   \n",
       "108884  Now there's no storyline Just a real good time...   \n",
       "176681  My mind is razor sharp And I'm wild-cat-mean I...   \n",
       "111001                              ...you are fragile...   \n",
       "18329   What was it I was thinking, or was I even thin...   \n",
       "85784   Climbing up on a hill that they knew well And ...   \n",
       "126036  (Lauryn Hill) Yeah, we got Fugees up in here, ...   \n",
       "224649  Rush, pull me under The world is at my feet an...   \n",
       "164877  I'm on the couch and I'm watching TV now I kno...   \n",
       "122514  It's another one of them old phunky Cypress Hi...   \n",
       "\n",
       "                                           last_fm_lyrics  \\\n",
       "63825   One spur fire , burning Now 're clearing ember...   \n",
       "108884  Now 's storyline Just a real good time And I n...   \n",
       "176681  My mind razor sharp And I 'm wild-cat-mean I '...   \n",
       "111001                                    ... fragile ...   \n",
       "18329   What I thinking , I thinking ? When I I though...   \n",
       "85784   Climbing a hill knew well And hillside , shado...   \n",
       "126036  ( Lauryn Hill ) Yeah , Fugees , haha ! ( Wycle...   \n",
       "224649  Rush , pull The feet 's wonder Your eyes speak...   \n",
       "164877  I 'm couch I 'm watching TV I leave I 'm a bor...   \n",
       "122514  It 's phunky Cypress Hill things , I 'm sayin ...   \n",
       "\n",
       "                                              nltk_lyrics  \n",
       "63825   One spur fire , burning Now 're clearing ember...  \n",
       "108884  Now 's storyline Just real good time And I n't...  \n",
       "176681  My mind razor sharp And I 'm wild-cat-mean I '...  \n",
       "111001                                    ... fragile ...  \n",
       "18329   What I thinking , I thinking ? When I I though...  \n",
       "85784   Climbing hill knew well And hillside , shadows...  \n",
       "126036  ( Lauryn Hill ) Yeah , Fugees , haha ! ( Wycle...  \n",
       "224649  Rush , pull The feet 's wonder Your eyes speak...  \n",
       "164877  I 'm couch I 'm watching TV I leave I 'm bored...  \n",
       "122514  It 's phunky Cypress Hill things , I 'm sayin ...  "
      ]
     },
     "execution_count": 15,
     "metadata": {},
     "output_type": "execute_result"
    }
   ],
   "source": [
    "df_demo[['artist_name','track_name','lyrics','last_fm_lyrics','nltk_lyrics']].head(10)"
   ]
  },
  {
   "cell_type": "code",
   "execution_count": 54,
   "metadata": {},
   "outputs": [
    {
     "data": {
      "image/png": "[encoded data removed]",
      "text/plain": [
       "<Figure size 432x288 with 1 Axes>"
      ]
     },
     "metadata": {
      "needs_background": "light"
     },
     "output_type": "display_data"
    },
    {
     "data": {
      "text/plain": [
       "<matplotlib.axes._subplots.AxesSubplot at 0x1391dc8d0>"
      ]
     },
     "execution_count": 54,
     "metadata": {},
     "output_type": "execute_result"
    }
   ],
   "source": [
    "from sklearn.feature_extraction.text import CountVectorizer\n",
    "\n",
    "from yellowbrick.text import FreqDistVisualizer\n",
    "\n",
    "# Load the text data\n",
    "\n",
    "\n",
    "vectorizer = CountVectorizer(stop_words='english')\n",
    "docs       = vectorizer.fit_transform(df_demo['nltk_lyrics'])\n",
    "features   = vectorizer.get_feature_names()\n",
    "\n",
    "visualizer = FreqDistVisualizer(features=features, orient='v',n=30)\n",
    "visualizer.fit(docs)\n",
    "visualizer.show()"
   ]
  },
  {
   "cell_type": "code",
   "execution_count": 17,
   "metadata": {},
   "outputs": [],
   "source": [
    "#Control Panel - Hyper Parameters\n",
    "\n",
    "#Count Vectorizer\n",
    "max_features = 500 #500\n",
    "max_df = .08\n",
    "\n",
    "\n",
    "\n",
    "#LDA\n",
    "n_topics = 3  #10\n",
    "\n",
    "\n",
    "#LDA Display\n",
    "display_n_chunks = 2 #5\n",
    "n_topics = 10        #20\n",
    "n_words = 5        #5\n",
    "\n"
   ]
  },
  {
   "cell_type": "code",
   "execution_count": 18,
   "metadata": {},
   "outputs": [],
   "source": [
    "#Count Vectorizer\n",
    "vect = CountVectorizer(max_features=max_features, max_df=max_df,stop_words='english')\n",
    "X = vect.fit_transform(df_demo['nltk_lyrics'])"
   ]
  },
  {
   "cell_type": "markdown",
   "metadata": {},
   "source": [
    "## Topic Analysis"
   ]
  },
  {
   "cell_type": "code",
   "execution_count": 19,
   "metadata": {},
   "outputs": [
    {
     "name": "stdout",
     "output_type": "stream",
     "text": [
      "lda.components_.shape: (10, 500)\n",
      "topic 0       topic 1       \n",
      "--------      --------      \n",
      "dance         kill          \n",
      "mind          dog           \n",
      "brain         raw           \n",
      "days          goodbye       \n",
      "mother        minutes       \n",
      "\n",
      "\n",
      "topic 2       topic 3       \n",
      "--------      --------      \n",
      "turn          angel         \n",
      "cherry        fallen        \n",
      "look          highest       \n",
      "shine         curse         \n",
      "yellow        darkest       \n",
      "\n",
      "\n",
      "topic 4       topic 5       \n",
      "--------      --------      \n",
      "doin          yo            \n",
      "stop          vocãª         \n",
      "lah           nã            \n",
      "shoot         ela           \n",
      "cloud         apart         \n",
      "\n",
      "\n",
      "topic 6       topic 7       \n",
      "--------      --------      \n",
      "beast         scared        \n",
      "inside        weekend       \n",
      "running       knew          \n",
      "living        kashchei      \n",
      "infected      doctor        \n",
      "\n",
      "\n",
      "topic 8       topic 9       \n",
      "--------      --------      \n",
      "music         woods         \n",
      "boy           walker        \n",
      "make          sun           \n",
      "coulda        doubt         \n",
      "people        damned        \n",
      "\n",
      "\n"
     ]
    },
    {
     "name": "stderr",
     "output_type": "stream",
     "text": [
      "/Users/adamgoldstein/opt/anaconda3/lib/python3.7/site-packages/sklearn/decomposition/online_lda.py:314: DeprecationWarning: n_topics has been renamed to n_components in version 0.19 and will be removed in 0.21\n",
      "  DeprecationWarning)\n"
     ]
    }
   ],
   "source": [
    "from sklearn.decomposition import LatentDirichletAllocation\n",
    "lda = LatentDirichletAllocation(n_topics=n_topics, learning_method=\"batch\",\n",
    "                                max_iter=15, random_state=0)\n",
    "# We build the model and transform the data in one step\n",
    "# Computing transform takes some time,\n",
    "# and we can save time by doing both at once\n",
    "document_topics = lda.fit_transform(X)\n",
    "\n",
    "print(\"lda.components_.shape: {}\".format(lda.components_.shape))\n",
    "\n",
    "# For each topic (a row in the components_), sort the features (ascending)\n",
    "# Invert rows with [:, ::-1] to make sorting descending\n",
    "sorting = np.argsort(lda.components_, axis=1)[:, ::-1]\n",
    "# Get the feature names from the vectorizer\n",
    "feature_names = np.array(vect.get_feature_names())\n",
    "\n",
    "# Print out the 10 topics:\n",
    "mglearn.tools.print_topics(topics=range(n_topics), feature_names=feature_names,\n",
    "                           sorting=sorting, topics_per_chunk=display_n_chunks, n_words=n_words)\n",
    "\n",
    "\n",
    "\n"
   ]
  },
  {
   "cell_type": "code",
   "execution_count": 22,
   "metadata": {},
   "outputs": [],
   "source": [
    "def playlist_element(topics=range(n_topics), feature_names=feature_names,\n",
    "                           sorting=sorting, topics_per_chunk=display_n_chunks, n_words=n_words):\n",
    "    playlists = []\n",
    "    for i in range(0, len(topics), topics_per_chunk):\n",
    "        # for each chunk:\n",
    "        these_topics = topics[i: i + topics_per_chunk]\n",
    "        # maybe we have less than topics_per_chunk left\n",
    "        len_this_chunk = len(these_topics)\n",
    "        # print topic headers\n",
    "        #print((\"topic {:<8}\" * len_this_chunk).format(*these_topics))\n",
    "        #print((\"-------- {0:<5}\" * len_this_chunk).format(\"\"))\n",
    "        # print top n_words frequent words\n",
    "        for i in range(n_words):\n",
    "            try:\n",
    "                #print((\"{:<14}\" * len_this_chunk).format(\n",
    "                #    *feature_names[sorting[these_topics, i]]))\n",
    "                playlists.append(feature_names[sorting[these_topics, i]][0])\n",
    "            except:\n",
    "                pass\n",
    "        print(\"\\n\")\n",
    "    return playlists"
   ]
  },
  {
   "cell_type": "code",
   "execution_count": 23,
   "metadata": {},
   "outputs": [
    {
     "name": "stdout",
     "output_type": "stream",
     "text": [
      "\n",
      "\n",
      "\n",
      "\n",
      "\n",
      "\n",
      "\n",
      "\n",
      "\n",
      "\n"
     ]
    }
   ],
   "source": [
    "playlists = playlist_element()"
   ]
  },
  {
   "cell_type": "code",
   "execution_count": 24,
   "metadata": {},
   "outputs": [
    {
     "data": {
      "text/plain": [
       "'dance'"
      ]
     },
     "execution_count": 24,
     "metadata": {},
     "output_type": "execute_result"
    }
   ],
   "source": [
    "playlists[0]"
   ]
  },
  {
   "cell_type": "code",
   "execution_count": 29,
   "metadata": {},
   "outputs": [],
   "source": [
    "def create_ssp(n_words,playlists):\n",
    "    playlist = []\n",
    "    for x in range(n_words):\n",
    "        playlist.append(playlists[x])\n",
    "    return playlist\n",
    "        \n",
    "        \n",
    "    "
   ]
  },
  {
   "cell_type": "code",
   "execution_count": 30,
   "metadata": {},
   "outputs": [],
   "source": [
    "playlist = create_ssp(n_words,playlists)"
   ]
  },
  {
   "cell_type": "code",
   "execution_count": 31,
   "metadata": {},
   "outputs": [
    {
     "data": {
      "text/plain": [
       "['dance', 'mind', 'brain', 'days', 'mother']"
      ]
     },
     "execution_count": 31,
     "metadata": {},
     "output_type": "execute_result"
    }
   ],
   "source": [
    "playlist"
   ]
  },
  {
   "cell_type": "markdown",
   "metadata": {},
   "source": [
    "## Rough"
   ]
  },
  {
   "cell_type": "code",
   "execution_count": 64,
   "metadata": {},
   "outputs": [],
   "source": [
    "def find_lyrics(lyrics,element,playlist_position):\n",
    "    if(lyrics.find(element)!= -1):\n",
    "        return playlist_position\n",
    "    else:\n",
    "        return None\n"
   ]
  },
  {
   "cell_type": "code",
   "execution_count": 65,
   "metadata": {},
   "outputs": [],
   "source": [
    "def make_ssp(playlist):\n",
    "    df_demo_ssp = df_demo\n",
    "    ssp = []\n",
    "    for slot in range(len(playlist)):\n",
    "#reset to org state\n",
    "        df_demo_ssp['playlist_index_{s}'.format(s=slot)] = df_demo_ssp.apply(lambda x: find_lyrics(x['lyrics']\n",
    "                                                                            ,playlist[slot],slot),axis=1)\n",
    "        x = df_demo_ssp.dropna()\n",
    "        y = x[(x['valence'] == x['valence'].max())]\n",
    "        z = y[(y['energy'] == y['energy'].max())]\n",
    "\n",
    "        print(z.track_uri.values[0])\n",
    "        ssp.append({'artist_name':z.artist_name.values[0],'track_name':z.track_name.values[0],'track_uri':z.track_uri.values[0],\n",
    "                   'valence':y.valence.values[0],'energy':z.energy.values[0],'lyrics':z.lyrics.values[0]})\n",
    "\n",
    "        df_demo_ssp = df_playlist.drop(index=z.index)\n",
    "    return ssp"
   ]
  },
  {
   "cell_type": "code",
   "execution_count": 66,
   "metadata": {},
   "outputs": [
    {
     "name": "stdout",
     "output_type": "stream",
     "text": [
      "3V368AqKw3yoyEBwXWXW8s\n",
      "5jjt6Qa4PbsgpEMgz5WzL1\n",
      "2n3CaPGPLYnYAvTEwKCX8t\n",
      "1COL3FWo7ChOKTpdKURf3r\n",
      "2ymOkI2ARTirkd7l5Nk2cw\n"
     ]
    }
   ],
   "source": [
    "ssp = make_ssp(playlist)\n",
    "#playlist[0]"
   ]
  },
  {
   "cell_type": "code",
   "execution_count": 68,
   "metadata": {},
   "outputs": [
    {
     "data": {
      "text/html": [
       "<div>\n",
       "<style scoped>\n",
       "    .dataframe tbody tr th:only-of-type {\n",
       "        vertical-align: middle;\n",
       "    }\n",
       "\n",
       "    .dataframe tbody tr th {\n",
       "        vertical-align: top;\n",
       "    }\n",
       "\n",
       "    .dataframe thead th {\n",
       "        text-align: right;\n",
       "    }\n",
       "</style>\n",
       "<table border=\"1\" class=\"dataframe\">\n",
       "  <thead>\n",
       "    <tr style=\"text-align: right;\">\n",
       "      <th></th>\n",
       "      <th>artist_name</th>\n",
       "      <th>energy</th>\n",
       "      <th>lyrics</th>\n",
       "      <th>track_name</th>\n",
       "      <th>track_uri</th>\n",
       "      <th>valence</th>\n",
       "    </tr>\n",
       "  </thead>\n",
       "  <tbody>\n",
       "    <tr>\n",
       "      <th>0</th>\n",
       "      <td>Avicii</td>\n",
       "      <td>0.699</td>\n",
       "      <td>So bold and fine, I've known you for some time...</td>\n",
       "      <td>dear boy - avicii by avicii</td>\n",
       "      <td>3V368AqKw3yoyEBwXWXW8s</td>\n",
       "      <td>0.575</td>\n",
       "    </tr>\n",
       "    <tr>\n",
       "      <th>1</th>\n",
       "      <td>A*Teens</td>\n",
       "      <td>0.976</td>\n",
       "      <td>Floorfiller, floorfiller, floorfiller Hey Mr. ...</td>\n",
       "      <td>floorfiller - radio edit</td>\n",
       "      <td>5jjt6Qa4PbsgpEMgz5WzL1</td>\n",
       "      <td>0.990</td>\n",
       "    </tr>\n",
       "    <tr>\n",
       "      <th>2</th>\n",
       "      <td>Austin Mahone</td>\n",
       "      <td>0.922</td>\n",
       "      <td>Austin man keep doin yo thing Let these boys k...</td>\n",
       "      <td>mmm yeah (feat. pitbull)</td>\n",
       "      <td>2n3CaPGPLYnYAvTEwKCX8t</td>\n",
       "      <td>0.976</td>\n",
       "    </tr>\n",
       "    <tr>\n",
       "      <th>3</th>\n",
       "      <td>Freddie Hart</td>\n",
       "      <td>0.575</td>\n",
       "      <td>(For two days) she is an angel (the next day) ...</td>\n",
       "      <td>heaven only knows</td>\n",
       "      <td>1COL3FWo7ChOKTpdKURf3r</td>\n",
       "      <td>0.976</td>\n",
       "    </tr>\n",
       "    <tr>\n",
       "      <th>4</th>\n",
       "      <td>The Boomtown Rats</td>\n",
       "      <td>0.912</td>\n",
       "      <td>Tell me what you're doing coming in so late at...</td>\n",
       "      <td>never bite the hand that feeds</td>\n",
       "      <td>2ymOkI2ARTirkd7l5Nk2cw</td>\n",
       "      <td>0.981</td>\n",
       "    </tr>\n",
       "  </tbody>\n",
       "</table>\n",
       "</div>"
      ],
      "text/plain": [
       "         artist_name  energy  \\\n",
       "0             Avicii   0.699   \n",
       "1            A*Teens   0.976   \n",
       "2      Austin Mahone   0.922   \n",
       "3       Freddie Hart   0.575   \n",
       "4  The Boomtown Rats   0.912   \n",
       "\n",
       "                                              lyrics  \\\n",
       "0  So bold and fine, I've known you for some time...   \n",
       "1  Floorfiller, floorfiller, floorfiller Hey Mr. ...   \n",
       "2  Austin man keep doin yo thing Let these boys k...   \n",
       "3  (For two days) she is an angel (the next day) ...   \n",
       "4  Tell me what you're doing coming in so late at...   \n",
       "\n",
       "                       track_name               track_uri  valence  \n",
       "0     dear boy - avicii by avicii  3V368AqKw3yoyEBwXWXW8s    0.575  \n",
       "1        floorfiller - radio edit  5jjt6Qa4PbsgpEMgz5WzL1    0.990  \n",
       "2        mmm yeah (feat. pitbull)  2n3CaPGPLYnYAvTEwKCX8t    0.976  \n",
       "3               heaven only knows  1COL3FWo7ChOKTpdKURf3r    0.976  \n",
       "4  never bite the hand that feeds  2ymOkI2ARTirkd7l5Nk2cw    0.981  "
      ]
     },
     "execution_count": 68,
     "metadata": {},
     "output_type": "execute_result"
    }
   ],
   "source": [
    "df_ssp = pd.DataFrame(ssp)\n",
    "df_ssp"
   ]
  },
  {
   "cell_type": "markdown",
   "metadata": {},
   "source": [
    "## Visualization (Valence Curve, Energy Curve)"
   ]
  },
  {
   "cell_type": "code",
   "execution_count": 69,
   "metadata": {},
   "outputs": [
    {
     "data": {
      "text/plain": [
       "<matplotlib.axes._subplots.AxesSubplot at 0x1391e45d0>"
      ]
     },
     "execution_count": 69,
     "metadata": {},
     "output_type": "execute_result"
    },
    {
     "data": {
      "image/png": "[encoded data removed]",
      "text/plain": [
       "<Figure size 432x288 with 1 Axes>"
      ]
     },
     "metadata": {
      "needs_background": "light"
     },
     "output_type": "display_data"
    }
   ],
   "source": [
    "df_ssp.plot.line(x='valence',y='energy')"
   ]
  },
  {
   "cell_type": "markdown",
   "metadata": {},
   "source": [
    "## Create Spotify Playlist"
   ]
  },
  {
   "cell_type": "code",
   "execution_count": 70,
   "metadata": {},
   "outputs": [],
   "source": [
    "import requests\n",
    "import json\n",
    "import pandas as pd\n",
    "import spotipy#authentication\n",
    "import spotipy.util as util#authentication\n",
    "from spotipy.oauth2 import SpotifyClientCredentials#authentication"
   ]
  },
  {
   "cell_type": "code",
   "execution_count": 71,
   "metadata": {},
   "outputs": [],
   "source": [
    "cid = '049ade7215e54c63a2b628f3784dc407'\n",
    "secret = '5d30770120ad4dbbabbb5ce538110e05'\n",
    "redirect_uri = 'http://google.com/'\n",
    "username = 'name'"
   ]
  },
  {
   "cell_type": "code",
   "execution_count": 75,
   "metadata": {
    "scrolled": true
   },
   "outputs": [
    {
     "name": "stdout",
     "output_type": "stream",
     "text": [
      "\n",
      "\n",
      "            User authentication requires interaction with your\n",
      "            web browser. Once you enter your credentials and\n",
      "            give authorization, you will be redirected to\n",
      "            a url.  Paste that url you were directed to to\n",
      "            complete the authorization.\n",
      "\n",
      "        \n",
      "Opened https://accounts.spotify.com/authorize?client_id=049ade7215e54c63a2b628f3784dc407&response_type=code&redirect_uri=http%3A%2F%2Fgoogle.com%2F&scope=playlist-modify-private in your browser\n",
      "\n",
      "\n",
      "Enter the URL you were redirected to: https://www.google.com/?code=AQBEkOsV9DdQCmklfBdDzO444VtzrnRDLLrJHuQM47HhV8RzlbMH4VlUJ-1Z_sBOtyzOQBKMzUDB1MhFCugc2QOpkA2XQaOIve0NLFo5S4q6IGaVtll-d185uQoUkNYRs0lLgo85GPJ5l3kBe8Mrc1sbBMjM_E9ZjgXAF3SMeabS-WYaomI74RbQXbXLN140wJ3W2z7RnDMPryiOT9LGAuc\n",
      "\n",
      "\n",
      "\n",
      "\n",
      "            User authentication requires interaction with your\n",
      "            web browser. Once you enter your credentials and\n",
      "            give authorization, you will be redirected to\n",
      "            a url.  Paste that url you were directed to to\n",
      "            complete the authorization.\n",
      "\n",
      "        \n",
      "Opened https://accounts.spotify.com/authorize?client_id=049ade7215e54c63a2b628f3784dc407&response_type=code&redirect_uri=http%3A%2F%2Fgoogle.com%2F&scope=user-read-private in your browser\n",
      "\n",
      "\n",
      "Enter the URL you were redirected to: https://www.google.com/?code=AQC9tvymC2TkXqkgyvobMA1JM-9qo5qceO1Rk2yhUL-buNq9_0mLN1d1napE4vzufR0DZJkhZ5mLM6vvZK2sUuqEF1HMV2IFhRvN8McB7M-s9xdUWbHntfFGYyz1h2yg_WdeaPkO9Bze-NJq8CAVBPntW2QunBgFR9Ypg3INAcRHTrqnyOvxqleEzLuzpHC63mx1OLWFuPm9mOM\n",
      "\n",
      "\n"
     ]
    }
   ],
   "source": [
    "#Authentication\n",
    "\n",
    "scope = 'playlist-modify-private'\n",
    "token_playlist = util.prompt_for_user_token(username, scope, client_id=cid, client_secret=secret, redirect_uri=redirect_uri)\n",
    "\n",
    "if token_playlist:\n",
    "    sp_playlist = spotipy.Spotify(auth=token_playlist)\n",
    "else:\n",
    "    print(\"Can't get token for\", username)\n",
    "    \n",
    "#Authentication\n",
    "\n",
    "scope = 'user-read-private'\n",
    "token_user = util.prompt_for_user_token(username, scope, client_id=cid, client_secret=secret, redirect_uri=redirect_uri)\n",
    "\n",
    "if token_user:\n",
    "    sp_user = spotipy.Spotify(auth=token_user)\n",
    "else:\n",
    "    print(\"Can't get token for\", username)"
   ]
  },
  {
   "cell_type": "code",
   "execution_count": 76,
   "metadata": {},
   "outputs": [],
   "source": [
    "def get_user_id(url):\n",
    "    try:\n",
    "        resp = requests.get(url,headers={'Authorization': 'Bearer ' + token_user},\n",
    "                             #data={\"name\": \"SSP\"}\n",
    "                           )\n",
    "        \n",
    "        resp.raise_for_status()\n",
    "    except requests.exceptions.HTTPError as err:\n",
    "        print(err)\n",
    "        \n",
    "    \n",
    "    response = resp.json()\n",
    "    userid = response['id']\n",
    "    \n",
    "    return userid\n"
   ]
  },
  {
   "cell_type": "code",
   "execution_count": 77,
   "metadata": {},
   "outputs": [],
   "source": [
    "user_id = get_user_id('https://api.spotify.com/v1/me')"
   ]
  },
  {
   "cell_type": "code",
   "execution_count": 78,
   "metadata": {},
   "outputs": [
    {
     "data": {
      "text/plain": [
       "'124399179'"
      ]
     },
     "execution_count": 78,
     "metadata": {},
     "output_type": "execute_result"
    }
   ],
   "source": [
    "identification = user_id\n",
    "identification"
   ]
  },
  {
   "cell_type": "code",
   "execution_count": 79,
   "metadata": {},
   "outputs": [],
   "source": [
    "playlist = sp_playlist.user_playlist_create(identification,'SSP', public=False, description=\"First SSP\")"
   ]
  },
  {
   "cell_type": "code",
   "execution_count": 80,
   "metadata": {},
   "outputs": [
    {
     "data": {
      "text/plain": [
       "{'collaborative': False,\n",
       " 'description': 'First SSP',\n",
       " 'external_urls': {'spotify': 'https://open.spotify.com/playlist/2IqRNLDLAvUxRpWaDta7dH'},\n",
       " 'followers': {'href': None, 'total': 0},\n",
       " 'href': 'https://api.spotify.com/v1/playlists/2IqRNLDLAvUxRpWaDta7dH',\n",
       " 'id': '2IqRNLDLAvUxRpWaDta7dH',\n",
       " 'images': [],\n",
       " 'name': 'SSP',\n",
       " 'owner': {'display_name': 'Adam Goldstein',\n",
       "  'external_urls': {'spotify': 'https://open.spotify.com/user/124399179'},\n",
       "  'href': 'https://api.spotify.com/v1/users/124399179',\n",
       "  'id': '124399179',\n",
       "  'type': 'user',\n",
       "  'uri': 'spotify:user:124399179'},\n",
       " 'primary_color': None,\n",
       " 'public': False,\n",
       " 'snapshot_id': 'MSxjMmE2ZDg5NmM0NzIzNGFiODY3OGI0MWEzMDk1NzViMTQ0MDU5MTYw',\n",
       " 'tracks': {'href': 'https://api.spotify.com/v1/playlists/2IqRNLDLAvUxRpWaDta7dH/tracks',\n",
       "  'items': [],\n",
       "  'limit': 100,\n",
       "  'next': None,\n",
       "  'offset': 0,\n",
       "  'previous': None,\n",
       "  'total': 0},\n",
       " 'type': 'playlist',\n",
       " 'uri': 'spotify:playlist:2IqRNLDLAvUxRpWaDta7dH'}"
      ]
     },
     "execution_count": 80,
     "metadata": {},
     "output_type": "execute_result"
    }
   ],
   "source": [
    "playlist"
   ]
  },
  {
   "cell_type": "code",
   "execution_count": 81,
   "metadata": {},
   "outputs": [],
   "source": [
    "playlist_tracks = sp_playlist.user_playlist_add_tracks(identification,playlist['id'],df_ssp['track_uri'], position=None)"
   ]
  },
  {
   "cell_type": "markdown",
   "metadata": {},
   "source": [
    "## unigrams"
   ]
  },
  {
   "cell_type": "markdown",
   "metadata": {},
   "source": [
    "def display_topics(model, feature_names, no_top_words):\n",
    "    for topic_idx, topic in enumerate(model.components_):\n",
    "        print(\"Topic {i}:\".format(i=topic_idx))\n",
    "        print(\" \".join([feature_names[i]\n",
    "                        for i in topic.argsort()[:-no_top_words - 1:-1]]))\n",
    "#How many words per topic\n",
    "no_top_words = 4\n",
    "display_topics(nmf, tfidf_feature_names, no_top_words)"
   ]
  }
 ],
 "metadata": {
  "kernelspec": {
   "display_name": "Python 3",
   "language": "python",
   "name": "python3"
  },
  "language_info": {
   "codemirror_mode": {
    "name": "ipython",
    "version": 3
   },
   "file_extension": ".py",
   "mimetype": "text/x-python",
   "name": "python",
   "nbconvert_exporter": "python",
   "pygments_lexer": "ipython3",
   "version": "3.7.4"
  }
 },
 "nbformat": 4,
 "nbformat_minor": 2
}
