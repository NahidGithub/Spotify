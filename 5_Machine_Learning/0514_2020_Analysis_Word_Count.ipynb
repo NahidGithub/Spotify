{
 "cells": [
  {
   "cell_type": "code",
   "execution_count": 1,
   "metadata": {},
   "outputs": [],
   "source": [
    "import pandas as pd\n",
    "import numpy as np\n",
    "from sklearn.feature_extraction.text import TfidfVectorizer,CountVectorizer\n",
    "from nltk import word_tokenize\n",
    "import boto3\n",
    "from s3 import get_file\n",
    "import re\n",
    "import mglearn\n",
    "import sklearn\n",
    "import yellowbrick\n",
    "from nltk.corpus import stopwords"
   ]
  },
  {
   "cell_type": "code",
   "execution_count": 2,
   "metadata": {},
   "outputs": [],
   "source": [
    "from sklearn.feature_extraction.stop_words import ENGLISH_STOP_WORDS"
   ]
  },
  {
   "cell_type": "code",
   "execution_count": 3,
   "metadata": {},
   "outputs": [],
   "source": [
    "s3 = boto3.resource('s3')\n",
    "lyrics = get_file(s3,'s3ssp',download_file='NLP_Data/master_lyrics_audio_features.csv',rename_file='0320_2020_nlp.csv')"
   ]
  },
  {
   "cell_type": "code",
   "execution_count": 4,
   "metadata": {},
   "outputs": [],
   "source": [
    "df = pd.read_csv(lyrics,sep='|',encoding='utf-8')"
   ]
  },
  {
   "cell_type": "code",
   "execution_count": 5,
   "metadata": {},
   "outputs": [],
   "source": [
    "df = df.drop(columns=['instrumentalness','key','mode','liveness','speechiness','time_signature'])"
   ]
  },
  {
   "cell_type": "code",
   "execution_count": 6,
   "metadata": {},
   "outputs": [
    {
     "data": {
      "text/html": [
       "<div>\n",
       "<style scoped>\n",
       "    .dataframe tbody tr th:only-of-type {\n",
       "        vertical-align: middle;\n",
       "    }\n",
       "\n",
       "    .dataframe tbody tr th {\n",
       "        vertical-align: top;\n",
       "    }\n",
       "\n",
       "    .dataframe thead th {\n",
       "        text-align: right;\n",
       "    }\n",
       "</style>\n",
       "<table border=\"1\" class=\"dataframe\">\n",
       "  <thead>\n",
       "    <tr style=\"text-align: right;\">\n",
       "      <th></th>\n",
       "      <th>artist_uri_x</th>\n",
       "      <th>artist_name</th>\n",
       "      <th>track_uri</th>\n",
       "      <th>track_name</th>\n",
       "      <th>lyrics</th>\n",
       "      <th>acousticness</th>\n",
       "      <th>danceability</th>\n",
       "      <th>energy</th>\n",
       "      <th>loudness</th>\n",
       "      <th>tempo</th>\n",
       "      <th>valence</th>\n",
       "    </tr>\n",
       "  </thead>\n",
       "  <tbody>\n",
       "    <tr>\n",
       "      <th>0</th>\n",
       "      <td>6vWDO969PvNqNYHIOW5v0m</td>\n",
       "      <td>Beyoncé</td>\n",
       "      <td>5Ui8M6tfknhXo4MuGHt3Dy</td>\n",
       "      <td>why don't you love me</td>\n",
       "      <td>N-n-now, honey\\nYou better sit down and look a...</td>\n",
       "      <td>0.0463</td>\n",
       "      <td>0.693</td>\n",
       "      <td>0.730</td>\n",
       "      <td>-4.571</td>\n",
       "      <td>136.882</td>\n",
       "      <td>0.7410</td>\n",
       "    </tr>\n",
       "    <tr>\n",
       "      <th>1</th>\n",
       "      <td>6vWDO969PvNqNYHIOW5v0m</td>\n",
       "      <td>Beyoncé</td>\n",
       "      <td>5dhPqcLr5EcSd7Fe4fslCq</td>\n",
       "      <td>save the hero</td>\n",
       "      <td>I lay alone awake at night\\nSorrow fills my ey...</td>\n",
       "      <td>0.6730</td>\n",
       "      <td>0.551</td>\n",
       "      <td>0.467</td>\n",
       "      <td>-10.364</td>\n",
       "      <td>116.966</td>\n",
       "      <td>0.1480</td>\n",
       "    </tr>\n",
       "    <tr>\n",
       "      <th>2</th>\n",
       "      <td>6vWDO969PvNqNYHIOW5v0m</td>\n",
       "      <td>Beyoncé</td>\n",
       "      <td>5dWTQXVHdoIsSLpEyS3woy</td>\n",
       "      <td>broken-hearted girl</td>\n",
       "      <td>Youre everything I thought you never were\\nAnd...</td>\n",
       "      <td>0.5030</td>\n",
       "      <td>0.336</td>\n",
       "      <td>0.424</td>\n",
       "      <td>-7.203</td>\n",
       "      <td>82.149</td>\n",
       "      <td>0.1590</td>\n",
       "    </tr>\n",
       "    <tr>\n",
       "      <th>3</th>\n",
       "      <td>6vWDO969PvNqNYHIOW5v0m</td>\n",
       "      <td>Beyoncé</td>\n",
       "      <td>0QRxJvOohS8yiGC1n98uFM</td>\n",
       "      <td>lift ev'ry voice and sing - homecoming live</td>\n",
       "      <td>He is always laughin' and flirting with me\\nAn...</td>\n",
       "      <td>0.1240</td>\n",
       "      <td>0.127</td>\n",
       "      <td>0.409</td>\n",
       "      <td>-13.089</td>\n",
       "      <td>79.904</td>\n",
       "      <td>0.0782</td>\n",
       "    </tr>\n",
       "    <tr>\n",
       "      <th>4</th>\n",
       "      <td>6vWDO969PvNqNYHIOW5v0m</td>\n",
       "      <td>Beyoncé</td>\n",
       "      <td>4DActPOAtak2m8meZeMt3B</td>\n",
       "      <td>no angel</td>\n",
       "      <td>This is for my fans\\n(Uhu, uhu)\\nThis is for m...</td>\n",
       "      <td>0.0424</td>\n",
       "      <td>0.571</td>\n",
       "      <td>0.466</td>\n",
       "      <td>-9.153</td>\n",
       "      <td>111.580</td>\n",
       "      <td>0.5120</td>\n",
       "    </tr>\n",
       "  </tbody>\n",
       "</table>\n",
       "</div>"
      ],
      "text/plain": [
       "             artist_uri_x artist_name               track_uri  \\\n",
       "0  6vWDO969PvNqNYHIOW5v0m     Beyoncé  5Ui8M6tfknhXo4MuGHt3Dy   \n",
       "1  6vWDO969PvNqNYHIOW5v0m     Beyoncé  5dhPqcLr5EcSd7Fe4fslCq   \n",
       "2  6vWDO969PvNqNYHIOW5v0m     Beyoncé  5dWTQXVHdoIsSLpEyS3woy   \n",
       "3  6vWDO969PvNqNYHIOW5v0m     Beyoncé  0QRxJvOohS8yiGC1n98uFM   \n",
       "4  6vWDO969PvNqNYHIOW5v0m     Beyoncé  4DActPOAtak2m8meZeMt3B   \n",
       "\n",
       "                                    track_name  \\\n",
       "0                        why don't you love me   \n",
       "1                                save the hero   \n",
       "2                          broken-hearted girl   \n",
       "3  lift ev'ry voice and sing - homecoming live   \n",
       "4                                     no angel   \n",
       "\n",
       "                                              lyrics  acousticness  \\\n",
       "0  N-n-now, honey\\nYou better sit down and look a...        0.0463   \n",
       "1  I lay alone awake at night\\nSorrow fills my ey...        0.6730   \n",
       "2  Youre everything I thought you never were\\nAnd...        0.5030   \n",
       "3  He is always laughin' and flirting with me\\nAn...        0.1240   \n",
       "4  This is for my fans\\n(Uhu, uhu)\\nThis is for m...        0.0424   \n",
       "\n",
       "   danceability  energy  loudness    tempo  valence  \n",
       "0         0.693   0.730    -4.571  136.882   0.7410  \n",
       "1         0.551   0.467   -10.364  116.966   0.1480  \n",
       "2         0.336   0.424    -7.203   82.149   0.1590  \n",
       "3         0.127   0.409   -13.089   79.904   0.0782  \n",
       "4         0.571   0.466    -9.153  111.580   0.5120  "
      ]
     },
     "execution_count": 6,
     "metadata": {},
     "output_type": "execute_result"
    }
   ],
   "source": [
    "df.head()"
   ]
  },
  {
   "cell_type": "code",
   "execution_count": 7,
   "metadata": {},
   "outputs": [],
   "source": [
    "df_lastfm_stopwords = pd.read_csv('lastfm-lyrics-analysis/stopwords.txt')"
   ]
  },
  {
   "cell_type": "code",
   "execution_count": 8,
   "metadata": {},
   "outputs": [],
   "source": [
    "lyrics = df['lyrics'].str.replace('\\n',' ')\n",
    "df['lyrics'] = lyrics.to_frame()\n",
    "lastfm_stopwords = df_lastfm_stopwords['a'].str.replace('\\n',' ')\n",
    "df_lastfm_stopwords['last_fm_stopwords'] = lastfm_stopwords.to_frame()\n",
    "#df_clean = .str.replace('(\\[.*\\])*','')"
   ]
  },
  {
   "cell_type": "code",
   "execution_count": 9,
   "metadata": {},
   "outputs": [
    {
     "data": {
      "text/html": [
       "<div>\n",
       "<style scoped>\n",
       "    .dataframe tbody tr th:only-of-type {\n",
       "        vertical-align: middle;\n",
       "    }\n",
       "\n",
       "    .dataframe tbody tr th {\n",
       "        vertical-align: top;\n",
       "    }\n",
       "\n",
       "    .dataframe thead th {\n",
       "        text-align: right;\n",
       "    }\n",
       "</style>\n",
       "<table border=\"1\" class=\"dataframe\">\n",
       "  <thead>\n",
       "    <tr style=\"text-align: right;\">\n",
       "      <th></th>\n",
       "      <th>a</th>\n",
       "      <th>last_fm_stopwords</th>\n",
       "    </tr>\n",
       "  </thead>\n",
       "  <tbody>\n",
       "    <tr>\n",
       "      <th>0</th>\n",
       "      <td>able</td>\n",
       "      <td>able</td>\n",
       "    </tr>\n",
       "    <tr>\n",
       "      <th>1</th>\n",
       "      <td>about</td>\n",
       "      <td>about</td>\n",
       "    </tr>\n",
       "    <tr>\n",
       "      <th>2</th>\n",
       "      <td>above</td>\n",
       "      <td>above</td>\n",
       "    </tr>\n",
       "    <tr>\n",
       "      <th>3</th>\n",
       "      <td>abst</td>\n",
       "      <td>abst</td>\n",
       "    </tr>\n",
       "    <tr>\n",
       "      <th>4</th>\n",
       "      <td>accordance</td>\n",
       "      <td>accordance</td>\n",
       "    </tr>\n",
       "  </tbody>\n",
       "</table>\n",
       "</div>"
      ],
      "text/plain": [
       "            a last_fm_stopwords\n",
       "0        able              able\n",
       "1       about             about\n",
       "2       above             above\n",
       "3        abst              abst\n",
       "4  accordance        accordance"
      ]
     },
     "execution_count": 9,
     "metadata": {},
     "output_type": "execute_result"
    }
   ],
   "source": [
    "df_lastfm_stopwords.head()"
   ]
  },
  {
   "cell_type": "code",
   "execution_count": 10,
   "metadata": {},
   "outputs": [],
   "source": [
    "df_lastfm_stopwords_list = df_lastfm_stopwords['last_fm_stopwords'].tolist()"
   ]
  },
  {
   "cell_type": "code",
   "execution_count": 11,
   "metadata": {},
   "outputs": [],
   "source": [
    "#In development delete rows with instumental as its column\n",
    "\n",
    "df = df.dropna()\n",
    "df_lyrics = df['lyrics']\n",
    "df_playlist = df\n",
    "df_playlist['instrumental'] = df_lyrics.apply(lambda x: x.find('instrumental'))\n",
    "df_playlist = df.drop(df[df['instrumental'] != -1].index)\n",
    "#df = df.drop(df[df['lyrics']=='This is an instrumental'].index)"
   ]
  },
  {
   "cell_type": "code",
   "execution_count": 12,
   "metadata": {},
   "outputs": [],
   "source": [
    "def lastfm_preprocessor(text):\n",
    "    tokens = word_tokenize(text)\n",
    "    return (\" \").join([word for word in tokens if word not in df_lastfm_stopwords_list])\n",
    "\n",
    "def nltk_preprocessor(text):\n",
    "    stop_words = stopwords.words('english')\n",
    "    tokens = word_tokenize(text)\n",
    "    return (\" \").join([word for word in tokens if word not in stop_words])"
   ]
  },
  {
   "cell_type": "code",
   "execution_count": 113,
   "metadata": {},
   "outputs": [],
   "source": [
    "df_demo = df_playlist.sample(7000)\n",
    "\n",
    "df_demo['last_fm_lyrics'] = df_demo['lyrics'].apply(lambda x: lastfm_preprocessor(x))\n",
    "df_demo['nltk_lyrics'] = df_demo['last_fm_lyrics'].apply(lambda x: nltk_preprocessor(x))"
   ]
  },
  {
   "cell_type": "code",
   "execution_count": 114,
   "metadata": {
    "scrolled": true
   },
   "outputs": [
    {
     "data": {
      "text/html": [
       "<div>\n",
       "<style scoped>\n",
       "    .dataframe tbody tr th:only-of-type {\n",
       "        vertical-align: middle;\n",
       "    }\n",
       "\n",
       "    .dataframe tbody tr th {\n",
       "        vertical-align: top;\n",
       "    }\n",
       "\n",
       "    .dataframe thead th {\n",
       "        text-align: right;\n",
       "    }\n",
       "</style>\n",
       "<table border=\"1\" class=\"dataframe\">\n",
       "  <thead>\n",
       "    <tr style=\"text-align: right;\">\n",
       "      <th></th>\n",
       "      <th>artist_uri_x</th>\n",
       "      <th>artist_name</th>\n",
       "      <th>track_uri</th>\n",
       "      <th>track_name</th>\n",
       "      <th>lyrics</th>\n",
       "      <th>acousticness</th>\n",
       "      <th>danceability</th>\n",
       "      <th>energy</th>\n",
       "      <th>loudness</th>\n",
       "      <th>tempo</th>\n",
       "      <th>valence</th>\n",
       "      <th>instrumental</th>\n",
       "      <th>last_fm_lyrics</th>\n",
       "      <th>nltk_lyrics</th>\n",
       "    </tr>\n",
       "  </thead>\n",
       "  <tbody>\n",
       "    <tr>\n",
       "      <th>99784</th>\n",
       "      <td>5KEG7G8LDYlHgFDqZyEEs2</td>\n",
       "      <td>Chris Rea</td>\n",
       "      <td>2rNawLFXIfZ7A63OUE8hYO</td>\n",
       "      <td>e</td>\n",
       "      <td>Smile You don't have to spend your days in clo...</td>\n",
       "      <td>0.286000</td>\n",
       "      <td>0.6800</td>\n",
       "      <td>0.510</td>\n",
       "      <td>-13.389</td>\n",
       "      <td>131.983</td>\n",
       "      <td>0.2270</td>\n",
       "      <td>-1</td>\n",
       "      <td>Smile You n't spend days clouds Hiding sun Tak...</td>\n",
       "      <td>Smile You n't spend days clouds Hiding sun Tak...</td>\n",
       "    </tr>\n",
       "    <tr>\n",
       "      <th>162486</th>\n",
       "      <td>5z1VAFwT35EVvCp1XlZZuL</td>\n",
       "      <td>Diana Krall</td>\n",
       "      <td>6hKvRPUWKXik0wl3EW7TW2</td>\n",
       "      <td>dream</td>\n",
       "      <td>I'm in Dreamsville Holding you A dreamy view J...</td>\n",
       "      <td>0.848000</td>\n",
       "      <td>0.4780</td>\n",
       "      <td>0.095</td>\n",
       "      <td>-18.664</td>\n",
       "      <td>67.858</td>\n",
       "      <td>0.1840</td>\n",
       "      <td>-1</td>\n",
       "      <td>I 'm Dreamsville Holding A dreamy view Just lo...</td>\n",
       "      <td>I 'm Dreamsville Holding A dreamy view Just lo...</td>\n",
       "    </tr>\n",
       "    <tr>\n",
       "      <th>203253</th>\n",
       "      <td>0fDF0jjmdouCIeWhNnblwV</td>\n",
       "      <td>Buckethead</td>\n",
       "      <td>3I3LdO54esKe0bTIhKgAUb</td>\n",
       "      <td>a</td>\n",
       "      <td>Instrumental</td>\n",
       "      <td>0.204000</td>\n",
       "      <td>0.3060</td>\n",
       "      <td>0.838</td>\n",
       "      <td>-9.204</td>\n",
       "      <td>82.953</td>\n",
       "      <td>0.0694</td>\n",
       "      <td>-1</td>\n",
       "      <td>Instrumental</td>\n",
       "      <td>Instrumental</td>\n",
       "    </tr>\n",
       "    <tr>\n",
       "      <th>182681</th>\n",
       "      <td>0WfaItAbs4vlgIA1cuqGtJ</td>\n",
       "      <td>Daniela Andrade</td>\n",
       "      <td>2hEQRGEAx4YKGh0Kg7djab</td>\n",
       "      <td>creep</td>\n",
       "      <td>You were here before Couldn't look you in the ...</td>\n",
       "      <td>0.812000</td>\n",
       "      <td>0.5050</td>\n",
       "      <td>0.198</td>\n",
       "      <td>-9.478</td>\n",
       "      <td>74.866</td>\n",
       "      <td>0.1580</td>\n",
       "      <td>-1</td>\n",
       "      <td>You Could n't eye You angel Your skin cry You ...</td>\n",
       "      <td>You Could n't eye You angel Your skin cry You ...</td>\n",
       "    </tr>\n",
       "    <tr>\n",
       "      <th>229618</th>\n",
       "      <td>6NB4b8lltHCjOhW7vQZkAy</td>\n",
       "      <td>The Exploited</td>\n",
       "      <td>1jedmbpuPomvWM1zZKFuAH</td>\n",
       "      <td>stop the slaughter</td>\n",
       "      <td>An hour ago you heard kids laugh Now there's s...</td>\n",
       "      <td>0.000017</td>\n",
       "      <td>0.0689</td>\n",
       "      <td>0.938</td>\n",
       "      <td>-11.088</td>\n",
       "      <td>188.280</td>\n",
       "      <td>0.1830</td>\n",
       "      <td>-1</td>\n",
       "      <td>An hour ago heard kids laugh Now 's silence Wh...</td>\n",
       "      <td>An hour ago heard kids laugh Now 's silence Wh...</td>\n",
       "    </tr>\n",
       "  </tbody>\n",
       "</table>\n",
       "</div>"
      ],
      "text/plain": [
       "                  artist_uri_x      artist_name               track_uri  \\\n",
       "99784   5KEG7G8LDYlHgFDqZyEEs2        Chris Rea  2rNawLFXIfZ7A63OUE8hYO   \n",
       "162486  5z1VAFwT35EVvCp1XlZZuL      Diana Krall  6hKvRPUWKXik0wl3EW7TW2   \n",
       "203253  0fDF0jjmdouCIeWhNnblwV       Buckethead  3I3LdO54esKe0bTIhKgAUb   \n",
       "182681  0WfaItAbs4vlgIA1cuqGtJ  Daniela Andrade  2hEQRGEAx4YKGh0Kg7djab   \n",
       "229618  6NB4b8lltHCjOhW7vQZkAy    The Exploited  1jedmbpuPomvWM1zZKFuAH   \n",
       "\n",
       "                track_name                                             lyrics  \\\n",
       "99784                    e  Smile You don't have to spend your days in clo...   \n",
       "162486               dream  I'm in Dreamsville Holding you A dreamy view J...   \n",
       "203253                   a                                       Instrumental   \n",
       "182681               creep  You were here before Couldn't look you in the ...   \n",
       "229618  stop the slaughter  An hour ago you heard kids laugh Now there's s...   \n",
       "\n",
       "        acousticness  danceability  energy  loudness    tempo  valence  \\\n",
       "99784       0.286000        0.6800   0.510   -13.389  131.983   0.2270   \n",
       "162486      0.848000        0.4780   0.095   -18.664   67.858   0.1840   \n",
       "203253      0.204000        0.3060   0.838    -9.204   82.953   0.0694   \n",
       "182681      0.812000        0.5050   0.198    -9.478   74.866   0.1580   \n",
       "229618      0.000017        0.0689   0.938   -11.088  188.280   0.1830   \n",
       "\n",
       "        instrumental                                     last_fm_lyrics  \\\n",
       "99784             -1  Smile You n't spend days clouds Hiding sun Tak...   \n",
       "162486            -1  I 'm Dreamsville Holding A dreamy view Just lo...   \n",
       "203253            -1                                       Instrumental   \n",
       "182681            -1  You Could n't eye You angel Your skin cry You ...   \n",
       "229618            -1  An hour ago heard kids laugh Now 's silence Wh...   \n",
       "\n",
       "                                              nltk_lyrics  \n",
       "99784   Smile You n't spend days clouds Hiding sun Tak...  \n",
       "162486  I 'm Dreamsville Holding A dreamy view Just lo...  \n",
       "203253                                       Instrumental  \n",
       "182681  You Could n't eye You angel Your skin cry You ...  \n",
       "229618  An hour ago heard kids laugh Now 's silence Wh...  "
      ]
     },
     "execution_count": 114,
     "metadata": {},
     "output_type": "execute_result"
    }
   ],
   "source": [
    "df_demo.head()"
   ]
  },
  {
   "cell_type": "code",
   "execution_count": 115,
   "metadata": {},
   "outputs": [
    {
     "data": {
      "text/html": [
       "<div>\n",
       "<style scoped>\n",
       "    .dataframe tbody tr th:only-of-type {\n",
       "        vertical-align: middle;\n",
       "    }\n",
       "\n",
       "    .dataframe tbody tr th {\n",
       "        vertical-align: top;\n",
       "    }\n",
       "\n",
       "    .dataframe thead th {\n",
       "        text-align: right;\n",
       "    }\n",
       "</style>\n",
       "<table border=\"1\" class=\"dataframe\">\n",
       "  <thead>\n",
       "    <tr style=\"text-align: right;\">\n",
       "      <th></th>\n",
       "      <th>artist_name</th>\n",
       "      <th>track_name</th>\n",
       "      <th>lyrics</th>\n",
       "      <th>last_fm_lyrics</th>\n",
       "      <th>nltk_lyrics</th>\n",
       "    </tr>\n",
       "  </thead>\n",
       "  <tbody>\n",
       "    <tr>\n",
       "      <th>99784</th>\n",
       "      <td>Chris Rea</td>\n",
       "      <td>e</td>\n",
       "      <td>Smile You don't have to spend your days in clo...</td>\n",
       "      <td>Smile You n't spend days clouds Hiding sun Tak...</td>\n",
       "      <td>Smile You n't spend days clouds Hiding sun Tak...</td>\n",
       "    </tr>\n",
       "    <tr>\n",
       "      <th>162486</th>\n",
       "      <td>Diana Krall</td>\n",
       "      <td>dream</td>\n",
       "      <td>I'm in Dreamsville Holding you A dreamy view J...</td>\n",
       "      <td>I 'm Dreamsville Holding A dreamy view Just lo...</td>\n",
       "      <td>I 'm Dreamsville Holding A dreamy view Just lo...</td>\n",
       "    </tr>\n",
       "    <tr>\n",
       "      <th>203253</th>\n",
       "      <td>Buckethead</td>\n",
       "      <td>a</td>\n",
       "      <td>Instrumental</td>\n",
       "      <td>Instrumental</td>\n",
       "      <td>Instrumental</td>\n",
       "    </tr>\n",
       "    <tr>\n",
       "      <th>182681</th>\n",
       "      <td>Daniela Andrade</td>\n",
       "      <td>creep</td>\n",
       "      <td>You were here before Couldn't look you in the ...</td>\n",
       "      <td>You Could n't eye You angel Your skin cry You ...</td>\n",
       "      <td>You Could n't eye You angel Your skin cry You ...</td>\n",
       "    </tr>\n",
       "    <tr>\n",
       "      <th>229618</th>\n",
       "      <td>The Exploited</td>\n",
       "      <td>stop the slaughter</td>\n",
       "      <td>An hour ago you heard kids laugh Now there's s...</td>\n",
       "      <td>An hour ago heard kids laugh Now 's silence Wh...</td>\n",
       "      <td>An hour ago heard kids laugh Now 's silence Wh...</td>\n",
       "    </tr>\n",
       "    <tr>\n",
       "      <th>218588</th>\n",
       "      <td>Buckethead</td>\n",
       "      <td>i</td>\n",
       "      <td>Instrumental</td>\n",
       "      <td>Instrumental</td>\n",
       "      <td>Instrumental</td>\n",
       "    </tr>\n",
       "    <tr>\n",
       "      <th>97919</th>\n",
       "      <td>Chris Rea</td>\n",
       "      <td>e</td>\n",
       "      <td>Instrumental</td>\n",
       "      <td>Instrumental</td>\n",
       "      <td>Instrumental</td>\n",
       "    </tr>\n",
       "    <tr>\n",
       "      <th>27837</th>\n",
       "      <td>Deine Lakaien</td>\n",
       "      <td>lass mich</td>\n",
       "      <td>Niemand weiss, wie es aussieht Tief in mir dri...</td>\n",
       "      <td>Niemand weiss , wie es aussieht Tief mir drin ...</td>\n",
       "      <td>Niemand weiss , wie es aussieht Tief mir drin ...</td>\n",
       "    </tr>\n",
       "    <tr>\n",
       "      <th>177167</th>\n",
       "      <td>deadmau5</td>\n",
       "      <td>hey baby</td>\n",
       "      <td>(Hey, baby ?) What's crackin' ? Who ya mackin'...</td>\n",
       "      <td>( Hey , baby ? ) What 's crackin ' ? Who ya ma...</td>\n",
       "      <td>( Hey , baby ? ) What 's crackin ' ? Who ya ma...</td>\n",
       "    </tr>\n",
       "    <tr>\n",
       "      <th>159499</th>\n",
       "      <td>Bajoshua</td>\n",
       "      <td>rebelle is my new chick</td>\n",
       "      <td>Stop Trying To Dig Just Figure It Out Binocula...</td>\n",
       "      <td>Stop Trying To Dig Just Figure It Out Binocula...</td>\n",
       "      <td>Stop Trying To Dig Just Figure It Out Binocula...</td>\n",
       "    </tr>\n",
       "  </tbody>\n",
       "</table>\n",
       "</div>"
      ],
      "text/plain": [
       "            artist_name               track_name  \\\n",
       "99784         Chris Rea                        e   \n",
       "162486      Diana Krall                    dream   \n",
       "203253       Buckethead                        a   \n",
       "182681  Daniela Andrade                    creep   \n",
       "229618    The Exploited       stop the slaughter   \n",
       "218588       Buckethead                        i   \n",
       "97919         Chris Rea                        e   \n",
       "27837     Deine Lakaien                lass mich   \n",
       "177167         deadmau5                 hey baby   \n",
       "159499         Bajoshua  rebelle is my new chick   \n",
       "\n",
       "                                                   lyrics  \\\n",
       "99784   Smile You don't have to spend your days in clo...   \n",
       "162486  I'm in Dreamsville Holding you A dreamy view J...   \n",
       "203253                                       Instrumental   \n",
       "182681  You were here before Couldn't look you in the ...   \n",
       "229618  An hour ago you heard kids laugh Now there's s...   \n",
       "218588                                       Instrumental   \n",
       "97919                                        Instrumental   \n",
       "27837   Niemand weiss, wie es aussieht Tief in mir dri...   \n",
       "177167  (Hey, baby ?) What's crackin' ? Who ya mackin'...   \n",
       "159499  Stop Trying To Dig Just Figure It Out Binocula...   \n",
       "\n",
       "                                           last_fm_lyrics  \\\n",
       "99784   Smile You n't spend days clouds Hiding sun Tak...   \n",
       "162486  I 'm Dreamsville Holding A dreamy view Just lo...   \n",
       "203253                                       Instrumental   \n",
       "182681  You Could n't eye You angel Your skin cry You ...   \n",
       "229618  An hour ago heard kids laugh Now 's silence Wh...   \n",
       "218588                                       Instrumental   \n",
       "97919                                        Instrumental   \n",
       "27837   Niemand weiss , wie es aussieht Tief mir drin ...   \n",
       "177167  ( Hey , baby ? ) What 's crackin ' ? Who ya ma...   \n",
       "159499  Stop Trying To Dig Just Figure It Out Binocula...   \n",
       "\n",
       "                                              nltk_lyrics  \n",
       "99784   Smile You n't spend days clouds Hiding sun Tak...  \n",
       "162486  I 'm Dreamsville Holding A dreamy view Just lo...  \n",
       "203253                                       Instrumental  \n",
       "182681  You Could n't eye You angel Your skin cry You ...  \n",
       "229618  An hour ago heard kids laugh Now 's silence Wh...  \n",
       "218588                                       Instrumental  \n",
       "97919                                        Instrumental  \n",
       "27837   Niemand weiss , wie es aussieht Tief mir drin ...  \n",
       "177167  ( Hey , baby ? ) What 's crackin ' ? Who ya ma...  \n",
       "159499  Stop Trying To Dig Just Figure It Out Binocula...  "
      ]
     },
     "execution_count": 115,
     "metadata": {},
     "output_type": "execute_result"
    }
   ],
   "source": [
    "df_demo[['artist_name','track_name','lyrics','last_fm_lyrics','nltk_lyrics']].head(10)"
   ]
  },
  {
   "cell_type": "code",
   "execution_count": 116,
   "metadata": {},
   "outputs": [
    {
     "data": {
      "image/png": "[encoded data removed]",
      "text/plain": [
       "<Figure size 432x288 with 1 Axes>"
      ]
     },
     "metadata": {
      "needs_background": "light"
     },
     "output_type": "display_data"
    },
    {
     "data": {
      "text/plain": [
       "<matplotlib.axes._subplots.AxesSubplot at 0x123cbfb10>"
      ]
     },
     "execution_count": 116,
     "metadata": {},
     "output_type": "execute_result"
    }
   ],
   "source": [
    "from sklearn.feature_extraction.text import CountVectorizer\n",
    "\n",
    "from yellowbrick.text import FreqDistVisualizer\n",
    "\n",
    "# Load the text data\n",
    "\n",
    "\n",
    "vectorizer = CountVectorizer(stop_words='english')\n",
    "docs       = vectorizer.fit_transform(df_demo['nltk_lyrics'])\n",
    "features   = vectorizer.get_feature_names()\n",
    "\n",
    "visualizer = FreqDistVisualizer(features=features, orient='v',n=30)\n",
    "visualizer.fit(docs)\n",
    "visualizer.show()"
   ]
  },
  {
   "cell_type": "code",
   "execution_count": 117,
   "metadata": {},
   "outputs": [],
   "source": [
    "#Control Panel - Hyper Parameters\n",
    "\n",
    "#Count Vectorizer\n",
    "max_features = 500 #500\n",
    "max_df = .08\n",
    "\n",
    "\n",
    "\n",
    "#LDA\n",
    "n_topics = 3  #10\n",
    "\n",
    "\n",
    "#LDA Display\n",
    "display_n_chunks = 2 #5\n",
    "n_topics = 10        #20\n",
    "n_words = 10       #5\n",
    "\n"
   ]
  },
  {
   "cell_type": "code",
   "execution_count": 118,
   "metadata": {},
   "outputs": [],
   "source": [
    "#Count Vectorizer\n",
    "vect = CountVectorizer(max_features=max_features, max_df=max_df,stop_words='english')\n",
    "X = vect.fit_transform(df_demo['nltk_lyrics'])"
   ]
  },
  {
   "cell_type": "markdown",
   "metadata": {},
   "source": [
    "## Topic Analysis"
   ]
  },
  {
   "cell_type": "code",
   "execution_count": 119,
   "metadata": {},
   "outputs": [
    {
     "name": "stderr",
     "output_type": "stream",
     "text": [
      "/Users/adamgoldstein/opt/anaconda3/lib/python3.7/site-packages/sklearn/decomposition/online_lda.py:314: DeprecationWarning: n_topics has been renamed to n_components in version 0.19 and will be removed in 0.21\n",
      "  DeprecationWarning)\n"
     ]
    },
    {
     "name": "stdout",
     "output_type": "stream",
     "text": [
      "lda.components_.shape: (10, 500)\n",
      "topic 0       topic 1       \n",
      "--------      --------      \n",
      "ooh           la            \n",
      "boy           en            \n",
      "bad           te            \n",
      "music         mi            \n",
      "big           tu            \n",
      "people        el            \n",
      "got           se            \n",
      "doo           es            \n",
      "walk          lo            \n",
      "money         si            \n",
      "\n",
      "\n",
      "topic 2       topic 3       \n",
      "--------      --------      \n",
      "change        ya            \n",
      "goodbye       niggas        \n",
      "road          nigga         \n",
      "lord          verse         \n",
      "days          fuck          \n",
      "lonely        wit           \n",
      "help          ass           \n",
      "times         money         \n",
      "heaven        body          \n",
      "care          ride          \n",
      "\n",
      "\n",
      "topic 4       topic 5       \n",
      "--------      --------      \n",
      "sun           da            \n",
      "blue          die           \n",
      "stay          break         \n",
      "feeling       und           \n",
      "tonight       fly           \n",
      "morning       summer        \n",
      "going         playin        \n",
      "ready         du            \n",
      "high          shine         \n",
      "round         rick          \n",
      "\n",
      "\n",
      "topic 6       topic 7       \n",
      "--------      --------      \n",
      "uh            hey           \n",
      "niggaz        dance         \n",
      "fuck          ha            \n",
      "black         going         \n",
      "gim           ho            \n",
      "ba            coming        \n",
      "lover         floor         \n",
      "fool          hip           \n",
      "woo           je            \n",
      "dead          party         \n",
      "\n",
      "\n",
      "topic 8       topic 9       \n",
      "--------      --------      \n",
      "fall          flex          \n",
      "god           em            \n",
      "stand         rock          \n",
      "wrong         funk          \n",
      "tell          hit           \n",
      "lost          bitch         \n",
      "fight         funkmaster    \n",
      "touch         opp           \n",
      "deep          fuck          \n",
      "blood         nothin        \n",
      "\n",
      "\n"
     ]
    }
   ],
   "source": [
    "from sklearn.decomposition import LatentDirichletAllocation\n",
    "lda = LatentDirichletAllocation(n_topics=n_topics, learning_method=\"batch\",\n",
    "                                max_iter=15, random_state=0)\n",
    "# We build the model and transform the data in one step\n",
    "# Computing transform takes some time,\n",
    "# and we can save time by doing both at once\n",
    "document_topics = lda.fit_transform(X)\n",
    "\n",
    "print(\"lda.components_.shape: {}\".format(lda.components_.shape))\n",
    "\n",
    "# For each topic (a row in the components_), sort the features (ascending)\n",
    "# Invert rows with [:, ::-1] to make sorting descending\n",
    "sorting = np.argsort(lda.components_, axis=1)[:, ::-1]\n",
    "# Get the feature names from the vectorizer\n",
    "feature_names = np.array(vect.get_feature_names())\n",
    "\n",
    "# Print out the 10 topics:\n",
    "mglearn.tools.print_topics(topics=range(n_topics), feature_names=feature_names,\n",
    "                           sorting=sorting, topics_per_chunk=display_n_chunks, n_words=n_words)\n",
    "\n",
    "\n",
    "\n"
   ]
  },
  {
   "cell_type": "code",
   "execution_count": 120,
   "metadata": {},
   "outputs": [],
   "source": [
    "def playlist_element(topics=range(n_topics), feature_names=feature_names,\n",
    "                           sorting=sorting, topics_per_chunk=display_n_chunks, n_words=n_words):\n",
    "    playlists = []\n",
    "    for i in range(0, len(topics), topics_per_chunk):\n",
    "        # for each chunk:\n",
    "        these_topics = topics[i: i + topics_per_chunk]\n",
    "        # maybe we have less than topics_per_chunk left\n",
    "        len_this_chunk = len(these_topics)\n",
    "        # print topic headers\n",
    "        #print((\"topic {:<8}\" * len_this_chunk).format(*these_topics))\n",
    "        #print((\"-------- {0:<5}\" * len_this_chunk).format(\"\"))\n",
    "        # print top n_words frequent words\n",
    "        for i in range(n_words):\n",
    "            try:\n",
    "                #print((\"{:<14}\" * len_this_chunk).format(\n",
    "                #    *feature_names[sorting[these_topics, i]]))\n",
    "                playlists.append(feature_names[sorting[these_topics, i]][0])\n",
    "            except:\n",
    "                pass\n",
    "        print(\"\\n\")\n",
    "    return playlists"
   ]
  },
  {
   "cell_type": "code",
   "execution_count": 121,
   "metadata": {},
   "outputs": [
    {
     "name": "stdout",
     "output_type": "stream",
     "text": [
      "\n",
      "\n",
      "\n",
      "\n",
      "\n",
      "\n",
      "\n",
      "\n",
      "\n",
      "\n"
     ]
    }
   ],
   "source": [
    "playlists = playlist_element()"
   ]
  },
  {
   "cell_type": "code",
   "execution_count": 122,
   "metadata": {},
   "outputs": [
    {
     "data": {
      "text/plain": [
       "'ooh'"
      ]
     },
     "execution_count": 122,
     "metadata": {},
     "output_type": "execute_result"
    }
   ],
   "source": [
    "playlists[0]"
   ]
  },
  {
   "cell_type": "code",
   "execution_count": 123,
   "metadata": {},
   "outputs": [],
   "source": [
    "def create_ssp(n_words,playlists):\n",
    "    playlist = []\n",
    "    for x in range(n_words):\n",
    "        playlist.append(playlists[x])\n",
    "    return playlist\n",
    "        \n",
    "        \n",
    "    "
   ]
  },
  {
   "cell_type": "code",
   "execution_count": 124,
   "metadata": {},
   "outputs": [],
   "source": [
    "playlist = create_ssp(n_words,playlists)"
   ]
  },
  {
   "cell_type": "code",
   "execution_count": 125,
   "metadata": {},
   "outputs": [
    {
     "data": {
      "text/plain": [
       "['ooh', 'boy', 'bad', 'music', 'big', 'people', 'got', 'doo', 'walk', 'money']"
      ]
     },
     "execution_count": 125,
     "metadata": {},
     "output_type": "execute_result"
    }
   ],
   "source": [
    "playlist"
   ]
  },
  {
   "cell_type": "markdown",
   "metadata": {},
   "source": [
    "## Rough Create SSP"
   ]
  },
  {
   "cell_type": "code",
   "execution_count": 126,
   "metadata": {},
   "outputs": [],
   "source": [
    "def find_lyrics(lyrics,element,playlist_position):\n",
    "    if(lyrics.find(element)!= -1):\n",
    "        return playlist_position\n",
    "    else:\n",
    "        return None\n"
   ]
  },
  {
   "cell_type": "code",
   "execution_count": 127,
   "metadata": {},
   "outputs": [],
   "source": [
    "def make_ssp(playlist):\n",
    "    df_demo_ssp = df_demo\n",
    "    ssp = []\n",
    "    for slot in range(len(playlist)):\n",
    "#reset to org state\n",
    "        df_demo_ssp['playlist_index_{s}'.format(s=slot)] = df_demo_ssp.apply(lambda x: find_lyrics(x['lyrics']\n",
    "                                                                            ,playlist[slot],slot),axis=1)\n",
    "        x = df_demo_ssp.dropna()\n",
    "        y = x[(x['valence'] == x['valence'].max())]\n",
    "        z = y[(y['energy'] == y['energy'].max())]\n",
    "\n",
    "        print(z.track_uri.values[0])\n",
    "        ssp.append({'artist_name':z.artist_name.values[0],'track_name':z.track_name.values[0],'track_uri':z.track_uri.values[0],\n",
    "                   'valence':y.valence.values[0],'energy':z.energy.values[0],'lyrics':z.lyrics.values[0]})\n",
    "\n",
    "        df_demo_ssp = df_playlist.drop(index=z.index)\n",
    "    return ssp"
   ]
  },
  {
   "cell_type": "code",
   "execution_count": 128,
   "metadata": {},
   "outputs": [
    {
     "name": "stdout",
     "output_type": "stream",
     "text": [
      "4MEyWIXKBFWaXpRIdJv354\n",
      "7s9si69INQWnNd3RLz3Elo\n",
      "45Yhz3bJ45YGA0Qfgn06ix\n",
      "5jjt6Qa4PbsgpEMgz5WzL1\n",
      "1JhFQ8L6QZxQchBa5qJrxS\n",
      "5jjt6Qa4PbsgpEMgz5WzL1\n",
      "1S6rSlrHMUQEgyI43PnOkF\n",
      "24qcDZtqYSUOr83QXgy8aa\n",
      "1eLag4BSaKr983nzatl2bw\n",
      "77eyCWTuqvAM2EGqw72Lxf\n"
     ]
    }
   ],
   "source": [
    "ssp = make_ssp(playlist)\n",
    "#playlist[0]"
   ]
  },
  {
   "cell_type": "code",
   "execution_count": 129,
   "metadata": {},
   "outputs": [
    {
     "data": {
      "text/html": [
       "<div>\n",
       "<style scoped>\n",
       "    .dataframe tbody tr th:only-of-type {\n",
       "        vertical-align: middle;\n",
       "    }\n",
       "\n",
       "    .dataframe tbody tr th {\n",
       "        vertical-align: top;\n",
       "    }\n",
       "\n",
       "    .dataframe thead th {\n",
       "        text-align: right;\n",
       "    }\n",
       "</style>\n",
       "<table border=\"1\" class=\"dataframe\">\n",
       "  <thead>\n",
       "    <tr style=\"text-align: right;\">\n",
       "      <th></th>\n",
       "      <th>artist_name</th>\n",
       "      <th>energy</th>\n",
       "      <th>lyrics</th>\n",
       "      <th>track_name</th>\n",
       "      <th>track_uri</th>\n",
       "      <th>valence</th>\n",
       "    </tr>\n",
       "  </thead>\n",
       "  <tbody>\n",
       "    <tr>\n",
       "      <th>0</th>\n",
       "      <td>Gary's Gang</td>\n",
       "      <td>0.683</td>\n",
       "      <td>OohÃ ah OohÃ ah OohÃ ah OohÃ ah OohÃ ah K...</td>\n",
       "      <td>keep on dancin'</td>\n",
       "      <td>4MEyWIXKBFWaXpRIdJv354</td>\n",
       "      <td>0.969</td>\n",
       "    </tr>\n",
       "    <tr>\n",
       "      <th>1</th>\n",
       "      <td>Exposé</td>\n",
       "      <td>0.796</td>\n",
       "      <td>I tell myself, \"Don't call him up\" But I long ...</td>\n",
       "      <td>still hung up on you</td>\n",
       "      <td>7s9si69INQWnNd3RLz3Elo</td>\n",
       "      <td>0.982</td>\n",
       "    </tr>\n",
       "    <tr>\n",
       "      <th>2</th>\n",
       "      <td>Eddy Grant</td>\n",
       "      <td>0.704</td>\n",
       "      <td>Well Jo'anna she runs a country She runs in Du...</td>\n",
       "      <td>hope joanna</td>\n",
       "      <td>45Yhz3bJ45YGA0Qfgn06ix</td>\n",
       "      <td>0.980</td>\n",
       "    </tr>\n",
       "    <tr>\n",
       "      <th>3</th>\n",
       "      <td>A*Teens</td>\n",
       "      <td>0.976</td>\n",
       "      <td>Floorfiller, floorfiller, floorfiller Hey Mr. ...</td>\n",
       "      <td>floorfiller - radio edit</td>\n",
       "      <td>5jjt6Qa4PbsgpEMgz5WzL1</td>\n",
       "      <td>0.990</td>\n",
       "    </tr>\n",
       "    <tr>\n",
       "      <th>4</th>\n",
       "      <td>Barney</td>\n",
       "      <td>0.660</td>\n",
       "      <td>Barney is a dinosaur from our imagination And ...</td>\n",
       "      <td>barney theme song</td>\n",
       "      <td>1JhFQ8L6QZxQchBa5qJrxS</td>\n",
       "      <td>0.996</td>\n",
       "    </tr>\n",
       "    <tr>\n",
       "      <th>5</th>\n",
       "      <td>A*Teens</td>\n",
       "      <td>0.976</td>\n",
       "      <td>Floorfiller, floorfiller, floorfiller Hey Mr. ...</td>\n",
       "      <td>floorfiller - radio edit</td>\n",
       "      <td>5jjt6Qa4PbsgpEMgz5WzL1</td>\n",
       "      <td>0.990</td>\n",
       "    </tr>\n",
       "    <tr>\n",
       "      <th>6</th>\n",
       "      <td>The Dandy Warhols</td>\n",
       "      <td>0.348</td>\n",
       "      <td>Of mine or could be Hell Or maybe I'm not eheh...</td>\n",
       "      <td>welcome to the monkey house</td>\n",
       "      <td>1S6rSlrHMUQEgyI43PnOkF</td>\n",
       "      <td>0.992</td>\n",
       "    </tr>\n",
       "    <tr>\n",
       "      <th>7</th>\n",
       "      <td>Eddie Hodges</td>\n",
       "      <td>0.857</td>\n",
       "      <td>I'm gonna knock on your door, ring on your bel...</td>\n",
       "      <td>i'm gonna knock on your door</td>\n",
       "      <td>24qcDZtqYSUOr83QXgy8aa</td>\n",
       "      <td>0.993</td>\n",
       "    </tr>\n",
       "    <tr>\n",
       "      <th>8</th>\n",
       "      <td>Anything Box</td>\n",
       "      <td>0.627</td>\n",
       "      <td>(claude s.) (peace, love, worth, hope) Everyth...</td>\n",
       "      <td>hope</td>\n",
       "      <td>1eLag4BSaKr983nzatl2bw</td>\n",
       "      <td>0.983</td>\n",
       "    </tr>\n",
       "    <tr>\n",
       "      <th>9</th>\n",
       "      <td>Bill Wyman</td>\n",
       "      <td>0.724</td>\n",
       "      <td>It's a hard life People get affected By the to...</td>\n",
       "      <td>affected by the towns</td>\n",
       "      <td>77eyCWTuqvAM2EGqw72Lxf</td>\n",
       "      <td>0.988</td>\n",
       "    </tr>\n",
       "  </tbody>\n",
       "</table>\n",
       "</div>"
      ],
      "text/plain": [
       "         artist_name  energy  \\\n",
       "0        Gary's Gang   0.683   \n",
       "1             Exposé   0.796   \n",
       "2         Eddy Grant   0.704   \n",
       "3            A*Teens   0.976   \n",
       "4             Barney   0.660   \n",
       "5            A*Teens   0.976   \n",
       "6  The Dandy Warhols   0.348   \n",
       "7       Eddie Hodges   0.857   \n",
       "8       Anything Box   0.627   \n",
       "9         Bill Wyman   0.724   \n",
       "\n",
       "                                              lyrics  \\\n",
       "0  OohÃ ah OohÃ ah OohÃ ah OohÃ ah OohÃ ah K...   \n",
       "1  I tell myself, \"Don't call him up\" But I long ...   \n",
       "2  Well Jo'anna she runs a country She runs in Du...   \n",
       "3  Floorfiller, floorfiller, floorfiller Hey Mr. ...   \n",
       "4  Barney is a dinosaur from our imagination And ...   \n",
       "5  Floorfiller, floorfiller, floorfiller Hey Mr. ...   \n",
       "6  Of mine or could be Hell Or maybe I'm not eheh...   \n",
       "7  I'm gonna knock on your door, ring on your bel...   \n",
       "8  (claude s.) (peace, love, worth, hope) Everyth...   \n",
       "9  It's a hard life People get affected By the to...   \n",
       "\n",
       "                     track_name               track_uri  valence  \n",
       "0               keep on dancin'  4MEyWIXKBFWaXpRIdJv354    0.969  \n",
       "1          still hung up on you  7s9si69INQWnNd3RLz3Elo    0.982  \n",
       "2                   hope joanna  45Yhz3bJ45YGA0Qfgn06ix    0.980  \n",
       "3      floorfiller - radio edit  5jjt6Qa4PbsgpEMgz5WzL1    0.990  \n",
       "4             barney theme song  1JhFQ8L6QZxQchBa5qJrxS    0.996  \n",
       "5      floorfiller - radio edit  5jjt6Qa4PbsgpEMgz5WzL1    0.990  \n",
       "6   welcome to the monkey house  1S6rSlrHMUQEgyI43PnOkF    0.992  \n",
       "7  i'm gonna knock on your door  24qcDZtqYSUOr83QXgy8aa    0.993  \n",
       "8                          hope  1eLag4BSaKr983nzatl2bw    0.983  \n",
       "9         affected by the towns  77eyCWTuqvAM2EGqw72Lxf    0.988  "
      ]
     },
     "execution_count": 129,
     "metadata": {},
     "output_type": "execute_result"
    }
   ],
   "source": [
    "df_ssp = pd.DataFrame(ssp)\n",
    "df_ssp"
   ]
  },
  {
   "cell_type": "markdown",
   "metadata": {},
   "source": [
    "## Visualization (Valence Curve, Energy Curve)"
   ]
  },
  {
   "cell_type": "code",
   "execution_count": 130,
   "metadata": {},
   "outputs": [
    {
     "data": {
      "text/plain": [
       "<matplotlib.axes._subplots.AxesSubplot at 0x125b67bd0>"
      ]
     },
     "execution_count": 130,
     "metadata": {},
     "output_type": "execute_result"
    },
    {
     "data": {
      "image/png": "[encoded data removed]",
      "text/plain": [
       "<Figure size 432x288 with 1 Axes>"
      ]
     },
     "metadata": {
      "needs_background": "light"
     },
     "output_type": "display_data"
    }
   ],
   "source": [
    "df_ssp.plot.line(x='valence',y='energy')"
   ]
  },
  {
   "cell_type": "markdown",
   "metadata": {},
   "source": [
    "## Create Spotify Playlist"
   ]
  },
  {
   "cell_type": "code",
   "execution_count": 131,
   "metadata": {},
   "outputs": [],
   "source": [
    "import requests\n",
    "import json\n",
    "import pandas as pd\n",
    "import spotipy#authentication\n",
    "import spotipy.util as util#authentication\n",
    "from spotipy.oauth2 import SpotifyClientCredentials#authentication"
   ]
  },
  {
   "cell_type": "code",
   "execution_count": 132,
   "metadata": {},
   "outputs": [],
   "source": [
    "cid = '049ade7215e54c63a2b628f3784dc407'\n",
    "secret = '5d30770120ad4dbbabbb5ce538110e05'\n",
    "redirect_uri = 'http://google.com/'\n",
    "username = 'name'"
   ]
  },
  {
   "cell_type": "code",
   "execution_count": 133,
   "metadata": {
    "scrolled": true
   },
   "outputs": [
    {
     "name": "stdout",
     "output_type": "stream",
     "text": [
      "\n",
      "\n",
      "            User authentication requires interaction with your\n",
      "            web browser. Once you enter your credentials and\n",
      "            give authorization, you will be redirected to\n",
      "            a url.  Paste that url you were directed to to\n",
      "            complete the authorization.\n",
      "\n",
      "        \n",
      "Opened https://accounts.spotify.com/authorize?client_id=049ade7215e54c63a2b628f3784dc407&response_type=code&redirect_uri=http%3A%2F%2Fgoogle.com%2F&scope=playlist-modify-private in your browser\n",
      "\n",
      "\n",
      "Enter the URL you were redirected to: https://www.google.com/?code=AQAp89SsleOpf_Hbp4x-HEfnkAjfmVcLoZqlt_KrxXpDVYN-mPyakYf1WOeNp2ZBvdQzgM-2u4aB2KTssyveZM9G6GMHArM9a1c7kV8SzMljf3K2-4Fpd16AeHvW4djBUzDBvuDw4dddQ4ywW6dhPQf3zANkJ2wPcs10YnIbldKQy1FypwEhtql7Rmzl1ZoQJJbo5-6xRlv_i264rHo4PGU\n",
      "\n",
      "\n",
      "\n",
      "\n",
      "            User authentication requires interaction with your\n",
      "            web browser. Once you enter your credentials and\n",
      "            give authorization, you will be redirected to\n",
      "            a url.  Paste that url you were directed to to\n",
      "            complete the authorization.\n",
      "\n",
      "        \n",
      "Opened https://accounts.spotify.com/authorize?client_id=049ade7215e54c63a2b628f3784dc407&response_type=code&redirect_uri=http%3A%2F%2Fgoogle.com%2F&scope=user-read-private in your browser\n",
      "\n",
      "\n",
      "Enter the URL you were redirected to: https://www.google.com/?code=AQCJ88gKAJ8laskzJwqHXJEWtMY2ToPDWSBzU8ZeDZSUDYkpFcNgG9Agmi9ghwMMxL-6lHZOcBpK7RoIrk4Aniv3LnXPSMmZFg_mxni_5piVMjH9e2jzozIIRrcZDbUFim7r5SHN9BtaXCal_5gtUAwJRWAEewXE0c-odtslyiqit7GTwcZkKV8Fcne8FH4aJo2nedqTWYfutQY\n",
      "\n",
      "\n"
     ]
    }
   ],
   "source": [
    "#Authentication\n",
    "\n",
    "scope = 'playlist-modify-private'\n",
    "token_playlist = util.prompt_for_user_token(username, scope, client_id=cid, client_secret=secret, redirect_uri=redirect_uri)\n",
    "\n",
    "if token_playlist:\n",
    "    sp_playlist = spotipy.Spotify(auth=token_playlist)\n",
    "else:\n",
    "    print(\"Can't get token for\", username)\n",
    "    \n",
    "#Authentication\n",
    "\n",
    "scope = 'user-read-private'\n",
    "token_user = util.prompt_for_user_token(username, scope, client_id=cid, client_secret=secret, redirect_uri=redirect_uri)\n",
    "\n",
    "if token_user:\n",
    "    sp_user = spotipy.Spotify(auth=token_user)\n",
    "else:\n",
    "    print(\"Can't get token for\", username)"
   ]
  },
  {
   "cell_type": "code",
   "execution_count": 134,
   "metadata": {},
   "outputs": [],
   "source": [
    "def get_user_id(url):\n",
    "    try:\n",
    "        resp = requests.get(url,headers={'Authorization': 'Bearer ' + token_user},\n",
    "                             #data={\"name\": \"SSP\"}\n",
    "                           )\n",
    "        \n",
    "        resp.raise_for_status()\n",
    "    except requests.exceptions.HTTPError as err:\n",
    "        print(err)\n",
    "        \n",
    "    \n",
    "    response = resp.json()\n",
    "    userid = response['id']\n",
    "    \n",
    "    return userid\n"
   ]
  },
  {
   "cell_type": "code",
   "execution_count": 135,
   "metadata": {},
   "outputs": [],
   "source": [
    "user_id = get_user_id('https://api.spotify.com/v1/me')"
   ]
  },
  {
   "cell_type": "code",
   "execution_count": 136,
   "metadata": {},
   "outputs": [
    {
     "data": {
      "text/plain": [
       "'124399179'"
      ]
     },
     "execution_count": 136,
     "metadata": {},
     "output_type": "execute_result"
    }
   ],
   "source": [
    "identification = user_id\n",
    "identification"
   ]
  },
  {
   "cell_type": "code",
   "execution_count": 140,
   "metadata": {},
   "outputs": [],
   "source": [
    "playlist = sp_playlist.user_playlist_create(identification,'SSP', public=False, description=\"First SSP\")"
   ]
  },
  {
   "cell_type": "code",
   "execution_count": 141,
   "metadata": {},
   "outputs": [
    {
     "data": {
      "text/plain": [
       "{'collaborative': False,\n",
       " 'description': 'First SSP',\n",
       " 'external_urls': {'spotify': 'https://open.spotify.com/playlist/3hGrlzi3ZDFseBWzQ2Luxm'},\n",
       " 'followers': {'href': None, 'total': 0},\n",
       " 'href': 'https://api.spotify.com/v1/playlists/3hGrlzi3ZDFseBWzQ2Luxm',\n",
       " 'id': '3hGrlzi3ZDFseBWzQ2Luxm',\n",
       " 'images': [],\n",
       " 'name': 'SSP',\n",
       " 'owner': {'display_name': 'Adam Goldstein',\n",
       "  'external_urls': {'spotify': 'https://open.spotify.com/user/124399179'},\n",
       "  'href': 'https://api.spotify.com/v1/users/124399179',\n",
       "  'id': '124399179',\n",
       "  'type': 'user',\n",
       "  'uri': 'spotify:user:124399179'},\n",
       " 'primary_color': None,\n",
       " 'public': False,\n",
       " 'snapshot_id': 'MSw5Nzc1NWQyZWMyOGIyNTliNGIzY2ZhYmJmOWIyOWI4ZmMwNTM4NTI2',\n",
       " 'tracks': {'href': 'https://api.spotify.com/v1/playlists/3hGrlzi3ZDFseBWzQ2Luxm/tracks',\n",
       "  'items': [],\n",
       "  'limit': 100,\n",
       "  'next': None,\n",
       "  'offset': 0,\n",
       "  'previous': None,\n",
       "  'total': 0},\n",
       " 'type': 'playlist',\n",
       " 'uri': 'spotify:playlist:3hGrlzi3ZDFseBWzQ2Luxm'}"
      ]
     },
     "execution_count": 141,
     "metadata": {},
     "output_type": "execute_result"
    }
   ],
   "source": [
    "playlist"
   ]
  },
  {
   "cell_type": "code",
   "execution_count": 142,
   "metadata": {},
   "outputs": [],
   "source": [
    "playlist_tracks = sp_playlist.user_playlist_add_tracks(identification,playlist['id'],df_ssp['track_uri'], position=None)"
   ]
  },
  {
   "cell_type": "markdown",
   "metadata": {},
   "source": [
    "## unigrams"
   ]
  },
  {
   "cell_type": "markdown",
   "metadata": {},
   "source": [
    "def display_topics(model, feature_names, no_top_words):\n",
    "    for topic_idx, topic in enumerate(model.components_):\n",
    "        print(\"Topic {i}:\".format(i=topic_idx))\n",
    "        print(\" \".join([feature_names[i]\n",
    "                        for i in topic.argsort()[:-no_top_words - 1:-1]]))\n",
    "#How many words per topic\n",
    "no_top_words = 4\n",
    "display_topics(nmf, tfidf_feature_names, no_top_words)"
   ]
  }
 ],
 "metadata": {
  "kernelspec": {
   "display_name": "Python 3",
   "language": "python",
   "name": "python3"
  },
  "language_info": {
   "codemirror_mode": {
    "name": "ipython",
    "version": 3
   },
   "file_extension": ".py",
   "mimetype": "text/x-python",
   "name": "python",
   "nbconvert_exporter": "python",
   "pygments_lexer": "ipython3",
   "version": "3.7.4"
  }
 },
 "nbformat": 4,
 "nbformat_minor": 2
}
