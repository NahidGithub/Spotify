{
 "cells": [
  {
   "cell_type": "markdown",
   "metadata": {},
   "source": [
    "## Entire Notebook Runtime = 10 minutes"
   ]
  },
  {
   "cell_type": "code",
   "execution_count": 2,
   "metadata": {},
   "outputs": [
    {
     "name": "stderr",
     "output_type": "stream",
     "text": [
      "/Library/Frameworks/Python.framework/Versions/3.8/lib/python3.8/site-packages/sklearn/utils/deprecation.py:144: FutureWarning: The sklearn.metrics.classification module is  deprecated in version 0.22 and will be removed in version 0.24. The corresponding classes / functions should instead be imported from sklearn.metrics. Anything that cannot be imported from sklearn.metrics is now part of the private API.\n",
      "  warnings.warn(message, FutureWarning)\n",
      "/Library/Frameworks/Python.framework/Versions/3.8/lib/python3.8/site-packages/sklearn/externals/six.py:28: FutureWarning: The module is deprecated in version 0.21 and will be removed in version 0.23 since we've dropped support for Python 2.7. Please rely on the official version of six (https://pypi.org/project/six/).\n",
      "  warnings.warn(\"The module is deprecated in version 0.21 and will be removed \"\n",
      "/Library/Frameworks/Python.framework/Versions/3.8/lib/python3.8/site-packages/sklearn/externals/joblib/__init__.py:15: FutureWarning: sklearn.externals.joblib is deprecated in 0.21 and will be removed in 0.23. Please import this functionality directly from joblib, which can be installed with: pip install joblib. If this warning is raised when loading pickled models, you may need to re-serialize those models with scikit-learn 0.21+.\n",
      "  warnings.warn(msg, category=FutureWarning)\n"
     ]
    }
   ],
   "source": [
    "import pandas as pd\n",
    "import numpy as np\n",
    "from sklearn.feature_extraction.text import TfidfVectorizer,CountVectorizer\n",
    "import sklearn\n",
    "import yellowbrick\n",
    "import re\n",
    "import mglearn\n",
    "import nltk \n",
    "from nltk.stem import WordNetLemmatizer \n",
    "import boto3\n",
    "from s3 import get_file"
   ]
  },
  {
   "cell_type": "code",
   "execution_count": 3,
   "metadata": {},
   "outputs": [],
   "source": [
    "s3 = boto3.resource('s3')\n",
    "lyrics = get_file(s3,'s3ssp',download_file='NLP_Data/master_lyrics_audio_features.csv',rename_file='nlp0614.csv')"
   ]
  },
  {
   "cell_type": "markdown",
   "metadata": {},
   "source": [
    "df = pd.read_csv('0320_2020_nlp.csv',sep='|',encoding='utf-8')\n",
    "df_demo = df.copy().dropna()"
   ]
  },
  {
   "cell_type": "code",
   "execution_count": 4,
   "metadata": {},
   "outputs": [],
   "source": [
    "df = pd.read_csv(lyrics,sep='|',encoding='utf-8')\n",
    "df_demo = df.copy().dropna()"
   ]
  },
  {
   "cell_type": "markdown",
   "metadata": {},
   "source": [
    "## Simulation of User Spotify Liked Library"
   ]
  },
  {
   "cell_type": "code",
   "execution_count": 5,
   "metadata": {},
   "outputs": [],
   "source": [
    "X = df_demo.sample(5000)"
   ]
  },
  {
   "cell_type": "code",
   "execution_count": 6,
   "metadata": {},
   "outputs": [],
   "source": [
    "def LDA_hyper_params(df):\n",
    "    \n",
    "    df_topic_rows = df.shape[0]\n",
    "    \n",
    "    if(df_topic_rows in range(100,1000)):\n",
    "        return {'max_features':500, 'n_components':3, 'n_words':10}\n",
    "    \n",
    "    elif(df_topic_rows in range(1001,4000)):\n",
    "        return {'max_features':200, 'n_components' :5, 'n_words':10} \n",
    "        \n",
    "    elif(df_topic_rows in range(4001,6000)):\n",
    "        return {'max_features':500, 'n_components' :5, 'n_words':10} \n",
    "    \n",
    "    elif(df_topic_rows in range(6001,8000)):\n",
    "        return {'max_features':400, 'n_components' :5, 'n_words':10} \n",
    "    \n",
    "    elif(df_topic_rows in range(8001,10000)):\n",
    "        return {'max_features':500, 'n_components' :5, 'n_words':10}\n",
    "    \n",
    "    elif(df_topic_rows >= 10000):\n",
    "        return {'max_features':600, 'n_components' :5, 'n_words':10}\n",
    "    else:\n",
    "        return None"
   ]
  },
  {
   "cell_type": "markdown",
   "metadata": {},
   "source": [
    "## Optimize max_features, n_components (used to be no_topics), n_words"
   ]
  },
  {
   "cell_type": "code",
   "execution_count": 7,
   "metadata": {},
   "outputs": [
    {
     "name": "stdout",
     "output_type": "stream",
     "text": [
      "500 5 10\n"
     ]
    }
   ],
   "source": [
    "#Control Panel - Hyper Parameters\n",
    "\n",
    "hp = LDA_hyper_params(X)\n",
    "\n",
    "#Count Vectorizer\n",
    "max_features = hp['max_features']\n",
    "max_df = .20\n",
    "\n",
    "\n",
    "\n",
    "#LDA\n",
    "n_components = hp['n_components']  #10\n",
    "\n",
    "\n",
    "#LDA Display\n",
    "display_n_chunks = 5 #5\n",
    "n_components = hp['n_components']        #20\n",
    "n_words = hp['n_words']       #5\n",
    "\n",
    "\n",
    "print(max_features,n_components,n_words)"
   ]
  },
  {
   "cell_type": "markdown",
   "metadata": {},
   "source": [
    "## Top Word Count"
   ]
  },
  {
   "cell_type": "code",
   "execution_count": 9,
   "metadata": {},
   "outputs": [
    {
     "data": {
      "image/png": "[encoded data removed]",
      "text/plain": [
       "<Figure size 576x396 with 1 Axes>"
      ]
     },
     "metadata": {},
     "output_type": "display_data"
    },
    {
     "data": {
      "text/plain": [
       "<matplotlib.axes._subplots.AxesSubplot at 0x7f9e024ab1f0>"
      ]
     },
     "execution_count": 9,
     "metadata": {},
     "output_type": "execute_result"
    }
   ],
   "source": [
    "from sklearn.feature_extraction.text import TfidfVectorizer #CountVectorizer\n",
    "from sklearn.feature_extraction.text import TfidfTransformer \n",
    "\n",
    "from yellowbrick.text import FreqDistVisualizer\n",
    "\n",
    "# Load the text data\n",
    "\n",
    "\n",
    "vect = TfidfVectorizer(max_features=max_features, max_df=max_df,stop_words='english',token_pattern='[a-zA-Z0-9]{3,}')\n",
    "docs      = vect.fit_transform(X['lyrics'])\n",
    "features   = vect.get_feature_names()\n",
    "\n",
    "visualizer = FreqDistVisualizer(features=features, orient='v',n=30)\n",
    "visualizer.fit(docs)\n",
    "visualizer.show()"
   ]
  },
  {
   "cell_type": "code",
   "execution_count": 10,
   "metadata": {},
   "outputs": [
    {
     "name": "stdout",
     "output_type": "stream",
     "text": [
      "LatentDirichletAllocation(batch_size=128, doc_topic_prior=3000,\n",
      "                          evaluate_every=-1, learning_decay=0.7,\n",
      "                          learning_method='batch', learning_offset=10.0,\n",
      "                          max_doc_update_iter=100, max_iter=35,\n",
      "                          mean_change_tol=0.001, n_components=5, n_jobs=None,\n",
      "                          perp_tol=0.1, random_state=0, topic_word_prior=0.3,\n",
      "                          total_samples=1000000.0, verbose=0)\n",
      "Log Likelihood:  -186283.73011954158\n",
      "Perplexity:  4843.685945277054\n",
      "{'batch_size': 128, 'doc_topic_prior': 3000, 'evaluate_every': -1, 'learning_decay': 0.7, 'learning_method': 'batch', 'learning_offset': 10.0, 'max_doc_update_iter': 100, 'max_iter': 35, 'mean_change_tol': 0.001, 'n_components': 5, 'n_jobs': None, 'perp_tol': 0.1, 'random_state': 0, 'topic_word_prior': 0.3, 'total_samples': 1000000.0, 'verbose': 0}\n",
      "topic 0       topic 1       topic 2       topic 3       topic 4       \n",
      "--------      --------      --------      --------      --------      \n",
      "coco          coco          coco          coco          coco          \n",
      "kitty         kitty         kitty         kitty         kitty         \n",
      "hip           hip           tooth         erase         tooth         \n",
      "dad           eternal       hip           tooth         deserve       \n",
      "bit           meaning       erase         candle        expect        \n",
      "deserve       grip          dad           eternal       dad           \n",
      "toe           bomb          candle        grip          claim         \n",
      "reflection    neck          weather       shape         difference    \n",
      "difference    shape         toe           explain       reflection    \n",
      "pure          weather       eternal       cash          meaning       \n",
      "\n",
      "\n"
     ]
    },
    {
     "data": {
      "text/plain": [
       "Topic0            1000.0\n",
       "Topic1            1000.0\n",
       "Topic2            1000.0\n",
       "Topic3            1000.0\n",
       "Topic4            1000.0\n",
       "dominant_topic       0.0\n",
       "dtype: float64"
      ]
     },
     "execution_count": 10,
     "metadata": {},
     "output_type": "execute_result"
    }
   ],
   "source": [
    "from sklearn.decomposition import LatentDirichletAllocation\n",
    "lda_model = LatentDirichletAllocation(n_components=n_components, learning_method=\"batch\",\n",
    "                                max_iter=35, random_state=0,doc_topic_prior=3000,topic_word_prior=.3)\n",
    "\n",
    "\n",
    "# We build the model and transform the data in one step\n",
    "# Computing transform takes some time,\n",
    "# and we can save time by doing both at once\n",
    "\n",
    "document_topics = lda_model.fit_transform(docs)\n",
    "\n",
    "vectorizer = TfidfVectorizer(analyzer='word',       \n",
    "                             min_df=5,                        # minimum reqd occurences of a word \n",
    "                             stop_words='english',             # remove stop words\n",
    "                             lowercase=True,                   # convert all words to lowercase\n",
    "                             token_pattern='[a-zA-Z0-9]{3,}',  # num chars > 3\n",
    "                             # max_features=50000,             # max number of uniq words\n",
    "                            )\n",
    "\n",
    "data_vectorized = vectorizer.fit_transform(X['lyrics'])\n",
    "\n",
    "# Build LDA Model\n",
    "lda_output = lda_model.fit_transform(data_vectorized)\n",
    "\n",
    "print(lda_model)  # Model attributes\n",
    "\n",
    "# Log Likelyhood: Higher the better\n",
    "print(\"Log Likelihood: \", lda_model.score(data_vectorized))\n",
    "\n",
    "# Perplexity: Lower the better. Perplexity = exp(-1. * log-likelihood per word)\n",
    "print(\"Perplexity: \", lda_model.perplexity(data_vectorized))\n",
    "\n",
    "# See model parameters\n",
    "print(lda_model.get_params())\n",
    "\n",
    "\n",
    "#print(\"lda.components_.shape: {}\".format(lda.components_.shape))\n",
    "\n",
    "# For each topic (a row in the components_), sort the features (ascending)\n",
    "# Invert rows with [:, ::-1] to make sorting descending\n",
    "sorting = np.argsort(lda_model.components_, axis=1)#[:, ::-1]\n",
    "\n",
    "# Get the feature names from the vectorizer\n",
    "feature_names = np.array(vectorizer.get_feature_names())\n",
    "\n",
    "# Print out the 10 topics:\n",
    "mglearn.tools.print_topics(topics=range(n_components), feature_names=feature_names,\n",
    "                           sorting=sorting, topics_per_chunk=display_n_chunks, n_words=n_words)\n",
    "\n",
    "# Create Document - Topic Matrix\n",
    "lda_output = lda_model.transform(data_vectorized)\n",
    "\n",
    "# column names\n",
    "topicnames = [\"Topic\" + str(i) for i in range(lda_model.n_components)]\n",
    "\n",
    "# index names\n",
    "docnames = [\"Doc\" + str(i) for i in range(len(X))]\n",
    "\n",
    "# Make the pandas dataframe\n",
    "df_document_topic = pd.DataFrame(np.round(lda_output, 2), columns=topicnames, index=docnames)\n",
    "\n",
    "# Get dominant topic for each document\n",
    "dominant_topic = np.argmax(df_document_topic.values, axis=1)\n",
    "df_document_topic['dominant_topic'] = dominant_topic\n",
    "\n",
    "# Styling\n",
    "def color_green(val):\n",
    "    color = 'green' if val > .1 else 'black'\n",
    "    return 'color: {col}'.format(col=color)\n",
    "\n",
    "def make_bold(val):\n",
    "    weight = 700 if val > .1 else 400\n",
    "    return 'font-weight: {weight}'.format(weight=weight)\n",
    "\n",
    "# Apply Style\n",
    "df_document_topics = df_document_topic#.nlargest(n=100,columns='Topic7')#.style.applymap(color_green).applymap(make_bold)\n",
    "\n",
    "df_document_topics.sum()\n"
   ]
  },
  {
   "cell_type": "code",
   "execution_count": 11,
   "metadata": {},
   "outputs": [
    {
     "data": {
      "text/html": [
       "<div>\n",
       "<style scoped>\n",
       "    .dataframe tbody tr th:only-of-type {\n",
       "        vertical-align: middle;\n",
       "    }\n",
       "\n",
       "    .dataframe tbody tr th {\n",
       "        vertical-align: top;\n",
       "    }\n",
       "\n",
       "    .dataframe thead th {\n",
       "        text-align: right;\n",
       "    }\n",
       "</style>\n",
       "<table border=\"1\" class=\"dataframe\">\n",
       "  <thead>\n",
       "    <tr style=\"text-align: right;\">\n",
       "      <th></th>\n",
       "      <th>Word 0</th>\n",
       "      <th>Word 1</th>\n",
       "      <th>Word 2</th>\n",
       "      <th>Word 3</th>\n",
       "      <th>Word 4</th>\n",
       "      <th>Word 5</th>\n",
       "      <th>Word 6</th>\n",
       "      <th>Word 7</th>\n",
       "      <th>Word 8</th>\n",
       "      <th>Word 9</th>\n",
       "      <th>Word 10</th>\n",
       "      <th>Word 11</th>\n",
       "      <th>Word 12</th>\n",
       "      <th>Word 13</th>\n",
       "      <th>Word 14</th>\n",
       "    </tr>\n",
       "  </thead>\n",
       "  <tbody>\n",
       "    <tr>\n",
       "      <th>Topic 0</th>\n",
       "      <td>love</td>\n",
       "      <td>time</td>\n",
       "      <td>feel</td>\n",
       "      <td>day</td>\n",
       "      <td>life</td>\n",
       "      <td>gon</td>\n",
       "      <td>win</td>\n",
       "      <td>wan</td>\n",
       "      <td>heart</td>\n",
       "      <td>leave</td>\n",
       "      <td>eye</td>\n",
       "      <td>baby</td>\n",
       "      <td>light</td>\n",
       "      <td>hand</td>\n",
       "      <td>chorus</td>\n",
       "    </tr>\n",
       "    <tr>\n",
       "      <th>Topic 1</th>\n",
       "      <td>love</td>\n",
       "      <td>feel</td>\n",
       "      <td>time</td>\n",
       "      <td>life</td>\n",
       "      <td>day</td>\n",
       "      <td>yeah</td>\n",
       "      <td>gon</td>\n",
       "      <td>leave</td>\n",
       "      <td>heart</td>\n",
       "      <td>baby</td>\n",
       "      <td>dream</td>\n",
       "      <td>girl</td>\n",
       "      <td>night</td>\n",
       "      <td>wait</td>\n",
       "      <td>eye</td>\n",
       "    </tr>\n",
       "    <tr>\n",
       "      <th>Topic 2</th>\n",
       "      <td>love</td>\n",
       "      <td>time</td>\n",
       "      <td>feel</td>\n",
       "      <td>night</td>\n",
       "      <td>heart</td>\n",
       "      <td>day</td>\n",
       "      <td>baby</td>\n",
       "      <td>leave</td>\n",
       "      <td>girl</td>\n",
       "      <td>eye</td>\n",
       "      <td>fall</td>\n",
       "      <td>chorus</td>\n",
       "      <td>life</td>\n",
       "      <td>live</td>\n",
       "      <td>light</td>\n",
       "    </tr>\n",
       "    <tr>\n",
       "      <th>Topic 3</th>\n",
       "      <td>love</td>\n",
       "      <td>time</td>\n",
       "      <td>feel</td>\n",
       "      <td>life</td>\n",
       "      <td>hold</td>\n",
       "      <td>yeah</td>\n",
       "      <td>live</td>\n",
       "      <td>heart</td>\n",
       "      <td>day</td>\n",
       "      <td>baby</td>\n",
       "      <td>gon</td>\n",
       "      <td>walk</td>\n",
       "      <td>mind</td>\n",
       "      <td>break</td>\n",
       "      <td>win</td>\n",
       "    </tr>\n",
       "    <tr>\n",
       "      <th>Topic 4</th>\n",
       "      <td>love</td>\n",
       "      <td>time</td>\n",
       "      <td>baby</td>\n",
       "      <td>feel</td>\n",
       "      <td>fall</td>\n",
       "      <td>heart</td>\n",
       "      <td>gon</td>\n",
       "      <td>win</td>\n",
       "      <td>yeah</td>\n",
       "      <td>leave</td>\n",
       "      <td>life</td>\n",
       "      <td>chorus</td>\n",
       "      <td>wait</td>\n",
       "      <td>lose</td>\n",
       "      <td>day</td>\n",
       "    </tr>\n",
       "  </tbody>\n",
       "</table>\n",
       "</div>"
      ],
      "text/plain": [
       "        Word 0 Word 1 Word 2 Word 3 Word 4 Word 5 Word 6 Word 7 Word 8 Word 9  \\\n",
       "Topic 0   love   time   feel    day   life    gon    win    wan  heart  leave   \n",
       "Topic 1   love   feel   time   life    day   yeah    gon  leave  heart   baby   \n",
       "Topic 2   love   time   feel  night  heart    day   baby  leave   girl    eye   \n",
       "Topic 3   love   time   feel   life   hold   yeah   live  heart    day   baby   \n",
       "Topic 4   love   time   baby   feel   fall  heart    gon    win   yeah  leave   \n",
       "\n",
       "        Word 10 Word 11 Word 12 Word 13 Word 14  \n",
       "Topic 0     eye    baby   light    hand  chorus  \n",
       "Topic 1   dream    girl   night    wait     eye  \n",
       "Topic 2    fall  chorus    life    live   light  \n",
       "Topic 3     gon    walk    mind   break     win  \n",
       "Topic 4    life  chorus    wait    lose     day  "
      ]
     },
     "execution_count": 11,
     "metadata": {},
     "output_type": "execute_result"
    }
   ],
   "source": [
    "# Show top n keywords for each topic\n",
    "def show_topics(vectorizer=vectorizer, lda_model=lda_model, n_words=20):\n",
    "    keywords = np.array(vectorizer.get_feature_names())\n",
    "    topic_keywords = []\n",
    "    for topic_weights in lda_model.components_:\n",
    "        top_keyword_locs = (-topic_weights).argsort()[:n_words]\n",
    "        topic_keywords.append(keywords.take(top_keyword_locs))\n",
    "    return topic_keywords\n",
    "\n",
    "topic_keywords = show_topics(vectorizer=vectorizer, lda_model=lda_model, n_words=15)        \n",
    "\n",
    "# Topic - Keywords Dataframe\n",
    "df_topic_keywords = pd.DataFrame(topic_keywords)\n",
    "df_topic_keywords.columns = ['Word '+str(i) for i in range(df_topic_keywords.shape[1])]\n",
    "df_topic_keywords.index = ['Topic '+str(i) for i in range(df_topic_keywords.shape[0])]\n",
    "df_topic_keywords"
   ]
  },
  {
   "cell_type": "markdown",
   "metadata": {},
   "source": [
    "## Topic Analysis"
   ]
  },
  {
   "cell_type": "code",
   "execution_count": 39,
   "metadata": {},
   "outputs": [
    {
     "name": "stdout",
     "output_type": "stream",
     "text": [
      "lda.components_.shape: (5, 500)\n",
      "topic 0       topic 1       topic 2       topic 3       topic 4       \n",
      "--------      --------      --------      --------      --------      \n",
      "woo           woo           hoe           dip           wit           \n",
      "melody        doo           doo           dime          dit           \n",
      "sugar         dip           dip           style         dip           \n",
      "sister        pop           tryin         cash          murder        \n",
      "doo           talkin        walkin        jump          huh           \n",
      "club          doin          boom          pack          bag           \n",
      "feelin        band          simple        family        yesterday     \n",
      "mad           shot          yea           prayer        bang          \n",
      "stuff         knock         doin          shoulder      gettin        \n",
      "drunk         walkin        dit           boom          woo           \n",
      "\n",
      "\n"
     ]
    }
   ],
   "source": [
    "from sklearn.decomposition import LatentDirichletAllocation\n",
    "lda = LatentDirichletAllocation(n_components=n_components, learning_method=\"batch\",\n",
    "                                max_iter=10, random_state=0, doc_topic_prior=3000)\n",
    "\n",
    "\n",
    "# We build the model and transform the data in one step\n",
    "# Computing transform takes some time,\n",
    "# and we can save time by doing both at once\n",
    "\n",
    "document_topics = lda.fit_transform(docs)\n",
    "\n",
    "print(\"lda.components_.shape: {}\".format(lda.components_.shape))\n",
    "\n",
    "# For each topic (a row in the components_), sort the features (ascending)\n",
    "# Invert rows with [:, ::-1] to make sorting descending\n",
    "sorting = np.argsort(lda.components_, axis=1)#[:, ::-1]\n",
    "\n",
    "\n",
    "# Get the feature names from the vectorizer\n",
    "feature_names = np.array(vect.get_feature_names())\n",
    "\n",
    "# Print out the 10 topics:\n",
    "mglearn.tools.print_topics(topics=range(n_components), feature_names=feature_names,\n",
    "                           sorting=sorting, topics_per_chunk=display_n_chunks, n_words=n_words)\n",
    "\n",
    "\n",
    "\n"
   ]
  },
  {
   "cell_type": "code",
   "execution_count": 12,
   "metadata": {},
   "outputs": [
    {
     "data": {
      "text/html": [
       "\n",
       "<link rel=\"stylesheet\" type=\"text/css\" href=\"https://cdn.rawgit.com/bmabey/pyLDAvis/files/ldavis.v1.0.0.css\">\n",
       "\n",
       "\n",
       "<div id=\"ldavis_el66051403162667215686623356640\"></div>\n",
       "<script type=\"text/javascript\">\n",
       "\n",
       "var ldavis_el66051403162667215686623356640_data = {\"mdsDat\": {\"x\": [150.22215270996094, 51.16336441040039, -73.1445541381836, -66.4101333618164, 54.41732406616211], \"y\": [-72.2695541381836, -159.968017578125, 21.523815155029297, -110.60643768310547, 12.44344425201416], \"topics\": [1, 2, 3, 4, 5], \"cluster\": [1, 1, 1, 1, 1], \"Freq\": [20.000017191770965, 20.00000858089151, 20.000000842248188, 20.000000570921237, 19.999972814168107]}, \"tinfo\": {\"Term\": [\"whisper\", \"tie\", \"speak\", \"bit\", \"glass\", \"mother\", \"slow\", \"explain\", \"drag\", \"push\", \"calm\", \"search\", \"float\", \"knee\", \"erase\", \"strike\", \"tooth\", \"dirt\", \"bomb\", \"law\", \"river\", \"fit\", \"hair\", \"shame\", \"hot\", \"deserve\", \"bite\", \"rip\", \"worth\", \"evening\", \"explain\", \"float\", \"speed\", \"cash\", \"drag\", \"calm\", \"bite\", \"noche\", \"claim\", \"emotion\", \"shape\", \"refuse\", \"offer\", \"lovely\", \"defeat\", \"freak\", \"eternity\", \"oooh\", \"crew\", \"class\", \"chill\", \"drip\", \"south\", \"yellow\", \"enter\", \"mister\", \"clothe\", \"birth\", \"breed\", \"swing\", \"knock\", \"grey\", \"fault\", \"shade\", \"speak\", \"comfort\", \"trouble\", \"worth\", \"holy\", \"park\", \"love\", \"night\", \"sight\", \"feeling\", \"girl\", \"trust\", \"eye\", \"time\", \"feel\", \"heart\", \"day\", \"fall\", \"baby\", \"leave\", \"word\", \"boy\", \"play\", \"chorus\", \"live\", \"light\", \"walk\", \"hold\", \"sky\", \"touch\", \"forget\", \"hear\", \"life\", \"win\", \"yeah\", \"break\", \"wan\", \"dream\", \"hand\", \"meaning\", \"tall\", \"reflection\", \"attack\", \"block\", \"trick\", \"joke\", \"hoe\", \"siempre\", \"company\", \"lick\", \"seed\", \"travel\", \"girlfriend\", \"captain\", \"imagine\", \"hood\", \"list\", \"cowboy\", \"york\", \"goodnight\", \"cigarette\", \"mary\", \"judge\", \"presence\", \"hatred\", \"strip\", \"confusion\", \"talkin\", \"whip\", \"climb\", \"dust\", \"funny\", \"shame\", \"fit\", \"sigh\", \"precious\", \"spell\", \"string\", \"search\", \"trip\", \"story\", \"love\", \"hot\", \"hold\", \"time\", \"feelin\", \"live\", \"walk\", \"moment\", \"feel\", \"life\", \"yeah\", \"mind\", \"break\", \"heart\", \"blue\", \"answer\", \"day\", \"hand\", \"head\", \"lie\", \"gon\", \"dream\", \"baby\", \"lose\", \"win\", \"tonight\", \"chorus\", \"blood\", \"change\", \"night\", \"leave\", \"light\", \"fall\", \"eye\", \"stay\", \"whisper\", \"tie\", \"erase\", \"bomb\", \"law\", \"rip\", \"expect\", \"pill\", \"weather\", \"eternal\", \"bow\", \"cure\", \"grip\", \"bother\", \"accept\", \"folk\", \"wipe\", \"rot\", \"kinda\", \"spit\", \"stream\", \"treasure\", \"lado\", \"direction\", \"stuff\", \"blade\", \"sunny\", \"quit\", \"wrist\", \"earn\", \"create\", \"steel\", \"corner\", \"country\", \"prayer\", \"murder\", \"push\", \"knee\", \"closer\", \"flower\", \"edge\", \"slow\", \"love\", \"river\", \"blind\", \"pull\", \"death\", \"safe\", \"day\", \"time\", \"feel\", \"life\", \"gon\", \"wan\", \"game\", \"win\", \"eye\", \"leave\", \"light\", \"heart\", \"hand\", \"baby\", \"word\", \"chorus\", \"mind\", \"lose\", \"soul\", \"night\", \"hold\", \"dream\", \"stay\", \"live\", \"lie\", \"change\", \"head\", \"yeah\", \"fall\", \"hard\", \"wait\", \"glass\", \"tooth\", \"deserve\", \"dirt\", \"strike\", \"hollow\", \"pure\", \"valley\", \"dad\", \"club\", \"candle\", \"nail\", \"voc\", \"dollar\", \"lust\", \"difference\", \"pressure\", \"person\", \"dan\", \"idea\", \"faster\", \"style\", \"evening\", \"gim\", \"situation\", \"stumble\", \"innocence\", \"woo\", \"forest\", \"flip\", \"beast\", \"bitter\", \"wound\", \"mother\", \"glory\", \"cos\", \"letter\", \"solo\", \"stare\", \"easy\", \"feel\", \"love\", \"life\", \"throw\", \"time\", \"wait\", \"dream\", \"yeah\", \"gon\", \"girl\", \"talk\", \"day\", \"leave\", \"night\", \"friend\", \"wrong\", \"fool\", \"eye\", \"baby\", \"heart\", \"wan\", \"lose\", \"break\", \"start\", \"hear\", \"close\", \"chorus\", \"hand\", \"stand\", \"mind\", \"win\", \"lie\", \"hip\", \"exist\", \"mystery\", \"toe\", \"shore\", \"disease\", \"neck\", \"tender\", \"tiempo\", \"fat\", \"pocket\", \"grass\", \"boom\", \"woah\", \"design\", \"planet\", \"business\", \"tale\", \"weakness\", \"mal\", \"brown\", \"society\", \"satisfy\", \"trade\", \"torture\", \"loss\", \"darling\", \"row\", \"divine\", \"sol\", \"bye\", \"clown\", \"hungry\", \"huh\", \"green\", \"chest\", \"guide\", \"soft\", \"bright\", \"kid\", \"fall\", \"time\", \"song\", \"step\", \"baby\", \"lip\", \"win\", \"gon\", \"love\", \"heart\", \"feel\", \"yeah\", \"leave\", \"wait\", \"cold\", \"fuck\", \"life\", \"lose\", \"chorus\", \"matter\", \"pain\", \"girl\", \"watch\", \"hope\", \"day\", \"eye\", \"live\", \"wan\", \"mind\", \"hard\", \"hear\", \"break\", \"night\", \"dream\"], \"Freq\": [9.0, 9.0, 16.0, 13.0, 8.0, 13.0, 14.0, 8.0, 8.0, 13.0, 7.0, 14.0, 7.0, 14.0, 7.0, 7.0, 7.0, 7.0, 7.0, 7.0, 12.0, 8.0, 13.0, 9.0, 13.0, 6.0, 6.0, 6.0, 12.0, 7.0, 6.850935112050531, 6.42454728854403, 5.558521146532907, 5.237946037986549, 6.961475001292801, 6.518530602445664, 5.728566598416259, 4.963515438290399, 4.725511977197408, 4.688983550492373, 4.540975860422909, 4.66390655088376, 4.800390666683351, 4.332961479818701, 4.307198069089418, 4.346092679347039, 4.57498698404204, 4.176120584231618, 4.152076912091774, 4.462246762191101, 4.407756067718693, 3.9074455879504573, 4.079050434054159, 3.9269036497924685, 4.2690601897558205, 4.109917619973077, 5.567763812941375, 3.789082938418705, 3.633423685104392, 3.6220423417691423, 5.273538664823164, 5.217397123911019, 5.350226374510833, 4.840860709662479, 9.766905658838793, 5.194830717290298, 6.454625317482196, 7.90674448678833, 6.034793337220063, 4.873401138528654, 39.63069516964445, 18.14259773204631, 6.9774792368004395, 9.300433253277802, 15.14282751198949, 7.5615663456177815, 15.1149242203519, 20.326670522146, 18.55445978330823, 16.277800686415535, 16.131239863029325, 14.183234436945808, 15.68440087844385, 15.183397836948505, 11.344495728331406, 10.131650799384275, 10.28782043644174, 13.338456576409877, 12.862727885699725, 12.326332601027419, 11.55395438695642, 12.314916550475035, 10.072824523733482, 8.705645609133349, 9.563310299878179, 11.144693665631289, 13.05160945651467, 12.1510086786167, 12.046155199009537, 10.42301576143617, 10.62289994369088, 10.487733424804695, 10.167880938052537, 5.3149542094334725, 5.573958190529275, 5.010084315225934, 4.679002081383759, 5.147820191472557, 4.436505182766713, 4.292530098079698, 4.1743759411503385, 4.857059355847414, 4.3599600579576485, 3.927667559995328, 3.9226936540624138, 5.409716670934102, 3.8167402887534627, 3.754839475010469, 5.382530132818606, 3.641185840103667, 3.655362046389589, 3.6083181105182685, 3.6060844091359567, 3.785089921337969, 3.5970580192574375, 3.5731498789329446, 4.45609217496009, 3.477429758625215, 4.157536034273799, 3.641708273947795, 3.6303611248364116, 4.846914357155634, 3.404776320120083, 5.953081182238274, 5.452937196188441, 5.756287267166645, 6.950035690925422, 6.446297057120179, 4.382868932455316, 5.209157230415588, 5.30573503577393, 4.3186601434070235, 9.404834627559842, 5.699524683064345, 7.7824983142414865, 44.28309334349445, 7.634269202451005, 18.525428859622313, 30.109139055876756, 5.025920792888218, 16.676519272268713, 14.526067771343522, 9.306993443361307, 21.37972438132872, 19.094119469241797, 16.94841651882454, 14.371258518952885, 13.862070297395212, 16.575764698171003, 10.208785242444002, 7.422395931684388, 15.700932380848208, 13.161768689981685, 11.69377059757671, 12.535103926180748, 14.579878566803114, 13.48306385528479, 15.09073949615926, 12.791635896100432, 13.6787634105966, 10.79355513832741, 12.661822173125763, 9.196823997195466, 10.899906980932775, 12.115395054769397, 12.532712679983856, 11.358755435353293, 11.540331423864997, 11.09033484680815, 10.202444876476669, 8.335398201552689, 7.970001431925235, 6.090789371940256, 5.928099945416506, 5.921927095231098, 5.707713253928725, 5.105943058308438, 5.014274027687483, 4.853114201708781, 4.568357863676298, 5.514454152713431, 4.518518709344331, 4.374060097887261, 4.259354924944632, 4.1594905220508736, 4.133281976277043, 4.004724066658393, 3.8062371305476828, 3.8729697440257977, 5.4428908582328495, 3.646407084803074, 3.770765673117241, 3.5672387345439485, 3.5495265974360075, 4.174525166128045, 3.444683345032878, 3.2725331784593394, 3.6190133345457838, 3.256596904110314, 3.2283166427458267, 4.462834485739795, 5.977851852425766, 6.422857095984531, 5.793140606423782, 5.121499530781892, 4.792803284075332, 8.829055239196753, 9.028348314217158, 5.385938303793361, 5.881306478418184, 6.253701534197786, 7.896126614220995, 39.687081204210315, 7.108612614290559, 8.963905676479978, 8.334675245463167, 9.251742282306234, 5.968511145340861, 18.975112793900408, 23.725661907260335, 20.677579538357516, 18.822354731155368, 16.825517612437643, 15.110757323183773, 8.756056414329466, 15.87956939754451, 14.162971064252039, 14.83195257138969, 12.675958281374653, 14.982725662604773, 12.444807542402947, 13.834518315740473, 10.634510733386435, 11.783336872428707, 11.299233981000762, 11.313366624005063, 9.840687058001238, 11.317790671945913, 10.673279694878698, 10.782127366658267, 9.85354403788217, 10.281719971390551, 9.983351816223971, 9.825851614370427, 9.691806181846083, 10.146544312186961, 9.984249039893447, 9.340513505768717, 9.346477607693442, 7.04744483532439, 6.000436363640753, 5.634867273385689, 6.133991478402651, 6.2528960129271445, 5.558963853501066, 5.274640029065812, 5.187655907403982, 5.044463329471339, 4.917462383625836, 4.654068051613629, 4.827135841879502, 4.456777627489654, 4.59417750247516, 4.367855571623603, 4.350984619123599, 4.320823719428333, 4.292292537785641, 4.274985066473874, 4.509659240974134, 4.138661150128498, 4.9295349216012765, 5.927293244022293, 4.439423007649003, 3.801552245087281, 3.779670695874322, 4.218575481003607, 3.704439163353511, 3.656760014583745, 3.638155240077444, 4.947824655463403, 5.432601853995855, 5.047142069006505, 9.247692282747074, 5.584807098504073, 4.690841810314666, 5.324721095541014, 6.2469661987289475, 6.850228585011363, 10.02460633499253, 22.39371618744222, 30.30424673246274, 19.389967216434158, 8.764847644514662, 22.08904040136854, 14.043438915381131, 14.81019186655743, 16.006724459948806, 15.827884073194772, 14.320680471203179, 10.556204541619335, 16.32792725054039, 15.37020580811211, 14.197365221881562, 11.140463025614515, 10.82791206033999, 8.359533864347096, 13.933182648245609, 14.867405943606055, 14.949170109410119, 13.15607112018263, 12.83198844612596, 12.317121122317726, 10.860572967303238, 11.730566625239828, 9.693159698960041, 11.95395782742914, 11.141370581905896, 9.936601077444429, 10.557759811954519, 10.500273023677105, 10.152594439621595, 5.416169011664883, 5.288346174030605, 5.32465775208651, 4.754638836497945, 5.717435933750156, 4.481545458758547, 4.435446182882471, 4.43772488855416, 4.376471616940738, 4.147971590999119, 4.227988558009117, 4.269307591776896, 4.010383341780373, 4.0152466044216135, 4.020017038198277, 3.9464699236337695, 4.3188497537256705, 4.457844490767361, 4.063861357412459, 4.872202160959055, 3.8412671940472003, 3.848615176994533, 3.844936484020859, 3.7163853287860174, 3.6825403322033456, 3.776911537901292, 3.562914581027593, 3.5375251037335467, 3.533732754374552, 3.6753122845350292, 5.440253465726958, 4.40484482085866, 4.372235346763482, 5.012453051480554, 6.5441570779666565, 4.80121871438181, 5.331589637994222, 5.641817732970255, 7.948925597854603, 7.443078968572482, 17.785601703368766, 25.688192917276705, 11.663489821381388, 8.643040780613246, 19.299819268919983, 6.898999850619948, 16.189830632394106, 16.309964645742927, 26.571284326344973, 17.212298371193768, 19.29643299611076, 15.941462796616795, 15.784456459775829, 13.337710598935004, 10.151683822319892, 9.233670634706467, 15.6695194979862, 12.914457536666115, 13.421569717907063, 9.149403787817025, 9.696783441130316, 12.161795880397925, 9.818209914927143, 9.99076885543259, 12.59124911754992, 11.73550259315227, 11.18394270756792, 11.090566989196633, 10.363521684067031, 9.374307376235405, 9.759412854673078, 9.787643625257827, 9.93574793337509, 9.719230530529924], \"Total\": [9.0, 9.0, 16.0, 13.0, 8.0, 13.0, 14.0, 8.0, 8.0, 13.0, 7.0, 14.0, 7.0, 14.0, 7.0, 7.0, 7.0, 7.0, 7.0, 7.0, 12.0, 8.0, 13.0, 9.0, 13.0, 6.0, 6.0, 6.0, 12.0, 7.0, 8.03710938297552, 7.699439566350807, 6.69253314250256, 6.31486645043292, 8.39757506572405, 7.869403568893208, 6.926877504054548, 6.071377758892424, 5.7860157114516815, 5.750089158661755, 5.6015607181394405, 5.757337229726095, 5.949685831070559, 5.393951256725789, 5.388812217809598, 5.444493398904976, 5.734918639065306, 5.236904478192477, 5.218615998844096, 5.609781419607004, 5.606055871564973, 4.971943940319231, 5.1979266594668925, 5.004130777827688, 5.443014153043141, 5.275957437307736, 7.173398009847715, 4.889530081045707, 4.697017645476001, 4.699978419590129, 7.094287176592079, 7.029036989774347, 7.292764919713047, 6.497434009166454, 16.340586856648926, 7.229185922119032, 9.790733037980463, 12.98413249051753, 8.992993275465274, 6.642267998965375, 180.4764007761569, 65.70889661401827, 12.716289137761295, 21.5075364596835, 57.46939664246231, 15.402401572226495, 66.03691537280997, 121.93870480392833, 102.30191288654746, 79.9977595277952, 79.72646140586826, 61.50718697537961, 78.77688390286963, 73.70272535621, 38.956169251142526, 32.088711224555816, 33.666858971259515, 63.15914316730054, 59.04288218308647, 53.08216005017204, 46.92754532434985, 55.71162839139173, 33.980301246827594, 23.077694893558903, 31.52189920951997, 50.71863492565631, 86.02757037133219, 68.39944514282902, 71.08930328658664, 53.452171787035226, 58.93922419919916, 59.2823470438351, 53.957312283925006, 6.384946658502059, 6.702886718226056, 6.078136341583361, 5.769416835906538, 6.3711465411919015, 5.524135861177102, 5.3701078248770315, 5.245336608263798, 6.109797634274386, 5.531781312549622, 4.98896440377331, 4.984706335455981, 6.922755092890352, 4.897778064377932, 4.82040421965914, 6.942762820501651, 4.703806836575952, 4.727953120566496, 4.670757767067737, 4.669985409020402, 4.905782524899176, 4.6647778303334375, 4.636424742694795, 5.8140893674923335, 4.54116767156109, 5.438803037970295, 4.766979817072799, 4.759129862733717, 6.35579832152465, 4.468230208026849, 7.897651375207092, 7.224517165104954, 7.641962544968429, 9.476976804594754, 8.766683469648616, 5.817538679942255, 7.109099442630448, 7.314809327684544, 5.757224427676058, 14.738590250699858, 8.42122965616413, 13.923311961210297, 180.4764007761569, 13.928618879082546, 55.71162839139173, 121.93870480392833, 7.358281711439988, 59.04288218308647, 46.92754532434985, 22.007287213256497, 102.30191288654746, 86.02757037133219, 71.08930328658664, 55.83307948845163, 53.452171787035226, 79.9977595277952, 29.590260489838816, 15.320501545175516, 79.72646140586826, 53.957312283925006, 41.829916413605474, 49.22665645200635, 70.18129273984984, 59.2823470438351, 78.77688390286963, 57.30350626521731, 68.39944514282902, 39.9098957897988, 63.15914316730054, 26.699435666879577, 45.43958023337989, 65.70889661401827, 73.70272535621, 53.08216005017204, 61.50718697537961, 66.03691537280997, 43.811646478986425, 9.711830447562358, 9.309050131404634, 7.154829552191225, 7.00193486715547, 7.055928491075302, 6.892137865502591, 6.172857337150886, 6.10010900550083, 5.915665757144393, 5.628756389680613, 6.7959001948590405, 5.608647601959155, 5.433603164650328, 5.324752453620099, 5.221406801348607, 5.194425891311039, 5.066161188479339, 4.872568974840052, 4.958514129128957, 6.993719134609313, 4.7455529028045245, 4.919073089971422, 4.658202961901119, 4.657027007035622, 5.493722445129885, 4.548577489337747, 4.336676103553341, 4.797911949108448, 4.320407592731099, 4.2999514547770294, 5.954634437624309, 8.027669163974252, 8.700724651355241, 7.920268665085033, 7.061801927076066, 6.595080168077065, 13.651606647428375, 14.833305606709969, 8.026325688895913, 9.202763263716289, 10.245723954851742, 14.656657422877853, 180.4764007761569, 12.531627888632398, 19.334219055881785, 17.17121311469497, 20.998828499125516, 9.699480935234174, 79.72646140586826, 121.93870480392833, 102.30191288654746, 86.02757037133219, 70.18129273984984, 58.93922419919916, 20.21923752876618, 68.39944514282902, 66.03691537280997, 73.70272535621, 53.08216005017204, 79.9977595277952, 53.957312283925006, 78.77688390286963, 38.956169251142526, 63.15914316730054, 55.83307948845163, 57.30350626521731, 36.35569402935621, 65.70889661401827, 55.71162839139173, 59.2823470438351, 43.811646478986425, 59.04288218308647, 49.22665645200635, 45.43958023337989, 41.829916413605474, 71.08930328658664, 61.50718697537961, 39.900705035619254, 52.94912592438597, 8.199509427660415, 7.065168503433582, 6.719956222853886, 7.346726376574802, 7.516239553392509, 6.6867153802160315, 6.359974476295794, 6.272923125917399, 6.106587013254908, 6.008884455489069, 5.713721144507572, 5.9701456063502905, 5.522519821409384, 5.698582380695493, 5.428292486616753, 5.41037512343331, 5.382288266950033, 5.3699911949515355, 5.362496726940527, 5.666548722133985, 5.218514092108736, 6.2403028566383565, 7.5151806357654305, 5.657991275295462, 4.862589313703103, 4.840676339112528, 5.424905689319899, 4.769813460278778, 4.721712551539311, 4.700720712150318, 6.516046996410581, 7.206239440827462, 6.736184070243204, 13.537651384053449, 7.749467124215928, 6.331060068409738, 7.636127221979011, 10.164351213743132, 12.103836064901298, 24.048673716486345, 102.30191288654746, 180.4764007761569, 86.02757037133219, 19.934806219893545, 121.93870480392833, 52.94912592438597, 59.2823470438351, 71.08930328658664, 70.18129273984984, 57.46939664246231, 31.48702092500468, 79.72646140586826, 73.70272535621, 65.70889661401827, 37.97913684487366, 35.55838387256392, 19.76650172973133, 66.03691537280997, 78.77688390286963, 79.9977595277952, 58.93922419919916, 57.30350626521731, 53.452171787035226, 39.00431447080686, 50.71863492565631, 31.854470866214466, 63.15914316730054, 53.957312283925006, 39.97419109525406, 55.83307948845163, 68.39944514282902, 49.22665645200635, 6.475209182514792, 6.375106577945077, 6.4539958523417065, 5.816173058661829, 7.007163488116105, 5.543991388090862, 5.495959063368216, 5.507819288772167, 5.451725191937742, 5.210218825731398, 5.314161040130813, 5.39974541566471, 5.075244291456976, 5.092687129004819, 5.102202339307942, 5.01055588915367, 5.489390560231184, 5.667701043119491, 5.17902798045579, 6.212960560704513, 4.904485136015447, 4.932209342512141, 4.9295645167536515, 4.788461739210248, 4.745596131204696, 4.884616513520607, 4.6254120232956595, 4.600169802133895, 4.596838882300012, 4.787503165989822, 7.272868688751322, 5.825291848912662, 5.822109608115303, 6.824463322706532, 9.441867352946296, 6.725696347439464, 7.784006292156501, 8.600862359656944, 14.512152476924978, 14.053684940394303, 61.50718697537961, 121.93870480392833, 32.143683711275926, 19.197418763992275, 78.77688390286963, 13.640720159531693, 68.39944514282902, 70.18129273984984, 180.4764007761569, 79.9977595277952, 102.30191288654746, 71.08930328658664, 73.70272535621, 52.94912592438597, 31.20129964209304, 26.91365617849082, 86.02757037133219, 57.30350626521731, 63.15914316730054, 26.510383740825382, 32.01298241312838, 57.46939664246231, 34.177768924195625, 36.460588689192114, 79.72646140586826, 66.03691537280997, 59.04288218308647, 58.93922419919916, 55.83307948845163, 39.900705035619254, 50.71863492565631, 53.452171787035226, 65.70889661401827, 59.2823470438351], \"Category\": [\"Default\", \"Default\", \"Default\", \"Default\", \"Default\", \"Default\", \"Default\", \"Default\", \"Default\", \"Default\", \"Default\", \"Default\", \"Default\", \"Default\", \"Default\", \"Default\", \"Default\", \"Default\", \"Default\", \"Default\", \"Default\", \"Default\", \"Default\", \"Default\", \"Default\", \"Default\", \"Default\", \"Default\", \"Default\", \"Default\", \"Topic1\", \"Topic1\", \"Topic1\", \"Topic1\", \"Topic1\", \"Topic1\", \"Topic1\", \"Topic1\", \"Topic1\", \"Topic1\", \"Topic1\", \"Topic1\", \"Topic1\", \"Topic1\", \"Topic1\", \"Topic1\", \"Topic1\", \"Topic1\", \"Topic1\", \"Topic1\", \"Topic1\", \"Topic1\", \"Topic1\", \"Topic1\", \"Topic1\", \"Topic1\", \"Topic1\", \"Topic1\", \"Topic1\", \"Topic1\", \"Topic1\", \"Topic1\", \"Topic1\", \"Topic1\", \"Topic1\", \"Topic1\", \"Topic1\", \"Topic1\", \"Topic1\", \"Topic1\", \"Topic1\", \"Topic1\", \"Topic1\", \"Topic1\", \"Topic1\", \"Topic1\", \"Topic1\", \"Topic1\", \"Topic1\", \"Topic1\", \"Topic1\", \"Topic1\", \"Topic1\", \"Topic1\", \"Topic1\", \"Topic1\", \"Topic1\", \"Topic1\", \"Topic1\", \"Topic1\", \"Topic1\", \"Topic1\", \"Topic1\", \"Topic1\", \"Topic1\", \"Topic1\", \"Topic1\", \"Topic1\", \"Topic1\", \"Topic1\", \"Topic1\", \"Topic1\", \"Topic1\", \"Topic2\", \"Topic2\", \"Topic2\", \"Topic2\", \"Topic2\", \"Topic2\", \"Topic2\", \"Topic2\", \"Topic2\", \"Topic2\", \"Topic2\", \"Topic2\", \"Topic2\", \"Topic2\", \"Topic2\", \"Topic2\", \"Topic2\", \"Topic2\", \"Topic2\", \"Topic2\", \"Topic2\", \"Topic2\", \"Topic2\", \"Topic2\", \"Topic2\", \"Topic2\", \"Topic2\", \"Topic2\", \"Topic2\", \"Topic2\", \"Topic2\", \"Topic2\", \"Topic2\", \"Topic2\", \"Topic2\", \"Topic2\", \"Topic2\", \"Topic2\", \"Topic2\", \"Topic2\", \"Topic2\", \"Topic2\", \"Topic2\", \"Topic2\", \"Topic2\", \"Topic2\", \"Topic2\", \"Topic2\", \"Topic2\", \"Topic2\", \"Topic2\", \"Topic2\", \"Topic2\", \"Topic2\", \"Topic2\", \"Topic2\", \"Topic2\", \"Topic2\", \"Topic2\", \"Topic2\", \"Topic2\", \"Topic2\", \"Topic2\", \"Topic2\", \"Topic2\", \"Topic2\", \"Topic2\", \"Topic2\", \"Topic2\", \"Topic2\", \"Topic2\", \"Topic2\", \"Topic2\", \"Topic2\", \"Topic2\", \"Topic2\", \"Topic2\", \"Topic3\", \"Topic3\", \"Topic3\", \"Topic3\", \"Topic3\", \"Topic3\", \"Topic3\", \"Topic3\", \"Topic3\", \"Topic3\", \"Topic3\", \"Topic3\", \"Topic3\", \"Topic3\", \"Topic3\", \"Topic3\", \"Topic3\", \"Topic3\", \"Topic3\", \"Topic3\", \"Topic3\", \"Topic3\", \"Topic3\", \"Topic3\", \"Topic3\", \"Topic3\", \"Topic3\", \"Topic3\", \"Topic3\", \"Topic3\", \"Topic3\", \"Topic3\", \"Topic3\", \"Topic3\", \"Topic3\", \"Topic3\", \"Topic3\", \"Topic3\", \"Topic3\", \"Topic3\", \"Topic3\", \"Topic3\", \"Topic3\", \"Topic3\", \"Topic3\", \"Topic3\", \"Topic3\", \"Topic3\", \"Topic3\", \"Topic3\", \"Topic3\", \"Topic3\", \"Topic3\", \"Topic3\", \"Topic3\", \"Topic3\", \"Topic3\", \"Topic3\", \"Topic3\", \"Topic3\", \"Topic3\", \"Topic3\", \"Topic3\", \"Topic3\", \"Topic3\", \"Topic3\", \"Topic3\", \"Topic3\", \"Topic3\", \"Topic3\", \"Topic3\", \"Topic3\", \"Topic3\", \"Topic3\", \"Topic3\", \"Topic3\", \"Topic3\", \"Topic3\", \"Topic3\", \"Topic4\", \"Topic4\", \"Topic4\", \"Topic4\", \"Topic4\", \"Topic4\", \"Topic4\", \"Topic4\", \"Topic4\", \"Topic4\", \"Topic4\", \"Topic4\", \"Topic4\", \"Topic4\", \"Topic4\", \"Topic4\", \"Topic4\", \"Topic4\", \"Topic4\", \"Topic4\", \"Topic4\", \"Topic4\", \"Topic4\", \"Topic4\", \"Topic4\", \"Topic4\", \"Topic4\", \"Topic4\", \"Topic4\", \"Topic4\", \"Topic4\", \"Topic4\", \"Topic4\", \"Topic4\", \"Topic4\", \"Topic4\", \"Topic4\", \"Topic4\", \"Topic4\", \"Topic4\", \"Topic4\", \"Topic4\", \"Topic4\", \"Topic4\", \"Topic4\", \"Topic4\", \"Topic4\", \"Topic4\", \"Topic4\", \"Topic4\", \"Topic4\", \"Topic4\", \"Topic4\", \"Topic4\", \"Topic4\", \"Topic4\", \"Topic4\", \"Topic4\", \"Topic4\", \"Topic4\", \"Topic4\", \"Topic4\", \"Topic4\", \"Topic4\", \"Topic4\", \"Topic4\", \"Topic4\", \"Topic4\", \"Topic4\", \"Topic4\", \"Topic4\", \"Topic4\", \"Topic5\", \"Topic5\", \"Topic5\", \"Topic5\", \"Topic5\", \"Topic5\", \"Topic5\", \"Topic5\", \"Topic5\", \"Topic5\", \"Topic5\", \"Topic5\", \"Topic5\", \"Topic5\", \"Topic5\", \"Topic5\", \"Topic5\", \"Topic5\", \"Topic5\", \"Topic5\", \"Topic5\", \"Topic5\", \"Topic5\", \"Topic5\", \"Topic5\", \"Topic5\", \"Topic5\", \"Topic5\", \"Topic5\", \"Topic5\", \"Topic5\", \"Topic5\", \"Topic5\", \"Topic5\", \"Topic5\", \"Topic5\", \"Topic5\", \"Topic5\", \"Topic5\", \"Topic5\", \"Topic5\", \"Topic5\", \"Topic5\", \"Topic5\", \"Topic5\", \"Topic5\", \"Topic5\", \"Topic5\", \"Topic5\", \"Topic5\", \"Topic5\", \"Topic5\", \"Topic5\", \"Topic5\", \"Topic5\", \"Topic5\", \"Topic5\", \"Topic5\", \"Topic5\", \"Topic5\", \"Topic5\", \"Topic5\", \"Topic5\", \"Topic5\", \"Topic5\", \"Topic5\", \"Topic5\", \"Topic5\", \"Topic5\", \"Topic5\", \"Topic5\", \"Topic5\", \"Topic5\", \"Topic5\"], \"logprob\": [30.0, 29.0, 28.0, 27.0, 26.0, 25.0, 24.0, 23.0, 22.0, 21.0, 20.0, 19.0, 18.0, 17.0, 16.0, 15.0, 14.0, 13.0, 12.0, 11.0, 10.0, 9.0, 8.0, 7.0, 6.0, 5.0, 4.0, 3.0, 2.0, 1.0, -6.4629, -6.5271, -6.6719, -6.7313, -6.4468, -6.5126, -6.6418, -6.7851, -6.8343, -6.842, -6.8741, -6.8474, -6.8185, -6.921, -6.927, -6.918, -6.8666, -6.9579, -6.9636, -6.8916, -6.9039, -7.0244, -6.9814, -7.0194, -6.9358, -6.9738, -6.6702, -7.0551, -7.0971, -7.1002, -6.7245, -6.7352, -6.7101, -6.8101, -6.1082, -6.7396, -6.5224, -6.3195, -6.5897, -6.8034, -4.7076, -5.489, -6.4446, -6.1572, -5.6697, -6.3642, -5.6716, -5.3753, -5.4665, -5.5974, -5.6065, -5.7352, -5.6346, -5.667, -5.9585, -6.0716, -6.0563, -5.7966, -5.8329, -5.8755, -5.9402, -5.8764, -6.0774, -6.2233, -6.1293, -5.9763, -5.8183, -5.8898, -5.8985, -6.0432, -6.0242, -6.037, -6.068, -6.7167, -6.6691, -6.7758, -6.8442, -6.7487, -6.8974, -6.9304, -6.9583, -6.8068, -6.9148, -7.0192, -7.0205, -6.699, -7.0478, -7.0642, -6.7041, -7.0949, -7.091, -7.104, -7.1046, -7.0562, -7.1071, -7.1138, -6.893, -7.1409, -6.9623, -7.0948, -7.0979, -6.8089, -7.1621, -6.6033, -6.6911, -6.6369, -6.4485, -6.5237, -6.9095, -6.7368, -6.7184, -6.9243, -6.146, -6.6469, -6.3354, -4.5966, -6.3546, -5.4681, -4.9824, -6.7726, -5.5732, -5.7113, -6.1565, -5.3248, -5.4379, -5.5571, -5.722, -5.7581, -5.5793, -6.064, -6.3827, -5.6335, -5.8099, -5.9282, -5.8587, -5.7076, -5.7858, -5.6732, -5.8384, -5.7714, -6.0083, -5.8486, -6.1684, -5.9985, -5.8928, -5.8589, -5.9572, -5.9414, -5.9812, -6.0646, -6.2667, -6.3116, -6.5805, -6.6075, -6.6086, -6.6454, -6.7568, -6.7749, -6.8076, -6.8681, -6.6799, -6.8791, -6.9115, -6.9381, -6.9618, -6.9682, -6.9998, -7.0506, -7.0332, -6.6929, -7.0935, -7.06, -7.1154, -7.1204, -6.9582, -7.1504, -7.2017, -7.101, -7.2066, -7.2153, -6.8915, -6.5992, -6.5274, -6.6306, -6.7538, -6.8201, -6.2092, -6.1869, -6.7034, -6.6155, -6.5541, -6.3209, -4.7062, -6.4259, -6.194, -6.2668, -6.1624, -6.6007, -5.4441, -5.2207, -5.3582, -5.4522, -5.5643, -5.6718, -6.2175, -5.6222, -5.7366, -5.6905, -5.8475, -5.6803, -5.8659, -5.7601, -6.0231, -5.9206, -5.9625, -5.9613, -6.1007, -5.9609, -6.0195, -6.0093, -6.0994, -6.0569, -6.0863, -6.1022, -6.116, -6.0701, -6.0862, -6.1529, -6.1522, -6.4346, -6.5954, -6.6583, -6.5734, -6.5542, -6.6718, -6.7243, -6.741, -6.7689, -6.7944, -6.8495, -6.813, -6.8928, -6.8624, -6.913, -6.9168, -6.9238, -6.9304, -6.9345, -6.881, -6.9669, -6.792, -6.6077, -6.8967, -7.0518, -7.0576, -6.9477, -7.0777, -7.0907, -7.0958, -6.7883, -6.6948, -6.7684, -6.1629, -6.6672, -6.8416, -6.7149, -6.5551, -6.463, -6.0822, -5.2785, -4.9759, -5.4225, -6.2165, -5.2922, -5.7451, -5.6919, -5.6142, -5.6255, -5.7255, -6.0305, -5.5944, -5.6548, -5.7342, -5.9767, -6.0051, -6.2638, -5.753, -5.6881, -5.6826, -5.8104, -5.8353, -5.8762, -6.0021, -5.925, -6.1158, -5.9062, -5.9766, -6.091, -6.0304, -6.0358, -6.0695, -6.6978, -6.7217, -6.7149, -6.8281, -6.6437, -6.8873, -6.8976, -6.8971, -6.911, -6.9646, -6.9455, -6.9358, -6.9983, -6.9971, -6.996, -7.0144, -6.9242, -6.8926, -6.9851, -6.8037, -7.0414, -7.0395, -7.0405, -7.0745, -7.0836, -7.0583, -7.1167, -7.1238, -7.1249, -7.0856, -6.6934, -6.9045, -6.912, -6.7753, -6.5087, -6.8184, -6.7136, -6.657, -6.3142, -6.38, -5.5088, -5.1412, -5.9308, -6.2305, -5.4271, -6.4559, -5.6029, -5.5955, -5.1074, -5.5416, -5.4273, -5.6183, -5.6282, -5.7966, -6.0696, -6.1644, -5.6355, -5.8289, -5.7904, -6.1735, -6.1154, -5.8889, -6.103, -6.0856, -5.8542, -5.9246, -5.9728, -5.9811, -6.0489, -6.1493, -6.109, -6.1061, -6.0911, -6.1131], \"loglift\": [30.0, 29.0, 28.0, 27.0, 26.0, 25.0, 24.0, 23.0, 22.0, 21.0, 20.0, 19.0, 18.0, 17.0, 16.0, 15.0, 14.0, 13.0, 12.0, 11.0, 10.0, 9.0, 8.0, 7.0, 6.0, 5.0, 4.0, 3.0, 2.0, 1.0, 1.4498, 1.4284, 1.4238, 1.4225, 1.4219, 1.4211, 1.4195, 1.408, 1.407, 1.4054, 1.3995, 1.3988, 1.3948, 1.3904, 1.3854, 1.3841, 1.3835, 1.3831, 1.3808, 1.3806, 1.369, 1.3685, 1.367, 1.367, 1.3665, 1.3597, 1.3561, 1.3545, 1.3527, 1.3489, 1.3128, 1.3114, 1.2997, 1.3151, 1.0948, 1.279, 1.1928, 1.1134, 1.2105, 1.2998, 0.0934, 0.3225, 1.0092, 0.7711, 0.2757, 0.898, 0.1349, -0.1821, -0.0978, 0.0172, 0.0116, 0.1423, -0.0045, 0.0296, 0.3757, 0.4566, 0.4239, 0.0544, 0.0855, 0.1493, 0.2079, 0.1001, 0.3935, 0.6345, 0.4167, 0.0941, -0.2763, -0.1185, -0.1658, -0.0253, -0.1041, -0.1227, -0.0595, 1.426, 1.425, 1.4162, 1.4, 1.3962, 1.3902, 1.3855, 1.3811, 1.38, 1.3714, 1.3703, 1.3698, 1.3628, 1.3601, 1.3596, 1.3549, 1.3534, 1.3521, 1.3514, 1.3509, 1.3501, 1.3495, 1.3489, 1.3434, 1.3425, 1.3408, 1.3402, 1.3387, 1.3384, 1.3376, 1.3268, 1.3281, 1.3261, 1.2993, 1.302, 1.3263, 1.2985, 1.2883, 1.3219, 1.1602, 1.2191, 1.0278, 0.2044, 1.0081, 0.5084, 0.2107, 1.2282, 0.3452, 0.4368, 0.7488, 0.044, 0.1042, 0.1757, 0.2523, 0.2598, 0.0354, 0.5452, 0.8847, -0.0154, 0.1986, 0.3349, 0.2415, 0.038, 0.1286, -0.0431, 0.1099, -0.0001, 0.3018, 0.0024, 0.5437, 0.1818, -0.0813, -0.1623, 0.0676, -0.0639, -0.1747, 0.1522, 1.4566, 1.4541, 1.4484, 1.443, 1.4342, 1.4209, 1.4197, 1.4134, 1.4115, 1.4007, 1.4005, 1.3933, 1.3925, 1.3862, 1.3821, 1.3809, 1.3743, 1.3625, 1.3624, 1.3587, 1.346, 1.3436, 1.3426, 1.3379, 1.3348, 1.3315, 1.3279, 1.3275, 1.3268, 1.3228, 1.3211, 1.3146, 1.3059, 1.2967, 1.2882, 1.2902, 1.1736, 1.1129, 1.2105, 1.1617, 1.1158, 0.9909, 0.0949, 1.0425, 0.8408, 0.8866, 0.7898, 1.1239, 0.174, -0.0275, 0.0106, 0.0898, 0.1813, 0.2483, 0.7725, 0.1491, 0.0699, 0.0062, 0.1773, -0.0657, 0.1425, -0.13, 0.3111, -0.0695, 0.0118, -0.0129, 0.3026, -0.1494, -0.043, -0.095, 0.1174, -0.1385, 0.0139, 0.0781, 0.1471, -0.3374, -0.2087, 0.1574, -0.1249, 1.458, 1.4461, 1.4333, 1.429, 1.4254, 1.4247, 1.4223, 1.4195, 1.4184, 1.409, 1.4043, 1.3969, 1.395, 1.394, 1.3921, 1.3915, 1.3898, 1.3854, 1.3828, 1.3811, 1.3776, 1.3737, 1.3721, 1.3669, 1.3633, 1.362, 1.3579, 1.3567, 1.3538, 1.3532, 1.3341, 1.3269, 1.3208, 1.2283, 1.2819, 1.3096, 1.2489, 1.1226, 1.0402, 0.7344, 0.0903, -0.1749, 0.1195, 0.7877, -0.099, 0.2823, 0.2224, 0.1185, 0.1201, 0.2199, 0.5166, 0.0237, 0.0418, 0.0773, 0.383, 0.4204, 0.7489, 0.0535, -0.058, -0.0679, 0.1098, 0.113, 0.1416, 0.3309, 0.1453, 0.4197, -0.0552, 0.0319, 0.2174, -0.0561, -0.2645, 0.0307, 1.4308, 1.4225, 1.4171, 1.4079, 1.406, 1.3967, 1.3951, 1.3934, 1.3897, 1.3814, 1.3808, 1.3745, 1.374, 1.3717, 1.3711, 1.3707, 1.3696, 1.3693, 1.367, 1.3663, 1.3651, 1.3614, 1.3609, 1.356, 1.3558, 1.3523, 1.3485, 1.3468, 1.3464, 1.3451, 1.3191, 1.3299, 1.3231, 1.3009, 1.2429, 1.2724, 1.231, 1.1878, 1.0075, 0.9738, 0.3687, 0.052, 0.5957, 0.8114, 0.2029, 0.9278, 0.1685, 0.1501, -0.3063, 0.0731, -0.0586, 0.1144, 0.0684, 0.2307, 0.4866, 0.5397, -0.0935, 0.1194, 0.0606, 0.5456, 0.4151, 0.0565, 0.3621, 0.3149, -0.2362, -0.1182, -0.0543, -0.061, -0.0746, 0.161, -0.0386, -0.0882, -0.2797, -0.1988]}, \"token.table\": {\"Topic\": [3, 1, 2, 3, 4, 5, 2, 1, 2, 3, 4, 5, 1, 4, 1, 2, 5, 1, 2, 4, 3, 2, 3, 4, 5, 2, 1, 2, 3, 4, 5, 1, 2, 3, 4, 5, 3, 5, 3, 3, 1, 2, 3, 4, 5, 1, 2, 3, 4, 5, 1, 1, 2, 3, 4, 5, 5, 5, 3, 5, 1, 4, 4, 2, 1, 1, 2, 3, 4, 5, 3, 5, 1, 1, 2, 3, 4, 5, 2, 1, 1, 1, 2, 3, 1, 2, 3, 4, 5, 3, 5, 1, 5, 4, 5, 4, 1, 2, 3, 4, 5, 1, 4, 2, 2, 1, 3, 4, 3, 4, 1, 3, 4, 2, 3, 4, 1, 3, 4, 4, 5, 1, 2, 3, 4, 5, 1, 2, 3, 4, 1, 4, 5, 4, 3, 4, 5, 5, 4, 1, 3, 1, 2, 3, 4, 5, 1, 2, 5, 3, 1, 2, 3, 4, 5, 1, 2, 3, 4, 5, 1, 1, 3, 3, 1, 2, 4, 5, 3, 1, 1, 2, 3, 4, 5, 1, 2, 3, 4, 5, 4, 5, 1, 4, 1, 2, 3, 4, 5, 2, 3, 1, 2, 3, 4, 5, 2, 4, 4, 1, 2, 3, 4, 3, 1, 2, 3, 4, 5, 4, 1, 2, 3, 4, 5, 1, 1, 2, 3, 4, 5, 1, 2, 3, 4, 5, 2, 3, 5, 1, 2, 3, 4, 5, 4, 1, 2, 3, 4, 5, 2, 4, 2, 4, 1, 2, 3, 4, 5, 2, 5, 1, 2, 4, 5, 1, 3, 5, 3, 3, 4, 5, 2, 4, 5, 1, 2, 3, 4, 5, 1, 2, 3, 4, 5, 2, 1, 2, 3, 4, 5, 1, 2, 3, 4, 5, 1, 2, 3, 4, 5, 5, 2, 1, 2, 3, 4, 5, 4, 1, 2, 2, 1, 2, 3, 4, 5, 1, 2, 3, 2, 5, 3, 5, 4, 2, 4, 4, 2, 2, 5, 1, 2, 3, 4, 5, 3, 1, 3, 4, 5, 1, 3, 3, 3, 1, 2, 3, 4, 5, 3, 4, 5, 2, 1, 2, 3, 4, 5, 1, 2, 3, 4, 5, 1, 2, 3, 4, 5, 1, 2, 4, 5, 2, 1, 2, 3, 4, 5, 1, 2, 3, 4, 5, 5, 1, 2, 3, 4, 5, 1, 4, 2, 5, 2, 1, 2, 3, 4, 5, 2, 1, 2, 3, 4, 5, 1, 1, 2, 3, 4, 5, 1, 2, 4, 5, 1, 3, 5, 4, 5, 1, 2, 3, 4, 5, 1, 1, 1, 1, 2, 3, 4, 5, 1, 4, 4, 3, 5, 1, 2, 3, 4, 5, 5, 2, 3, 4, 5, 2, 3, 5, 2, 4, 1, 2, 3, 4, 5, 4, 2, 3, 4, 5, 3, 2, 1, 3, 1, 2, 3, 5, 3, 5, 1, 3, 5, 5, 1, 2, 4, 5, 2, 1, 2, 1, 2, 4, 5, 1, 5, 2, 2, 4, 1, 2, 3, 4, 4, 1, 2, 3, 4, 5, 1, 3, 5, 5, 2, 4, 5, 5, 2, 4, 5, 1, 2, 3, 4, 5, 1, 2, 3, 4, 5, 1, 1, 2, 3, 4, 1, 2, 3, 3, 4, 1, 2, 3, 4, 5, 1, 3, 4, 5, 1, 2, 3, 4, 5, 1, 2, 3, 4, 5, 2, 3, 5, 1, 2, 3, 4, 5, 1, 2, 3, 4, 3, 4, 1, 2, 2, 3, 4, 2, 4, 3, 1, 5, 1, 2, 3, 4, 5, 1, 2, 2, 5, 1, 2, 3, 4, 5, 3, 4, 5, 1, 2, 3, 4, 5, 5, 1, 2, 3, 4, 5, 4, 5, 1, 2, 3, 4, 5, 5, 2, 4, 3, 2, 1, 2, 3, 5, 1, 2, 4, 5, 1, 2, 3, 4, 5, 4, 4, 1, 2, 3, 4, 5, 1, 2, 3, 4, 5, 1, 2, 3, 4, 5, 1, 2, 3, 4, 5, 5, 3, 2, 3, 1, 2, 3, 4, 5, 3, 5, 4, 1, 2, 3, 4, 5, 1, 2, 4, 5, 3, 4, 3, 1, 2, 3, 4, 5, 1, 2, 3, 4, 5, 1, 2], \"Freq\": [0.766077065469571, 0.06527201456501297, 0.4569041019550908, 0.2610880582600519, 0.06527201456501297, 0.13054402913002594, 0.8666387162185966, 0.2031052665110198, 0.19041118735408105, 0.17771710819714231, 0.19041118735408105, 0.241187503981836, 0.15346727863547613, 0.7673363931773807, 0.8180745253017309, 0.5118110248183156, 0.4386951641299848, 0.8661911512781895, 0.13876863351700874, 0.6938431675850437, 0.6595468598770177, 0.2068870735579638, 0.4654959155054185, 0.2068870735579638, 0.15516530516847282, 0.7847881017448093, 0.14981590060204777, 0.3370857763546075, 0.29963180120409555, 0.11236192545153584, 0.11236192545153584, 0.1351796142982109, 0.3379490357455272, 0.20276942144731633, 0.1689745178727636, 0.1351796142982109, 0.856906000103582, 0.788139401828025, 0.7512086307938223, 0.8828852437442912, 0.31163607444438346, 0.24930885955550677, 0.15581803722219173, 0.09349082233331504, 0.1869816446666301, 0.187083137423155, 0.261916392392417, 0.1309581961962085, 0.224499764907786, 0.187083137423155, 0.8516042097164903, 0.06890776551514657, 0.13781553103029315, 0.06890776551514657, 0.13781553103029315, 0.5512621241211726, 0.8155800026034378, 0.7286783398103743, 0.1374973264052826, 0.6874866320264129, 0.889521034055255, 0.127074433436465, 0.8750864582893321, 0.8298059286577523, 0.791782381978517, 0.15405071886772853, 0.24207970107785912, 0.22007245552532648, 0.17605796442026117, 0.1980652099727938, 0.14868348916476276, 0.7434174458238137, 0.7135141160987698, 0.2058292647442137, 0.2058292647442137, 0.1899962443792742, 0.1899962443792742, 0.2058292647442137, 0.8574899267419304, 0.8641525100085713, 0.7130402596470901, 0.12661992185920945, 0.7597195311552567, 0.12661992185920945, 0.25114214056793427, 0.12557107028396713, 0.1883566054259507, 0.3139276757099178, 0.12557107028396713, 0.6229500513438286, 0.24918002053753147, 0.8364236853668425, 0.13940394756114044, 0.17166521883133773, 0.6866608753253509, 0.8321012056460063, 0.03204994700448055, 0.22434962903136388, 0.2563995760358444, 0.16024973502240278, 0.32049947004480556, 0.691640809057293, 0.1383281618114586, 0.7230943838877792, 0.8404897776213105, 0.11493295559516852, 0.6895977335710111, 0.11493295559516852, 0.1579514313866215, 0.7897571569331076, 0.12625834328175076, 0.7575500596905046, 0.12625834328175076, 0.8563920887105149, 0.6717456868092578, 0.16793642170231446, 0.7664867468474371, 0.8914805056130557, 0.8187879725855115, 0.745921201201763, 0.8647878242747234, 0.20068619273778932, 0.20068619273778932, 0.2383148538761248, 0.20068619273778932, 0.16305753159945383, 0.09524340846363352, 0.1428651126954503, 0.42859533808635086, 0.2857302253909006, 0.7422786020971962, 0.8928629593738441, 0.783975180518332, 0.7393202705437705, 0.8589170717620885, 0.8166902770642352, 0.7215018422634034, 0.8701631931025205, 0.8774111991322597, 0.8335739716780312, 0.11908199595400445, 0.16868427953106693, 0.21928956339038702, 0.18555270748417363, 0.2530264192966004, 0.16868427953106693, 0.8045143002443375, 0.6920877735816636, 0.1384175547163327, 0.6976822951494374, 0.12474700415363771, 0.12474700415363771, 0.12474700415363771, 0.4158233471787924, 0.24949400830727542, 0.0976016926091847, 0.0976016926091847, 0.5856101556551082, 0.1952033852183694, 0.0976016926091847, 0.8695517342488779, 0.7348869371878513, 0.8385944006398379, 0.8882956827136216, 0.8718519502510178, 0.13306400051662215, 0.7983840030997329, 0.7843006134670265, 0.8099976602258194, 0.870959901930368, 0.22714567928132054, 0.16657349813963507, 0.21200263399589916, 0.21200263399589916, 0.18171654342505644, 0.22761567693876142, 0.1950991516617955, 0.1625826263848296, 0.13006610110786368, 0.2926487274926933, 0.7665017147407281, 0.7677220734464045, 0.6856110206548024, 0.13712220413096046, 0.18572477741516866, 0.2052747539851864, 0.2052747539851864, 0.21504974227019527, 0.18572477741516866, 0.6795064657862249, 0.13590129315724497, 0.41845796783238104, 0.13948598927746034, 0.18598131903661377, 0.13948598927746034, 0.09299065951830689, 0.6844093345873352, 0.11406822243122254, 0.8509333451061853, 0.7792774978353046, 0.10866301472109985, 0.6519780883265991, 0.10866301472109985, 0.7700562263658413, 0.2023625654499851, 0.10118128272499255, 0.15177192408748882, 0.4047251308999702, 0.15177192408748882, 0.8471502566787917, 0.3172397682491126, 0.06344795364982252, 0.19034386094946754, 0.25379181459929007, 0.19034386094946754, 0.7346872715107893, 0.13165122789447725, 0.2106419646311636, 0.13165122789447725, 0.28963270136784997, 0.23697221021005907, 0.11146757542357162, 0.2600910093216671, 0.22293515084714324, 0.07431171694904774, 0.3344027262707149, 0.7851386295985553, 0.13085643826642587, 0.13085643826642587, 0.19783139667404107, 0.1483735475055308, 0.44512064251659245, 0.19783139667404107, 0.049457849168510266, 0.7069646815231468, 0.2610084823635851, 0.1392045239272454, 0.1392045239272454, 0.24360791687267944, 0.20880678589086807, 0.8166968669104121, 0.8537096105269467, 0.1290411306959609, 0.7742467841757655, 0.09974167939521739, 0.21373217013260867, 0.2422297928169565, 0.2279809814747826, 0.2279809814747826, 0.815364313378773, 0.7407756647926333, 0.10591125278708285, 0.10591125278708285, 0.10591125278708285, 0.7413787695095799, 0.7113349961415575, 0.14226699922831149, 0.14226699922831149, 0.7361597597010776, 0.12846854980161604, 0.12846854980161604, 0.6423427490080801, 0.3679669877615165, 0.1471867951046066, 0.4415603853138198, 0.18533169234560273, 0.24093120004928353, 0.22239803081472326, 0.203864861580163, 0.1297321846419219, 0.22555992411576997, 0.15037328274384665, 0.22555992411576997, 0.17543549653448776, 0.22555992411576997, 0.735455939859289, 0.16734434586924493, 0.2868760214901342, 0.23906335124177847, 0.16734434586924493, 0.1434380107450671, 0.21688280877677146, 0.17744957081735846, 0.17744957081735846, 0.23659942775647796, 0.19716618979706496, 0.20000560133738252, 0.21250595142096892, 0.1875052512537961, 0.1875052512537961, 0.21250595142096892, 0.7721758261496253, 0.7625821369973044, 0.2153948887599591, 0.34104190720326855, 0.19744531469662918, 0.1435965925066394, 0.10769744437997955, 0.8973015387722626, 0.667186087681087, 0.22239536256036233, 0.8503750555606839, 0.21941499815584195, 0.2468418729253222, 0.08228062430844073, 0.16456124861688146, 0.2742687476948025, 0.21538388163562164, 0.574357017694991, 0.14358925442374776, 0.14653166889662575, 0.7326583444831287, 0.17175904737453299, 0.6870361894981319, 0.8823713066243667, 0.7201743930003249, 0.14403487860006498, 0.7373400071958607, 0.744864000955436, 0.6879839209842132, 0.1719959802460533, 0.07115571497733768, 0.07115571497733768, 0.2846228599093507, 0.07115571497733768, 0.4980900048413638, 0.8066932746045566, 0.13483171270301902, 0.6067427071635857, 0.20224756905452856, 0.06741585635150951, 0.7047924443343266, 0.14095848886686532, 0.8587002397095014, 0.8503487539009368, 0.20352028948053194, 0.17638425088312767, 0.20352028948053194, 0.20352028948053194, 0.21708830877923407, 0.13095643523613737, 0.6547821761806869, 0.13095643523613737, 0.8017696011169522, 0.16251357651721926, 0.2640845618404813, 0.2031419706465241, 0.2031419706465241, 0.16251357651721926, 0.1511143455974216, 0.22085942818084697, 0.22085942818084697, 0.22085942818084697, 0.18598688688913428, 0.22606465126245567, 0.2072259303239177, 0.24490337220099365, 0.15070976750830378, 0.16954848844684176, 0.21992973720699763, 0.1466198248046651, 0.1466198248046651, 0.5131693868163278, 0.8460320773063685, 0.22017895331884735, 0.2879263235708004, 0.16936842562988258, 0.13549474050390606, 0.18630526819287083, 0.12215657393811057, 0.22686220874220533, 0.19196033047417374, 0.22686220874220533, 0.22686220874220533, 0.8188974485362381, 0.22163562564399544, 0.24379918820839497, 0.22163562564399544, 0.1662267192329966, 0.14960404730969692, 0.7415714027842479, 0.7368799691361227, 0.16095386253129634, 0.8047693126564817, 0.8627337273838956, 0.18860534230216044, 0.11316320538129626, 0.26404747922302463, 0.11316320538129626, 0.3394896161438888, 0.7830918984017049, 0.1611947627187846, 0.2507474086736649, 0.19701582110073673, 0.19701582110073673, 0.17910529190976066, 0.7581562299413008, 0.18175797685734416, 0.40895544792902433, 0.09087898842867208, 0.1363184826430081, 0.1363184826430081, 0.14773611339673598, 0.14773611339673598, 0.6648125102853119, 0.07386805669836799, 0.15162817956943367, 0.7581408978471683, 0.7747138539275398, 0.8375005116594859, 0.7278074588766292, 0.2739355083944584, 0.18262367226297224, 0.16740503290772457, 0.21306095097346764, 0.15218639355247687, 0.8235363040418242, 0.8403805078057918, 0.7638099981882053, 0.15618663501809577, 0.1874239620217149, 0.15618663501809577, 0.21866128902533405, 0.31237327003619153, 0.7527549326192227, 0.15055098652384455, 0.7448801785299948, 0.8196574840697443, 0.7983146158810012, 0.29702800634109433, 0.20791960443876603, 0.11881120253643773, 0.1782168038046566, 0.20791960443876603, 0.7527058306651423, 0.14160691709092574, 0.7080345854546287, 0.14160691709092574, 0.14160691709092574, 0.7033239639351483, 0.14066479278702965, 0.14066479278702965, 0.6606230416875817, 0.743178328920437, 0.0582370036013477, 0.0582370036013477, 0.4658960288107816, 0.2911850180067385, 0.1164740072026954, 0.7861666770260567, 0.14650290267312607, 0.6592630620290673, 0.07325145133656304, 0.14650290267312607, 0.833695999932488, 0.8226205729859449, 0.8684570315221704, 0.8705571648576512, 0.31919236954270336, 0.07979809238567584, 0.5585866466997309, 0.07979809238567584, 0.8209221912823318, 0.8695331198740768, 0.103098300484041, 0.618589802904246, 0.206196600968082, 0.811430702733593, 0.13569818863137406, 0.6106418488411833, 0.06784909431568703, 0.06784909431568703, 0.802454493968519, 0.7695345567105563, 0.15390691134211126, 0.10551888229959228, 0.7386321760971459, 0.10551888229959228, 0.10551888229959228, 0.8926083732000947, 0.8562665920633623, 0.8183577099102746, 0.6875760042285965, 0.17189400105714914, 0.5504750579485763, 0.23591788197796126, 0.07863929399265375, 0.1572785879853075, 0.8226069984417008, 0.2942881502833528, 0.08828644508500584, 0.23543052022668226, 0.23543052022668226, 0.1471440751416764, 0.3411419026684356, 0.5458270442694969, 0.06822838053368711, 0.8109955847824304, 0.23253482225005315, 0.11626741112502657, 0.6976044667501594, 0.8355085858565684, 0.09838306242782212, 0.5902983745669327, 0.29514918728346634, 0.18666186657054537, 0.1555515554754545, 0.09333093328527269, 0.18666186657054537, 0.37332373314109074, 0.1100240308098674, 0.19254205391726797, 0.2750600770246685, 0.19254205391726797, 0.2200480616197348, 0.769537598749084, 0.611973124816569, 0.2447892499266276, 0.0611973124816569, 0.0611973124816569, 0.8965215221566166, 0.6835448165513178, 0.13670896331026355, 0.7149271944961103, 0.14298543889922205, 0.20012912783993275, 0.15009684587994956, 0.22514526881992433, 0.2501614097999159, 0.17511298685994114, 0.08261843556356484, 0.08261843556356484, 0.5783290489449538, 0.2478553066906945, 0.20510551482676803, 0.15382913612007604, 0.15382913612007604, 0.2820200828868061, 0.20510551482676803, 0.20542482931602923, 0.2282498103511436, 0.2282498103511436, 0.18259984828091488, 0.13694988621068616, 0.12456915943767304, 0.7474149566260382, 0.12456915943767304, 0.1041806726512269, 0.2083613453024538, 0.2083613453024538, 0.05209033632561345, 0.468813026930521, 0.21546597593718084, 0.5745759358324822, 0.14364398395812056, 0.07182199197906028, 0.8428944070217997, 0.7982715235961122, 0.17369480946283983, 0.6947792378513593, 0.8391057133647004, 0.7281037656982379, 0.8263308099490382, 0.1602486326342659, 0.8012431631713295, 0.6917740519154499, 0.8510677375299158, 0.705753526794774, 0.15879558793157747, 0.15879558793157747, 0.19055470551789297, 0.34935029344947044, 0.19055470551789297, 0.15733664748508205, 0.7866832374254102, 0.8951367153028542, 0.7262402396088239, 0.10032703493270677, 0.20065406986541354, 0.10032703493270677, 0.45147165719718046, 0.20065406986541354, 0.8593787644360754, 0.10742234555450943, 0.7337126981226753, 0.16401683150693666, 0.24602524726040498, 0.196820197808324, 0.1804185146576303, 0.21322188095901765, 0.8596718064559082, 0.12528221136768863, 0.275620865008915, 0.2004515381883018, 0.22550798046183954, 0.2004515381883018, 0.849236645535641, 0.8428867289607677, 0.3899869567350916, 0.0866637681633537, 0.0866637681633537, 0.2166594204083842, 0.1733275363267074, 0.8353413304414775, 0.7222557974259388, 0.14445115948518775, 0.8131613267049947, 0.7240951527118425, 0.1187475037292238, 0.7124850223753427, 0.1187475037292238, 0.1187475037292238, 0.6128243898311441, 0.10213739830519067, 0.10213739830519067, 0.20427479661038134, 0.519399521073749, 0.06492494013421862, 0.2596997605368745, 0.06492494013421862, 0.12984988026843725, 0.7970765621759095, 0.724307042682406, 0.15108842422487587, 0.15108842422487587, 0.16997447725298537, 0.2644047423935328, 0.2455186893654233, 0.25571335378953686, 0.31964169223692107, 0.10654723074564036, 0.1491661230438965, 0.19178501534215264, 0.18663292823167943, 0.15269966855319225, 0.2544994475886538, 0.2205661879101666, 0.18663292823167943, 0.08777635563789525, 0.2633290669136858, 0.1755527112757905, 0.1755527112757905, 0.29258785212631755, 0.7723457017600381, 0.8452134054331016, 0.6714067674066387, 0.823737609835227, 0.17544001965135936, 0.2046800229265859, 0.23392002620181246, 0.16082001801374607, 0.23392002620181246, 0.789552454251982, 0.7854399649290167, 0.8386072187750115, 0.2823686263678862, 0.2310288761191796, 0.2823686263678862, 0.10267950049741316, 0.12834937562176643, 0.6161366580202796, 0.23105124675760483, 0.07701708225253495, 0.07701708225253495, 0.1484520003569166, 0.742260001784583, 0.6943789296749158, 0.19685934054503101, 0.16873657761002658, 0.14061381467502215, 0.30935039228504874, 0.19685934054503101, 0.168801766865314, 0.2391358363925282, 0.14066813905442835, 0.22506902248708535, 0.22506902248708535, 0.7993396211232544, 0.8565337254103025], \"Term\": [\"accept\", \"answer\", \"answer\", \"answer\", \"answer\", \"answer\", \"attack\", \"baby\", \"baby\", \"baby\", \"baby\", \"baby\", \"beast\", \"beast\", \"birth\", \"bit\", \"bit\", \"bite\", \"bitter\", \"bitter\", \"blade\", \"blind\", \"blind\", \"blind\", \"blind\", \"block\", \"blood\", \"blood\", \"blood\", \"blood\", \"blood\", \"blue\", \"blue\", \"blue\", \"blue\", \"blue\", \"bomb\", \"boom\", \"bother\", \"bow\", \"boy\", \"boy\", \"boy\", \"boy\", \"boy\", \"break\", \"break\", \"break\", \"break\", \"break\", \"breed\", \"bright\", \"bright\", \"bright\", \"bright\", \"bright\", \"brown\", \"business\", \"bye\", \"bye\", \"calm\", \"calm\", \"candle\", \"captain\", \"cash\", \"change\", \"change\", \"change\", \"change\", \"change\", \"chest\", \"chest\", \"chill\", \"chorus\", \"chorus\", \"chorus\", \"chorus\", \"chorus\", \"cigarette\", \"claim\", \"class\", \"climb\", \"climb\", \"climb\", \"close\", \"close\", \"close\", \"close\", \"close\", \"closer\", \"closer\", \"clothe\", \"clothe\", \"clown\", \"clown\", \"club\", \"cold\", \"cold\", \"cold\", \"cold\", \"cold\", \"comfort\", \"comfort\", \"company\", \"confusion\", \"corner\", \"corner\", \"corner\", \"cos\", \"cos\", \"country\", \"country\", \"country\", \"cowboy\", \"create\", \"create\", \"crew\", \"cure\", \"dad\", \"dan\", \"darling\", \"day\", \"day\", \"day\", \"day\", \"day\", \"death\", \"death\", \"death\", \"death\", \"defeat\", \"deserve\", \"design\", \"difference\", \"direction\", \"dirt\", \"disease\", \"divine\", \"dollar\", \"drag\", \"drag\", \"dream\", \"dream\", \"dream\", \"dream\", \"dream\", \"drip\", \"dust\", \"dust\", \"earn\", \"easy\", \"easy\", \"easy\", \"easy\", \"easy\", \"edge\", \"edge\", \"edge\", \"edge\", \"edge\", \"emotion\", \"enter\", \"erase\", \"eternal\", \"eternity\", \"evening\", \"evening\", \"exist\", \"expect\", \"explain\", \"eye\", \"eye\", \"eye\", \"eye\", \"eye\", \"fall\", \"fall\", \"fall\", \"fall\", \"fall\", \"faster\", \"fat\", \"fault\", \"fault\", \"feel\", \"feel\", \"feel\", \"feel\", \"feel\", \"feelin\", \"feelin\", \"feeling\", \"feeling\", \"feeling\", \"feeling\", \"feeling\", \"fit\", \"fit\", \"flip\", \"float\", \"flower\", \"flower\", \"flower\", \"folk\", \"fool\", \"fool\", \"fool\", \"fool\", \"fool\", \"forest\", \"forget\", \"forget\", \"forget\", \"forget\", \"forget\", \"freak\", \"friend\", \"friend\", \"friend\", \"friend\", \"friend\", \"fuck\", \"fuck\", \"fuck\", \"fuck\", \"fuck\", \"funny\", \"funny\", \"funny\", \"game\", \"game\", \"game\", \"game\", \"game\", \"gim\", \"girl\", \"girl\", \"girl\", \"girl\", \"girl\", \"girlfriend\", \"glass\", \"glory\", \"glory\", \"gon\", \"gon\", \"gon\", \"gon\", \"gon\", \"goodnight\", \"grass\", \"green\", \"green\", \"green\", \"green\", \"grey\", \"grey\", \"grey\", \"grip\", \"guide\", \"guide\", \"guide\", \"hair\", \"hair\", \"hair\", \"hand\", \"hand\", \"hand\", \"hand\", \"hand\", \"hard\", \"hard\", \"hard\", \"hard\", \"hard\", \"hatred\", \"head\", \"head\", \"head\", \"head\", \"head\", \"hear\", \"hear\", \"hear\", \"hear\", \"hear\", \"heart\", \"heart\", \"heart\", \"heart\", \"heart\", \"hip\", \"hoe\", \"hold\", \"hold\", \"hold\", \"hold\", \"hold\", \"hollow\", \"holy\", \"holy\", \"hood\", \"hope\", \"hope\", \"hope\", \"hope\", \"hope\", \"hot\", \"hot\", \"hot\", \"huh\", \"huh\", \"hungry\", \"hungry\", \"idea\", \"imagine\", \"imagine\", \"innocence\", \"joke\", \"judge\", \"judge\", \"kid\", \"kid\", \"kid\", \"kid\", \"kid\", \"kinda\", \"knee\", \"knee\", \"knee\", \"knee\", \"knock\", \"knock\", \"lado\", \"law\", \"leave\", \"leave\", \"leave\", \"leave\", \"leave\", \"letter\", \"letter\", \"letter\", \"lick\", \"lie\", \"lie\", \"lie\", \"lie\", \"lie\", \"life\", \"life\", \"life\", \"life\", \"life\", \"light\", \"light\", \"light\", \"light\", \"light\", \"lip\", \"lip\", \"lip\", \"lip\", \"list\", \"live\", \"live\", \"live\", \"live\", \"live\", \"lose\", \"lose\", \"lose\", \"lose\", \"lose\", \"loss\", \"love\", \"love\", \"love\", \"love\", \"love\", \"lovely\", \"lust\", \"mal\", \"mal\", \"mary\", \"matter\", \"matter\", \"matter\", \"matter\", \"matter\", \"meaning\", \"mind\", \"mind\", \"mind\", \"mind\", \"mind\", \"mister\", \"moment\", \"moment\", \"moment\", \"moment\", \"moment\", \"mother\", \"mother\", \"mother\", \"mother\", \"murder\", \"murder\", \"mystery\", \"nail\", \"neck\", \"night\", \"night\", \"night\", \"night\", \"night\", \"noche\", \"offer\", \"oooh\", \"pain\", \"pain\", \"pain\", \"pain\", \"pain\", \"park\", \"park\", \"person\", \"pill\", \"planet\", \"play\", \"play\", \"play\", \"play\", \"play\", \"pocket\", \"prayer\", \"prayer\", \"prayer\", \"prayer\", \"precious\", \"precious\", \"precious\", \"presence\", \"pressure\", \"pull\", \"pull\", \"pull\", \"pull\", \"pull\", \"pure\", \"push\", \"push\", \"push\", \"push\", \"quit\", \"reflection\", \"refuse\", \"rip\", \"river\", \"river\", \"river\", \"river\", \"rot\", \"row\", \"safe\", \"safe\", \"safe\", \"satisfy\", \"search\", \"search\", \"search\", \"search\", \"seed\", \"shade\", \"shade\", \"shame\", \"shame\", \"shame\", \"shame\", \"shape\", \"shore\", \"siempre\", \"sigh\", \"sigh\", \"sight\", \"sight\", \"sight\", \"sight\", \"situation\", \"sky\", \"sky\", \"sky\", \"sky\", \"sky\", \"slow\", \"slow\", \"slow\", \"society\", \"soft\", \"soft\", \"soft\", \"sol\", \"solo\", \"solo\", \"solo\", \"song\", \"song\", \"song\", \"song\", \"song\", \"soul\", \"soul\", \"soul\", \"soul\", \"soul\", \"south\", \"speak\", \"speak\", \"speak\", \"speak\", \"speed\", \"spell\", \"spell\", \"spit\", \"spit\", \"stand\", \"stand\", \"stand\", \"stand\", \"stand\", \"stare\", \"stare\", \"stare\", \"stare\", \"start\", \"start\", \"start\", \"start\", \"start\", \"stay\", \"stay\", \"stay\", \"stay\", \"stay\", \"steel\", \"steel\", \"steel\", \"step\", \"step\", \"step\", \"step\", \"step\", \"story\", \"story\", \"story\", \"story\", \"stream\", \"strike\", \"string\", \"string\", \"strip\", \"stuff\", \"stumble\", \"style\", \"style\", \"sunny\", \"swing\", \"tale\", \"talk\", \"talk\", \"talk\", \"talk\", \"talk\", \"talkin\", \"talkin\", \"tall\", \"tender\", \"throw\", \"throw\", \"throw\", \"throw\", \"throw\", \"tie\", \"tie\", \"tiempo\", \"time\", \"time\", \"time\", \"time\", \"time\", \"toe\", \"tonight\", \"tonight\", \"tonight\", \"tonight\", \"tonight\", \"tooth\", \"torture\", \"touch\", \"touch\", \"touch\", \"touch\", \"touch\", \"trade\", \"travel\", \"travel\", \"treasure\", \"trick\", \"trip\", \"trip\", \"trip\", \"trip\", \"trouble\", \"trouble\", \"trouble\", \"trouble\", \"trust\", \"trust\", \"trust\", \"trust\", \"trust\", \"valley\", \"voc\", \"wait\", \"wait\", \"wait\", \"wait\", \"wait\", \"walk\", \"walk\", \"walk\", \"walk\", \"walk\", \"wan\", \"wan\", \"wan\", \"wan\", \"wan\", \"watch\", \"watch\", \"watch\", \"watch\", \"watch\", \"weakness\", \"weather\", \"whip\", \"whisper\", \"win\", \"win\", \"win\", \"win\", \"win\", \"wipe\", \"woah\", \"woo\", \"word\", \"word\", \"word\", \"word\", \"word\", \"worth\", \"worth\", \"worth\", \"worth\", \"wound\", \"wound\", \"wrist\", \"wrong\", \"wrong\", \"wrong\", \"wrong\", \"wrong\", \"yeah\", \"yeah\", \"yeah\", \"yeah\", \"yeah\", \"yellow\", \"york\"]}, \"R\": 30, \"lambda.step\": 0.01, \"plot.opts\": {\"xlab\": \"PC1\", \"ylab\": \"PC2\"}, \"topic.order\": [3, 4, 1, 2, 5]};\n",
       "\n",
       "function LDAvis_load_lib(url, callback){\n",
       "  var s = document.createElement('script');\n",
       "  s.src = url;\n",
       "  s.async = true;\n",
       "  s.onreadystatechange = s.onload = callback;\n",
       "  s.onerror = function(){console.warn(\"failed to load library \" + url);};\n",
       "  document.getElementsByTagName(\"head\")[0].appendChild(s);\n",
       "}\n",
       "\n",
       "if(typeof(LDAvis) !== \"undefined\"){\n",
       "   // already loaded: just create the visualization\n",
       "   !function(LDAvis){\n",
       "       new LDAvis(\"#\" + \"ldavis_el66051403162667215686623356640\", ldavis_el66051403162667215686623356640_data);\n",
       "   }(LDAvis);\n",
       "}else if(typeof define === \"function\" && define.amd){\n",
       "   // require.js is available: use it to load d3/LDAvis\n",
       "   require.config({paths: {d3: \"https://cdnjs.cloudflare.com/ajax/libs/d3/3.5.5/d3.min\"}});\n",
       "   require([\"d3\"], function(d3){\n",
       "      window.d3 = d3;\n",
       "      LDAvis_load_lib(\"https://cdn.rawgit.com/bmabey/pyLDAvis/files/ldavis.v1.0.0.js\", function(){\n",
       "        new LDAvis(\"#\" + \"ldavis_el66051403162667215686623356640\", ldavis_el66051403162667215686623356640_data);\n",
       "      });\n",
       "    });\n",
       "}else{\n",
       "    // require.js not available: dynamically load d3 & LDAvis\n",
       "    LDAvis_load_lib(\"https://cdnjs.cloudflare.com/ajax/libs/d3/3.5.5/d3.min.js\", function(){\n",
       "         LDAvis_load_lib(\"https://cdn.rawgit.com/bmabey/pyLDAvis/files/ldavis.v1.0.0.js\", function(){\n",
       "                 new LDAvis(\"#\" + \"ldavis_el66051403162667215686623356640\", ldavis_el66051403162667215686623356640_data);\n",
       "            })\n",
       "         });\n",
       "}\n",
       "</script>"
      ],
      "text/plain": [
       "PreparedData(topic_coordinates=                x           y  topics  cluster       Freq\n",
       "topic                                                    \n",
       "2      150.222153  -72.269554       1        1  20.000017\n",
       "3       51.163364 -159.968018       2        1  20.000009\n",
       "0      -73.144554   21.523815       3        1  20.000001\n",
       "1      -66.410133 -110.606438       4        1  20.000001\n",
       "4       54.417324   12.443444       5        1  19.999973, topic_info=         Term       Freq      Total Category  logprob  loglift\n",
       "4919  whisper   9.000000   9.000000  Default  30.0000  30.0000\n",
       "4523      tie   9.000000   9.000000  Default  29.0000  29.0000\n",
       "4147    speak  16.000000  16.000000  Default  28.0000  28.0000\n",
       "383       bit  13.000000  13.000000  Default  27.0000  27.0000\n",
       "1839    glass   8.000000   8.000000  Default  26.0000  26.0000\n",
       "...       ...        ...        ...      ...      ...      ...\n",
       "1991     hard   9.374307  39.900705   Topic5  -6.1493   0.1610\n",
       "2024     hear   9.759413  50.718635   Topic5  -6.1090  -0.0386\n",
       "493     break   9.787644  53.452172   Topic5  -6.1061  -0.0882\n",
       "2934    night   9.935748  65.708897   Topic5  -6.0911  -0.2797\n",
       "1324    dream   9.719231  59.282347   Topic5  -6.1131  -0.1988\n",
       "\n",
       "[405 rows x 6 columns], token_table=      Topic      Freq    Term\n",
       "term                         \n",
       "14        3  0.766077  accept\n",
       "147       1  0.065272  answer\n",
       "147       2  0.456904  answer\n",
       "147       3  0.261088  answer\n",
       "147       4  0.065272  answer\n",
       "...     ...       ...     ...\n",
       "5015      3  0.140668    yeah\n",
       "5015      4  0.225069    yeah\n",
       "5015      5  0.225069    yeah\n",
       "5021      1  0.799340  yellow\n",
       "5026      2  0.856534    york\n",
       "\n",
       "[679 rows x 3 columns], R=30, lambda_step=0.01, plot_opts={'xlab': 'PC1', 'ylab': 'PC2'}, topic_order=[3, 4, 1, 2, 5])"
      ]
     },
     "execution_count": 12,
     "metadata": {},
     "output_type": "execute_result"
    }
   ],
   "source": [
    "import pyLDAvis\n",
    "import pyLDAvis.sklearn\n",
    "pyLDAvis.enable_notebook()\n",
    "panel = pyLDAvis.sklearn.prepare(lda_model, data_vectorized, vectorizer, mds='tsne')\n",
    "panel"
   ]
  },
  {
   "cell_type": "markdown",
   "metadata": {},
   "source": [
    "## Assemble Playlist"
   ]
  },
  {
   "cell_type": "code",
   "execution_count": 47,
   "metadata": {},
   "outputs": [],
   "source": [
    "def get_playlist_elements(components=range(n_components), feature_names=feature_names,\n",
    "                           sorting=sorting, topics_per_chunk=display_n_chunks, n_words=n_words):\n",
    "    topics_words = []\n",
    "    \n",
    "    for i in range(0, len(components), topics_per_chunk):\n",
    "        # for each chunk:\n",
    "        these_topics = components[i: i + topics_per_chunk]\n",
    "        \n",
    "        for t in these_topics:\n",
    "            \n",
    "            topic_words = []\n",
    "            \n",
    "            for i in range(n_words):\n",
    "                \n",
    "                try:\n",
    "                    #print((\"{:<14}\" * len_this_chunk).format(\n",
    "                    #    *feature_names[sorting[these_topics, i]]))\n",
    "                    topics_words.append({'topic':f'topic{t}','word':feature_names[sorting[these_topics, i]][t]})\n",
    "                except:\n",
    "                    pass\n",
    "        \n",
    "    return topics_words"
   ]
  },
  {
   "cell_type": "code",
   "execution_count": 48,
   "metadata": {},
   "outputs": [],
   "source": [
    "playlist_elements = get_playlist_elements()"
   ]
  },
  {
   "cell_type": "code",
   "execution_count": 49,
   "metadata": {},
   "outputs": [],
   "source": [
    "df_playlist_elements = pd.DataFrame(playlist_elements)"
   ]
  },
  {
   "cell_type": "code",
   "execution_count": 50,
   "metadata": {},
   "outputs": [],
   "source": [
    "list_df_words = df_playlist_elements['word'].tolist()\n",
    "list_df_topics = set(df_playlist_elements['topic'].tolist())"
   ]
  },
  {
   "cell_type": "code",
   "execution_count": 51,
   "metadata": {},
   "outputs": [],
   "source": [
    "def find_lyrics(lyrics,element,track_uri):\n",
    "    \n",
    "    if(lyrics.find(element)!= -1):\n",
    "        \n",
    "        return track_uri\n",
    "    \n",
    "    else:\n",
    "        \n",
    "        return None\n"
   ]
  },
  {
   "cell_type": "code",
   "execution_count": 52,
   "metadata": {},
   "outputs": [],
   "source": [
    "def make_ssp(topics,words):\n",
    "    topics_words = df_playlist_elements.copy()\n",
    "    \n",
    "    df_lyrics = df_demo.copy()\n",
    "    \n",
    "    df_empty = pd.DataFrame()\n",
    "    \n",
    "    ssp = []\n",
    "    \n",
    "    #Set df_demo_ssp to topic number\n",
    "\n",
    "    topics_words = topics_words[(topics_words['topic']== f'topic{topic}')]\n",
    "    \n",
    "    df_demo_ssp_wordset = topics_words['word'].tolist()\n",
    "\n",
    "    for word in df_demo_ssp_wordset:\n",
    "        \n",
    "        df_empty[f'{word}'] = df_lyrics.apply(lambda x: find_lyrics(x['lyrics'],word,x['track_uri']),axis=1)\n",
    "\n",
    "\n",
    "\n",
    "    return df_empty\n"
   ]
  },
  {
   "cell_type": "markdown",
   "metadata": {},
   "source": [
    "## Takes 8 minutes"
   ]
  },
  {
   "cell_type": "code",
   "execution_count": 53,
   "metadata": {},
   "outputs": [],
   "source": [
    "list_ssp = []\n",
    "\n",
    "for topic in range(len(list_df_topics)):\n",
    "    \n",
    "    ssp = make_ssp(topic,list_df_words)\n",
    "\n",
    "    \n",
    "    df_ssp = ssp.dropna(how='all')\n",
    "    \n",
    "    for x in range(100):\n",
    "        \n",
    "        for col in df_ssp.columns:\n",
    "            \n",
    "            df_ssp_col = df_ssp[col].dropna(how='any')\n",
    "            \n",
    "            col_track_uri = df_ssp_col.sample(1).values\n",
    "            \n",
    "            list_ssp.append({'playlist':f'topic{topic}playlist{x}','track_uri':col_track_uri[0]})\n"
   ]
  },
  {
   "cell_type": "code",
   "execution_count": 54,
   "metadata": {},
   "outputs": [],
   "source": [
    "sample_ssp = pd.DataFrame(list_ssp)\n",
    "df_track_ssp = sample_ssp.merge(df_demo,left_on='track_uri',right_on='track_uri')\n",
    "df_agg_ssp = sample_ssp.merge(df_demo,left_on='track_uri',right_on='track_uri').groupby('playlist').median()"
   ]
  },
  {
   "cell_type": "code",
   "execution_count": 55,
   "metadata": {},
   "outputs": [],
   "source": [
    "ssp = df_track_ssp[df_track_ssp['playlist']=='topic0playlist1'].sort_values(by='valence',ascending=True)"
   ]
  },
  {
   "cell_type": "code",
   "execution_count": 56,
   "metadata": {},
   "outputs": [
    {
     "data": {
      "text/plain": [
       "<matplotlib.axes._subplots.AxesSubplot at 0x7fd439e51370>"
      ]
     },
     "execution_count": 56,
     "metadata": {},
     "output_type": "execute_result"
    },
    {
     "data": {
      "image/png": "[encoded data removed]",
      "text/plain": [
       "<Figure size 576x396 with 1 Axes>"
      ]
     },
     "metadata": {},
     "output_type": "display_data"
    }
   ],
   "source": [
    "ssp.plot.line(x='valence',y='energy')"
   ]
  },
  {
   "cell_type": "markdown",
   "metadata": {},
   "source": [
    "## Save SSP"
   ]
  },
  {
   "cell_type": "code",
   "execution_count": null,
   "metadata": {},
   "outputs": [],
   "source": [
    "#df_sample_ssp.to_csv('test_ssp.csv',sep='|',index=True)"
   ]
  },
  {
   "cell_type": "markdown",
   "metadata": {},
   "source": [
    "## Below is Under Development"
   ]
  },
  {
   "cell_type": "code",
   "execution_count": null,
   "metadata": {},
   "outputs": [],
   "source": [
    "## Visualization (Valence Curve, Energy Curve)"
   ]
  },
  {
   "cell_type": "code",
   "execution_count": null,
   "metadata": {},
   "outputs": [],
   "source": [
    "## Create Spotify Playlist"
   ]
  },
  {
   "cell_type": "code",
   "execution_count": 57,
   "metadata": {},
   "outputs": [],
   "source": [
    "import requests\n",
    "import json\n",
    "import pandas as pd\n",
    "import spotipy#authentication\n",
    "import spotipy.util as util#authentication\n",
    "from spotipy.oauth2 import SpotifyClientCredentials#authentication"
   ]
  },
  {
   "cell_type": "code",
   "execution_count": 58,
   "metadata": {},
   "outputs": [],
   "source": [
    "cid = 'f61689bf814a44dab11d7e63d18dc38a'\n",
    "secret = 'a6ec5497f63a40cc84c3da300f152573'\n",
    "redirect_uri = 'http://google.com/'\n",
    "username = 'name'"
   ]
  },
  {
   "cell_type": "code",
   "execution_count": 60,
   "metadata": {},
   "outputs": [
    {
     "name": "stdout",
     "output_type": "stream",
     "text": [
      "Enter the URL you were redirected to: https://www.google.com/?code=AQAbZSJgPWeWr3ATya4yANHIfitDF59D4Q_U5JrWQK7dVwdMp6mkekXjtQiLslorLEvKPPIcyvIKmT54p6vM2wqbQ-BFOCv9nUPpzQyQlAa-Q8IHNHGWqYYBJoFwi6lOdmWfZYfrAanZWBbHIBW44nVWSxfrpj41MQa9UL1FC67Dhiz_3Oc7S2L79kHJpJM\n",
      "Enter the URL you were redirected to: https://www.google.com/?code=AQAK5sX2jLXN8TyZdZVgawdDExsja6TcDXPAAB3FF85ihNIMhiOoofc1W4IKfNLrumEICDOf2TcJ7frgleFESsj78rXn8_ipg3OQb9THqCq0KzUlQbRS_-PEgafImALDBWoZL432SSLHQvF9s3-txOlI8_I6hB_qx3sv6S7UudwW-CASGr_-Ecw\n"
     ]
    }
   ],
   "source": [
    "#Authentication\n",
    "\n",
    "scope = 'playlist-modify-private'\n",
    "token_playlist = util.prompt_for_user_token(username, scope, client_id=cid, client_secret=secret, redirect_uri=redirect_uri)\n",
    "\n",
    "if token_playlist:\n",
    "    \n",
    "    sp_playlist = spotipy.Spotify(auth=token_playlist)\n",
    "\n",
    "else:\n",
    "    \n",
    "    print(\"Can't get token for\", username)\n",
    "    \n",
    "#Authentication\n",
    "\n",
    "scope = 'user-read-private'\n",
    "\n",
    "token_user = util.prompt_for_user_token(username, scope, client_id=cid, client_secret=secret, redirect_uri=redirect_uri)\n",
    "\n",
    "if token_user:\n",
    "    sp_user = spotipy.Spotify(auth=token_user)\n",
    "else:\n",
    "    print(\"Can't get token for\", username)"
   ]
  },
  {
   "cell_type": "code",
   "execution_count": 61,
   "metadata": {},
   "outputs": [],
   "source": [
    "def get_user_id(url):\n",
    "    try:\n",
    "        resp = requests.get(url,headers={'Authorization': 'Bearer ' + token_user},\n",
    "                             #data={\"name\": \"SSP\"}\n",
    "                           )\n",
    "        \n",
    "        resp.raise_for_status()\n",
    "        \n",
    "    except requests.exceptions.HTTPError as err:\n",
    "        \n",
    "        print(err)\n",
    "        \n",
    "    \n",
    "    response = resp.json()\n",
    "    userid = response['id']\n",
    "    \n",
    "    return userid\n"
   ]
  },
  {
   "cell_type": "code",
   "execution_count": 62,
   "metadata": {},
   "outputs": [],
   "source": [
    "user_id = get_user_id('https://api.spotify.com/v1/me')"
   ]
  },
  {
   "cell_type": "code",
   "execution_count": 63,
   "metadata": {},
   "outputs": [
    {
     "data": {
      "text/plain": [
       "'31tabw4566sgjjakrw5afmpspdv4'"
      ]
     },
     "execution_count": 63,
     "metadata": {},
     "output_type": "execute_result"
    }
   ],
   "source": [
    "identification = user_id\n",
    "identification"
   ]
  },
  {
   "cell_type": "code",
   "execution_count": 64,
   "metadata": {},
   "outputs": [],
   "source": [
    "playlist = sp_playlist.user_playlist_create(identification,'SSP_Ideal', public=False, description=\"Ideal SSP\")"
   ]
  },
  {
   "cell_type": "code",
   "execution_count": 65,
   "metadata": {},
   "outputs": [
    {
     "data": {
      "text/plain": [
       "{'collaborative': False,\n",
       " 'description': 'Ideal SSP',\n",
       " 'external_urls': {'spotify': 'https://open.spotify.com/playlist/6LjNikHiHi6EL8u10ehEDf'},\n",
       " 'followers': {'href': None, 'total': 0},\n",
       " 'href': 'https://api.spotify.com/v1/playlists/6LjNikHiHi6EL8u10ehEDf',\n",
       " 'id': '6LjNikHiHi6EL8u10ehEDf',\n",
       " 'images': [],\n",
       " 'name': 'SSP_Ideal',\n",
       " 'owner': {'display_name': 'Patricia Merino',\n",
       "  'external_urls': {'spotify': 'https://open.spotify.com/user/31tabw4566sgjjakrw5afmpspdv4'},\n",
       "  'href': 'https://api.spotify.com/v1/users/31tabw4566sgjjakrw5afmpspdv4',\n",
       "  'id': '31tabw4566sgjjakrw5afmpspdv4',\n",
       "  'type': 'user',\n",
       "  'uri': 'spotify:user:31tabw4566sgjjakrw5afmpspdv4'},\n",
       " 'primary_color': None,\n",
       " 'public': False,\n",
       " 'snapshot_id': 'MSxkOWYzMmM5NzRjOTZjM2MzMTExN2ZhMTM3MTIwYTgxYjkxMGFhZjgy',\n",
       " 'tracks': {'href': 'https://api.spotify.com/v1/playlists/6LjNikHiHi6EL8u10ehEDf/tracks',\n",
       "  'items': [],\n",
       "  'limit': 100,\n",
       "  'next': None,\n",
       "  'offset': 0,\n",
       "  'previous': None,\n",
       "  'total': 0},\n",
       " 'type': 'playlist',\n",
       " 'uri': 'spotify:playlist:6LjNikHiHi6EL8u10ehEDf'}"
      ]
     },
     "execution_count": 65,
     "metadata": {},
     "output_type": "execute_result"
    }
   ],
   "source": [
    "playlist"
   ]
  },
  {
   "cell_type": "code",
   "execution_count": 66,
   "metadata": {},
   "outputs": [],
   "source": [
    "playlist_tracks = sp_playlist.user_playlist_add_tracks(identification,playlist['id'],ssp['track_uri'], position=None)"
   ]
  },
  {
   "cell_type": "markdown",
   "metadata": {},
   "source": [
    "## End"
   ]
  },
  {
   "cell_type": "markdown",
   "metadata": {},
   "source": [
    "## Sample Topic Analysis Code"
   ]
  },
  {
   "cell_type": "markdown",
   "metadata": {},
   "source": [
    "def display_topics(model, feature_names, no_top_words):\n",
    "    for topic_idx, topic in enumerate(model.components_):\n",
    "        print(\"Topic {i}:\".format(i=topic_idx))\n",
    "        print(\" \".join([feature_names[i]\n",
    "                        for i in topic.argsort()[:-no_top_words - 1:-1]]))\n",
    "#How many words per topic\n",
    "no_top_words = 4\n",
    "display_topics(nmf, tfidf_feature_names, no_top_words)"
   ]
  }
 ],
 "metadata": {
  "kernelspec": {
   "display_name": "Python 3",
   "language": "python",
   "name": "python3"
  },
  "language_info": {
   "codemirror_mode": {
    "name": "ipython",
    "version": 3
   },
   "file_extension": ".py",
   "mimetype": "text/x-python",
   "name": "python",
   "nbconvert_exporter": "python",
   "pygments_lexer": "ipython3",
   "version": "3.8.2"
  }
 },
 "nbformat": 4,
 "nbformat_minor": 2
}
