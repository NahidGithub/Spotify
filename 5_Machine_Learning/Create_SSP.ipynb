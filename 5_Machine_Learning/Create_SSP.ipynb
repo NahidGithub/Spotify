{
 "cells": [
  {
   "cell_type": "markdown",
   "metadata": {},
   "source": [
    "## Entire Notebook Runtime = 10 minutes"
   ]
  },
  {
   "cell_type": "code",
   "execution_count": 1,
   "metadata": {},
   "outputs": [
    {
     "name": "stderr",
     "output_type": "stream",
     "text": [
      "/Users/adamgoldstein/opt/anaconda3/lib/python3.7/site-packages/sklearn/utils/deprecation.py:144: FutureWarning: The sklearn.metrics.classification module is  deprecated in version 0.22 and will be removed in version 0.24. The corresponding classes / functions should instead be imported from sklearn.metrics. Anything that cannot be imported from sklearn.metrics is now part of the private API.\n",
      "  warnings.warn(message, FutureWarning)\n"
     ]
    }
   ],
   "source": [
    "import pandas as pd\n",
    "import numpy as np\n",
    "from sklearn.feature_extraction.text import TfidfVectorizer,CountVectorizer\n",
    "import sklearn\n",
    "import yellowbrick\n",
    "import re\n",
    "import mglearn\n",
    "import boto3\n",
    "from s3 import get_file"
   ]
  },
  {
   "cell_type": "code",
   "execution_count": 2,
   "metadata": {},
   "outputs": [],
   "source": [
    "s3 = boto3.resource('s3')\n",
    "lyrics = get_file(s3,'s3ssp',download_file='NLP_Data/master_lyrics_audio_features.csv',rename_file='nlp.csv')"
   ]
  },
  {
   "cell_type": "code",
   "execution_count": 3,
   "metadata": {},
   "outputs": [],
   "source": [
    "df = pd.read_csv(lyrics,sep='|',encoding='utf-8')\n",
    "df_demo = df.copy().dropna()"
   ]
  },
  {
   "cell_type": "code",
   "execution_count": 4,
   "metadata": {},
   "outputs": [
    {
     "data": {
      "text/html": [
       "<div>\n",
       "<style scoped>\n",
       "    .dataframe tbody tr th:only-of-type {\n",
       "        vertical-align: middle;\n",
       "    }\n",
       "\n",
       "    .dataframe tbody tr th {\n",
       "        vertical-align: top;\n",
       "    }\n",
       "\n",
       "    .dataframe thead th {\n",
       "        text-align: right;\n",
       "    }\n",
       "</style>\n",
       "<table border=\"1\" class=\"dataframe\">\n",
       "  <thead>\n",
       "    <tr style=\"text-align: right;\">\n",
       "      <th></th>\n",
       "      <th>artist_name</th>\n",
       "      <th>track_name</th>\n",
       "      <th>track_uri</th>\n",
       "      <th>lyrics</th>\n",
       "      <th>acousticness</th>\n",
       "      <th>danceability</th>\n",
       "      <th>energy</th>\n",
       "      <th>valence</th>\n",
       "      <th>instrumentalness</th>\n",
       "      <th>key</th>\n",
       "      <th>mode</th>\n",
       "      <th>liveness</th>\n",
       "      <th>speechiness</th>\n",
       "      <th>time_signature</th>\n",
       "      <th>tempo</th>\n",
       "      <th>loudness</th>\n",
       "    </tr>\n",
       "  </thead>\n",
       "  <tbody>\n",
       "    <tr>\n",
       "      <th>29119</th>\n",
       "      <td>Busted</td>\n",
       "      <td>what i go to school for</td>\n",
       "      <td>0ry4PIGojYuLSp5Jaj0iMU</td>\n",
       "      <td>Her voice echoed mind I count days Ca n't frie...</td>\n",
       "      <td>0.000346</td>\n",
       "      <td>0.578</td>\n",
       "      <td>0.891</td>\n",
       "      <td>0.65</td>\n",
       "      <td>0.0</td>\n",
       "      <td>9.0</td>\n",
       "      <td>1.0</td>\n",
       "      <td>0.142</td>\n",
       "      <td>0.026</td>\n",
       "      <td>4.0</td>\n",
       "      <td>107.001</td>\n",
       "      <td>-4.595</td>\n",
       "    </tr>\n",
       "  </tbody>\n",
       "</table>\n",
       "</div>"
      ],
      "text/plain": [
       "      artist_name               track_name               track_uri  \\\n",
       "29119      Busted  what i go to school for  0ry4PIGojYuLSp5Jaj0iMU   \n",
       "\n",
       "                                                  lyrics  acousticness  \\\n",
       "29119  Her voice echoed mind I count days Ca n't frie...      0.000346   \n",
       "\n",
       "       danceability  energy  valence  instrumentalness  key  mode  liveness  \\\n",
       "29119         0.578   0.891     0.65               0.0  9.0   1.0     0.142   \n",
       "\n",
       "       speechiness  time_signature    tempo  loudness  \n",
       "29119        0.026             4.0  107.001    -4.595  "
      ]
     },
     "execution_count": 4,
     "metadata": {},
     "output_type": "execute_result"
    }
   ],
   "source": [
    "df_demo.sample()"
   ]
  },
  {
   "cell_type": "code",
   "execution_count": 5,
   "metadata": {},
   "outputs": [],
   "source": [
    "#Control Panel - Hyper Parameters\n",
    "\n",
    "#Count Vectorizer\n",
    "max_features = 100 #500\n",
    "max_df = .10\n",
    "\n",
    "\n",
    "\n",
    "#LDA\n",
    "n_components = 5  #10\n",
    "\n",
    "\n",
    "#LDA Display\n",
    "display_n_chunks = 5 #5\n",
    "n_components = 5        #20\n",
    "n_words = 20       #5\n",
    "\n"
   ]
  },
  {
   "cell_type": "markdown",
   "metadata": {},
   "source": [
    "## Top Word Count"
   ]
  },
  {
   "cell_type": "code",
   "execution_count": 6,
   "metadata": {},
   "outputs": [
    {
     "data": {
      "image/png": "[encoded data removed]",
      "text/plain": [
       "<Figure size 576x396 with 1 Axes>"
      ]
     },
     "metadata": {},
     "output_type": "display_data"
    },
    {
     "data": {
      "text/plain": [
       "<matplotlib.axes._subplots.AxesSubplot at 0x1a253ba650>"
      ]
     },
     "execution_count": 6,
     "metadata": {},
     "output_type": "execute_result"
    }
   ],
   "source": [
    "from sklearn.feature_extraction.text import CountVectorizer\n",
    "\n",
    "from yellowbrick.text import FreqDistVisualizer\n",
    "\n",
    "# Load the text data\n",
    "\n",
    "\n",
    "vect = CountVectorizer(max_features=max_features, max_df=max_df,stop_words='english')\n",
    "docs      = vect.fit_transform(df_demo['lyrics'])\n",
    "features   = vect.get_feature_names()\n",
    "\n",
    "visualizer = FreqDistVisualizer(features=features, orient='v',n=30)\n",
    "visualizer.fit(docs)\n",
    "visualizer.show()"
   ]
  },
  {
   "cell_type": "markdown",
   "metadata": {},
   "source": [
    "## Topic Analysis"
   ]
  },
  {
   "cell_type": "code",
   "execution_count": 7,
   "metadata": {},
   "outputs": [],
   "source": [
    "#Count Vectorizer\n",
    "vect = CountVectorizer(max_features=max_features, max_df=max_df,stop_words='english')\n",
    "X = vect.fit_transform(df_demo['lyrics'])"
   ]
  },
  {
   "cell_type": "code",
   "execution_count": 8,
   "metadata": {},
   "outputs": [
    {
     "name": "stdout",
     "output_type": "stream",
     "text": [
      "lda.components_.shape: (5, 100)\n",
      "topic 0       topic 1       topic 2       topic 3       topic 4       \n",
      "--------      --------      --------      --------      --------      \n",
      "ich           ich           ich           ich           nigga         \n",
      "nigga         da            la            da            fuck          \n",
      "die           la            da            la            ooh           \n",
      "la            nigga         hey           nigga         shit          \n",
      "fuck          fuck          dance         fuck          wan           \n",
      "death         rain          sing          shit          chorus        \n",
      "god           ooh           tonight       hey           hey           \n",
      "chorus        tonight       broken        ooh           em            \n",
      "tears         god           tears         em            ta            \n",
      "shit          tears         rain          rock          tonight       \n",
      "rain          broken        chorus        ta            rock          \n",
      "broken        shit          waiting       money         dance         \n",
      "lord          sing          sweet         dance         got           \n",
      "hey           die           come          chorus        money         \n",
      "dark          death         die           sing          come          \n",
      "sing          blood         song          girl          girl          \n",
      "truth         dark          girl          come          crazy         \n",
      "ooh           sky           sun           crazy         ride          \n",
      "lies          come          rock          boy           boy           \n",
      "pain          lord          lies          got           broken        \n",
      "\n",
      "\n"
     ]
    }
   ],
   "source": [
    "from sklearn.decomposition import LatentDirichletAllocation\n",
    "lda = LatentDirichletAllocation(n_components=n_components, learning_method=\"batch\",\n",
    "                                max_iter=15, random_state=0)\n",
    "\n",
    "\n",
    "# We build the model and transform the data in one step\n",
    "# Computing transform takes some time,\n",
    "# and we can save time by doing both at once\n",
    "\n",
    "document_topics = lda.fit_transform(X)\n",
    "\n",
    "print(\"lda.components_.shape: {}\".format(lda.components_.shape))\n",
    "\n",
    "# For each topic (a row in the components_), sort the features (ascending)\n",
    "# Invert rows with [:, ::-1] to make sorting descending\n",
    "sorting = np.argsort(lda.components_, axis=1)#[:, ::-1]\n",
    "\n",
    "\n",
    "# Get the feature names from the vectorizer\n",
    "feature_names = np.array(vect.get_feature_names())\n",
    "\n",
    "# Print out the 10 topics:\n",
    "mglearn.tools.print_topics(topics=range(n_components), feature_names=feature_names,\n",
    "                           sorting=sorting, topics_per_chunk=display_n_chunks, n_words=n_words)\n",
    "\n",
    "\n",
    "\n"
   ]
  },
  {
   "cell_type": "markdown",
   "metadata": {},
   "source": [
    "## Assemble Playlist"
   ]
  },
  {
   "cell_type": "code",
   "execution_count": 9,
   "metadata": {},
   "outputs": [],
   "source": [
    "def get_playlist_elements(components=range(n_components), feature_names=feature_names,\n",
    "                           sorting=sorting, topics_per_chunk=display_n_chunks, n_words=n_words):\n",
    "    topics_words = []\n",
    "    \n",
    "    for i in range(0, len(components), topics_per_chunk):\n",
    "        # for each chunk:\n",
    "        these_topics = components[i: i + topics_per_chunk]\n",
    "        \n",
    "        for t in these_topics:\n",
    "            \n",
    "            topic_words = []\n",
    "            \n",
    "            for i in range(n_words):\n",
    "                \n",
    "                try:\n",
    "                    #print((\"{:<14}\" * len_this_chunk).format(\n",
    "                    #    *feature_names[sorting[these_topics, i]]))\n",
    "                    topics_words.append({'topic':f'topic{t}','word':feature_names[sorting[these_topics, i]][t]})\n",
    "                except:\n",
    "                    pass\n",
    "        \n",
    "    return topics_words"
   ]
  },
  {
   "cell_type": "code",
   "execution_count": 10,
   "metadata": {},
   "outputs": [],
   "source": [
    "playlist_elements = get_playlist_elements()"
   ]
  },
  {
   "cell_type": "code",
   "execution_count": 11,
   "metadata": {},
   "outputs": [],
   "source": [
    "df_playlist_elements = pd.DataFrame(playlist_elements)"
   ]
  },
  {
   "cell_type": "code",
   "execution_count": 12,
   "metadata": {},
   "outputs": [],
   "source": [
    "list_df_words = df_playlist_elements['word'].tolist()\n",
    "list_df_topics = set(df_playlist_elements['topic'].tolist())"
   ]
  },
  {
   "cell_type": "code",
   "execution_count": 13,
   "metadata": {},
   "outputs": [],
   "source": [
    "def find_lyrics(lyrics,element,track_uri):\n",
    "    \n",
    "    if(lyrics.find(element)!= -1):\n",
    "        \n",
    "        return track_uri\n",
    "    \n",
    "    else:\n",
    "        \n",
    "        return None\n"
   ]
  },
  {
   "cell_type": "code",
   "execution_count": 14,
   "metadata": {},
   "outputs": [],
   "source": [
    "def make_ssp(topics,words):\n",
    "    topics_words = df_playlist_elements.copy()\n",
    "    \n",
    "    df_lyrics = df_demo.copy()\n",
    "    \n",
    "    df_empty = pd.DataFrame()\n",
    "    \n",
    "    ssp = []\n",
    "    \n",
    "    #Set df_demo_ssp to topic number\n",
    "\n",
    "    topics_words = topics_words[(topics_words['topic']== f'topic{topic}')]\n",
    "    \n",
    "    df_demo_ssp_wordset = topics_words['word'].tolist()\n",
    "\n",
    "    for word in df_demo_ssp_wordset:\n",
    "        \n",
    "        df_empty[f'{word}'] = df_lyrics.apply(lambda x: find_lyrics(x['lyrics'],word,x['track_uri']),axis=1)\n",
    "\n",
    "\n",
    "\n",
    "    return df_empty\n"
   ]
  },
  {
   "cell_type": "markdown",
   "metadata": {},
   "source": [
    "## Takes 8 minutes"
   ]
  },
  {
   "cell_type": "code",
   "execution_count": 15,
   "metadata": {},
   "outputs": [],
   "source": [
    "list_ssp = []\n",
    "\n",
    "for topic in range(len(list_df_topics)):\n",
    "    \n",
    "    ssp = make_ssp(topic,list_df_words)\n",
    "\n",
    "    \n",
    "    df_ssp = ssp.dropna(how='all')\n",
    "    \n",
    "    for x in range(100):\n",
    "        \n",
    "        for col in df_ssp.columns:\n",
    "            \n",
    "            df_ssp_col = df_ssp[col].dropna(how='any')\n",
    "            \n",
    "            col_track_uri = df_ssp_col.sample(1).values\n",
    "            \n",
    "            list_ssp.append({'playlist':f'topic{topic}playlist{x}','track_uri':col_track_uri[0]})\n"
   ]
  },
  {
   "cell_type": "code",
   "execution_count": 16,
   "metadata": {},
   "outputs": [],
   "source": [
    "sample_ssp = pd.DataFrame(list_ssp)\n",
    "df_track_ssp = sample_ssp.merge(df_demo,left_on='track_uri',right_on='track_uri')\n",
    "df_agg_ssp = sample_ssp.merge(df_demo,left_on='track_uri',right_on='track_uri').groupby('playlist').median()"
   ]
  },
  {
   "cell_type": "code",
   "execution_count": 17,
   "metadata": {},
   "outputs": [],
   "source": [
    "ssp = df_track_ssp[df_track_ssp['playlist']=='topic0playlist1'].sort_values(by='valence',ascending=True)"
   ]
  },
  {
   "cell_type": "code",
   "execution_count": 18,
   "metadata": {},
   "outputs": [
    {
     "data": {
      "text/plain": [
       "<matplotlib.axes._subplots.AxesSubplot at 0x1a233eba10>"
      ]
     },
     "execution_count": 18,
     "metadata": {},
     "output_type": "execute_result"
    },
    {
     "data": {
      "image/png": "[encoded data removed]",
      "text/plain": [
       "<Figure size 576x396 with 1 Axes>"
      ]
     },
     "metadata": {},
     "output_type": "display_data"
    }
   ],
   "source": [
    "ssp.plot.line(x='valence',y='energy')"
   ]
  },
  {
   "cell_type": "markdown",
   "metadata": {},
   "source": [
    "## Save SSP"
   ]
  },
  {
   "cell_type": "code",
   "execution_count": 19,
   "metadata": {},
   "outputs": [],
   "source": [
    "#df_sample_ssp.to_csv('test_ssp.csv',sep='|',index=True)"
   ]
  },
  {
   "cell_type": "markdown",
   "metadata": {},
   "source": [
    "## Below is Under Development"
   ]
  },
  {
   "cell_type": "code",
   "execution_count": 20,
   "metadata": {},
   "outputs": [],
   "source": [
    "## Visualization (Valence Curve, Energy Curve)"
   ]
  },
  {
   "cell_type": "code",
   "execution_count": 21,
   "metadata": {},
   "outputs": [],
   "source": [
    "## Create Spotify Playlist"
   ]
  },
  {
   "cell_type": "code",
   "execution_count": 22,
   "metadata": {},
   "outputs": [],
   "source": [
    "import requests\n",
    "import json\n",
    "import pandas as pd\n",
    "import spotipy#authentication\n",
    "import spotipy.util as util#authentication\n",
    "from spotipy.oauth2 import SpotifyClientCredentials#authentication"
   ]
  },
  {
   "cell_type": "code",
   "execution_count": 23,
   "metadata": {},
   "outputs": [],
   "source": [
    "cid = '049ade7215e54c63a2b628f3784dc407'\n",
    "secret = '5d30770120ad4dbbabbb5ce538110e05'\n",
    "redirect_uri = 'http://google.com/'\n",
    "username = 'name'"
   ]
  },
  {
   "cell_type": "code",
   "execution_count": 24,
   "metadata": {},
   "outputs": [
    {
     "name": "stdout",
     "output_type": "stream",
     "text": [
      "Enter the URL you were redirected to: https://www.google.com/?code=AQBS7dHP1pCJVBMb545e945F0JmML4R9AP_BFvi52B7Tb-3Ozkw3Yy7wjFYPWAKF36EwF90xoXS1lY2Y3KcqMJd9sIA6WvM1MYKA5WJm4xEkf12rE4MH6oSoMjQnKVTOq1Q7ZobXlM9zl3dPP2YhTx0HFswmyMLMtIMK6jjH4zFDZDhBpbt3oLbpDFJHEGvFz_UUCEvhg5xAUAH_kXeVtaE\n",
      "Enter the URL you were redirected to: https://www.google.com/?code=AQDzoF8qQlio6gnAjOKVsX5XIOHgRNzBSyqRrgvMP4mvBg6sZ_kIhC7UfAv5CiUDM6u4p2Mpnr2qPkpZiobLOUPky1Mvy3o-b35N7Sli2ehLa6nlw4FDFLCaLN42XSq7BsYuxEz8M1RClviOccfvlp_Or3s6hdKo0S3jml1vs-JAJ0UT_WH-OCOTbvv9Wbrj5YRHnwRGIrgjqOE\n"
     ]
    }
   ],
   "source": [
    "#Authentication\n",
    "\n",
    "scope = 'playlist-modify-private'\n",
    "token_playlist = util.prompt_for_user_token(username, scope, client_id=cid, client_secret=secret, redirect_uri=redirect_uri)\n",
    "\n",
    "if token_playlist:\n",
    "    \n",
    "    sp_playlist = spotipy.Spotify(auth=token_playlist)\n",
    "\n",
    "else:\n",
    "    \n",
    "    print(\"Can't get token for\", username)\n",
    "    \n",
    "#Authentication\n",
    "\n",
    "scope = 'user-read-private'\n",
    "\n",
    "token_user = util.prompt_for_user_token(username, scope, client_id=cid, client_secret=secret, redirect_uri=redirect_uri)\n",
    "\n",
    "if token_user:\n",
    "    sp_user = spotipy.Spotify(auth=token_user)\n",
    "else:\n",
    "    print(\"Can't get token for\", username)"
   ]
  },
  {
   "cell_type": "code",
   "execution_count": 25,
   "metadata": {},
   "outputs": [],
   "source": [
    "def get_user_id(url):\n",
    "    try:\n",
    "        resp = requests.get(url,headers={'Authorization': 'Bearer ' + token_user},\n",
    "                             #data={\"name\": \"SSP\"}\n",
    "                           )\n",
    "        \n",
    "        resp.raise_for_status()\n",
    "        \n",
    "    except requests.exceptions.HTTPError as err:\n",
    "        \n",
    "        print(err)\n",
    "        \n",
    "    \n",
    "    response = resp.json()\n",
    "    userid = response['id']\n",
    "    \n",
    "    return userid\n"
   ]
  },
  {
   "cell_type": "code",
   "execution_count": 26,
   "metadata": {},
   "outputs": [],
   "source": [
    "user_id = get_user_id('https://api.spotify.com/v1/me')"
   ]
  },
  {
   "cell_type": "code",
   "execution_count": 27,
   "metadata": {},
   "outputs": [
    {
     "data": {
      "text/plain": [
       "'124399179'"
      ]
     },
     "execution_count": 27,
     "metadata": {},
     "output_type": "execute_result"
    }
   ],
   "source": [
    "identification = user_id\n",
    "identification"
   ]
  },
  {
   "cell_type": "code",
   "execution_count": 28,
   "metadata": {},
   "outputs": [],
   "source": [
    "playlist = sp_playlist.user_playlist_create(identification,'SSP_Ideal', public=False, description=\"Ideal SSP\")"
   ]
  },
  {
   "cell_type": "code",
   "execution_count": 29,
   "metadata": {},
   "outputs": [
    {
     "data": {
      "text/plain": [
       "{'collaborative': False,\n",
       " 'description': 'Ideal SSP',\n",
       " 'external_urls': {'spotify': 'https://open.spotify.com/playlist/47WcBweEZdfIzDPrDYsNiL'},\n",
       " 'followers': {'href': None, 'total': 0},\n",
       " 'href': 'https://api.spotify.com/v1/playlists/47WcBweEZdfIzDPrDYsNiL',\n",
       " 'id': '47WcBweEZdfIzDPrDYsNiL',\n",
       " 'images': [],\n",
       " 'name': 'SSP_Ideal',\n",
       " 'owner': {'display_name': 'Adam Goldstein',\n",
       "  'external_urls': {'spotify': 'https://open.spotify.com/user/124399179'},\n",
       "  'href': 'https://api.spotify.com/v1/users/124399179',\n",
       "  'id': '124399179',\n",
       "  'type': 'user',\n",
       "  'uri': 'spotify:user:124399179'},\n",
       " 'primary_color': None,\n",
       " 'public': False,\n",
       " 'snapshot_id': 'MSw2NmNhNThiMTkzNjkwODQ1ZGE3MjRkMmRhYTkwZjhhZjg2YWRiZmQw',\n",
       " 'tracks': {'href': 'https://api.spotify.com/v1/playlists/47WcBweEZdfIzDPrDYsNiL/tracks',\n",
       "  'items': [],\n",
       "  'limit': 100,\n",
       "  'next': None,\n",
       "  'offset': 0,\n",
       "  'previous': None,\n",
       "  'total': 0},\n",
       " 'type': 'playlist',\n",
       " 'uri': 'spotify:playlist:47WcBweEZdfIzDPrDYsNiL'}"
      ]
     },
     "execution_count": 29,
     "metadata": {},
     "output_type": "execute_result"
    }
   ],
   "source": [
    "playlist"
   ]
  },
  {
   "cell_type": "code",
   "execution_count": 30,
   "metadata": {},
   "outputs": [],
   "source": [
    "playlist_tracks = sp_playlist.user_playlist_add_tracks(identification,playlist['id'],ssp['track_uri'], position=None)"
   ]
  },
  {
   "cell_type": "markdown",
   "metadata": {},
   "source": [
    "## End"
   ]
  },
  {
   "cell_type": "markdown",
   "metadata": {},
   "source": [
    "## Sample Topic Analysis Code"
   ]
  },
  {
   "cell_type": "markdown",
   "metadata": {},
   "source": [
    "def display_topics(model, feature_names, no_top_words):\n",
    "    for topic_idx, topic in enumerate(model.components_):\n",
    "        print(\"Topic {i}:\".format(i=topic_idx))\n",
    "        print(\" \".join([feature_names[i]\n",
    "                        for i in topic.argsort()[:-no_top_words - 1:-1]]))\n",
    "#How many words per topic\n",
    "no_top_words = 4\n",
    "display_topics(nmf, tfidf_feature_names, no_top_words)"
   ]
  }
 ],
 "metadata": {
  "kernelspec": {
   "display_name": "Python 3",
   "language": "python",
   "name": "python3"
  },
  "language_info": {
   "codemirror_mode": {
    "name": "ipython",
    "version": 3
   },
   "file_extension": ".py",
   "mimetype": "text/x-python",
   "name": "python",
   "nbconvert_exporter": "python",
   "pygments_lexer": "ipython3",
   "version": "3.7.6"
  }
 },
 "nbformat": 4,
 "nbformat_minor": 2
}
