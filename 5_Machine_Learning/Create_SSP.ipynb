{
 "cells": [
  {
   "cell_type": "code",
   "execution_count": 1,
   "metadata": {},
   "outputs": [
    {
     "name": "stderr",
     "output_type": "stream",
     "text": [
      "/Users/adamgoldstein/opt/anaconda3/lib/python3.7/site-packages/sklearn/utils/deprecation.py:143: FutureWarning: The sklearn.metrics.classification module is  deprecated in version 0.22 and will be removed in version 0.24. The corresponding classes / functions should instead be imported from sklearn.metrics. Anything that cannot be imported from sklearn.metrics is now part of the private API.\n",
      "  warnings.warn(message, FutureWarning)\n"
     ]
    }
   ],
   "source": [
    "import pandas as pd\n",
    "import numpy as np\n",
    "from sklearn.feature_extraction.text import TfidfVectorizer,CountVectorizer\n",
    "import sklearn\n",
    "import yellowbrick\n",
    "import re\n",
    "import mglearn\n",
    "import boto3\n",
    "from s3 import get_file"
   ]
  },
  {
   "cell_type": "code",
   "execution_count": 2,
   "metadata": {},
   "outputs": [],
   "source": [
    "s3 = boto3.resource('s3')\n",
    "lyrics = get_file(s3,'s3ssp',download_file='NLP_Data/master_lyrics_audio_features.csv',rename_file='nlp.csv')"
   ]
  },
  {
   "cell_type": "code",
   "execution_count": 3,
   "metadata": {},
   "outputs": [],
   "source": [
    "df = pd.read_csv(lyrics,sep='|',encoding='utf-8')\n",
    "df_demo = df.copy().dropna()"
   ]
  },
  {
   "cell_type": "markdown",
   "metadata": {},
   "source": [
    "## Simulation of User Spotify Liked Library"
   ]
  },
  {
   "cell_type": "code",
   "execution_count": 132,
   "metadata": {},
   "outputs": [],
   "source": [
    "X = df_demo.sample(5000)"
   ]
  },
  {
   "cell_type": "code",
   "execution_count": 133,
   "metadata": {},
   "outputs": [],
   "source": [
    "def LDA_hyper_params(df):\n",
    "    \n",
    "    df_topic_rows = df.shape[0] #Dataframe Row count\n",
    "    \n",
    "    if(df_topic_rows in range(100,1000)):\n",
    "        return {'max_features':100, 'n_components':3, 'n_words':10}\n",
    "    \n",
    "    elif(df_topic_rows in range(1001,4000)):\n",
    "        return {'max_features':200, 'n_components' :5, 'n_words':10} \n",
    "        \n",
    "    elif(df_topic_rows in range(4001,6000)):\n",
    "        return {'max_features':10000, 'n_components' :15, 'n_words':10} \n",
    "    \n",
    "    elif(df_topic_rows in range(6001,8000)):\n",
    "        return {'max_features':400, 'n_components' :5, 'n_words':10} \n",
    "    \n",
    "    elif(df_topic_rows in range(8001,10000)):\n",
    "        return {'max_features':500, 'n_components' :5, 'n_words':10}\n",
    "    \n",
    "    elif(df_topic_rows >= 10000):\n",
    "        return {'max_features':600, 'n_components' :5, 'n_words':10}\n",
    "    else:\n",
    "        return None"
   ]
  },
  {
   "cell_type": "markdown",
   "metadata": {},
   "source": [
    "## Optimize max_features, n_components (used to be no_topics), n_words"
   ]
  },
  {
   "cell_type": "code",
   "execution_count": 134,
   "metadata": {},
   "outputs": [
    {
     "name": "stdout",
     "output_type": "stream",
     "text": [
      "Max Features: 10000 \n",
      "Topics: 15 \n",
      "Words: 10\n"
     ]
    }
   ],
   "source": [
    "#Control Panel - Hyper Parameters\n",
    "\n",
    "hp = LDA_hyper_params(X)\n",
    "\n",
    "#Count Vectorizer\n",
    "#max_features = hp['max_features']\n",
    "max_df = 1000\n",
    "min_df = 4\n",
    "\n",
    "\n",
    "\n",
    "#LDA\n",
    "n_components = hp['n_components']  #10\n",
    "\n",
    "\n",
    "#LDA Display\n",
    "display_n_chunks = 5 #5\n",
    "n_components = hp['n_components']        #20\n",
    "n_words = hp['n_words']       #5\n",
    "\n",
    "\n",
    "print(f'Max Features: {max_features} \\nTopics: {n_components} \\nWords: {n_words}')"
   ]
  },
  {
   "cell_type": "code",
   "execution_count": null,
   "metadata": {},
   "outputs": [],
   "source": []
  },
  {
   "cell_type": "markdown",
   "metadata": {},
   "source": [
    "## Top Word Count"
   ]
  },
  {
   "cell_type": "code",
   "execution_count": 135,
   "metadata": {},
   "outputs": [
    {
     "data": {
      "image/png": "[encoded data removed]",
      "text/plain": [
       "<Figure size 576x396 with 1 Axes>"
      ]
     },
     "metadata": {},
     "output_type": "display_data"
    },
    {
     "data": {
      "text/plain": [
       "<matplotlib.axes._subplots.AxesSubplot at 0x1a22ea4fd0>"
      ]
     },
     "execution_count": 135,
     "metadata": {},
     "output_type": "execute_result"
    }
   ],
   "source": [
    "from sklearn.feature_extraction.text import CountVectorizer\n",
    "\n",
    "from yellowbrick.text import FreqDistVisualizer\n",
    "\n",
    "# Load the text data\n",
    "\n",
    "vect = TfidfVectorizer(stop_words='english',max_df=max_df,max_features=max_features)\n",
    "\n",
    "#vect = CountVectorizer(max_features=max_features, max_df=max_df,stop_words='english')\n",
    "docs      = vect.fit_transform(X['lyrics'])\n",
    "features   = vect.get_feature_names()\n",
    "\n",
    "visualizer = FreqDistVisualizer(features=features, orient='v',n=30)\n",
    "visualizer.fit(docs)\n",
    "visualizer.show()"
   ]
  },
  {
   "cell_type": "code",
   "execution_count": 136,
   "metadata": {},
   "outputs": [],
   "source": [
    "X2 = X.reset_index()"
   ]
  },
  {
   "cell_type": "markdown",
   "metadata": {},
   "source": [
    "## Topic Analysis"
   ]
  },
  {
   "cell_type": "code",
   "execution_count": 138,
   "metadata": {},
   "outputs": [
    {
     "name": "stdout",
     "output_type": "stream",
     "text": [
      "LatentDirichletAllocation(doc_topic_prior=0.2, n_components=15, random_state=0,\n",
      "                          topic_word_prior=4000)\n",
      "Log Likelihood:  -2471039.7658019545\n",
      "Perplexity:  5860.066678157677\n",
      "{'batch_size': 128, 'doc_topic_prior': 0.2, 'evaluate_every': -1, 'learning_decay': 0.7, 'learning_method': 'batch', 'learning_offset': 10.0, 'max_doc_update_iter': 100, 'max_iter': 10, 'mean_change_tol': 0.001, 'n_components': 15, 'n_jobs': None, 'perp_tol': 0.1, 'random_state': 0, 'topic_word_prior': 4000, 'total_samples': 1000000.0, 'verbose': 0}\n",
      "topic 0       topic 1       topic 2       topic 3       topic 4       \n",
      "--------      --------      --------      --------      --------      \n",
      "lexus         lexus         lexus         macaroni      lexus         \n",
      "macaroni      macaroni      macaroni      lettin        macaroni      \n",
      "lettin        lettin        lettin        jacob         lettin        \n",
      "jacob         jacob         jacob         claimin       jacob         \n",
      "claimin       claimin       claimin       ounce         claimin       \n",
      "ounce         ounce         prolly        prolly        ounce         \n",
      "prolly        prolly        ounce         vip           prolly        \n",
      "vip           vip           vip           speakin       vip           \n",
      "speakin       speakin       speakin       fashioned     speakin       \n",
      "fashioned     fashioned     fashioned     scope         fashioned     \n",
      "\n",
      "\n",
      "topic 5       topic 6       topic 7       topic 8       topic 9       \n",
      "--------      --------      --------      --------      --------      \n",
      "lexus         lexus         lexus         macaroni      lexus         \n",
      "macaroni      macaroni      macaroni      lettin        macaroni      \n",
      "lettin        lettin        lettin        jacob         lettin        \n",
      "jacob         jacob         jacob         ounce         jacob         \n",
      "claimin       claimin       claimin       lexus         claimin       \n",
      "ounce         ounce         ounce         vip           ounce         \n",
      "prolly        prolly        prolly        fashioned     prolly        \n",
      "vip           vip           vip           scope         vip           \n",
      "speakin       speakin       speakin       rick          speakin       \n",
      "fashioned     fashioned     fashioned     gimmick       fashioned     \n",
      "\n",
      "\n",
      "topic 10      topic 11      topic 12      topic 13      topic 14      \n",
      "--------      --------      --------      --------      --------      \n",
      "lexus         lexus         lexus         vaya          macaroni      \n",
      "macaroni      macaroni      macaroni      vuelta        lettin        \n",
      "lettin        lettin        lettin        presente      jacob         \n",
      "jacob         jacob         jacob         feuer         ounce         \n",
      "claimin       claimin       claimin       futuro        vip           \n",
      "ounce         ounce         ounce         invierno      fashioned     \n",
      "prolly        prolly        prolly        confianza     scope         \n",
      "vip           vip           vip           hoje          rick          \n",
      "speakin       speakin       speakin       danke         gimmick       \n",
      "fashioned     fashioned     fashioned     tarde         interview     \n",
      "\n",
      "\n"
     ]
    }
   ],
   "source": [
    "from sklearn.decomposition import LatentDirichletAllocation\n",
    "lda_model = LatentDirichletAllocation(n_components=n_components, learning_method=\"batch\",\n",
    "                                max_iter=10, random_state=0,doc_topic_prior=.2,topic_word_prior=4000)\n",
    "\n",
    "# We build the model and transform the data in one step\n",
    "# Computing transform takes some time,\n",
    "# and we can save time by doing both at once\n",
    "\n",
    "#document_topics = lda_model.fit_transform(docs)\n",
    "\n",
    "vectorizer = CountVectorizer(analyzer='word',       \n",
    "                             min_df=5,                        # minimum reqd occurences of a word \n",
    "                             stop_words='english',             # remove stop words\n",
    "                             lowercase=True,                   # convert all words to lowercase\n",
    "                             token_pattern='[a-zA-Z0-9]{3,}',  # num chars > 3\n",
    "                             # max_features=50000,             # max number of uniq words\n",
    "                            )\n",
    "\n",
    "data_vectorized = vectorizer.fit_transform(X2['lyrics'])\n",
    "\n",
    "# Build LDA Model\n",
    "lda_output = lda_model.fit_transform(data_vectorized)\n",
    "\n",
    "print(lda_model)  # Model attributes\n",
    "\n",
    "# Log Likelyhood: Higher the better\n",
    "print(\"Log Likelihood: \", lda_model.score(data_vectorized))\n",
    "\n",
    "# Perplexity: Lower the better. Perplexity = exp(-1. * log-likelihood per word)\n",
    "print(\"Perplexity: \", lda_model.perplexity(data_vectorized))\n",
    "\n",
    "# See model parameters\n",
    "print(lda_model.get_params())\n",
    "\n",
    "\n",
    "#print(\"lda.components_.shape: {}\".format(lda.components_.shape))\n",
    "\n",
    "# For each topic (a row in the components_), sort the features (ascending)\n",
    "# Invert rows with [:, ::-1] to make sorting descending\n",
    "sorting = np.argsort(lda_model.components_, axis=1)#[:, ::-1]\n",
    "\n",
    "\n",
    "\n",
    "\n",
    "# Get the feature names from the vectorizer\n",
    "feature_names = np.array(vectorizer.get_feature_names())\n",
    "\n",
    "# Print out the 10 topics:\n",
    "mglearn.tools.print_topics(topics=range(n_components), feature_names=feature_names,\n",
    "                           sorting=sorting, topics_per_chunk=display_n_chunks, n_words=n_words)\n",
    "\n",
    "\n",
    "\n"
   ]
  },
  {
   "cell_type": "markdown",
   "metadata": {},
   "source": [
    "Yo me encuentro solito\n",
    "Si no te tengo a mi lado\n",
    "Why ahora que no vivo\n",
    "Porque sin ti me muero\n",
    "Madre mia, madre mia\n",
    "Madre mia, madre mia\n",
    "Madre mia, madre mia\n",
    "De mi alma\n",
    "Madre mia mia de mi alma\n",
    "No te vaya de mi vera\n",
    "Porque sin ti no vivo\n",
    "Muchas penas yo tengo\n",
    "No vivo, no vivo\n",
    "Madre mia, madre mia\n",
    "Madre mia, madre mia\n",
    "De mi alma"
   ]
  },
  {
   "cell_type": "code",
   "execution_count": 140,
   "metadata": {},
   "outputs": [
    {
     "data": {
      "text/plain": [
       "index                                                           80193\n",
       "artist_name                                                     Auryn\n",
       "track_name                                           grow old with me\n",
       "track_uri                                      0iJLWzeJUzm7pYe8V3XSCT\n",
       "acousticness                                                    0.722\n",
       "danceability                                                    0.442\n",
       "energy                                                          0.321\n",
       "valence                                                         0.307\n",
       "instrumentalness                                                    0\n",
       "key                                                                 3\n",
       "mode                                                                1\n",
       "liveness                                                        0.106\n",
       "speechiness                                                    0.0273\n",
       "time_signature                                                      4\n",
       "tempo                                                          90.144\n",
       "loudness                                                       -8.857\n",
       "lyrics              grow play chord write song valentine lay couch...\n",
       "Name: 0, dtype: object"
      ]
     },
     "execution_count": 140,
     "metadata": {},
     "output_type": "execute_result"
    }
   ],
   "source": [
    "X2.iloc[0]"
   ]
  },
  {
   "cell_type": "code",
   "execution_count": 142,
   "metadata": {},
   "outputs": [
    {
     "data": {
      "text/plain": [
       "'1JU1a1ELwtraZZDYmXExb5'"
      ]
     },
     "execution_count": 142,
     "metadata": {},
     "output_type": "execute_result"
    }
   ],
   "source": [
    "lda_output\n",
    "topicnames\n",
    "len(docnames)\n",
    "\n",
    "X2['track_uri'].iloc[2167]"
   ]
  },
  {
   "cell_type": "code",
   "execution_count": 144,
   "metadata": {},
   "outputs": [
    {
     "data": {
      "text/plain": [
       "Doc2167    0.93\n",
       "Doc2569    0.93\n",
       "Doc1576    0.91\n",
       "Doc4104    0.90\n",
       "Doc1291    0.88\n",
       "Doc2351    0.88\n",
       "Doc2832    0.88\n",
       "Doc4323    0.86\n",
       "Doc2612    0.82\n",
       "Doc2707    0.81\n",
       "Doc4205    0.78\n",
       "Doc1898    0.76\n",
       "Doc2688    0.73\n",
       "Doc1845    0.72\n",
       "Doc4353    0.71\n",
       "Doc470     0.68\n",
       "Doc431     0.56\n",
       "Doc2419    0.41\n",
       "Doc3049    0.40\n",
       "Doc4605    0.36\n",
       "Name: Topic3, dtype: float64"
      ]
     },
     "execution_count": 144,
     "metadata": {},
     "output_type": "execute_result"
    }
   ],
   "source": [
    "# Create Document - Topic Matrix\n",
    "\n",
    "lda_output = lda_model.transform(data_vectorized)\n",
    "\n",
    "# column names\n",
    "topicnames = [\"Topic\" + str(i) for i in range(lda_model.n_components)]\n",
    "\n",
    "\n",
    "# index names\n",
    "docnames = [\"Doc\" + str(i) for i in range(len(X2))]\n",
    "\n",
    "\n",
    "\n",
    "# Make the pandas dataframe\n",
    "df_document_topic = pd.DataFrame(np.round(lda_output, 2), columns=topicnames, index=docnames)\n",
    "\n",
    "# Get dominant topic for each document\n",
    "dominant_topic = np.argmax(df_document_topic.values, axis=1)\n",
    "\n",
    "\n",
    "df_document_topic['dominant_topic'] = dominant_topic\n",
    "\n",
    "# Styling\n",
    "def color_green(val):\n",
    "    color = 'green' if val > .6 else 'black'\n",
    "    return 'color: {col}'.format(col=color)\n",
    "\n",
    "def make_bold(val):\n",
    "    weight = 700 if val > .6 else 400\n",
    "    return 'font-weight: {weight}'.format(weight=weight)\n",
    "\n",
    "\n",
    "df_document_topic = df_document_topic['Topic3'].nlargest(n=20)\n",
    "# Apply Style\n",
    "#df_document_topics = df_document_topic.style.applymap(color_green).applymap(make_bold)\n",
    "\n",
    "\n",
    "df_document_topic"
   ]
  },
  {
   "cell_type": "code",
   "execution_count": 77,
   "metadata": {},
   "outputs": [
    {
     "ename": "KeyError",
     "evalue": "'dominant_topic'",
     "output_type": "error",
     "traceback": [
      "\u001b[0;31m---------------------------------------------------------------------------\u001b[0m",
      "\u001b[0;31mTypeError\u001b[0m                                 Traceback (most recent call last)",
      "\u001b[0;32m~/opt/anaconda3/lib/python3.7/site-packages/pandas/core/indexes/base.py\u001b[0m in \u001b[0;36mget_value\u001b[0;34m(self, series, key)\u001b[0m\n\u001b[1;32m   4410\u001b[0m             \u001b[0;32mtry\u001b[0m\u001b[0;34m:\u001b[0m\u001b[0;34m\u001b[0m\u001b[0;34m\u001b[0m\u001b[0m\n\u001b[0;32m-> 4411\u001b[0;31m                 \u001b[0;32mreturn\u001b[0m \u001b[0mlibindex\u001b[0m\u001b[0;34m.\u001b[0m\u001b[0mget_value_at\u001b[0m\u001b[0;34m(\u001b[0m\u001b[0ms\u001b[0m\u001b[0;34m,\u001b[0m \u001b[0mkey\u001b[0m\u001b[0;34m)\u001b[0m\u001b[0;34m\u001b[0m\u001b[0;34m\u001b[0m\u001b[0m\n\u001b[0m\u001b[1;32m   4412\u001b[0m             \u001b[0;32mexcept\u001b[0m \u001b[0mIndexError\u001b[0m\u001b[0;34m:\u001b[0m\u001b[0;34m\u001b[0m\u001b[0;34m\u001b[0m\u001b[0m\n",
      "\u001b[0;32mpandas/_libs/index.pyx\u001b[0m in \u001b[0;36mpandas._libs.index.get_value_at\u001b[0;34m()\u001b[0m\n",
      "\u001b[0;32mpandas/_libs/index.pyx\u001b[0m in \u001b[0;36mpandas._libs.index.get_value_at\u001b[0;34m()\u001b[0m\n",
      "\u001b[0;32mpandas/_libs/util.pxd\u001b[0m in \u001b[0;36mpandas._libs.util.get_value_at\u001b[0;34m()\u001b[0m\n",
      "\u001b[0;32mpandas/_libs/util.pxd\u001b[0m in \u001b[0;36mpandas._libs.util.validate_indexer\u001b[0;34m()\u001b[0m\n",
      "\u001b[0;31mTypeError\u001b[0m: 'str' object cannot be interpreted as an integer",
      "\nDuring handling of the above exception, another exception occurred:\n",
      "\u001b[0;31mKeyError\u001b[0m                                  Traceback (most recent call last)",
      "\u001b[0;32m<ipython-input-77-f33200c076ea>\u001b[0m in \u001b[0;36m<module>\u001b[0;34m\u001b[0m\n\u001b[0;32m----> 1\u001b[0;31m \u001b[0mdf_topic_distribution\u001b[0m \u001b[0;34m=\u001b[0m \u001b[0mdf_document_topic\u001b[0m\u001b[0;34m[\u001b[0m\u001b[0;34m'dominant_topic'\u001b[0m\u001b[0;34m]\u001b[0m\u001b[0;34m.\u001b[0m\u001b[0mvalue_counts\u001b[0m\u001b[0;34m(\u001b[0m\u001b[0;34m)\u001b[0m\u001b[0;34m.\u001b[0m\u001b[0mreset_index\u001b[0m\u001b[0;34m(\u001b[0m\u001b[0mname\u001b[0m\u001b[0;34m=\u001b[0m\u001b[0;34m\"Num Documents\"\u001b[0m\u001b[0;34m)\u001b[0m\u001b[0;34m\u001b[0m\u001b[0;34m\u001b[0m\u001b[0m\n\u001b[0m\u001b[1;32m      2\u001b[0m \u001b[0mdf_topic_distribution\u001b[0m\u001b[0;34m.\u001b[0m\u001b[0mcolumns\u001b[0m \u001b[0;34m=\u001b[0m \u001b[0;34m[\u001b[0m\u001b[0;34m'Topic Num'\u001b[0m\u001b[0;34m,\u001b[0m \u001b[0;34m'Num Documents'\u001b[0m\u001b[0;34m]\u001b[0m\u001b[0;34m\u001b[0m\u001b[0;34m\u001b[0m\u001b[0m\n\u001b[1;32m      3\u001b[0m \u001b[0mdf_topic_distribution\u001b[0m\u001b[0;34m\u001b[0m\u001b[0;34m\u001b[0m\u001b[0m\n",
      "\u001b[0;32m~/opt/anaconda3/lib/python3.7/site-packages/pandas/core/series.py\u001b[0m in \u001b[0;36m__getitem__\u001b[0;34m(self, key)\u001b[0m\n\u001b[1;32m    869\u001b[0m         \u001b[0mkey\u001b[0m \u001b[0;34m=\u001b[0m \u001b[0mcom\u001b[0m\u001b[0;34m.\u001b[0m\u001b[0mapply_if_callable\u001b[0m\u001b[0;34m(\u001b[0m\u001b[0mkey\u001b[0m\u001b[0;34m,\u001b[0m \u001b[0mself\u001b[0m\u001b[0;34m)\u001b[0m\u001b[0;34m\u001b[0m\u001b[0;34m\u001b[0m\u001b[0m\n\u001b[1;32m    870\u001b[0m         \u001b[0;32mtry\u001b[0m\u001b[0;34m:\u001b[0m\u001b[0;34m\u001b[0m\u001b[0;34m\u001b[0m\u001b[0m\n\u001b[0;32m--> 871\u001b[0;31m             \u001b[0mresult\u001b[0m \u001b[0;34m=\u001b[0m \u001b[0mself\u001b[0m\u001b[0;34m.\u001b[0m\u001b[0mindex\u001b[0m\u001b[0;34m.\u001b[0m\u001b[0mget_value\u001b[0m\u001b[0;34m(\u001b[0m\u001b[0mself\u001b[0m\u001b[0;34m,\u001b[0m \u001b[0mkey\u001b[0m\u001b[0;34m)\u001b[0m\u001b[0;34m\u001b[0m\u001b[0;34m\u001b[0m\u001b[0m\n\u001b[0m\u001b[1;32m    872\u001b[0m \u001b[0;34m\u001b[0m\u001b[0m\n\u001b[1;32m    873\u001b[0m             \u001b[0;32mif\u001b[0m \u001b[0;32mnot\u001b[0m \u001b[0mis_scalar\u001b[0m\u001b[0;34m(\u001b[0m\u001b[0mresult\u001b[0m\u001b[0;34m)\u001b[0m\u001b[0;34m:\u001b[0m\u001b[0;34m\u001b[0m\u001b[0;34m\u001b[0m\u001b[0m\n",
      "\u001b[0;32m~/opt/anaconda3/lib/python3.7/site-packages/pandas/core/indexes/base.py\u001b[0m in \u001b[0;36mget_value\u001b[0;34m(self, series, key)\u001b[0m\n\u001b[1;32m   4417\u001b[0m                     \u001b[0;32mraise\u001b[0m \u001b[0mInvalidIndexError\u001b[0m\u001b[0;34m(\u001b[0m\u001b[0mkey\u001b[0m\u001b[0;34m)\u001b[0m\u001b[0;34m\u001b[0m\u001b[0;34m\u001b[0m\u001b[0m\n\u001b[1;32m   4418\u001b[0m                 \u001b[0;32melse\u001b[0m\u001b[0;34m:\u001b[0m\u001b[0;34m\u001b[0m\u001b[0;34m\u001b[0m\u001b[0m\n\u001b[0;32m-> 4419\u001b[0;31m                     \u001b[0;32mraise\u001b[0m \u001b[0me1\u001b[0m\u001b[0;34m\u001b[0m\u001b[0;34m\u001b[0m\u001b[0m\n\u001b[0m\u001b[1;32m   4420\u001b[0m             \u001b[0;32mexcept\u001b[0m \u001b[0mException\u001b[0m\u001b[0;34m:\u001b[0m\u001b[0;34m\u001b[0m\u001b[0;34m\u001b[0m\u001b[0m\n\u001b[1;32m   4421\u001b[0m                 \u001b[0;32mraise\u001b[0m \u001b[0me1\u001b[0m\u001b[0;34m\u001b[0m\u001b[0;34m\u001b[0m\u001b[0m\n",
      "\u001b[0;32m~/opt/anaconda3/lib/python3.7/site-packages/pandas/core/indexes/base.py\u001b[0m in \u001b[0;36mget_value\u001b[0;34m(self, series, key)\u001b[0m\n\u001b[1;32m   4403\u001b[0m         \u001b[0mk\u001b[0m \u001b[0;34m=\u001b[0m \u001b[0mself\u001b[0m\u001b[0;34m.\u001b[0m\u001b[0m_convert_scalar_indexer\u001b[0m\u001b[0;34m(\u001b[0m\u001b[0mk\u001b[0m\u001b[0;34m,\u001b[0m \u001b[0mkind\u001b[0m\u001b[0;34m=\u001b[0m\u001b[0;34m\"getitem\"\u001b[0m\u001b[0;34m)\u001b[0m\u001b[0;34m\u001b[0m\u001b[0;34m\u001b[0m\u001b[0m\n\u001b[1;32m   4404\u001b[0m         \u001b[0;32mtry\u001b[0m\u001b[0;34m:\u001b[0m\u001b[0;34m\u001b[0m\u001b[0;34m\u001b[0m\u001b[0m\n\u001b[0;32m-> 4405\u001b[0;31m             \u001b[0;32mreturn\u001b[0m \u001b[0mself\u001b[0m\u001b[0;34m.\u001b[0m\u001b[0m_engine\u001b[0m\u001b[0;34m.\u001b[0m\u001b[0mget_value\u001b[0m\u001b[0;34m(\u001b[0m\u001b[0ms\u001b[0m\u001b[0;34m,\u001b[0m \u001b[0mk\u001b[0m\u001b[0;34m,\u001b[0m \u001b[0mtz\u001b[0m\u001b[0;34m=\u001b[0m\u001b[0mgetattr\u001b[0m\u001b[0;34m(\u001b[0m\u001b[0mseries\u001b[0m\u001b[0;34m.\u001b[0m\u001b[0mdtype\u001b[0m\u001b[0;34m,\u001b[0m \u001b[0;34m\"tz\"\u001b[0m\u001b[0;34m,\u001b[0m \u001b[0;32mNone\u001b[0m\u001b[0;34m)\u001b[0m\u001b[0;34m)\u001b[0m\u001b[0;34m\u001b[0m\u001b[0;34m\u001b[0m\u001b[0m\n\u001b[0m\u001b[1;32m   4406\u001b[0m         \u001b[0;32mexcept\u001b[0m \u001b[0mKeyError\u001b[0m \u001b[0;32mas\u001b[0m \u001b[0me1\u001b[0m\u001b[0;34m:\u001b[0m\u001b[0;34m\u001b[0m\u001b[0;34m\u001b[0m\u001b[0m\n\u001b[1;32m   4407\u001b[0m             \u001b[0;32mif\u001b[0m \u001b[0mlen\u001b[0m\u001b[0;34m(\u001b[0m\u001b[0mself\u001b[0m\u001b[0;34m)\u001b[0m \u001b[0;34m>\u001b[0m \u001b[0;36m0\u001b[0m \u001b[0;32mand\u001b[0m \u001b[0;34m(\u001b[0m\u001b[0mself\u001b[0m\u001b[0;34m.\u001b[0m\u001b[0mholds_integer\u001b[0m\u001b[0;34m(\u001b[0m\u001b[0;34m)\u001b[0m \u001b[0;32mor\u001b[0m \u001b[0mself\u001b[0m\u001b[0;34m.\u001b[0m\u001b[0mis_boolean\u001b[0m\u001b[0;34m(\u001b[0m\u001b[0;34m)\u001b[0m\u001b[0;34m)\u001b[0m\u001b[0;34m:\u001b[0m\u001b[0;34m\u001b[0m\u001b[0;34m\u001b[0m\u001b[0m\n",
      "\u001b[0;32mpandas/_libs/index.pyx\u001b[0m in \u001b[0;36mpandas._libs.index.IndexEngine.get_value\u001b[0;34m()\u001b[0m\n",
      "\u001b[0;32mpandas/_libs/index.pyx\u001b[0m in \u001b[0;36mpandas._libs.index.IndexEngine.get_value\u001b[0;34m()\u001b[0m\n",
      "\u001b[0;32mpandas/_libs/index.pyx\u001b[0m in \u001b[0;36mpandas._libs.index.IndexEngine.get_loc\u001b[0;34m()\u001b[0m\n",
      "\u001b[0;32mpandas/_libs/hashtable_class_helper.pxi\u001b[0m in \u001b[0;36mpandas._libs.hashtable.PyObjectHashTable.get_item\u001b[0;34m()\u001b[0m\n",
      "\u001b[0;32mpandas/_libs/hashtable_class_helper.pxi\u001b[0m in \u001b[0;36mpandas._libs.hashtable.PyObjectHashTable.get_item\u001b[0;34m()\u001b[0m\n",
      "\u001b[0;31mKeyError\u001b[0m: 'dominant_topic'"
     ]
    }
   ],
   "source": [
    "df_topic_distribution = df_document_topic['dominant_topic'].value_counts().reset_index(name=\"Num Documents\")\n",
    "df_topic_distribution.columns = ['Topic Num', 'Num Documents']\n",
    "df_topic_distribution"
   ]
  },
  {
   "cell_type": "code",
   "execution_count": null,
   "metadata": {},
   "outputs": [],
   "source": []
  },
  {
   "cell_type": "code",
   "execution_count": 145,
   "metadata": {},
   "outputs": [
    {
     "data": {
      "text/html": [
       "<div>\n",
       "<style scoped>\n",
       "    .dataframe tbody tr th:only-of-type {\n",
       "        vertical-align: middle;\n",
       "    }\n",
       "\n",
       "    .dataframe tbody tr th {\n",
       "        vertical-align: top;\n",
       "    }\n",
       "\n",
       "    .dataframe thead th {\n",
       "        text-align: right;\n",
       "    }\n",
       "</style>\n",
       "<table border=\"1\" class=\"dataframe\">\n",
       "  <thead>\n",
       "    <tr style=\"text-align: right;\">\n",
       "      <th></th>\n",
       "      <th>aah</th>\n",
       "      <th>abandon</th>\n",
       "      <th>abide</th>\n",
       "      <th>ability</th>\n",
       "      <th>ablaze</th>\n",
       "      <th>abortion</th>\n",
       "      <th>abrazo</th>\n",
       "      <th>absence</th>\n",
       "      <th>absent</th>\n",
       "      <th>absolute</th>\n",
       "      <th>...</th>\n",
       "      <th>youngin</th>\n",
       "      <th>youth</th>\n",
       "      <th>zeit</th>\n",
       "      <th>zie</th>\n",
       "      <th>ziel</th>\n",
       "      <th>zip</th>\n",
       "      <th>zone</th>\n",
       "      <th>zoo</th>\n",
       "      <th>zoom</th>\n",
       "      <th>zwei</th>\n",
       "    </tr>\n",
       "  </thead>\n",
       "  <tbody>\n",
       "    <tr>\n",
       "      <th>Topic0</th>\n",
       "      <td>4000.131952</td>\n",
       "      <td>4000.002585</td>\n",
       "      <td>4000.002142</td>\n",
       "      <td>4000.000604</td>\n",
       "      <td>4000.000713</td>\n",
       "      <td>4000.000616</td>\n",
       "      <td>4000.001166</td>\n",
       "      <td>4000.000975</td>\n",
       "      <td>4000.000593</td>\n",
       "      <td>4000.000663</td>\n",
       "      <td>...</td>\n",
       "      <td>4000.000367</td>\n",
       "      <td>4000.005081</td>\n",
       "      <td>4000.328000</td>\n",
       "      <td>4000.306105</td>\n",
       "      <td>4000.135382</td>\n",
       "      <td>4000.000878</td>\n",
       "      <td>4000.002230</td>\n",
       "      <td>4000.001936</td>\n",
       "      <td>4000.000763</td>\n",
       "      <td>4000.001418</td>\n",
       "    </tr>\n",
       "    <tr>\n",
       "      <th>Topic1</th>\n",
       "      <td>4000.578749</td>\n",
       "      <td>4000.412517</td>\n",
       "      <td>4000.002142</td>\n",
       "      <td>4000.000606</td>\n",
       "      <td>4000.000711</td>\n",
       "      <td>4000.000615</td>\n",
       "      <td>4000.001166</td>\n",
       "      <td>4000.000976</td>\n",
       "      <td>4000.000590</td>\n",
       "      <td>4000.000663</td>\n",
       "      <td>...</td>\n",
       "      <td>4000.000367</td>\n",
       "      <td>4000.005069</td>\n",
       "      <td>4000.006278</td>\n",
       "      <td>4000.103386</td>\n",
       "      <td>4000.065081</td>\n",
       "      <td>4000.000878</td>\n",
       "      <td>4000.002231</td>\n",
       "      <td>4000.001937</td>\n",
       "      <td>4000.000765</td>\n",
       "      <td>4000.001418</td>\n",
       "    </tr>\n",
       "    <tr>\n",
       "      <th>Topic2</th>\n",
       "      <td>4000.000483</td>\n",
       "      <td>4000.002584</td>\n",
       "      <td>4000.002152</td>\n",
       "      <td>4000.000604</td>\n",
       "      <td>4000.000711</td>\n",
       "      <td>4000.000615</td>\n",
       "      <td>4002.405302</td>\n",
       "      <td>4000.000976</td>\n",
       "      <td>4000.000590</td>\n",
       "      <td>4000.000663</td>\n",
       "      <td>...</td>\n",
       "      <td>4000.000366</td>\n",
       "      <td>4000.005066</td>\n",
       "      <td>4001.214582</td>\n",
       "      <td>4000.117870</td>\n",
       "      <td>4000.117759</td>\n",
       "      <td>4000.000878</td>\n",
       "      <td>4000.002230</td>\n",
       "      <td>4000.001936</td>\n",
       "      <td>4000.000763</td>\n",
       "      <td>4000.849213</td>\n",
       "    </tr>\n",
       "    <tr>\n",
       "      <th>Topic3</th>\n",
       "      <td>4000.000483</td>\n",
       "      <td>4000.002587</td>\n",
       "      <td>4000.002145</td>\n",
       "      <td>4000.000604</td>\n",
       "      <td>4000.000711</td>\n",
       "      <td>4000.000618</td>\n",
       "      <td>4000.001166</td>\n",
       "      <td>4000.000977</td>\n",
       "      <td>4000.000592</td>\n",
       "      <td>4000.000663</td>\n",
       "      <td>...</td>\n",
       "      <td>4000.000366</td>\n",
       "      <td>4000.005064</td>\n",
       "      <td>4004.205437</td>\n",
       "      <td>4001.395611</td>\n",
       "      <td>4000.047245</td>\n",
       "      <td>4000.000879</td>\n",
       "      <td>4000.002237</td>\n",
       "      <td>4000.001937</td>\n",
       "      <td>4000.000763</td>\n",
       "      <td>4000.034553</td>\n",
       "    </tr>\n",
       "    <tr>\n",
       "      <th>Topic4</th>\n",
       "      <td>4000.000483</td>\n",
       "      <td>4000.212555</td>\n",
       "      <td>4000.002142</td>\n",
       "      <td>4000.000604</td>\n",
       "      <td>4000.000711</td>\n",
       "      <td>4000.000615</td>\n",
       "      <td>4000.073118</td>\n",
       "      <td>4000.000976</td>\n",
       "      <td>4000.000590</td>\n",
       "      <td>4000.000663</td>\n",
       "      <td>...</td>\n",
       "      <td>4000.000367</td>\n",
       "      <td>4000.005067</td>\n",
       "      <td>4001.287201</td>\n",
       "      <td>4004.191212</td>\n",
       "      <td>4000.000985</td>\n",
       "      <td>4000.000881</td>\n",
       "      <td>4000.002240</td>\n",
       "      <td>4000.001939</td>\n",
       "      <td>4000.000763</td>\n",
       "      <td>4000.001424</td>\n",
       "    </tr>\n",
       "  </tbody>\n",
       "</table>\n",
       "<p>5 rows × 5083 columns</p>\n",
       "</div>"
      ],
      "text/plain": [
       "                aah      abandon        abide      ability       ablaze  \\\n",
       "Topic0  4000.131952  4000.002585  4000.002142  4000.000604  4000.000713   \n",
       "Topic1  4000.578749  4000.412517  4000.002142  4000.000606  4000.000711   \n",
       "Topic2  4000.000483  4000.002584  4000.002152  4000.000604  4000.000711   \n",
       "Topic3  4000.000483  4000.002587  4000.002145  4000.000604  4000.000711   \n",
       "Topic4  4000.000483  4000.212555  4000.002142  4000.000604  4000.000711   \n",
       "\n",
       "           abortion       abrazo      absence       absent     absolute  ...  \\\n",
       "Topic0  4000.000616  4000.001166  4000.000975  4000.000593  4000.000663  ...   \n",
       "Topic1  4000.000615  4000.001166  4000.000976  4000.000590  4000.000663  ...   \n",
       "Topic2  4000.000615  4002.405302  4000.000976  4000.000590  4000.000663  ...   \n",
       "Topic3  4000.000618  4000.001166  4000.000977  4000.000592  4000.000663  ...   \n",
       "Topic4  4000.000615  4000.073118  4000.000976  4000.000590  4000.000663  ...   \n",
       "\n",
       "            youngin        youth         zeit          zie         ziel  \\\n",
       "Topic0  4000.000367  4000.005081  4000.328000  4000.306105  4000.135382   \n",
       "Topic1  4000.000367  4000.005069  4000.006278  4000.103386  4000.065081   \n",
       "Topic2  4000.000366  4000.005066  4001.214582  4000.117870  4000.117759   \n",
       "Topic3  4000.000366  4000.005064  4004.205437  4001.395611  4000.047245   \n",
       "Topic4  4000.000367  4000.005067  4001.287201  4004.191212  4000.000985   \n",
       "\n",
       "                zip         zone          zoo         zoom         zwei  \n",
       "Topic0  4000.000878  4000.002230  4000.001936  4000.000763  4000.001418  \n",
       "Topic1  4000.000878  4000.002231  4000.001937  4000.000765  4000.001418  \n",
       "Topic2  4000.000878  4000.002230  4000.001936  4000.000763  4000.849213  \n",
       "Topic3  4000.000879  4000.002237  4000.001937  4000.000763  4000.034553  \n",
       "Topic4  4000.000881  4000.002240  4000.001939  4000.000763  4000.001424  \n",
       "\n",
       "[5 rows x 5083 columns]"
      ]
     },
     "execution_count": 145,
     "metadata": {},
     "output_type": "execute_result"
    }
   ],
   "source": [
    "# Topic-Keyword Matrix\n",
    "df_topic_keywords = pd.DataFrame(lda_model.components_)\n",
    "\n",
    "# Assign Column and Index\n",
    "df_topic_keywords.columns = vectorizer.get_feature_names()\n",
    "df_topic_keywords.index = topicnames\n",
    "\n",
    "# View\n",
    "df_topic_keywords.head()"
   ]
  },
  {
   "cell_type": "code",
   "execution_count": 146,
   "metadata": {},
   "outputs": [
    {
     "data": {
      "text/html": [
       "<div>\n",
       "<style scoped>\n",
       "    .dataframe tbody tr th:only-of-type {\n",
       "        vertical-align: middle;\n",
       "    }\n",
       "\n",
       "    .dataframe tbody tr th {\n",
       "        vertical-align: top;\n",
       "    }\n",
       "\n",
       "    .dataframe thead th {\n",
       "        text-align: right;\n",
       "    }\n",
       "</style>\n",
       "<table border=\"1\" class=\"dataframe\">\n",
       "  <thead>\n",
       "    <tr style=\"text-align: right;\">\n",
       "      <th></th>\n",
       "      <th>Word 0</th>\n",
       "      <th>Word 1</th>\n",
       "      <th>Word 2</th>\n",
       "      <th>Word 3</th>\n",
       "      <th>Word 4</th>\n",
       "      <th>Word 5</th>\n",
       "      <th>Word 6</th>\n",
       "      <th>Word 7</th>\n",
       "      <th>Word 8</th>\n",
       "      <th>Word 9</th>\n",
       "      <th>Word 10</th>\n",
       "      <th>Word 11</th>\n",
       "      <th>Word 12</th>\n",
       "      <th>Word 13</th>\n",
       "      <th>Word 14</th>\n",
       "    </tr>\n",
       "  </thead>\n",
       "  <tbody>\n",
       "    <tr>\n",
       "      <th>Topic 0</th>\n",
       "      <td>ser</td>\n",
       "      <td>quiero</td>\n",
       "      <td>amor</td>\n",
       "      <td>puede</td>\n",
       "      <td>homme</td>\n",
       "      <td>vida</td>\n",
       "      <td>amo</td>\n",
       "      <td>dam</td>\n",
       "      <td>pra</td>\n",
       "      <td>uma</td>\n",
       "      <td>casa</td>\n",
       "      <td>voy</td>\n",
       "      <td>voc</td>\n",
       "      <td>conmigo</td>\n",
       "      <td>mas</td>\n",
       "    </tr>\n",
       "    <tr>\n",
       "      <th>Topic 1</th>\n",
       "      <td>revolution</td>\n",
       "      <td>vida</td>\n",
       "      <td>boom</td>\n",
       "      <td>che</td>\n",
       "      <td>som</td>\n",
       "      <td>smell</td>\n",
       "      <td>nunca</td>\n",
       "      <td>wat</td>\n",
       "      <td>noche</td>\n",
       "      <td>mira</td>\n",
       "      <td>alma</td>\n",
       "      <td>siempre</td>\n",
       "      <td>amor</td>\n",
       "      <td>est</td>\n",
       "      <td>wil</td>\n",
       "    </tr>\n",
       "    <tr>\n",
       "      <th>Topic 2</th>\n",
       "      <td>ahora</td>\n",
       "      <td>ser</td>\n",
       "      <td>mal</td>\n",
       "      <td>vida</td>\n",
       "      <td>dam</td>\n",
       "      <td>amor</td>\n",
       "      <td>voy</td>\n",
       "      <td>solo</td>\n",
       "      <td>quiero</td>\n",
       "      <td>tan</td>\n",
       "      <td>influence</td>\n",
       "      <td>vez</td>\n",
       "      <td>siempre</td>\n",
       "      <td>allein</td>\n",
       "      <td>dia</td>\n",
       "    </tr>\n",
       "    <tr>\n",
       "      <th>Topic 3</th>\n",
       "      <td>mehr</td>\n",
       "      <td>che</td>\n",
       "      <td>voy</td>\n",
       "      <td>sole</td>\n",
       "      <td>mia</td>\n",
       "      <td>amor</td>\n",
       "      <td>ser</td>\n",
       "      <td>madre</td>\n",
       "      <td>vida</td>\n",
       "      <td>alma</td>\n",
       "      <td>sta</td>\n",
       "      <td>nie</td>\n",
       "      <td>van</td>\n",
       "      <td>dan</td>\n",
       "      <td>kono</td>\n",
       "    </tr>\n",
       "    <tr>\n",
       "      <th>Topic 4</th>\n",
       "      <td>che</td>\n",
       "      <td>amor</td>\n",
       "      <td>digo</td>\n",
       "      <td>sono</td>\n",
       "      <td>robert</td>\n",
       "      <td>tem</td>\n",
       "      <td>gente</td>\n",
       "      <td>ben</td>\n",
       "      <td>niet</td>\n",
       "      <td>het</td>\n",
       "      <td>hoy</td>\n",
       "      <td>quiero</td>\n",
       "      <td>jou</td>\n",
       "      <td>ser</td>\n",
       "      <td>male</td>\n",
       "    </tr>\n",
       "    <tr>\n",
       "      <th>Topic 5</th>\n",
       "      <td>conmigo</td>\n",
       "      <td>verdad</td>\n",
       "      <td>luz</td>\n",
       "      <td>alma</td>\n",
       "      <td>amor</td>\n",
       "      <td>quiero</td>\n",
       "      <td>quiere</td>\n",
       "      <td>voc</td>\n",
       "      <td>zeit</td>\n",
       "      <td>hoy</td>\n",
       "      <td>ser</td>\n",
       "      <td>vida</td>\n",
       "      <td>pra</td>\n",
       "      <td>welt</td>\n",
       "      <td>che</td>\n",
       "    </tr>\n",
       "    <tr>\n",
       "      <th>Topic 6</th>\n",
       "      <td>puede</td>\n",
       "      <td>goodbye</td>\n",
       "      <td>ser</td>\n",
       "      <td>che</td>\n",
       "      <td>ahora</td>\n",
       "      <td>quiero</td>\n",
       "      <td>nunca</td>\n",
       "      <td>solo</td>\n",
       "      <td>amor</td>\n",
       "      <td>dee</td>\n",
       "      <td>siempre</td>\n",
       "      <td>mas</td>\n",
       "      <td>est</td>\n",
       "      <td>tan</td>\n",
       "      <td>voy</td>\n",
       "    </tr>\n",
       "    <tr>\n",
       "      <th>Topic 7</th>\n",
       "      <td>ser</td>\n",
       "      <td>komm</td>\n",
       "      <td>tend</td>\n",
       "      <td>vida</td>\n",
       "      <td>amor</td>\n",
       "      <td>quiero</td>\n",
       "      <td>che</td>\n",
       "      <td>solo</td>\n",
       "      <td>arrive</td>\n",
       "      <td>mas</td>\n",
       "      <td>mal</td>\n",
       "      <td>steak</td>\n",
       "      <td>leben</td>\n",
       "      <td>kan</td>\n",
       "      <td>carolina</td>\n",
       "    </tr>\n",
       "    <tr>\n",
       "      <th>Topic 8</th>\n",
       "      <td>amor</td>\n",
       "      <td>che</td>\n",
       "      <td>mal</td>\n",
       "      <td>solo</td>\n",
       "      <td>quero</td>\n",
       "      <td>nunca</td>\n",
       "      <td>voc</td>\n",
       "      <td>willst</td>\n",
       "      <td>pra</td>\n",
       "      <td>dame</td>\n",
       "      <td>van</td>\n",
       "      <td>vida</td>\n",
       "      <td>ser</td>\n",
       "      <td>rio</td>\n",
       "      <td>bien</td>\n",
       "    </tr>\n",
       "    <tr>\n",
       "      <th>Topic 9</th>\n",
       "      <td>amor</td>\n",
       "      <td>aqu</td>\n",
       "      <td>boom</td>\n",
       "      <td>che</td>\n",
       "      <td>arriba</td>\n",
       "      <td>siento</td>\n",
       "      <td>mai</td>\n",
       "      <td>ser</td>\n",
       "      <td>bien</td>\n",
       "      <td>vida</td>\n",
       "      <td>puedo</td>\n",
       "      <td>dove</td>\n",
       "      <td>mas</td>\n",
       "      <td>amar</td>\n",
       "      <td>hoy</td>\n",
       "    </tr>\n",
       "    <tr>\n",
       "      <th>Topic 10</th>\n",
       "      <td>amor</td>\n",
       "      <td>ding</td>\n",
       "      <td>vida</td>\n",
       "      <td>sol</td>\n",
       "      <td>siempre</td>\n",
       "      <td>mal</td>\n",
       "      <td>ver</td>\n",
       "      <td>sara</td>\n",
       "      <td>paso</td>\n",
       "      <td>gente</td>\n",
       "      <td>niin</td>\n",
       "      <td>quiero</td>\n",
       "      <td>boku</td>\n",
       "      <td>tan</td>\n",
       "      <td>hace</td>\n",
       "    </tr>\n",
       "    <tr>\n",
       "      <th>Topic 11</th>\n",
       "      <td>pea</td>\n",
       "      <td>puede</td>\n",
       "      <td>ser</td>\n",
       "      <td>che</td>\n",
       "      <td>est</td>\n",
       "      <td>llegar</td>\n",
       "      <td>vida</td>\n",
       "      <td>pra</td>\n",
       "      <td>quiero</td>\n",
       "      <td>mundo</td>\n",
       "      <td>voc</td>\n",
       "      <td>komm</td>\n",
       "      <td>bee</td>\n",
       "      <td>jesus</td>\n",
       "      <td>maria</td>\n",
       "    </tr>\n",
       "    <tr>\n",
       "      <th>Topic 12</th>\n",
       "      <td>suave</td>\n",
       "      <td>amor</td>\n",
       "      <td>solo</td>\n",
       "      <td>bien</td>\n",
       "      <td>manos</td>\n",
       "      <td>che</td>\n",
       "      <td>arriba</td>\n",
       "      <td>mas</td>\n",
       "      <td>ser</td>\n",
       "      <td>vida</td>\n",
       "      <td>noche</td>\n",
       "      <td>quiero</td>\n",
       "      <td>amanecer</td>\n",
       "      <td>vita</td>\n",
       "      <td>storm</td>\n",
       "    </tr>\n",
       "    <tr>\n",
       "      <th>Topic 13</th>\n",
       "      <td>love</td>\n",
       "      <td>time</td>\n",
       "      <td>feel</td>\n",
       "      <td>baby</td>\n",
       "      <td>life</td>\n",
       "      <td>yeah</td>\n",
       "      <td>day</td>\n",
       "      <td>gon</td>\n",
       "      <td>heart</td>\n",
       "      <td>leave</td>\n",
       "      <td>night</td>\n",
       "      <td>eye</td>\n",
       "      <td>girl</td>\n",
       "      <td>wan</td>\n",
       "      <td>win</td>\n",
       "    </tr>\n",
       "    <tr>\n",
       "      <th>Topic 14</th>\n",
       "      <td>gente</td>\n",
       "      <td>quiero</td>\n",
       "      <td>amor</td>\n",
       "      <td>yea</td>\n",
       "      <td>che</td>\n",
       "      <td>voy</td>\n",
       "      <td>voc</td>\n",
       "      <td>niin</td>\n",
       "      <td>vida</td>\n",
       "      <td>vamos</td>\n",
       "      <td>sei</td>\n",
       "      <td>dime</td>\n",
       "      <td>hum</td>\n",
       "      <td>dia</td>\n",
       "      <td>ser</td>\n",
       "    </tr>\n",
       "  </tbody>\n",
       "</table>\n",
       "</div>"
      ],
      "text/plain": [
       "              Word 0   Word 1 Word 2 Word 3   Word 4  Word 5  Word 6  Word 7  \\\n",
       "Topic 0          ser   quiero   amor  puede    homme    vida     amo     dam   \n",
       "Topic 1   revolution     vida   boom    che      som   smell   nunca     wat   \n",
       "Topic 2        ahora      ser    mal   vida      dam    amor     voy    solo   \n",
       "Topic 3         mehr      che    voy   sole      mia    amor     ser   madre   \n",
       "Topic 4          che     amor   digo   sono   robert     tem   gente     ben   \n",
       "Topic 5      conmigo   verdad    luz   alma     amor  quiero  quiere     voc   \n",
       "Topic 6        puede  goodbye    ser    che    ahora  quiero   nunca    solo   \n",
       "Topic 7          ser     komm   tend   vida     amor  quiero     che    solo   \n",
       "Topic 8         amor      che    mal   solo    quero   nunca     voc  willst   \n",
       "Topic 9         amor      aqu   boom    che   arriba  siento     mai     ser   \n",
       "Topic 10        amor     ding   vida    sol  siempre     mal     ver    sara   \n",
       "Topic 11         pea    puede    ser    che      est  llegar    vida     pra   \n",
       "Topic 12       suave     amor   solo   bien    manos     che  arriba     mas   \n",
       "Topic 13        love     time   feel   baby     life    yeah     day     gon   \n",
       "Topic 14       gente   quiero   amor    yea      che     voy     voc    niin   \n",
       "\n",
       "          Word 8 Word 9    Word 10  Word 11   Word 12  Word 13   Word 14  \n",
       "Topic 0      pra    uma       casa      voy       voc  conmigo       mas  \n",
       "Topic 1    noche   mira       alma  siempre      amor      est       wil  \n",
       "Topic 2   quiero    tan  influence      vez   siempre   allein       dia  \n",
       "Topic 3     vida   alma        sta      nie       van      dan      kono  \n",
       "Topic 4     niet    het        hoy   quiero       jou      ser      male  \n",
       "Topic 5     zeit    hoy        ser     vida       pra     welt       che  \n",
       "Topic 6     amor    dee    siempre      mas       est      tan       voy  \n",
       "Topic 7   arrive    mas        mal    steak     leben      kan  carolina  \n",
       "Topic 8      pra   dame        van     vida       ser      rio      bien  \n",
       "Topic 9     bien   vida      puedo     dove       mas     amar       hoy  \n",
       "Topic 10    paso  gente       niin   quiero      boku      tan      hace  \n",
       "Topic 11  quiero  mundo        voc     komm       bee    jesus     maria  \n",
       "Topic 12     ser   vida      noche   quiero  amanecer     vita     storm  \n",
       "Topic 13   heart  leave      night      eye      girl      wan       win  \n",
       "Topic 14    vida  vamos        sei     dime       hum      dia       ser  "
      ]
     },
     "execution_count": 146,
     "metadata": {},
     "output_type": "execute_result"
    }
   ],
   "source": [
    "# Show top n keywords for each topic\n",
    "def show_topics(vectorizer=vectorizer, lda_model=lda_model, n_words=20):\n",
    "    keywords = np.array(vectorizer.get_feature_names())\n",
    "    topic_keywords = []\n",
    "    for topic_weights in lda_model.components_:\n",
    "        top_keyword_locs = (-topic_weights).argsort()[:n_words]\n",
    "        topic_keywords.append(keywords.take(top_keyword_locs))\n",
    "    return topic_keywords\n",
    "\n",
    "topic_keywords = show_topics(vectorizer=vectorizer, lda_model=lda_model, n_words=15)        \n",
    "\n",
    "# Topic - Keywords Dataframe\n",
    "df_topic_keywords = pd.DataFrame(topic_keywords)\n",
    "df_topic_keywords.columns = ['Word '+str(i) for i in range(df_topic_keywords.shape[1])]\n",
    "df_topic_keywords.index = ['Topic '+str(i) for i in range(df_topic_keywords.shape[0])]\n",
    "df_topic_keywords"
   ]
  },
  {
   "cell_type": "markdown",
   "metadata": {},
   "source": [
    "import numpy as np\n",
    "from sklearn.manifold import TSNE\n",
    "a = np.array([[0, 0, 0], [0, 1, 1], [1, 0, 1], [1, 1, 1]])\n",
    "X_embedded = TSNE(n_components=2).fit_transform(a)\n",
    "X_embedded.shape"
   ]
  },
  {
   "cell_type": "markdown",
   "metadata": {},
   "source": [
    "# Get topic weights and dominant topics ------------\n",
    "from sklearn.manifold import TSNE\n",
    "from bokeh.plotting import figure, output_file, show\n",
    "from bokeh.models import Label\n",
    "from bokeh.io import output_notebook\n",
    "\n",
    "# Get topic weights\n",
    "topic_weights = []\n",
    "for i, row_list in enumerate(lda[corpus]):\n",
    "    topic_weights.append([w for i, w in row_list[0]])\n",
    "\n",
    "# Array of topic weights    \n",
    "arr = pd.DataFrame(topic_weights).fillna(0).values\n",
    "\n",
    "# Keep the well separated points (optional)\n",
    "arr = arr[np.amax(arr, axis=1) > 0.35]\n",
    "\n",
    "# Dominant topic number in each doc\n",
    "topic_num = np.argmax(arr, axis=1)\n",
    "\n",
    "# tSNE Dimension Reduction\n",
    "tsne_model = TSNE(n_components=2, verbose=1, random_state=0, angle=.99, init='pca')\n",
    "tsne_lda = tsne_model.fit_transform(arr)\n",
    "\n",
    "# Plot the Topic Clusters using Bokeh\n",
    "output_notebook()\n",
    "n_topics = 4\n",
    "mycolors = np.array([color for name, color in mcolors.TABLEAU_COLORS.items()])\n",
    "plot = figure(title=\"t-SNE Clustering of {} LDA Topics\".format(n_topics), \n",
    "              plot_width=900, plot_height=700)\n",
    "plot.scatter(x=tsne_lda[:,0], y=tsne_lda[:,1], color=mycolors[topic_num])\n",
    "show(plot)"
   ]
  },
  {
   "cell_type": "markdown",
   "metadata": {},
   "source": [
    "## Assemble Playlist"
   ]
  },
  {
   "cell_type": "code",
   "execution_count": 147,
   "metadata": {},
   "outputs": [],
   "source": [
    "def get_playlist_elements(components=range(n_components), feature_names=feature_names,\n",
    "                           sorting=sorting, topics_per_chunk=display_n_chunks, n_words=n_words):\n",
    "    topics_words = []\n",
    "    \n",
    "    for i in range(0, len(components), topics_per_chunk):\n",
    "        # for each chunk:\n",
    "        these_topics = components[i: i + topics_per_chunk]\n",
    "        \n",
    "        for t in these_topics:\n",
    "            \n",
    "            topic_words = []\n",
    "            \n",
    "            for i in range(n_words):\n",
    "                \n",
    "                try:\n",
    "                    #print((\"{:<14}\" * len_this_chunk).format(\n",
    "                    #    *feature_names[sorting[these_topics, i]]))\n",
    "                    topics_words.append({'topic':f'topic{t}','word':feature_names[sorting[these_topics, i]][t]})\n",
    "                except:\n",
    "                    pass\n",
    "        \n",
    "    return topics_words"
   ]
  },
  {
   "cell_type": "code",
   "execution_count": 148,
   "metadata": {},
   "outputs": [],
   "source": [
    "playlist_elements = get_playlist_elements()"
   ]
  },
  {
   "cell_type": "code",
   "execution_count": 149,
   "metadata": {},
   "outputs": [],
   "source": [
    "df_playlist_elements = pd.DataFrame(playlist_elements)"
   ]
  },
  {
   "cell_type": "code",
   "execution_count": 150,
   "metadata": {},
   "outputs": [],
   "source": [
    "list_df_words = df_playlist_elements['word'].tolist()\n",
    "list_df_topics = set(df_playlist_elements['topic'].tolist())"
   ]
  },
  {
   "cell_type": "code",
   "execution_count": 151,
   "metadata": {},
   "outputs": [],
   "source": [
    "def find_lyrics(lyrics,element,track_uri):\n",
    "    \n",
    "    if(lyrics.find(element)!= -1):\n",
    "        \n",
    "        return track_uri\n",
    "    \n",
    "    else:\n",
    "        \n",
    "        return None\n"
   ]
  },
  {
   "cell_type": "code",
   "execution_count": 152,
   "metadata": {},
   "outputs": [],
   "source": [
    "def make_ssp(topics,words):\n",
    "    topics_words = df_playlist_elements.copy()\n",
    "    \n",
    "    df_lyrics = df_demo.copy()\n",
    "    \n",
    "    df_empty = pd.DataFrame()\n",
    "    \n",
    "    ssp = []\n",
    "    \n",
    "    #Set df_demo_ssp to topic number\n",
    "\n",
    "    topics_words = topics_words[(topics_words['topic']== f'topic{topic}')]\n",
    "    \n",
    "    df_demo_ssp_wordset = topics_words['word'].tolist()\n",
    "\n",
    "    for word in df_demo_ssp_wordset:\n",
    "        \n",
    "        df_empty[f'{word}'] = df_lyrics.apply(lambda x: find_lyrics(x['lyrics'],word,x['track_uri']),axis=1)\n",
    "\n",
    "\n",
    "\n",
    "    return df_empty\n"
   ]
  },
  {
   "cell_type": "markdown",
   "metadata": {},
   "source": [
    "## Takes 8 minutes"
   ]
  },
  {
   "cell_type": "code",
   "execution_count": 153,
   "metadata": {},
   "outputs": [],
   "source": [
    "list_ssp = []\n",
    "\n",
    "for topic in range(len(list_df_topics)):\n",
    "    \n",
    "    ssp = make_ssp(topic,list_df_words)\n",
    "\n",
    "    \n",
    "    df_ssp = ssp.dropna(how='all')\n",
    "    \n",
    "    for x in range(100):\n",
    "        \n",
    "        for col in df_ssp.columns:\n",
    "            \n",
    "            df_ssp_col = df_ssp[col].dropna(how='any')\n",
    "            \n",
    "            col_track_uri = df_ssp_col.sample(1).values\n",
    "            \n",
    "            list_ssp.append({'word':col,'playlist':f'topic{topic}playlist{x}','track_uri':col_track_uri[0]})\n"
   ]
  },
  {
   "cell_type": "code",
   "execution_count": 154,
   "metadata": {},
   "outputs": [],
   "source": [
    "sample_ssp = pd.DataFrame(list_ssp)\n",
    "df_track_ssp = sample_ssp.merge(df_demo,left_on='track_uri',right_on='track_uri')\n",
    "df_agg_ssp = sample_ssp.merge(df_demo,left_on='track_uri',right_on='track_uri').groupby('playlist').median()"
   ]
  },
  {
   "cell_type": "code",
   "execution_count": 155,
   "metadata": {},
   "outputs": [
    {
     "data": {
      "text/html": [
       "<div>\n",
       "<style scoped>\n",
       "    .dataframe tbody tr th:only-of-type {\n",
       "        vertical-align: middle;\n",
       "    }\n",
       "\n",
       "    .dataframe tbody tr th {\n",
       "        vertical-align: top;\n",
       "    }\n",
       "\n",
       "    .dataframe thead th {\n",
       "        text-align: right;\n",
       "    }\n",
       "</style>\n",
       "<table border=\"1\" class=\"dataframe\">\n",
       "  <thead>\n",
       "    <tr style=\"text-align: right;\">\n",
       "      <th></th>\n",
       "      <th>word</th>\n",
       "      <th>playlist</th>\n",
       "      <th>track_uri</th>\n",
       "    </tr>\n",
       "  </thead>\n",
       "  <tbody>\n",
       "    <tr>\n",
       "      <th>0</th>\n",
       "      <td>lexus</td>\n",
       "      <td>topic0playlist0</td>\n",
       "      <td>6t8aRARnRaNwcY3rdF859F</td>\n",
       "    </tr>\n",
       "    <tr>\n",
       "      <th>1</th>\n",
       "      <td>macaroni</td>\n",
       "      <td>topic0playlist0</td>\n",
       "      <td>3qBxoudRLiLbFl7Ansz1Uh</td>\n",
       "    </tr>\n",
       "    <tr>\n",
       "      <th>2</th>\n",
       "      <td>lettin</td>\n",
       "      <td>topic0playlist0</td>\n",
       "      <td>5ksDTY4XsndnUqUDkndQk1</td>\n",
       "    </tr>\n",
       "    <tr>\n",
       "      <th>3</th>\n",
       "      <td>jacob</td>\n",
       "      <td>topic0playlist0</td>\n",
       "      <td>66GCLSYLNJCBSSCbKbmAie</td>\n",
       "    </tr>\n",
       "    <tr>\n",
       "      <th>4</th>\n",
       "      <td>claimin</td>\n",
       "      <td>topic0playlist0</td>\n",
       "      <td>6XkNBrBndPtFT19TS1WjVx</td>\n",
       "    </tr>\n",
       "    <tr>\n",
       "      <th>...</th>\n",
       "      <td>...</td>\n",
       "      <td>...</td>\n",
       "      <td>...</td>\n",
       "    </tr>\n",
       "    <tr>\n",
       "      <th>4995</th>\n",
       "      <td>ounce</td>\n",
       "      <td>topic4playlist99</td>\n",
       "      <td>6OSG8RAjlHTQfTI8IkT5XH</td>\n",
       "    </tr>\n",
       "    <tr>\n",
       "      <th>4996</th>\n",
       "      <td>prolly</td>\n",
       "      <td>topic4playlist99</td>\n",
       "      <td>0ylLlU1vW2dwuOnH3FYPvQ</td>\n",
       "    </tr>\n",
       "    <tr>\n",
       "      <th>4997</th>\n",
       "      <td>vip</td>\n",
       "      <td>topic4playlist99</td>\n",
       "      <td>3iYqbp7fOmdZPN5puwcnRM</td>\n",
       "    </tr>\n",
       "    <tr>\n",
       "      <th>4998</th>\n",
       "      <td>speakin</td>\n",
       "      <td>topic4playlist99</td>\n",
       "      <td>6nS6eSTUyaiXr4KSXosL56</td>\n",
       "    </tr>\n",
       "    <tr>\n",
       "      <th>4999</th>\n",
       "      <td>fashioned</td>\n",
       "      <td>topic4playlist99</td>\n",
       "      <td>6ZWza95WioSLfAofqXNeiQ</td>\n",
       "    </tr>\n",
       "  </tbody>\n",
       "</table>\n",
       "<p>5000 rows × 3 columns</p>\n",
       "</div>"
      ],
      "text/plain": [
       "           word          playlist               track_uri\n",
       "0         lexus   topic0playlist0  6t8aRARnRaNwcY3rdF859F\n",
       "1      macaroni   topic0playlist0  3qBxoudRLiLbFl7Ansz1Uh\n",
       "2        lettin   topic0playlist0  5ksDTY4XsndnUqUDkndQk1\n",
       "3         jacob   topic0playlist0  66GCLSYLNJCBSSCbKbmAie\n",
       "4       claimin   topic0playlist0  6XkNBrBndPtFT19TS1WjVx\n",
       "...         ...               ...                     ...\n",
       "4995      ounce  topic4playlist99  6OSG8RAjlHTQfTI8IkT5XH\n",
       "4996     prolly  topic4playlist99  0ylLlU1vW2dwuOnH3FYPvQ\n",
       "4997        vip  topic4playlist99  3iYqbp7fOmdZPN5puwcnRM\n",
       "4998    speakin  topic4playlist99  6nS6eSTUyaiXr4KSXosL56\n",
       "4999  fashioned  topic4playlist99  6ZWza95WioSLfAofqXNeiQ\n",
       "\n",
       "[5000 rows x 3 columns]"
      ]
     },
     "execution_count": 155,
     "metadata": {},
     "output_type": "execute_result"
    }
   ],
   "source": [
    "sample_ssp"
   ]
  },
  {
   "cell_type": "code",
   "execution_count": 156,
   "metadata": {},
   "outputs": [],
   "source": [
    "ssp = df_track_ssp[df_track_ssp['playlist']=='topic0playlist1'].sort_values(by='valence',ascending=True)"
   ]
  },
  {
   "cell_type": "code",
   "execution_count": 157,
   "metadata": {},
   "outputs": [
    {
     "data": {
      "text/plain": [
       "<matplotlib.axes._subplots.AxesSubplot at 0x1a353032d0>"
      ]
     },
     "execution_count": 157,
     "metadata": {},
     "output_type": "execute_result"
    },
    {
     "data": {
      "image/png": "[encoded data removed]",
      "text/plain": [
       "<Figure size 576x396 with 1 Axes>"
      ]
     },
     "metadata": {},
     "output_type": "display_data"
    }
   ],
   "source": [
    "ssp.plot.line(x='valence',y='energy')"
   ]
  },
  {
   "cell_type": "code",
   "execution_count": 158,
   "metadata": {},
   "outputs": [
    {
     "data": {
      "text/plain": [
       "array(['prolly', 'jacob', 'macaroni', 'vip', 'lexus', 'claimin',\n",
       "       'fashioned', 'speakin', 'lettin', 'ounce'], dtype=object)"
      ]
     },
     "execution_count": 158,
     "metadata": {},
     "output_type": "execute_result"
    }
   ],
   "source": [
    "ssp['word'].values"
   ]
  },
  {
   "cell_type": "markdown",
   "metadata": {},
   "source": [
    "## Save SSP"
   ]
  },
  {
   "cell_type": "code",
   "execution_count": 159,
   "metadata": {},
   "outputs": [],
   "source": [
    "#df_sample_ssp.to_csv('test_ssp.csv',sep='|',index=True)"
   ]
  },
  {
   "cell_type": "markdown",
   "metadata": {},
   "source": [
    "## Below is Under Development"
   ]
  },
  {
   "cell_type": "code",
   "execution_count": 160,
   "metadata": {},
   "outputs": [],
   "source": [
    "## Visualization (Valence Curve, Energy Curve)"
   ]
  },
  {
   "cell_type": "code",
   "execution_count": 161,
   "metadata": {},
   "outputs": [],
   "source": [
    "## Create Spotify Playlist"
   ]
  },
  {
   "cell_type": "code",
   "execution_count": 162,
   "metadata": {},
   "outputs": [],
   "source": [
    "import requests\n",
    "import json\n",
    "import pandas as pd\n",
    "import spotipy#authentication\n",
    "import spotipy.util as util#authentication\n",
    "from spotipy.oauth2 import SpotifyClientCredentials#authentication"
   ]
  },
  {
   "cell_type": "code",
   "execution_count": 165,
   "metadata": {},
   "outputs": [],
   "source": [
    "cid = '049ade7215e54c63a2b628f3784dc407'\n",
    "secret = '171ef0fc408745e88dd5b99b83291146'\n",
    "redirect_uri = 'http://google.com/'\n",
    "username = 'name'"
   ]
  },
  {
   "cell_type": "code",
   "execution_count": 167,
   "metadata": {},
   "outputs": [
    {
     "name": "stdout",
     "output_type": "stream",
     "text": [
      "Enter the URL you were redirected to: https://www.google.com/?code=AQCr8aNkCalk0mMHzrpB4Zhe-7Hk-ltXDUtqLnrOPA-9nIUqwJZgVQ6xdNS9jpWKeihX8anPp3bGKCTdTAhU_SyLwubZWJkODPlUfLkB-l_RIHNkCDFCITlonrdIF0Gwmpo8nV9w1W3ectz5noNGnK0vCxnJWh2Ua6R7ivieE3_2SBcY2a0awEcofhXlwHo\n",
      "Enter the URL you were redirected to: https://www.google.com/?code=AQBXd1KlxHZ6-45wo8_Spmr7HK2hUG6BeDD5W7-UjUUeI_xumSBFdZsKwQdBbcAaxsalYmeT9trBkL_Q02Z_yMEaAL9NZjninR6yvLxrOq4rfcKRy99i_gY13Bk65bvYJuZUCMEoIj6xunJ7TZqeKziboyJjd9phDvQov1JLnhw0TBjP5J3eEEc\n"
     ]
    }
   ],
   "source": [
    "#Authentication\n",
    "\n",
    "scope = 'playlist-modify-private'\n",
    "token_playlist = util.prompt_for_user_token(username, scope, client_id=cid, client_secret=secret, redirect_uri=redirect_uri)\n",
    "\n",
    "if token_playlist:\n",
    "    \n",
    "    sp_playlist = spotipy.Spotify(auth=token_playlist)\n",
    "\n",
    "else:\n",
    "    \n",
    "    print(\"Can't get token for\", username)\n",
    "    \n",
    "#Authentication\n",
    "\n",
    "scope = 'user-read-private'\n",
    "\n",
    "token_user = util.prompt_for_user_token(username, scope, client_id=cid, client_secret=secret, redirect_uri=redirect_uri)\n",
    "\n",
    "if token_user:\n",
    "    sp_user = spotipy.Spotify(auth=token_user)\n",
    "else:\n",
    "    print(\"Can't get token for\", username)"
   ]
  },
  {
   "cell_type": "code",
   "execution_count": 168,
   "metadata": {},
   "outputs": [],
   "source": [
    "def get_user_id(url):\n",
    "    try:\n",
    "        resp = requests.get(url,headers={'Authorization': 'Bearer ' + token_user},\n",
    "                             #data={\"name\": \"SSP\"}\n",
    "                           )\n",
    "        \n",
    "        resp.raise_for_status()\n",
    "        \n",
    "    except requests.exceptions.HTTPError as err:\n",
    "        \n",
    "        print(err)\n",
    "        \n",
    "    \n",
    "    response = resp.json()\n",
    "    userid = response['id']\n",
    "    \n",
    "    return userid\n"
   ]
  },
  {
   "cell_type": "code",
   "execution_count": 169,
   "metadata": {},
   "outputs": [],
   "source": [
    "user_id = get_user_id('https://api.spotify.com/v1/me')"
   ]
  },
  {
   "cell_type": "code",
   "execution_count": 170,
   "metadata": {},
   "outputs": [
    {
     "data": {
      "text/plain": [
       "'124399179'"
      ]
     },
     "execution_count": 170,
     "metadata": {},
     "output_type": "execute_result"
    }
   ],
   "source": [
    "identification = user_id\n",
    "identification"
   ]
  },
  {
   "cell_type": "code",
   "execution_count": 171,
   "metadata": {},
   "outputs": [],
   "source": [
    "playlist = sp_playlist.user_playlist_create(identification,str(ssp['word'].values), public=False, description=\"Ideal SSP\")"
   ]
  },
  {
   "cell_type": "code",
   "execution_count": 172,
   "metadata": {},
   "outputs": [
    {
     "data": {
      "text/plain": [
       "{'collaborative': False,\n",
       " 'description': 'Ideal SSP',\n",
       " 'external_urls': {'spotify': 'https://open.spotify.com/playlist/3RHiXaDmA2btxclNiLXdaV'},\n",
       " 'followers': {'href': None, 'total': 0},\n",
       " 'href': 'https://api.spotify.com/v1/playlists/3RHiXaDmA2btxclNiLXdaV',\n",
       " 'id': '3RHiXaDmA2btxclNiLXdaV',\n",
       " 'images': [],\n",
       " 'name': \"['prolly' 'jacob' 'macaroni' 'vip' 'lexus' 'claimin' 'fashioned' 'speakin'\\n 'lettin' 'ounce']\",\n",
       " 'owner': {'display_name': 'Adam Goldstein',\n",
       "  'external_urls': {'spotify': 'https://open.spotify.com/user/124399179'},\n",
       "  'href': 'https://api.spotify.com/v1/users/124399179',\n",
       "  'id': '124399179',\n",
       "  'type': 'user',\n",
       "  'uri': 'spotify:user:124399179'},\n",
       " 'primary_color': None,\n",
       " 'public': False,\n",
       " 'snapshot_id': 'MSw2ZTcwMDcyZTUxOWIwM2Q3N2ViODQ1NDg1OTY0OTMwMGE4ZDQwYzI3',\n",
       " 'tracks': {'href': 'https://api.spotify.com/v1/playlists/3RHiXaDmA2btxclNiLXdaV/tracks',\n",
       "  'items': [],\n",
       "  'limit': 100,\n",
       "  'next': None,\n",
       "  'offset': 0,\n",
       "  'previous': None,\n",
       "  'total': 0},\n",
       " 'type': 'playlist',\n",
       " 'uri': 'spotify:playlist:3RHiXaDmA2btxclNiLXdaV'}"
      ]
     },
     "execution_count": 172,
     "metadata": {},
     "output_type": "execute_result"
    }
   ],
   "source": [
    "playlist"
   ]
  },
  {
   "cell_type": "code",
   "execution_count": 173,
   "metadata": {},
   "outputs": [],
   "source": [
    "playlist_tracks = sp_playlist.user_playlist_add_tracks(identification,playlist['id'],ssp['track_uri'], position=None)"
   ]
  },
  {
   "cell_type": "markdown",
   "metadata": {},
   "source": [
    "## End"
   ]
  },
  {
   "cell_type": "markdown",
   "metadata": {},
   "source": [
    "## Sample Topic Analysis Code"
   ]
  },
  {
   "cell_type": "markdown",
   "metadata": {},
   "source": [
    "def display_topics(model, feature_names, no_top_words):\n",
    "    for topic_idx, topic in enumerate(model.components_):\n",
    "        print(\"Topic {i}:\".format(i=topic_idx))\n",
    "        print(\" \".join([feature_names[i]\n",
    "                        for i in topic.argsort()[:-no_top_words - 1:-1]]))\n",
    "#How many words per topic\n",
    "no_top_words = 4\n",
    "display_topics(nmf, tfidf_feature_names, no_top_words)"
   ]
  },
  {
   "cell_type": "code",
   "execution_count": null,
   "metadata": {},
   "outputs": [],
   "source": []
  }
 ],
 "metadata": {
  "kernelspec": {
   "display_name": "Python 3",
   "language": "python",
   "name": "python3"
  },
  "language_info": {
   "codemirror_mode": {
    "name": "ipython",
    "version": 3
   },
   "file_extension": ".py",
   "mimetype": "text/x-python",
   "name": "python",
   "nbconvert_exporter": "python",
   "pygments_lexer": "ipython3",
   "version": "3.7.6"
  }
 },
 "nbformat": 4,
 "nbformat_minor": 2
}
