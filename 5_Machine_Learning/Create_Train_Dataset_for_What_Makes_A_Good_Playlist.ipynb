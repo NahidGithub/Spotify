{
 "cells": [
  {
   "cell_type": "code",
   "execution_count": 1,
   "metadata": {},
   "outputs": [],
   "source": [
    "import pandas as pd\n",
    "import numpy as np\n",
    "from sklearn.feature_extraction.text import TfidfVectorizer,CountVectorizer\n",
    "from nltk import word_tokenize\n",
    "import boto3\n",
    "from s3 import get_file\n",
    "import re\n",
    "import mglearn\n",
    "import sklearn\n",
    "import yellowbrick\n",
    "from nltk.corpus import stopwords"
   ]
  },
  {
   "cell_type": "code",
   "execution_count": 2,
   "metadata": {},
   "outputs": [],
   "source": [
    "from sklearn.feature_extraction.stop_words import ENGLISH_STOP_WORDS"
   ]
  },
  {
   "cell_type": "code",
   "execution_count": 3,
   "metadata": {},
   "outputs": [],
   "source": [
    "s3 = boto3.resource('s3')\n",
    "#lyrics = get_file(s3,'s3ssp',download_file='NLP_Data/master_lyrics_audio_features.csv',rename_file='0320_2020_nlp.csv')\n",
    "\n",
    "audiofeatures = get_file(s3,'s3ssp',download_file='Analysis_Data/master_audiofeatures_track_uri.csv',rename_file='audiofeatures_0516_2020_nlp.csv')"
   ]
  },
  {
   "cell_type": "code",
   "execution_count": 4,
   "metadata": {},
   "outputs": [],
   "source": [
    "df = pd.read_csv(audiofeatures,sep='|',encoding='utf-8')"
   ]
  },
  {
   "cell_type": "code",
   "execution_count": 5,
   "metadata": {},
   "outputs": [
    {
     "data": {
      "text/plain": [
       "array([[<matplotlib.axes._subplots.AxesSubplot object at 0x11b2fe750>,\n",
       "        <matplotlib.axes._subplots.AxesSubplot object at 0x11cbd7650>,\n",
       "        <matplotlib.axes._subplots.AxesSubplot object at 0x11ce4a890>],\n",
       "       [<matplotlib.axes._subplots.AxesSubplot object at 0x105ed5cd0>,\n",
       "        <matplotlib.axes._subplots.AxesSubplot object at 0x105f07bd0>,\n",
       "        <matplotlib.axes._subplots.AxesSubplot object at 0x106c11590>],\n",
       "       [<matplotlib.axes._subplots.AxesSubplot object at 0x106c3d9d0>,\n",
       "        <matplotlib.axes._subplots.AxesSubplot object at 0x106c66e10>,\n",
       "        <matplotlib.axes._subplots.AxesSubplot object at 0x106c6f8d0>],\n",
       "       [<matplotlib.axes._subplots.AxesSubplot object at 0x106c9ae50>,\n",
       "        <matplotlib.axes._subplots.AxesSubplot object at 0x106cf3b10>,\n",
       "        <matplotlib.axes._subplots.AxesSubplot object at 0x11012bf50>]],\n",
       "      dtype=object)"
      ]
     },
     "execution_count": 5,
     "metadata": {},
     "output_type": "execute_result"
    },
    {
     "data": {
      "image/png": "[encoded data removed]",
      "text/plain": [
       "<Figure size 432x288 with 12 Axes>"
      ]
     },
     "metadata": {
      "needs_background": "light"
     },
     "output_type": "display_data"
    }
   ],
   "source": [
    "df.hist()"
   ]
  },
  {
   "cell_type": "code",
   "execution_count": 6,
   "metadata": {},
   "outputs": [
    {
     "data": {
      "text/html": [
       "<div>\n",
       "<style scoped>\n",
       "    .dataframe tbody tr th:only-of-type {\n",
       "        vertical-align: middle;\n",
       "    }\n",
       "\n",
       "    .dataframe tbody tr th {\n",
       "        vertical-align: top;\n",
       "    }\n",
       "\n",
       "    .dataframe thead th {\n",
       "        text-align: right;\n",
       "    }\n",
       "</style>\n",
       "<table border=\"1\" class=\"dataframe\">\n",
       "  <thead>\n",
       "    <tr style=\"text-align: right;\">\n",
       "      <th></th>\n",
       "      <th>danceability</th>\n",
       "      <th>energy</th>\n",
       "      <th>key</th>\n",
       "      <th>loudness</th>\n",
       "      <th>mode</th>\n",
       "      <th>speechiness</th>\n",
       "      <th>acousticness</th>\n",
       "      <th>instrumentalness</th>\n",
       "      <th>liveness</th>\n",
       "      <th>valence</th>\n",
       "      <th>tempo</th>\n",
       "      <th>time_signature</th>\n",
       "    </tr>\n",
       "  </thead>\n",
       "  <tbody>\n",
       "    <tr>\n",
       "      <th>count</th>\n",
       "      <td>501333.000000</td>\n",
       "      <td>501333.000000</td>\n",
       "      <td>501333.000000</td>\n",
       "      <td>501333.000000</td>\n",
       "      <td>501333.000000</td>\n",
       "      <td>501333.000000</td>\n",
       "      <td>501333.000000</td>\n",
       "      <td>501333.000000</td>\n",
       "      <td>501333.000000</td>\n",
       "      <td>501333.000000</td>\n",
       "      <td>501333.000000</td>\n",
       "      <td>501333.000000</td>\n",
       "    </tr>\n",
       "    <tr>\n",
       "      <th>mean</th>\n",
       "      <td>0.513687</td>\n",
       "      <td>0.538558</td>\n",
       "      <td>5.198752</td>\n",
       "      <td>-10.729865</td>\n",
       "      <td>0.702182</td>\n",
       "      <td>0.077887</td>\n",
       "      <td>0.428016</td>\n",
       "      <td>0.203583</td>\n",
       "      <td>0.240643</td>\n",
       "      <td>0.488803</td>\n",
       "      <td>118.764158</td>\n",
       "      <td>3.854332</td>\n",
       "    </tr>\n",
       "    <tr>\n",
       "      <th>std</th>\n",
       "      <td>0.170814</td>\n",
       "      <td>0.264619</td>\n",
       "      <td>3.522258</td>\n",
       "      <td>5.406123</td>\n",
       "      <td>0.457300</td>\n",
       "      <td>0.116084</td>\n",
       "      <td>0.361531</td>\n",
       "      <td>0.329383</td>\n",
       "      <td>0.227843</td>\n",
       "      <td>0.263345</td>\n",
       "      <td>30.161797</td>\n",
       "      <td>0.507003</td>\n",
       "    </tr>\n",
       "    <tr>\n",
       "      <th>min</th>\n",
       "      <td>0.000000</td>\n",
       "      <td>0.000000</td>\n",
       "      <td>0.000000</td>\n",
       "      <td>-60.000000</td>\n",
       "      <td>0.000000</td>\n",
       "      <td>0.000000</td>\n",
       "      <td>0.000000</td>\n",
       "      <td>0.000000</td>\n",
       "      <td>0.000000</td>\n",
       "      <td>0.000000</td>\n",
       "      <td>0.000000</td>\n",
       "      <td>0.000000</td>\n",
       "    </tr>\n",
       "    <tr>\n",
       "      <th>25%</th>\n",
       "      <td>0.396000</td>\n",
       "      <td>0.326000</td>\n",
       "      <td>2.000000</td>\n",
       "      <td>-13.314000</td>\n",
       "      <td>0.000000</td>\n",
       "      <td>0.033600</td>\n",
       "      <td>0.052400</td>\n",
       "      <td>0.000005</td>\n",
       "      <td>0.099700</td>\n",
       "      <td>0.271000</td>\n",
       "      <td>96.064000</td>\n",
       "      <td>4.000000</td>\n",
       "    </tr>\n",
       "    <tr>\n",
       "      <th>50%</th>\n",
       "      <td>0.522000</td>\n",
       "      <td>0.549000</td>\n",
       "      <td>5.000000</td>\n",
       "      <td>-9.629000</td>\n",
       "      <td>1.000000</td>\n",
       "      <td>0.042800</td>\n",
       "      <td>0.375000</td>\n",
       "      <td>0.001750</td>\n",
       "      <td>0.137000</td>\n",
       "      <td>0.487000</td>\n",
       "      <td>117.646000</td>\n",
       "      <td>4.000000</td>\n",
       "    </tr>\n",
       "    <tr>\n",
       "      <th>75%</th>\n",
       "      <td>0.637000</td>\n",
       "      <td>0.761000</td>\n",
       "      <td>8.000000</td>\n",
       "      <td>-6.886000</td>\n",
       "      <td>1.000000</td>\n",
       "      <td>0.066500</td>\n",
       "      <td>0.793000</td>\n",
       "      <td>0.318000</td>\n",
       "      <td>0.299000</td>\n",
       "      <td>0.704000</td>\n",
       "      <td>137.009000</td>\n",
       "      <td>4.000000</td>\n",
       "    </tr>\n",
       "    <tr>\n",
       "      <th>max</th>\n",
       "      <td>0.991000</td>\n",
       "      <td>1.000000</td>\n",
       "      <td>11.000000</td>\n",
       "      <td>4.246000</td>\n",
       "      <td>1.000000</td>\n",
       "      <td>0.969000</td>\n",
       "      <td>0.996000</td>\n",
       "      <td>0.950000</td>\n",
       "      <td>1.000000</td>\n",
       "      <td>1.000000</td>\n",
       "      <td>247.961000</td>\n",
       "      <td>5.000000</td>\n",
       "    </tr>\n",
       "  </tbody>\n",
       "</table>\n",
       "</div>"
      ],
      "text/plain": [
       "        danceability         energy            key       loudness  \\\n",
       "count  501333.000000  501333.000000  501333.000000  501333.000000   \n",
       "mean        0.513687       0.538558       5.198752     -10.729865   \n",
       "std         0.170814       0.264619       3.522258       5.406123   \n",
       "min         0.000000       0.000000       0.000000     -60.000000   \n",
       "25%         0.396000       0.326000       2.000000     -13.314000   \n",
       "50%         0.522000       0.549000       5.000000      -9.629000   \n",
       "75%         0.637000       0.761000       8.000000      -6.886000   \n",
       "max         0.991000       1.000000      11.000000       4.246000   \n",
       "\n",
       "                mode    speechiness   acousticness  instrumentalness  \\\n",
       "count  501333.000000  501333.000000  501333.000000     501333.000000   \n",
       "mean        0.702182       0.077887       0.428016          0.203583   \n",
       "std         0.457300       0.116084       0.361531          0.329383   \n",
       "min         0.000000       0.000000       0.000000          0.000000   \n",
       "25%         0.000000       0.033600       0.052400          0.000005   \n",
       "50%         1.000000       0.042800       0.375000          0.001750   \n",
       "75%         1.000000       0.066500       0.793000          0.318000   \n",
       "max         1.000000       0.969000       0.996000          0.950000   \n",
       "\n",
       "            liveness        valence          tempo  time_signature  \n",
       "count  501333.000000  501333.000000  501333.000000   501333.000000  \n",
       "mean        0.240643       0.488803     118.764158        3.854332  \n",
       "std         0.227843       0.263345      30.161797        0.507003  \n",
       "min         0.000000       0.000000       0.000000        0.000000  \n",
       "25%         0.099700       0.271000      96.064000        4.000000  \n",
       "50%         0.137000       0.487000     117.646000        4.000000  \n",
       "75%         0.299000       0.704000     137.009000        4.000000  \n",
       "max         1.000000       1.000000     247.961000        5.000000  "
      ]
     },
     "execution_count": 6,
     "metadata": {},
     "output_type": "execute_result"
    }
   ],
   "source": [
    "df_playlist = df.copy()\n",
    "df_playlist = df_playlist[(df_playlist['instrumentalness']<=.95)]\n",
    "df_playlist.head()\n",
    "df_playlist.describe()"
   ]
  },
  {
   "cell_type": "code",
   "execution_count": 7,
   "metadata": {},
   "outputs": [
    {
     "data": {
      "text/plain": [
       "array([[<matplotlib.axes._subplots.AxesSubplot object at 0x11d2a8250>,\n",
       "        <matplotlib.axes._subplots.AxesSubplot object at 0x11d38cd90>,\n",
       "        <matplotlib.axes._subplots.AxesSubplot object at 0x11df46590>],\n",
       "       [<matplotlib.axes._subplots.AxesSubplot object at 0x11df70d50>,\n",
       "        <matplotlib.axes._subplots.AxesSubplot object at 0x11dfa3550>,\n",
       "        <matplotlib.axes._subplots.AxesSubplot object at 0x11dfccd10>],\n",
       "       [<matplotlib.axes._subplots.AxesSubplot object at 0x11e001510>,\n",
       "        <matplotlib.axes._subplots.AxesSubplot object at 0x11e02bc10>,\n",
       "        <matplotlib.axes._subplots.AxesSubplot object at 0x11e033750>],\n",
       "       [<matplotlib.axes._subplots.AxesSubplot object at 0x11e0670d0>,\n",
       "        <matplotlib.axes._subplots.AxesSubplot object at 0x11e0bbed0>,\n",
       "        <matplotlib.axes._subplots.AxesSubplot object at 0x11e0e7b90>]],\n",
       "      dtype=object)"
      ]
     },
     "execution_count": 7,
     "metadata": {},
     "output_type": "execute_result"
    },
    {
     "data": {
      "image/png": "[encoded data removed]",
      "text/plain": [
       "<Figure size 432x288 with 12 Axes>"
      ]
     },
     "metadata": {
      "needs_background": "light"
     },
     "output_type": "display_data"
    }
   ],
   "source": [
    "df_playlist.hist()"
   ]
  },
  {
   "cell_type": "code",
   "execution_count": 8,
   "metadata": {},
   "outputs": [],
   "source": [
    "#Append to Pandas\n",
    "numpy_train_dataset = np.empty(0, dtype=object, order='C')"
   ]
  },
  {
   "cell_type": "code",
   "execution_count": 9,
   "metadata": {},
   "outputs": [
    {
     "name": "stdout",
     "output_type": "stream",
     "text": [
      "CPU times: user 1h 12min 19s, sys: 3min 18s, total: 1h 15min 38s\n",
      "Wall time: 1h 16min 31s\n"
     ]
    }
   ],
   "source": [
    "%%time\n",
    "df_ideal_playlist = df_playlist\n",
    "train = round(501333 * .8)\n",
    "\n",
    "#Break into chunks\n",
    "import random\n",
    "i = 0\n",
    "master_ideal_track_audiofeatures=[]\n",
    "\n",
    "\n",
    "#Convert df into numpy\n",
    "list_track_uri = df_ideal_playlist['track_uri'].to_numpy(dtype=object, copy=True)\n",
    "\n",
    "\n",
    "\n",
    "\n",
    "#Cycle - is how many times around the loop\n",
    "cycle = train\n",
    "\n",
    "#test = 1000\n",
    "for x in range(train):\n",
    "    #Split list_track_uri into chunks by cycle amount\n",
    "    numpy_ideal_playlist = np.random.choice(list_track_uri, size=(20), replace=False)\n",
    "    for track in numpy_ideal_playlist:\n",
    "        master_ideal_track_audiofeatures.append({'playlist':f'playlist{x}','track_uri':track})"
   ]
  },
  {
   "cell_type": "code",
   "execution_count": 10,
   "metadata": {},
   "outputs": [],
   "source": [
    "df_only_tracks = pd.DataFrame(master_ideal_track_audiofeatures)#.drop_duplicates([0]).describe()"
   ]
  },
  {
   "cell_type": "code",
   "execution_count": 11,
   "metadata": {},
   "outputs": [],
   "source": [
    "df_merge_training = df_only_tracks.merge(df,left_on='track_uri',right_on='track_uri')"
   ]
  },
  {
   "cell_type": "code",
   "execution_count": 21,
   "metadata": {},
   "outputs": [],
   "source": [
    "df_merge_training.to_csv('training_dataset.csv',sep='|',index=False)"
   ]
  },
  {
   "cell_type": "code",
   "execution_count": 18,
   "metadata": {},
   "outputs": [
    {
     "data": {
      "text/html": [
       "<div>\n",
       "<style scoped>\n",
       "    .dataframe tbody tr th:only-of-type {\n",
       "        vertical-align: middle;\n",
       "    }\n",
       "\n",
       "    .dataframe tbody tr th {\n",
       "        vertical-align: top;\n",
       "    }\n",
       "\n",
       "    .dataframe thead th {\n",
       "        text-align: right;\n",
       "    }\n",
       "</style>\n",
       "<table border=\"1\" class=\"dataframe\">\n",
       "  <thead>\n",
       "    <tr style=\"text-align: right;\">\n",
       "      <th></th>\n",
       "      <th>playlist</th>\n",
       "      <th>track_uri</th>\n",
       "      <th>artist_uri</th>\n",
       "      <th>artist_name</th>\n",
       "      <th>album_uri</th>\n",
       "      <th>track_name</th>\n",
       "      <th>danceability</th>\n",
       "      <th>energy</th>\n",
       "      <th>key</th>\n",
       "      <th>loudness</th>\n",
       "      <th>mode</th>\n",
       "      <th>speechiness</th>\n",
       "      <th>acousticness</th>\n",
       "      <th>instrumentalness</th>\n",
       "      <th>liveness</th>\n",
       "      <th>valence</th>\n",
       "      <th>tempo</th>\n",
       "      <th>time_signature</th>\n",
       "    </tr>\n",
       "  </thead>\n",
       "  <tbody>\n",
       "    <tr>\n",
       "      <th>0</th>\n",
       "      <td>playlist0</td>\n",
       "      <td>6vQcUyoeJhDfFf1AGnVeAQ</td>\n",
       "      <td>2KSj2QZF42ffJv8uLJk3uU</td>\n",
       "      <td>Unitopia</td>\n",
       "      <td>0guwr3xFVEPeAQ0G4fHOZQ</td>\n",
       "      <td>Cool Air</td>\n",
       "      <td>0.55</td>\n",
       "      <td>0.544</td>\n",
       "      <td>4</td>\n",
       "      <td>-8.82</td>\n",
       "      <td>1</td>\n",
       "      <td>0.0374</td>\n",
       "      <td>0.0447</td>\n",
       "      <td>0.0004</td>\n",
       "      <td>0.131</td>\n",
       "      <td>0.128</td>\n",
       "      <td>120.162</td>\n",
       "      <td>4</td>\n",
       "    </tr>\n",
       "    <tr>\n",
       "      <th>1</th>\n",
       "      <td>playlist1523</td>\n",
       "      <td>6vQcUyoeJhDfFf1AGnVeAQ</td>\n",
       "      <td>2KSj2QZF42ffJv8uLJk3uU</td>\n",
       "      <td>Unitopia</td>\n",
       "      <td>0guwr3xFVEPeAQ0G4fHOZQ</td>\n",
       "      <td>Cool Air</td>\n",
       "      <td>0.55</td>\n",
       "      <td>0.544</td>\n",
       "      <td>4</td>\n",
       "      <td>-8.82</td>\n",
       "      <td>1</td>\n",
       "      <td>0.0374</td>\n",
       "      <td>0.0447</td>\n",
       "      <td>0.0004</td>\n",
       "      <td>0.131</td>\n",
       "      <td>0.128</td>\n",
       "      <td>120.162</td>\n",
       "      <td>4</td>\n",
       "    </tr>\n",
       "    <tr>\n",
       "      <th>2</th>\n",
       "      <td>playlist33851</td>\n",
       "      <td>6vQcUyoeJhDfFf1AGnVeAQ</td>\n",
       "      <td>2KSj2QZF42ffJv8uLJk3uU</td>\n",
       "      <td>Unitopia</td>\n",
       "      <td>0guwr3xFVEPeAQ0G4fHOZQ</td>\n",
       "      <td>Cool Air</td>\n",
       "      <td>0.55</td>\n",
       "      <td>0.544</td>\n",
       "      <td>4</td>\n",
       "      <td>-8.82</td>\n",
       "      <td>1</td>\n",
       "      <td>0.0374</td>\n",
       "      <td>0.0447</td>\n",
       "      <td>0.0004</td>\n",
       "      <td>0.131</td>\n",
       "      <td>0.128</td>\n",
       "      <td>120.162</td>\n",
       "      <td>4</td>\n",
       "    </tr>\n",
       "    <tr>\n",
       "      <th>3</th>\n",
       "      <td>playlist45846</td>\n",
       "      <td>6vQcUyoeJhDfFf1AGnVeAQ</td>\n",
       "      <td>2KSj2QZF42ffJv8uLJk3uU</td>\n",
       "      <td>Unitopia</td>\n",
       "      <td>0guwr3xFVEPeAQ0G4fHOZQ</td>\n",
       "      <td>Cool Air</td>\n",
       "      <td>0.55</td>\n",
       "      <td>0.544</td>\n",
       "      <td>4</td>\n",
       "      <td>-8.82</td>\n",
       "      <td>1</td>\n",
       "      <td>0.0374</td>\n",
       "      <td>0.0447</td>\n",
       "      <td>0.0004</td>\n",
       "      <td>0.131</td>\n",
       "      <td>0.128</td>\n",
       "      <td>120.162</td>\n",
       "      <td>4</td>\n",
       "    </tr>\n",
       "    <tr>\n",
       "      <th>4</th>\n",
       "      <td>playlist48953</td>\n",
       "      <td>6vQcUyoeJhDfFf1AGnVeAQ</td>\n",
       "      <td>2KSj2QZF42ffJv8uLJk3uU</td>\n",
       "      <td>Unitopia</td>\n",
       "      <td>0guwr3xFVEPeAQ0G4fHOZQ</td>\n",
       "      <td>Cool Air</td>\n",
       "      <td>0.55</td>\n",
       "      <td>0.544</td>\n",
       "      <td>4</td>\n",
       "      <td>-8.82</td>\n",
       "      <td>1</td>\n",
       "      <td>0.0374</td>\n",
       "      <td>0.0447</td>\n",
       "      <td>0.0004</td>\n",
       "      <td>0.131</td>\n",
       "      <td>0.128</td>\n",
       "      <td>120.162</td>\n",
       "      <td>4</td>\n",
       "    </tr>\n",
       "  </tbody>\n",
       "</table>\n",
       "</div>"
      ],
      "text/plain": [
       "        playlist               track_uri              artist_uri artist_name  \\\n",
       "0      playlist0  6vQcUyoeJhDfFf1AGnVeAQ  2KSj2QZF42ffJv8uLJk3uU    Unitopia   \n",
       "1   playlist1523  6vQcUyoeJhDfFf1AGnVeAQ  2KSj2QZF42ffJv8uLJk3uU    Unitopia   \n",
       "2  playlist33851  6vQcUyoeJhDfFf1AGnVeAQ  2KSj2QZF42ffJv8uLJk3uU    Unitopia   \n",
       "3  playlist45846  6vQcUyoeJhDfFf1AGnVeAQ  2KSj2QZF42ffJv8uLJk3uU    Unitopia   \n",
       "4  playlist48953  6vQcUyoeJhDfFf1AGnVeAQ  2KSj2QZF42ffJv8uLJk3uU    Unitopia   \n",
       "\n",
       "                album_uri track_name  danceability  energy  key  loudness  \\\n",
       "0  0guwr3xFVEPeAQ0G4fHOZQ   Cool Air          0.55   0.544    4     -8.82   \n",
       "1  0guwr3xFVEPeAQ0G4fHOZQ   Cool Air          0.55   0.544    4     -8.82   \n",
       "2  0guwr3xFVEPeAQ0G4fHOZQ   Cool Air          0.55   0.544    4     -8.82   \n",
       "3  0guwr3xFVEPeAQ0G4fHOZQ   Cool Air          0.55   0.544    4     -8.82   \n",
       "4  0guwr3xFVEPeAQ0G4fHOZQ   Cool Air          0.55   0.544    4     -8.82   \n",
       "\n",
       "   mode  speechiness  acousticness  instrumentalness  liveness  valence  \\\n",
       "0     1       0.0374        0.0447            0.0004     0.131    0.128   \n",
       "1     1       0.0374        0.0447            0.0004     0.131    0.128   \n",
       "2     1       0.0374        0.0447            0.0004     0.131    0.128   \n",
       "3     1       0.0374        0.0447            0.0004     0.131    0.128   \n",
       "4     1       0.0374        0.0447            0.0004     0.131    0.128   \n",
       "\n",
       "     tempo  time_signature  \n",
       "0  120.162               4  \n",
       "1  120.162               4  \n",
       "2  120.162               4  \n",
       "3  120.162               4  \n",
       "4  120.162               4  "
      ]
     },
     "execution_count": 18,
     "metadata": {},
     "output_type": "execute_result"
    }
   ],
   "source": [
    "df_merge_training.head()"
   ]
  },
  {
   "cell_type": "code",
   "execution_count": 13,
   "metadata": {},
   "outputs": [],
   "source": [
    "df_agg_training = df_merge_training.groupby('playlist').median()"
   ]
  },
  {
   "cell_type": "code",
   "execution_count": 14,
   "metadata": {},
   "outputs": [
    {
     "data": {
      "text/plain": [
       "array([[<matplotlib.axes._subplots.AxesSubplot object at 0x11e2cef10>,\n",
       "        <matplotlib.axes._subplots.AxesSubplot object at 0x13efb7e90>,\n",
       "        <matplotlib.axes._subplots.AxesSubplot object at 0x13efe4fd0>],\n",
       "       [<matplotlib.axes._subplots.AxesSubplot object at 0x12a3add50>,\n",
       "        <matplotlib.axes._subplots.AxesSubplot object at 0x12a3dd550>,\n",
       "        <matplotlib.axes._subplots.AxesSubplot object at 0x12a406c90>],\n",
       "       [<matplotlib.axes._subplots.AxesSubplot object at 0x12a438490>,\n",
       "        <matplotlib.axes._subplots.AxesSubplot object at 0x12a463c10>,\n",
       "        <matplotlib.axes._subplots.AxesSubplot object at 0x12a46b750>],\n",
       "       [<matplotlib.axes._subplots.AxesSubplot object at 0x12a49f0d0>,\n",
       "        <matplotlib.axes._subplots.AxesSubplot object at 0x12a4f4ed0>,\n",
       "        <matplotlib.axes._subplots.AxesSubplot object at 0x12ead3b90>]],\n",
       "      dtype=object)"
      ]
     },
     "execution_count": 14,
     "metadata": {},
     "output_type": "execute_result"
    },
    {
     "data": {
      "image/png": "[encoded data removed]",
      "text/plain": [
       "<Figure size 432x288 with 12 Axes>"
      ]
     },
     "metadata": {
      "needs_background": "light"
     },
     "output_type": "display_data"
    }
   ],
   "source": [
    "df_agg_training.hist()"
   ]
  },
  {
   "cell_type": "markdown",
   "metadata": {},
   "source": [
    "## Valence:  (x >= .50 => 176965) ,  (x >= .52  =>  142684), (x >= .60 => 41709)\n",
    "## Energy:  (x >= .50 => 143239)  , (x >= .60  =>  66969) ,    (x >= .70 => 11272)\n",
    "## Dance:    (x >= .50 => 115251) ,  (x >= .55  =>  23194) , (x >= .60 => 357)\n",
    "## Acoustic:  (x >= .10 => 110334) ,  (x >= .20  =>  15501) ,  (x >= .30 => 72)"
   ]
  },
  {
   "cell_type": "code",
   "execution_count": 15,
   "metadata": {},
   "outputs": [],
   "source": [
    "#   7% of data = Ideal mark up Moderate-High on Valence, Moderate-High on Energy, Low on Dance, Low on Acoustic\n",
    "\n",
    "df_training = df_agg_training[(df_agg_training['valence']>=.55) & (df_agg_training['energy']>=.60) \n",
    "                              & (df_agg_training['danceability']>=.50) & (df_agg_training['acousticness']>=.10)\n",
    "                             ]"
   ]
  },
  {
   "cell_type": "code",
   "execution_count": 1,
   "metadata": {},
   "outputs": [
    {
     "ename": "NameError",
     "evalue": "name 'df_training' is not defined",
     "output_type": "error",
     "traceback": [
      "\u001b[0;31m---------------------------------------------------------------------------\u001b[0m",
      "\u001b[0;31mNameError\u001b[0m                                 Traceback (most recent call last)",
      "\u001b[0;32m<ipython-input-1-9a4145b4e5b0>\u001b[0m in \u001b[0;36m<module>\u001b[0;34m\u001b[0m\n\u001b[0;32m----> 1\u001b[0;31m \u001b[0mdf_training\u001b[0m\u001b[0;34m.\u001b[0m\u001b[0mhead\u001b[0m\u001b[0;34m(\u001b[0m\u001b[0;34m)\u001b[0m\u001b[0;34m\u001b[0m\u001b[0;34m\u001b[0m\u001b[0m\n\u001b[0m",
      "\u001b[0;31mNameError\u001b[0m: name 'df_training' is not defined"
     ]
    }
   ],
   "source": [
    "df_training.head()"
   ]
  },
  {
   "cell_type": "code",
   "execution_count": 17,
   "metadata": {},
   "outputs": [
    {
     "data": {
      "text/plain": [
       "array([[<matplotlib.axes._subplots.AxesSubplot object at 0x12a2d40d0>,\n",
       "        <matplotlib.axes._subplots.AxesSubplot object at 0x12a312e90>,\n",
       "        <matplotlib.axes._subplots.AxesSubplot object at 0x12a31eb50>],\n",
       "       [<matplotlib.axes._subplots.AxesSubplot object at 0x12ec13e50>,\n",
       "        <matplotlib.axes._subplots.AxesSubplot object at 0x12ec3bb10>,\n",
       "        <matplotlib.axes._subplots.AxesSubplot object at 0x12ec90e10>],\n",
       "       [<matplotlib.axes._subplots.AxesSubplot object at 0x12a355ad0>,\n",
       "        <matplotlib.axes._subplots.AxesSubplot object at 0x12ed322d0>,\n",
       "        <matplotlib.axes._subplots.AxesSubplot object at 0x12ed32dd0>],\n",
       "       [<matplotlib.axes._subplots.AxesSubplot object at 0x12ed64750>,\n",
       "        <matplotlib.axes._subplots.AxesSubplot object at 0x12edbaa50>,\n",
       "        <matplotlib.axes._subplots.AxesSubplot object at 0x13f00ed50>]],\n",
       "      dtype=object)"
      ]
     },
     "execution_count": 17,
     "metadata": {},
     "output_type": "execute_result"
    },
    {
     "data": {
      "image/png": "[encoded data removed]",
      "text/plain": [
       "<Figure size 432x288 with 12 Axes>"
      ]
     },
     "metadata": {
      "needs_background": "light"
     },
     "output_type": "display_data"
    }
   ],
   "source": [
    "df_training.hist()"
   ]
  },
  {
   "cell_type": "code",
   "execution_count": 22,
   "metadata": {},
   "outputs": [],
   "source": [
    "df_training.to_csv('Data/good_playlist_dataset.csv',sep='|',index=False)"
   ]
  },
  {
   "cell_type": "code",
   "execution_count": null,
   "metadata": {},
   "outputs": [],
   "source": []
  }
 ],
 "metadata": {
  "kernelspec": {
   "display_name": "Python 3",
   "language": "python",
   "name": "python3"
  },
  "language_info": {
   "codemirror_mode": {
    "name": "ipython",
    "version": 3
   },
   "file_extension": ".py",
   "mimetype": "text/x-python",
   "name": "python",
   "nbconvert_exporter": "python",
   "pygments_lexer": "ipython3",
   "version": "3.7.4"
  }
 },
 "nbformat": 4,
 "nbformat_minor": 2
}
