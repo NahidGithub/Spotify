{
 "cells": [
  {
   "cell_type": "code",
   "execution_count": 1,
   "metadata": {},
   "outputs": [],
   "source": [
    "import sklearn\n",
    "import requests\n",
    "import json\n",
    "import spotipy#authentication\n",
    "import spotipy.util as util#authentication\n",
    "from spotipy.oauth2 import SpotifyClientCredentials#authentication"
   ]
  },
  {
   "cell_type": "code",
   "execution_count": 2,
   "metadata": {},
   "outputs": [],
   "source": [
    "# Make sure to fill in your spotify client_secret information\n",
    "cid = \"049ade7215e54c63a2b628f3784dc407\"\n",
    "secret = \"171ef0fc408745e88dd5b99b83291146\"\n",
    "redirect_uri = 'http://google.com/'\n",
    "username = 'xxx'"
   ]
  },
  {
   "cell_type": "code",
   "execution_count": 3,
   "metadata": {},
   "outputs": [],
   "source": [
    "#End points\n",
    "sp_tracks = 'https://api.spotify.com/v1/me/tracks?limit=50'\n",
    "sp_profile = 'https://api.spotify.com/v1/me'"
   ]
  },
  {
   "cell_type": "code",
   "execution_count": 4,
   "metadata": {},
   "outputs": [
    {
     "name": "stdin",
     "output_type": "stream",
     "text": [
      "Enter the URL you were redirected to:  https://www.google.com/?code=AQCNVTKEz98ZnB1xO0u4oJ2gic6sffmu_C4d7IwfxOBvgm_gaEHBatBJW3UVhIIwOSoFH1o0BX20Ei4PaSOpgPR0NedfFYMqX1N3fXJT0OGBXfyj8LWwG1sq0PIiXwg_sQSok2O7G9dBVVFnAFqNA53KqRkDdwD_dCBy8I6_u9H4lAwrpE5MW64\n"
     ]
    }
   ],
   "source": [
    "scope = 'user-library-read'\n",
    "token = util.prompt_for_user_token(username, scope, client_id=cid, client_secret=secret, redirect_uri=redirect_uri)\n",
    "\n",
    "if token:\n",
    "    sp = spotipy.Spotify(auth=token)\n",
    "    \n",
    "else:\n",
    "    print(\"Can't get token for\", username)"
   ]
  },
  {
   "cell_type": "code",
   "execution_count": 23,
   "metadata": {},
   "outputs": [],
   "source": [
    "def sp_req(next_url):\n",
    "    try:\n",
    "        resp = requests.get(url=next_url,\n",
    "                        headers={'Authorization': 'Bearer ' + token})\n",
    "        resp.raise_for_status()\n",
    "\n",
    "    except requests.exceptions.HTTPError as err:\n",
    "        print(err)\n",
    "\n",
    "        \n",
    "    response = resp.json()\n",
    "    return response"
   ]
  },
  {
   "cell_type": "code",
   "execution_count": 25,
   "metadata": {},
   "outputs": [],
   "source": [
    "class SSP:\n",
    "    def __init__(self):\n",
    "        self.all_song_info = {}\n",
    "        \n",
    "    def get_user_profile():\n",
    "        response = sp_req(sp_profile)\n",
    "        key_dict = {\n",
    "            'uri': response['uri']\n",
    "        } \n",
    "        return key_dict\n",
    "    \n",
    "    def get_user_tracks():\n",
    "        def get_tracks(next_url):\n",
    "\n",
    "            response = sp_req(next_url)\n",
    "\n",
    "            track_limit = (response['limit'])-1\n",
    "\n",
    "            for x in range(track_limit):\n",
    "\n",
    "                try:\n",
    "                    track_uri = response['items'][x]['track']['uri'].split(':')\n",
    "                    track_name = response['items'][x]['track']['name']\n",
    "                    tracks.append({'track_uri':track_uri[2],'track_name':track_name})\n",
    "\n",
    "                except IndexError as error:\n",
    "                    continue\n",
    "\n",
    "\n",
    "            try:\n",
    "                if (next_url is not None):\n",
    "                    get_tracks(response['next'])\n",
    "                   \n",
    "                else:\n",
    "                    print('hi')\n",
    "            except:\n",
    "                return\n",
    "\n",
    "        tracks = []\n",
    "        b = get_tracks(sp_tracks)\n",
    "        return tracks\n",
    "        \n",
    "        "
   ]
  },
  {
   "cell_type": "code",
   "execution_count": 26,
   "metadata": {},
   "outputs": [],
   "source": [
    "a = SSP"
   ]
  },
  {
   "cell_type": "code",
   "execution_count": 27,
   "metadata": {},
   "outputs": [],
   "source": [
    "b = a.get_user_profile()"
   ]
  },
  {
   "cell_type": "code",
   "execution_count": 28,
   "metadata": {},
   "outputs": [
    {
     "data": {
      "text/plain": [
       "{'uri': 'spotify:user:1217509183'}"
      ]
     },
     "execution_count": 28,
     "metadata": {},
     "output_type": "execute_result"
    }
   ],
   "source": [
    "b"
   ]
  },
  {
   "cell_type": "code",
   "execution_count": 31,
   "metadata": {},
   "outputs": [],
   "source": [
    "import pandas as pd\n",
    "c = a.get_user_tracks()\n",
    "user_tracks = pd.DataFrame(c)"
   ]
  },
  {
   "cell_type": "code",
   "execution_count": 32,
   "metadata": {},
   "outputs": [
    {
     "data": {
      "text/html": [
       "<div>\n",
       "<style scoped>\n",
       "    .dataframe tbody tr th:only-of-type {\n",
       "        vertical-align: middle;\n",
       "    }\n",
       "\n",
       "    .dataframe tbody tr th {\n",
       "        vertical-align: top;\n",
       "    }\n",
       "\n",
       "    .dataframe thead th {\n",
       "        text-align: right;\n",
       "    }\n",
       "</style>\n",
       "<table border=\"1\" class=\"dataframe\">\n",
       "  <thead>\n",
       "    <tr style=\"text-align: right;\">\n",
       "      <th></th>\n",
       "      <th>track_uri</th>\n",
       "      <th>track_name</th>\n",
       "    </tr>\n",
       "  </thead>\n",
       "  <tbody>\n",
       "    <tr>\n",
       "      <td>0</td>\n",
       "      <td>04k2qZrQ5eu1XlM8XLz23S</td>\n",
       "      <td>Colder (feat. Cappa)</td>\n",
       "    </tr>\n",
       "    <tr>\n",
       "      <td>1</td>\n",
       "      <td>2AnMAbIg2PHidWQ9hk3EiQ</td>\n",
       "      <td>Endlessly - Eden Prince Remix</td>\n",
       "    </tr>\n",
       "    <tr>\n",
       "      <td>2</td>\n",
       "      <td>5RAXb67yhAe5rw5Q9nSPUg</td>\n",
       "      <td>Over You</td>\n",
       "    </tr>\n",
       "    <tr>\n",
       "      <td>3</td>\n",
       "      <td>0TR69tw5aybYHbSC1w4xy5</td>\n",
       "      <td>Love To The World</td>\n",
       "    </tr>\n",
       "    <tr>\n",
       "      <td>4</td>\n",
       "      <td>0DWIaEumpHd41vATkCGUK2</td>\n",
       "      <td>SBCNCSLY</td>\n",
       "    </tr>\n",
       "    <tr>\n",
       "      <td>...</td>\n",
       "      <td>...</td>\n",
       "      <td>...</td>\n",
       "    </tr>\n",
       "    <tr>\n",
       "      <td>567</td>\n",
       "      <td>1kRTlW6idFA2IGhJrMmiyF</td>\n",
       "      <td>The Beautiful Game</td>\n",
       "    </tr>\n",
       "    <tr>\n",
       "      <td>568</td>\n",
       "      <td>7gn0MfkV4ZuMkqbPlmhIlx</td>\n",
       "      <td>Deadcrush</td>\n",
       "    </tr>\n",
       "    <tr>\n",
       "      <td>569</td>\n",
       "      <td>4MhTFsyqIJnjsOweVcU8ug</td>\n",
       "      <td>Sweet Child O' Mine</td>\n",
       "    </tr>\n",
       "    <tr>\n",
       "      <td>570</td>\n",
       "      <td>2jt1zmAB5VEY9TLNNiXLKW</td>\n",
       "      <td>Silence - Slushii Remix</td>\n",
       "    </tr>\n",
       "    <tr>\n",
       "      <td>571</td>\n",
       "      <td>6BaCraQ9xeLYg4Sb9TBT2X</td>\n",
       "      <td>Feels (feat. Pharrell Williams, Katy Perry &amp; B...</td>\n",
       "    </tr>\n",
       "  </tbody>\n",
       "</table>\n",
       "<p>572 rows × 2 columns</p>\n",
       "</div>"
      ],
      "text/plain": [
       "                  track_uri                                         track_name\n",
       "0    04k2qZrQ5eu1XlM8XLz23S                               Colder (feat. Cappa)\n",
       "1    2AnMAbIg2PHidWQ9hk3EiQ                      Endlessly - Eden Prince Remix\n",
       "2    5RAXb67yhAe5rw5Q9nSPUg                                           Over You\n",
       "3    0TR69tw5aybYHbSC1w4xy5                                  Love To The World\n",
       "4    0DWIaEumpHd41vATkCGUK2                                           SBCNCSLY\n",
       "..                      ...                                                ...\n",
       "567  1kRTlW6idFA2IGhJrMmiyF                                 The Beautiful Game\n",
       "568  7gn0MfkV4ZuMkqbPlmhIlx                                          Deadcrush\n",
       "569  4MhTFsyqIJnjsOweVcU8ug                                Sweet Child O' Mine\n",
       "570  2jt1zmAB5VEY9TLNNiXLKW                            Silence - Slushii Remix\n",
       "571  6BaCraQ9xeLYg4Sb9TBT2X  Feels (feat. Pharrell Williams, Katy Perry & B...\n",
       "\n",
       "[572 rows x 2 columns]"
      ]
     },
     "execution_count": 32,
     "metadata": {},
     "output_type": "execute_result"
    }
   ],
   "source": [
    "user_tracks"
   ]
  },
  {
   "cell_type": "code",
   "execution_count": 33,
   "metadata": {},
   "outputs": [],
   "source": [
    "import boto3\n",
    "from s3 import get_file\n"
   ]
  },
  {
   "cell_type": "code",
   "execution_count": 34,
   "metadata": {},
   "outputs": [],
   "source": [
    "def data(data):\n",
    "    df = pd.read_csv(data,sep='|')\n",
    "    return df"
   ]
  },
  {
   "cell_type": "code",
   "execution_count": 19,
   "metadata": {},
   "outputs": [],
   "source": [
    "s3 = boto3.resource('s3')\n",
    "\n",
    "bucket = 's3ssp'"
   ]
  },
  {
   "cell_type": "code",
   "execution_count": 35,
   "metadata": {},
   "outputs": [],
   "source": [
    "db_tracks = data(get_file(s3,bucket,download_file='NLP_Data/master_lyrics_audio_features.csv',rename_file = 'master_train_playlist.csv'))"
   ]
  },
  {
   "cell_type": "code",
   "execution_count": 21,
   "metadata": {},
   "outputs": [],
   "source": [
    "dataset = user_tracks.merge(db_tracks,left_on ='track_uri',right_on='track_uri')"
   ]
  },
  {
   "cell_type": "code",
   "execution_count": 22,
   "metadata": {},
   "outputs": [
    {
     "data": {
      "text/html": [
       "<div>\n",
       "<style scoped>\n",
       "    .dataframe tbody tr th:only-of-type {\n",
       "        vertical-align: middle;\n",
       "    }\n",
       "\n",
       "    .dataframe tbody tr th {\n",
       "        vertical-align: top;\n",
       "    }\n",
       "\n",
       "    .dataframe thead th {\n",
       "        text-align: right;\n",
       "    }\n",
       "</style>\n",
       "<table border=\"1\" class=\"dataframe\">\n",
       "  <thead>\n",
       "    <tr style=\"text-align: right;\">\n",
       "      <th></th>\n",
       "      <th>track_uri</th>\n",
       "      <th>track_name_x</th>\n",
       "      <th>artist_name</th>\n",
       "      <th>track_name_y</th>\n",
       "      <th>acousticness</th>\n",
       "      <th>danceability</th>\n",
       "      <th>energy</th>\n",
       "      <th>valence</th>\n",
       "      <th>instrumentalness</th>\n",
       "      <th>key</th>\n",
       "      <th>mode</th>\n",
       "      <th>liveness</th>\n",
       "      <th>speechiness</th>\n",
       "      <th>time_signature</th>\n",
       "      <th>tempo</th>\n",
       "      <th>loudness</th>\n",
       "      <th>lyrics</th>\n",
       "    </tr>\n",
       "  </thead>\n",
       "  <tbody>\n",
       "    <tr>\n",
       "      <td>0</td>\n",
       "      <td>4G3SLNkicA0czyLygMtd50</td>\n",
       "      <td>All of You</td>\n",
       "      <td>Betty Who</td>\n",
       "      <td>all of you</td>\n",
       "      <td>0.00397</td>\n",
       "      <td>0.592</td>\n",
       "      <td>0.832</td>\n",
       "      <td>0.441</td>\n",
       "      <td>0.160000</td>\n",
       "      <td>5.0</td>\n",
       "      <td>1.0</td>\n",
       "      <td>0.1820</td>\n",
       "      <td>0.0283</td>\n",
       "      <td>4.0</td>\n",
       "      <td>127.972</td>\n",
       "      <td>-4.806</td>\n",
       "      <td>perfect day fight rain scream baby twist game ...</td>\n",
       "    </tr>\n",
       "    <tr>\n",
       "      <td>1</td>\n",
       "      <td>2Q7PDjPz7h559wBF97lO07</td>\n",
       "      <td>High And Low</td>\n",
       "      <td>Empire of the Sun</td>\n",
       "      <td>high and low</td>\n",
       "      <td>0.02130</td>\n",
       "      <td>0.512</td>\n",
       "      <td>0.768</td>\n",
       "      <td>0.322</td>\n",
       "      <td>0.000003</td>\n",
       "      <td>1.0</td>\n",
       "      <td>1.0</td>\n",
       "      <td>0.0918</td>\n",
       "      <td>0.0450</td>\n",
       "      <td>4.0</td>\n",
       "      <td>126.907</td>\n",
       "      <td>-4.673</td>\n",
       "      <td>pack summer late night house hill travel alice...</td>\n",
       "    </tr>\n",
       "    <tr>\n",
       "      <td>2</td>\n",
       "      <td>4h8VwCb1MTGoLKueQ1WgbD</td>\n",
       "      <td>Wake Me Up</td>\n",
       "      <td>Avicii</td>\n",
       "      <td>wake me up</td>\n",
       "      <td>0.00380</td>\n",
       "      <td>0.532</td>\n",
       "      <td>0.783</td>\n",
       "      <td>0.643</td>\n",
       "      <td>0.001200</td>\n",
       "      <td>2.0</td>\n",
       "      <td>1.0</td>\n",
       "      <td>0.1610</td>\n",
       "      <td>0.0523</td>\n",
       "      <td>4.0</td>\n",
       "      <td>124.080</td>\n",
       "      <td>-5.697</td>\n",
       "      <td>feel darkness guide beat heart journey start u...</td>\n",
       "    </tr>\n",
       "    <tr>\n",
       "      <td>3</td>\n",
       "      <td>4RXpgGM7A4Hg7cFBoH5KyF</td>\n",
       "      <td>Hey Brother</td>\n",
       "      <td>Avicii</td>\n",
       "      <td>hey brother</td>\n",
       "      <td>0.03090</td>\n",
       "      <td>0.545</td>\n",
       "      <td>0.780</td>\n",
       "      <td>0.458</td>\n",
       "      <td>0.000046</td>\n",
       "      <td>7.0</td>\n",
       "      <td>0.0</td>\n",
       "      <td>0.0828</td>\n",
       "      <td>0.0436</td>\n",
       "      <td>4.0</td>\n",
       "      <td>125.014</td>\n",
       "      <td>-4.867</td>\n",
       "      <td>hey brother endless road rediscover hey sister...</td>\n",
       "    </tr>\n",
       "  </tbody>\n",
       "</table>\n",
       "</div>"
      ],
      "text/plain": [
       "                track_uri  track_name_x        artist_name  track_name_y  \\\n",
       "0  4G3SLNkicA0czyLygMtd50    All of You          Betty Who    all of you   \n",
       "1  2Q7PDjPz7h559wBF97lO07  High And Low  Empire of the Sun  high and low   \n",
       "2  4h8VwCb1MTGoLKueQ1WgbD    Wake Me Up             Avicii    wake me up   \n",
       "3  4RXpgGM7A4Hg7cFBoH5KyF   Hey Brother             Avicii   hey brother   \n",
       "\n",
       "   acousticness  danceability  energy  valence  instrumentalness  key  mode  \\\n",
       "0       0.00397         0.592   0.832    0.441          0.160000  5.0   1.0   \n",
       "1       0.02130         0.512   0.768    0.322          0.000003  1.0   1.0   \n",
       "2       0.00380         0.532   0.783    0.643          0.001200  2.0   1.0   \n",
       "3       0.03090         0.545   0.780    0.458          0.000046  7.0   0.0   \n",
       "\n",
       "   liveness  speechiness  time_signature    tempo  loudness  \\\n",
       "0    0.1820       0.0283             4.0  127.972    -4.806   \n",
       "1    0.0918       0.0450             4.0  126.907    -4.673   \n",
       "2    0.1610       0.0523             4.0  124.080    -5.697   \n",
       "3    0.0828       0.0436             4.0  125.014    -4.867   \n",
       "\n",
       "                                              lyrics  \n",
       "0  perfect day fight rain scream baby twist game ...  \n",
       "1  pack summer late night house hill travel alice...  \n",
       "2  feel darkness guide beat heart journey start u...  \n",
       "3  hey brother endless road rediscover hey sister...  "
      ]
     },
     "execution_count": 22,
     "metadata": {},
     "output_type": "execute_result"
    }
   ],
   "source": [
    "dataset"
   ]
  },
  {
   "cell_type": "code",
   "execution_count": null,
   "metadata": {},
   "outputs": [],
   "source": [
    "class Model:\n",
    "    \n",
    "        \n",
    "    def LDA(n_components):\n",
    "        \n",
    "\n",
    "        \n",
    "        return LDA  \n",
    "    \n",
    "    \n",
    "    def get_playlists(lda_model):\n",
    "        \n",
    "    \n",
    "        # Create Document - Topic Matrix\n",
    "\n",
    "        \n",
    "\n",
    "        # column names\n",
    "        topicnames = [\"Topic\" + str(i) for i in range(lda_model.n_components)]\n",
    "\n",
    "\n",
    "        # index names\n",
    "        docnames = [dataset['track_uri'].iloc[i] for i in range(len(dataset['lyrics']))]\n",
    "\n",
    "\n",
    "\n",
    "        # Make the pandas dataframe\n",
    "        df_document_topic = pd.DataFrame(np.array(lda_output), columns=topicnames, index=docnames)\n",
    "\n",
    "        # Get dominant topic for each document\n",
    "        dominant_topic = np.argmax(df_document_topic.values, axis=1)\n",
    "\n",
    "\n",
    "        df_document_topic['dominant_topic'] = dominant_topic\n",
    "        \n",
    "        \n",
    "        return df_document_topic\n",
    "\n",
    "\n",
    "    \n",
    "\n",
    "    def get_playlist_elements(df_document_topic):\n",
    "        df_ssp = []\n",
    "\n",
    "\n",
    "        for col in df_document_topic.columns:\n",
    "\n",
    "            if col != 'dominant_topic':\n",
    "\n",
    "                topic_length= df_document_topic[df_document_topic[col]>=.60].nlargest(n=20, columns=col)\n",
    "\n",
    "                chosen_topic = topic_length[col]\n",
    "\n",
    "                if len(chosen_topic)>=1:\n",
    "\n",
    "                    for track_uri in chosen_topic.index:\n",
    "\n",
    "\n",
    "                        df_ssp.append({'playlist':col,'track_uri':track_uri})\n",
    "\n",
    "\n",
    "\n",
    "        topic_groupings = pd.DataFrame(df_ssp)     \n",
    "\n",
    "        playlists = topic_groupings.merge(dataset,on='track_uri',how='left')\n",
    "        \n",
    "        playlist_agg = playlists.groupby('playlist').median()\n",
    "        \n",
    "        \n",
    "        return [playlists,playlist_agg]\n",
    "        \n",
    "        \n",
    "\n",
    "\n",
    "    \n",
    " \n"
   ]
  },
  {
   "cell_type": "code",
   "execution_count": null,
   "metadata": {},
   "outputs": [],
   "source": [
    "from sklearn.feature_extraction.text import CountVectorizer\n",
    "from sklearn.decomposition import LatentDirichletAllocation\n",
    "from yellowbrick.text import FreqDistVisualizer\n",
    "import numpy as np\n",
    "\n",
    "\n",
    "LDA = LatentDirichletAllocation(n_components=30, learning_method=\"batch\",\n",
    "                                max_iter=2, random_state=0)\n",
    "\n",
    "vectorizer = CountVectorizer(analyzer='word',       \n",
    "                             min_df=.2, max_df=.5,     # minimum reqd occurences of a word \n",
    "                             stop_words='english',             # remove stop words\n",
    "                             lowercase=True,                   # convert all words to lowercase\n",
    "                             token_pattern='[a-zA-Z0-9]{3,}',  # num chars > 3\n",
    "                             max_features=500)             # max number of uniq words\n",
    "\n",
    "\n",
    "\n",
    "data_vectorized = vectorizer.fit_transform(dataset['lyrics'].values.astype('U'))\n",
    "        \n",
    "        \n",
    "LDA.fit(data_vectorized)\n",
    "\n",
    "\n",
    "lda_output = LDA.transform(data_vectorized)\n",
    "\n",
    "\n",
    "df_playlists = Model.get_playlists(LDA)\n",
    "\n",
    "df_send = Model.get_playlist_elements(df_playlists)\n",
    "\n",
    "df_base = df_send[0]\n",
    "\n",
    "df_predict = df_send[1].reset_index()\n",
    "df_predict_class = df_send[1].reset_index()"
   ]
  },
  {
   "cell_type": "code",
   "execution_count": null,
   "metadata": {},
   "outputs": [],
   "source": [
    "df_predict_class"
   ]
  },
  {
   "cell_type": "markdown",
   "metadata": {},
   "source": [
    "## Classification"
   ]
  },
  {
   "cell_type": "code",
   "execution_count": null,
   "metadata": {},
   "outputs": [],
   "source": [
    "train_data = data(get_file(s3,bucket,download_file='Analysis_Data/master_train_playlist.csv',\n",
    "                           rename_file = 'master_train_playlist.csv'))\n",
    "\n",
    "test_data = data(get_file(s3,bucket,download_file='Analysis_Data/test_ssp.csv',rename_file = 'test.csv'))"
   ]
  },
  {
   "cell_type": "code",
   "execution_count": null,
   "metadata": {},
   "outputs": [],
   "source": [
    "\n",
    "df_predict_class = df_predict_class.reindex(sorted(df_predict_class.columns), axis=1)\n",
    "\n",
    "df_train = train_data.reindex(sorted(train_data.columns), axis=1)\n",
    "\n",
    "\n",
    "df_test = test_data.reindex(sorted(test_data.columns), axis=1)\n",
    "\n",
    "\n"
   ]
  },
  {
   "cell_type": "code",
   "execution_count": 40,
   "metadata": {},
   "outputs": [
    {
     "data": {
      "text/html": [
       "<div>\n",
       "<style scoped>\n",
       "    .dataframe tbody tr th:only-of-type {\n",
       "        vertical-align: middle;\n",
       "    }\n",
       "\n",
       "    .dataframe tbody tr th {\n",
       "        vertical-align: top;\n",
       "    }\n",
       "\n",
       "    .dataframe thead th {\n",
       "        text-align: right;\n",
       "    }\n",
       "</style>\n",
       "<table border=\"1\" class=\"dataframe\">\n",
       "  <thead>\n",
       "    <tr style=\"text-align: right;\">\n",
       "      <th></th>\n",
       "      <th>acousticness</th>\n",
       "      <th>danceability</th>\n",
       "      <th>energy</th>\n",
       "      <th>instrumentalness</th>\n",
       "      <th>key</th>\n",
       "      <th>liveness</th>\n",
       "      <th>loudness</th>\n",
       "      <th>mode</th>\n",
       "      <th>playlist</th>\n",
       "      <th>speechiness</th>\n",
       "      <th>tempo</th>\n",
       "      <th>time_signature</th>\n",
       "      <th>valence</th>\n",
       "    </tr>\n",
       "  </thead>\n",
       "  <tbody>\n",
       "    <tr>\n",
       "      <td>0</td>\n",
       "      <td>0.01735</td>\n",
       "      <td>0.5385</td>\n",
       "      <td>0.7815</td>\n",
       "      <td>0.000623</td>\n",
       "      <td>4.5</td>\n",
       "      <td>0.1219</td>\n",
       "      <td>-5.282</td>\n",
       "      <td>0.5</td>\n",
       "      <td>Topic11</td>\n",
       "      <td>0.04795</td>\n",
       "      <td>124.547</td>\n",
       "      <td>4.0</td>\n",
       "      <td>0.5505</td>\n",
       "    </tr>\n",
       "  </tbody>\n",
       "</table>\n",
       "</div>"
      ],
      "text/plain": [
       "   acousticness  danceability  energy  instrumentalness  key  liveness  \\\n",
       "0       0.01735        0.5385  0.7815          0.000623  4.5    0.1219   \n",
       "\n",
       "   loudness  mode playlist  speechiness    tempo  time_signature  valence  \n",
       "0    -5.282   0.5  Topic11      0.04795  124.547             4.0   0.5505  "
      ]
     },
     "execution_count": 40,
     "metadata": {},
     "output_type": "execute_result"
    }
   ],
   "source": [
    "df_predict_class"
   ]
  },
  {
   "cell_type": "code",
   "execution_count": 41,
   "metadata": {},
   "outputs": [],
   "source": [
    "\n",
    "df_predict_class = df_predict_class.drop(columns=['playlist','valence','danceability',\n",
    "                                 'energy','acousticness',\n",
    "                                 ])\n",
    "\n",
    "\n",
    "df_train = df_train.drop(columns=['playlist','valence','danceability',\n",
    "                                 'energy','acousticness',\n",
    "                                 ])\n",
    "\n",
    "df_test = df_test.drop(columns=['playlist','valence','danceability',\n",
    "                      'energy','acousticness',\n",
    "                               ])"
   ]
  },
  {
   "cell_type": "code",
   "execution_count": 42,
   "metadata": {},
   "outputs": [],
   "source": [
    "def model(df_train,df_test,df_ssp):\n",
    "        #Structure\n",
    "        from sklearn.pipeline import Pipeline\n",
    "        from sklearn.model_selection import train_test_split as tts\n",
    "        from sklearn.model_selection import cross_val_score as cvs\n",
    "    \n",
    "        from sklearn.linear_model import LogisticRegression\n",
    "        \n",
    "        from sklearn.preprocessing import StandardScaler\n",
    "        \n",
    "        #Reports\n",
    "        from yellowbrick.classifier import confusion_matrix\n",
    "        \n",
    "        #Metrics\n",
    "        from sklearn.metrics import accuracy_score, precision_score, recall_score,f1_score\n",
    "    \n",
    "        X = df_train[[col for col in df_train.columns if col != 'target']]\n",
    "\n",
    "        y = df_train['target']\n",
    "\n",
    "        X_train, X_test, y_train, y_test = tts(X,y, test_size=0.2)\n",
    "        \n",
    "        models = [\n",
    "        #Standard Scaler,QuantileTransformer random_state=0\n",
    "        \n",
    "        Pipeline([\n",
    "            ('std',StandardScaler()),\n",
    "            ('reg',LogisticRegression())\n",
    "        ])\n",
    "        ]\n",
    "        a = []\n",
    "        for model in models:\n",
    "            model.fit(X_train, y_train)\n",
    "            #y_pred = model.predict(df_agg_ssp)\n",
    "            _ = confusion_matrix(model, X_test, y_test,is_fitted=True)\n",
    "            y_pred = model.predict(df_predict_class)\n",
    "            print({'Model':model[1],'Transformer':model[0],'Model Score':cvs(model,X_test,y_test)[3],\n",
    "              #'F1 Score':f1_score(X_test,y_test),'Precision Score':precision_score(X_test,y_test),\n",
    "              #'Recall Score':recall_score(X_test,y_test)\n",
    "                     })\n",
    "            \n",
    "        return y_pred"
   ]
  },
  {
   "cell_type": "code",
   "execution_count": null,
   "metadata": {},
   "outputs": [],
   "source": [
    "whoopy = model(df_train,df_test,df_predict_class)"
   ]
  },
  {
   "cell_type": "code",
   "execution_count": null,
   "metadata": {},
   "outputs": [],
   "source": [
    "whoopy"
   ]
  },
  {
   "cell_type": "code",
   "execution_count": null,
   "metadata": {},
   "outputs": [],
   "source": [
    "import random\n",
    "chosen_playlist = random.choice([index for index,a in enumerate(whoopy) if a == 1])"
   ]
  },
  {
   "cell_type": "code",
   "execution_count": null,
   "metadata": {},
   "outputs": [],
   "source": [
    "playlist_value = df_predict.iloc[chosen_playlist]\n",
    "\n",
    "\n",
    "chosen_topic = playlist_value['playlist']\n",
    "\n",
    "#chosen_topic = df_predict[df_predict['playlist']==playlist_value['playlist']]"
   ]
  },
  {
   "cell_type": "code",
   "execution_count": null,
   "metadata": {},
   "outputs": [],
   "source": [
    "ssp_deliverable = df_base[df_base['playlist']==chosen_topic]"
   ]
  },
  {
   "cell_type": "code",
   "execution_count": null,
   "metadata": {},
   "outputs": [],
   "source": [
    "ssp = ssp_deliverable.sort_values(by='valence',ascending=False)"
   ]
  },
  {
   "cell_type": "code",
   "execution_count": null,
   "metadata": {},
   "outputs": [],
   "source": [
    "ssp.plot.line(x='valence',y='energy')"
   ]
  },
  {
   "cell_type": "code",
   "execution_count": null,
   "metadata": {},
   "outputs": [],
   "source": [
    "import requests\n",
    "import json\n",
    "import pandas as pd\n",
    "import spotipy#authentication\n",
    "import spotipy.util as util#authentication\n",
    "from spotipy.oauth2 import SpotifyClientCredentials#authentication\n",
    "\n",
    "\n",
    "cid = '049ade7215e54c63a2b628f3784dc407'\n",
    "secret = '171ef0fc408745e88dd5b99b83291146'\n",
    "redirect_uri = 'http://google.com/'\n",
    "username = 'name'\n",
    "\n",
    "\n",
    "\n",
    "#Authentication\n",
    "\n",
    "scope = 'playlist-modify-private'\n",
    "token_playlist = util.prompt_for_user_token(username, scope, client_id=cid, client_secret=secret, redirect_uri=redirect_uri)\n",
    "\n",
    "if token_playlist:\n",
    "    \n",
    "    sp_playlist = spotipy.Spotify(auth=token_playlist)\n",
    "\n",
    "else:\n",
    "    \n",
    "    print(\"Can't get token for\", username)\n",
    "    \n",
    "#Authentication\n",
    "\n",
    "scope = 'user-read-private'\n",
    "\n",
    "token_user = util.prompt_for_user_token(username, scope, client_id=cid, client_secret=secret, redirect_uri=redirect_uri)\n",
    "\n",
    "if token_user:\n",
    "    sp_user = spotipy.Spotify(auth=token_user)\n",
    "else:\n",
    "    print(\"Can't get token for\", username)\n",
    "    \n"
   ]
  },
  {
   "cell_type": "code",
   "execution_count": null,
   "metadata": {},
   "outputs": [],
   "source": [
    "def get_user_id(url):\n",
    "    try:\n",
    "        resp = requests.get(url,headers={'Authorization': 'Bearer ' + token_user},\n",
    "                             #data={\"name\": \"SSP\"}\n",
    "                           )\n",
    "        \n",
    "        resp.raise_for_status()\n",
    "        \n",
    "    except requests.exceptions.HTTPError as err:\n",
    "        \n",
    "        print(err)\n",
    "        \n",
    "    \n",
    "    response = resp.json()\n",
    "    userid = response['id']\n",
    "    \n",
    "    return userid\n",
    "\n",
    "user_id = get_user_id('https://api.spotify.com/v1/me')"
   ]
  },
  {
   "cell_type": "code",
   "execution_count": null,
   "metadata": {},
   "outputs": [],
   "source": [
    "identification = user_id\n",
    "identification"
   ]
  },
  {
   "cell_type": "code",
   "execution_count": null,
   "metadata": {},
   "outputs": [],
   "source": [
    "playlist = sp_playlist.user_playlist_create(identification,'Adam_SSP_Ideal', public=False, description=\"Ideal SSP\")\n",
    "\n",
    "\n",
    "sp_playlist.user_playlist_add_tracks(identification,playlist['id'],ssp['track_uri'], position=None)"
   ]
  },
  {
   "cell_type": "code",
   "execution_count": null,
   "metadata": {},
   "outputs": [],
   "source": []
  }
 ],
 "metadata": {
  "kernelspec": {
   "display_name": "Python 3",
   "language": "python",
   "name": "python3"
  },
  "language_info": {
   "codemirror_mode": {
    "name": "ipython",
    "version": 3
   },
   "file_extension": ".py",
   "mimetype": "text/x-python",
   "name": "python",
   "nbconvert_exporter": "python",
   "pygments_lexer": "ipython3",
   "version": "3.7.4"
  }
 },
 "nbformat": 4,
 "nbformat_minor": 4
}
