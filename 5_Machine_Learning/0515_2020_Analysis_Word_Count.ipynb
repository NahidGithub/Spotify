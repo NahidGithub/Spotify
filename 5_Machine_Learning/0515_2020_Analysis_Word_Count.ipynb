{
 "cells": [
  {
   "cell_type": "code",
   "execution_count": 1,
   "metadata": {},
   "outputs": [],
   "source": [
    "import pandas as pd\n",
    "import numpy as np\n",
    "from sklearn.feature_extraction.text import TfidfVectorizer,CountVectorizer\n",
    "from nltk import word_tokenize\n",
    "import boto3\n",
    "from s3 import get_file\n",
    "import re\n",
    "import mglearn\n",
    "import sklearn\n",
    "import yellowbrick\n",
    "from nltk.corpus import stopwords"
   ]
  },
  {
   "cell_type": "code",
   "execution_count": 2,
   "metadata": {},
   "outputs": [],
   "source": [
    "from sklearn.feature_extraction.stop_words import ENGLISH_STOP_WORDS"
   ]
  },
  {
   "cell_type": "code",
   "execution_count": 3,
   "metadata": {},
   "outputs": [],
   "source": [
    "s3 = boto3.resource('s3')\n",
    "lyrics = get_file(s3,'s3ssp',download_file='NLP_Data/master_lyrics_audio_features.csv',rename_file='0320_2020_nlp.csv')"
   ]
  },
  {
   "cell_type": "code",
   "execution_count": 4,
   "metadata": {},
   "outputs": [],
   "source": [
    "df = pd.read_csv(lyrics,sep='|',encoding='utf-8')\n",
    "df_copy = df.copy().dropna()"
   ]
  },
  {
   "cell_type": "code",
   "execution_count": 5,
   "metadata": {},
   "outputs": [],
   "source": [
    "df_copy = df_copy.drop(columns=['instrumentalness','key','mode','liveness','speechiness','time_signature'])"
   ]
  },
  {
   "cell_type": "markdown",
   "metadata": {},
   "source": [
    "## Clean of stop words from NLTK and Github Song Stopwords Resource"
   ]
  },
  {
   "cell_type": "code",
   "execution_count": 6,
   "metadata": {},
   "outputs": [
    {
     "data": {
      "text/html": [
       "<div>\n",
       "<style scoped>\n",
       "    .dataframe tbody tr th:only-of-type {\n",
       "        vertical-align: middle;\n",
       "    }\n",
       "\n",
       "    .dataframe tbody tr th {\n",
       "        vertical-align: top;\n",
       "    }\n",
       "\n",
       "    .dataframe thead th {\n",
       "        text-align: right;\n",
       "    }\n",
       "</style>\n",
       "<table border=\"1\" class=\"dataframe\">\n",
       "  <thead>\n",
       "    <tr style=\"text-align: right;\">\n",
       "      <th></th>\n",
       "      <th>artist_uri</th>\n",
       "      <th>artist_name</th>\n",
       "      <th>track_name</th>\n",
       "      <th>track_uri</th>\n",
       "      <th>lyrics</th>\n",
       "      <th>acousticness</th>\n",
       "      <th>danceability</th>\n",
       "      <th>energy</th>\n",
       "      <th>valence</th>\n",
       "      <th>loudness</th>\n",
       "      <th>tempo</th>\n",
       "    </tr>\n",
       "  </thead>\n",
       "  <tbody>\n",
       "    <tr>\n",
       "      <th>0</th>\n",
       "      <td>6vWDO969PvNqNYHIOW5v0m</td>\n",
       "      <td>Beyoncé</td>\n",
       "      <td>why don't you love me</td>\n",
       "      <td>5Ui8M6tfknhXo4MuGHt3Dy</td>\n",
       "      <td>N-n-now , honey You sit 'Cause bumped ' head A...</td>\n",
       "      <td>0.0463</td>\n",
       "      <td>0.693</td>\n",
       "      <td>0.730</td>\n",
       "      <td>0.7410</td>\n",
       "      <td>-4.571</td>\n",
       "      <td>136.882</td>\n",
       "    </tr>\n",
       "    <tr>\n",
       "      <th>1</th>\n",
       "      <td>6vWDO969PvNqNYHIOW5v0m</td>\n",
       "      <td>Beyoncé</td>\n",
       "      <td>save the hero</td>\n",
       "      <td>5dhPqcLr5EcSd7Fe4fslCq</td>\n",
       "      <td>I lay awake night Sorrow fills eyes But I 'm s...</td>\n",
       "      <td>0.6730</td>\n",
       "      <td>0.551</td>\n",
       "      <td>0.467</td>\n",
       "      <td>0.1480</td>\n",
       "      <td>-10.364</td>\n",
       "      <td>116.966</td>\n",
       "    </tr>\n",
       "    <tr>\n",
       "      <th>2</th>\n",
       "      <td>6vWDO969PvNqNYHIOW5v0m</td>\n",
       "      <td>Beyoncé</td>\n",
       "      <td>broken-hearted girl</td>\n",
       "      <td>5dWTQXVHdoIsSLpEyS3woy</td>\n",
       "      <td>Youre I And I couldve But live So ? Youre I I ...</td>\n",
       "      <td>0.5030</td>\n",
       "      <td>0.336</td>\n",
       "      <td>0.424</td>\n",
       "      <td>0.1590</td>\n",
       "      <td>-7.203</td>\n",
       "      <td>82.149</td>\n",
       "    </tr>\n",
       "    <tr>\n",
       "      <th>3</th>\n",
       "      <td>6vWDO969PvNqNYHIOW5v0m</td>\n",
       "      <td>Beyoncé</td>\n",
       "      <td>lift ev'ry voice and sing - homecoming live</td>\n",
       "      <td>0QRxJvOohS8yiGC1n98uFM</td>\n",
       "      <td>He laughin ' flirting And n't care As matter r...</td>\n",
       "      <td>0.1240</td>\n",
       "      <td>0.127</td>\n",
       "      <td>0.409</td>\n",
       "      <td>0.0782</td>\n",
       "      <td>-13.089</td>\n",
       "      <td>79.904</td>\n",
       "    </tr>\n",
       "    <tr>\n",
       "      <th>4</th>\n",
       "      <td>6vWDO969PvNqNYHIOW5v0m</td>\n",
       "      <td>Beyoncé</td>\n",
       "      <td>no angel</td>\n",
       "      <td>4DActPOAtak2m8meZeMt3B</td>\n",
       "      <td>This fans ( Uhu , uhu ) This destiny ( Uhu , u...</td>\n",
       "      <td>0.0424</td>\n",
       "      <td>0.571</td>\n",
       "      <td>0.466</td>\n",
       "      <td>0.5120</td>\n",
       "      <td>-9.153</td>\n",
       "      <td>111.580</td>\n",
       "    </tr>\n",
       "  </tbody>\n",
       "</table>\n",
       "</div>"
      ],
      "text/plain": [
       "               artist_uri artist_name  \\\n",
       "0  6vWDO969PvNqNYHIOW5v0m     Beyoncé   \n",
       "1  6vWDO969PvNqNYHIOW5v0m     Beyoncé   \n",
       "2  6vWDO969PvNqNYHIOW5v0m     Beyoncé   \n",
       "3  6vWDO969PvNqNYHIOW5v0m     Beyoncé   \n",
       "4  6vWDO969PvNqNYHIOW5v0m     Beyoncé   \n",
       "\n",
       "                                    track_name               track_uri  \\\n",
       "0                        why don't you love me  5Ui8M6tfknhXo4MuGHt3Dy   \n",
       "1                                save the hero  5dhPqcLr5EcSd7Fe4fslCq   \n",
       "2                          broken-hearted girl  5dWTQXVHdoIsSLpEyS3woy   \n",
       "3  lift ev'ry voice and sing - homecoming live  0QRxJvOohS8yiGC1n98uFM   \n",
       "4                                     no angel  4DActPOAtak2m8meZeMt3B   \n",
       "\n",
       "                                              lyrics  acousticness  \\\n",
       "0  N-n-now , honey You sit 'Cause bumped ' head A...        0.0463   \n",
       "1  I lay awake night Sorrow fills eyes But I 'm s...        0.6730   \n",
       "2  Youre I And I couldve But live So ? Youre I I ...        0.5030   \n",
       "3  He laughin ' flirting And n't care As matter r...        0.1240   \n",
       "4  This fans ( Uhu , uhu ) This destiny ( Uhu , u...        0.0424   \n",
       "\n",
       "   danceability  energy  valence  loudness    tempo  \n",
       "0         0.693   0.730   0.7410    -4.571  136.882  \n",
       "1         0.551   0.467   0.1480   -10.364  116.966  \n",
       "2         0.336   0.424   0.1590    -7.203   82.149  \n",
       "3         0.127   0.409   0.0782   -13.089   79.904  \n",
       "4         0.571   0.466   0.5120    -9.153  111.580  "
      ]
     },
     "execution_count": 6,
     "metadata": {},
     "output_type": "execute_result"
    }
   ],
   "source": [
    "df_copy.head()"
   ]
  },
  {
   "cell_type": "code",
   "execution_count": 7,
   "metadata": {},
   "outputs": [],
   "source": [
    "check_playlist = df_copy[(df_copy['valence']>=.55) & (df_copy['energy']>=.60) \n",
    "                              & (df_copy['danceability']>=.50) & (df_copy['acousticness']>=.10)\n",
    "                             ]"
   ]
  },
  {
   "cell_type": "code",
   "execution_count": 9,
   "metadata": {},
   "outputs": [],
   "source": [
    "make_playlist = check_playlist.sample(20)"
   ]
  },
  {
   "cell_type": "code",
   "execution_count": 62,
   "metadata": {},
   "outputs": [],
   "source": [
    "#Control Panel - Hyper Parameters\n",
    "\n",
    "#Count Vectorizer\n",
    "max_features = 500 #500\n",
    "max_df = .015\n",
    "\n",
    "\n",
    "\n",
    "#LDA\n",
    "n_topics = 10  #10\n",
    "\n",
    "\n",
    "#LDA Display\n",
    "display_n_chunks = 2 #5\n",
    "n_topics = 10        #20\n",
    "n_words = 10       #5\n",
    "\n"
   ]
  },
  {
   "cell_type": "code",
   "execution_count": 63,
   "metadata": {},
   "outputs": [
    {
     "data": {
      "image/png": "[encoded data removed]",
      "text/plain": [
       "<Figure size 432x288 with 1 Axes>"
      ]
     },
     "metadata": {
      "needs_background": "light"
     },
     "output_type": "display_data"
    },
    {
     "data": {
      "text/plain": [
       "<matplotlib.axes._subplots.AxesSubplot at 0x11a849650>"
      ]
     },
     "execution_count": 63,
     "metadata": {},
     "output_type": "execute_result"
    }
   ],
   "source": [
    "from sklearn.feature_extraction.text import CountVectorizer\n",
    "\n",
    "from yellowbrick.text import FreqDistVisualizer\n",
    "\n",
    "# Load the text data\n",
    "\n",
    "\n",
    "vect = CountVectorizer(max_features=max_features, max_df=max_df,stop_words='english')\n",
    "docs       = vect.fit_transform(df_demo['nltk_lyrics'])\n",
    "features   = vect.get_feature_names()\n",
    "\n",
    "visualizer = FreqDistVisualizer(features=features, orient='v',n=30)\n",
    "visualizer.fit(docs)\n",
    "visualizer.show()"
   ]
  },
  {
   "cell_type": "code",
   "execution_count": 64,
   "metadata": {},
   "outputs": [],
   "source": [
    "#Count Vectorizer\n",
    "vect = CountVectorizer(max_features=max_features, max_df=max_df,stop_words='english')\n",
    "X = vect.fit_transform(df_demo['nltk_lyrics'])"
   ]
  },
  {
   "cell_type": "markdown",
   "metadata": {},
   "source": [
    "## Topic Analysis"
   ]
  },
  {
   "cell_type": "code",
   "execution_count": 65,
   "metadata": {},
   "outputs": [
    {
     "name": "stderr",
     "output_type": "stream",
     "text": [
      "/Users/adamgoldstein/opt/anaconda3/lib/python3.7/site-packages/sklearn/decomposition/online_lda.py:314: DeprecationWarning: n_topics has been renamed to n_components in version 0.19 and will be removed in 0.21\n",
      "  DeprecationWarning)\n"
     ]
    },
    {
     "name": "stdout",
     "output_type": "stream",
     "text": [
      "lda.components_.shape: (10, 500)\n",
      "topic 0       topic 1       \n",
      "--------      --------      \n",
      "law           ho            \n",
      "lover         doo           \n",
      "beating       evil          \n",
      "dem           weapons       \n",
      "looking       hop           \n",
      "mom           losing        \n",
      "bag           somethin      \n",
      "machine       record        \n",
      "cuz           belong        \n",
      "lying         chasing       \n",
      "\n",
      "\n",
      "topic 2       topic 3       \n",
      "--------      --------      \n",
      "christmas     driving       \n",
      "girlfriend    flash         \n",
      "secret        boom          \n",
      "praise        hada          \n",
      "fallen        funky         \n",
      "glad          boogie        \n",
      "guy           christmas     \n",
      "radio         joe           \n",
      "rules         yesterday     \n",
      "telling       dee           \n",
      "\n",
      "\n",
      "topic 4       topic 5       \n",
      "--------      --------      \n",
      "mmm           ich           \n",
      "spirit        im            \n",
      "closer        und           \n",
      "holy          di            \n",
      "golden        che           \n",
      "hole          gim           \n",
      "searching     amor          \n",
      "queen         du            \n",
      "joke          lovin         \n",
      "paradise      te            \n",
      "\n",
      "\n",
      "topic 6       topic 7       \n",
      "--------      --------      \n",
      "whoa          rick          \n",
      "lovely        lisa          \n",
      "skies         akinyele      \n",
      "johnny        hill          \n",
      "bells         sadat         \n",
      "cried         candle        \n",
      "minute        mistake       \n",
      "buck          ghost         \n",
      "breaking      little        \n",
      "ba            hell          \n",
      "\n",
      "\n",
      "topic 8       topic 9       \n",
      "--------      --------      \n",
      "dancing       opp           \n",
      "flip          wa            \n",
      "movin         darling       \n",
      "blessed       woah          \n",
      "mode          nah           \n",
      "busta         busy          \n",
      "drama         drag          \n",
      "bleed         forever       \n",
      "woof          ante          \n",
      "human         lift          \n",
      "\n",
      "\n"
     ]
    }
   ],
   "source": [
    "from sklearn.decomposition import LatentDirichletAllocation\n",
    "lda = LatentDirichletAllocation(n_topics=n_topics, learning_method=\"batch\",\n",
    "                                max_iter=15, random_state=0)\n",
    "# We build the model and transform the data in one step\n",
    "# Computing transform takes some time,\n",
    "# and we can save time by doing both at once\n",
    "document_topics = lda.fit_transform(X)\n",
    "\n",
    "print(\"lda.components_.shape: {}\".format(lda.components_.shape))\n",
    "\n",
    "# For each topic (a row in the components_), sort the features (ascending)\n",
    "# Invert rows with [:, ::-1] to make sorting descending\n",
    "sorting = np.argsort(lda.components_, axis=1)[:, ::-1]\n",
    "# Get the feature names from the vectorizer\n",
    "feature_names = np.array(vect.get_feature_names())\n",
    "\n",
    "# Print out the 10 topics:\n",
    "mglearn.tools.print_topics(topics=range(n_topics), feature_names=feature_names,\n",
    "                           sorting=sorting, topics_per_chunk=display_n_chunks, n_words=n_words)\n",
    "\n",
    "\n",
    "\n"
   ]
  },
  {
   "cell_type": "code",
   "execution_count": 74,
   "metadata": {},
   "outputs": [],
   "source": [
    "def playlist_element(topics=range(n_topics), feature_names=feature_names,\n",
    "                           sorting=sorting, topics_per_chunk=display_n_chunks, n_words=n_words):\n",
    "    playlists = []\n",
    "    for i in range(0, len(topics), topics_per_chunk):\n",
    "        # for each chunk:\n",
    "        these_topics = topics[i: i + topics_per_chunk]\n",
    "        # maybe we have less than topics_per_chunk left\n",
    "        len_this_chunk = len(these_topics)\n",
    "        # print topic headers\n",
    "        #print((\"topic {:<8}\" * len_this_chunk).format(*these_topics))\n",
    "        #print((\"-------- {0:<5}\" * len_this_chunk).format(\"\"))\n",
    "        # print top n_words frequent words\n",
    "        for i in range(n_words):\n",
    "            try:\n",
    "                #print((\"{:<14}\" * len_this_chunk).format(\n",
    "                #    *feature_names[sorting[these_topics, i]]))\n",
    "                playlists.append(feature_names[sorting[these_topics, i]][0])\n",
    "            except:\n",
    "                pass\n",
    "        print(\"\\n\")\n",
    "    return playlists"
   ]
  },
  {
   "cell_type": "code",
   "execution_count": 75,
   "metadata": {},
   "outputs": [
    {
     "name": "stdout",
     "output_type": "stream",
     "text": [
      "\n",
      "\n",
      "\n",
      "\n",
      "\n",
      "\n",
      "\n",
      "\n",
      "\n",
      "\n"
     ]
    }
   ],
   "source": [
    "playlists = playlist_element()"
   ]
  },
  {
   "cell_type": "code",
   "execution_count": 76,
   "metadata": {},
   "outputs": [
    {
     "data": {
      "text/plain": [
       "'dance'"
      ]
     },
     "execution_count": 76,
     "metadata": {},
     "output_type": "execute_result"
    }
   ],
   "source": [
    "playlists[0]"
   ]
  },
  {
   "cell_type": "code",
   "execution_count": 77,
   "metadata": {},
   "outputs": [],
   "source": [
    "def create_ssp(n_words,playlists):\n",
    "    playlist = []\n",
    "    for x in range(n_words):\n",
    "        playlist.append(playlists[x])\n",
    "    return playlist\n",
    "        \n",
    "        \n",
    "    "
   ]
  },
  {
   "cell_type": "code",
   "execution_count": 78,
   "metadata": {},
   "outputs": [],
   "source": [
    "playlist = create_ssp(n_words,playlists)"
   ]
  },
  {
   "cell_type": "code",
   "execution_count": 79,
   "metadata": {},
   "outputs": [
    {
     "data": {
      "text/plain": [
       "['dance',\n",
       " 'ooh',\n",
       " 'care',\n",
       " 'help',\n",
       " 'goodbye',\n",
       " 'babe',\n",
       " 'boom',\n",
       " 'waiting',\n",
       " 'ba',\n",
       " 'control']"
      ]
     },
     "execution_count": 79,
     "metadata": {},
     "output_type": "execute_result"
    }
   ],
   "source": [
    "playlist"
   ]
  },
  {
   "cell_type": "markdown",
   "metadata": {},
   "source": [
    "## Rough Create SSP"
   ]
  },
  {
   "cell_type": "code",
   "execution_count": 170,
   "metadata": {},
   "outputs": [],
   "source": [
    "def find_lyrics(lyrics,element,playlist_position):\n",
    "    if(lyrics.find(element)!= -1):\n",
    "        return playlist_position\n",
    "    else:\n",
    "        return None\n"
   ]
  },
  {
   "cell_type": "code",
   "execution_count": 176,
   "metadata": {},
   "outputs": [],
   "source": [
    "def make_ssp(playlist):\n",
    "    df_demo_ssp = df_demo\n",
    "    ssp = []\n",
    "    for slot in range(len(playlist)):\n",
    "#reset to org state\n",
    "        df_demo_ssp['playlist_index_{s}'.format(s=slot)] = df_demo_ssp.apply(lambda x: find_lyrics(x['lyrics']\n",
    "                                                                            ,playlist[slot],slot),axis=1)\n",
    "        x = df_demo_ssp.dropna(how='all')\n",
    "        y = x[(x['valence'] == x['valence'].max())]\n",
    "        z = y[(y['energy'] == y['energy'].max())]\n",
    "\n",
    "        print(z.track_uri.values[0])\n",
    "        ssp.append({'artist_name':z.artist_name.values[0],'track_name':z.track_name.values[0],'track_uri':z.track_uri.values[0],\n",
    "                   'valence':y.valence.values[0],'energy':z.energy.values[0],'lyrics':z.lyrics.values[0]})\n",
    "\n",
    "        df_demo_ssp = df_demo_ssp.drop(index=z.index)\n",
    "    return ssp"
   ]
  },
  {
   "cell_type": "code",
   "execution_count": 177,
   "metadata": {},
   "outputs": [
    {
     "name": "stdout",
     "output_type": "stream",
     "text": [
      "4huL7QhzO49SW3emj2v6x3\n",
      "77ScDbg6pF84vc9WX25FAQ\n",
      "4Htezs2THA2I8rE6wwtnJS\n",
      "224k0iOwvyVVFGq7pcmekz\n",
      "0mTc5pHScWNXwvQN0rfSHl\n",
      "6f040TcZTtEW8LaYwUQLMP\n",
      "12yYZ8vXzEcXG6XGwi1C8x\n",
      "20AePDsEmKOiaTWYbKbeH5\n",
      "4xJyoKoS3Sdy23k3uyOBpA\n",
      "1Iz4JdDxglpnjXzMHlpnOp\n"
     ]
    }
   ],
   "source": [
    "ssp = make_ssp(playlist)\n",
    "#playlist[0]"
   ]
  },
  {
   "cell_type": "code",
   "execution_count": 178,
   "metadata": {},
   "outputs": [
    {
     "data": {
      "text/html": [
       "<div>\n",
       "<style scoped>\n",
       "    .dataframe tbody tr th:only-of-type {\n",
       "        vertical-align: middle;\n",
       "    }\n",
       "\n",
       "    .dataframe tbody tr th {\n",
       "        vertical-align: top;\n",
       "    }\n",
       "\n",
       "    .dataframe thead th {\n",
       "        text-align: right;\n",
       "    }\n",
       "</style>\n",
       "<table border=\"1\" class=\"dataframe\">\n",
       "  <thead>\n",
       "    <tr style=\"text-align: right;\">\n",
       "      <th></th>\n",
       "      <th>artist_name</th>\n",
       "      <th>energy</th>\n",
       "      <th>lyrics</th>\n",
       "      <th>track_name</th>\n",
       "      <th>track_uri</th>\n",
       "      <th>valence</th>\n",
       "    </tr>\n",
       "  </thead>\n",
       "  <tbody>\n",
       "    <tr>\n",
       "      <th>0</th>\n",
       "      <td>Gary's Gang</td>\n",
       "      <td>0.638</td>\n",
       "      <td>Love dancing!!!... I've been calling for your ...</td>\n",
       "      <td>let's love dance tonight</td>\n",
       "      <td>4huL7QhzO49SW3emj2v6x3</td>\n",
       "      <td>0.980</td>\n",
       "    </tr>\n",
       "    <tr>\n",
       "      <th>1</th>\n",
       "      <td>Donovan</td>\n",
       "      <td>0.514</td>\n",
       "      <td>From the album donovan Dare to be different - ...</td>\n",
       "      <td>dare to be different</td>\n",
       "      <td>77ScDbg6pF84vc9WX25FAQ</td>\n",
       "      <td>0.980</td>\n",
       "    </tr>\n",
       "    <tr>\n",
       "      <th>2</th>\n",
       "      <td>Eugene McGuinness</td>\n",
       "      <td>0.527</td>\n",
       "      <td>And I've been putting it about Step right up, ...</td>\n",
       "      <td>she paints houses</td>\n",
       "      <td>4Htezs2THA2I8rE6wwtnJS</td>\n",
       "      <td>0.978</td>\n",
       "    </tr>\n",
       "    <tr>\n",
       "      <th>3</th>\n",
       "      <td>883</td>\n",
       "      <td>0.950</td>\n",
       "      <td>La grande citt s'illumina gi con i neon e gli ...</td>\n",
       "      <td>viaggio al centro del mondo</td>\n",
       "      <td>224k0iOwvyVVFGq7pcmekz</td>\n",
       "      <td>0.975</td>\n",
       "    </tr>\n",
       "    <tr>\n",
       "      <th>4</th>\n",
       "      <td>The Dave Clark Five</td>\n",
       "      <td>0.835</td>\n",
       "      <td>(I'm in pieces, bits and pieces) Since you lef...</td>\n",
       "      <td>bits and pieces - 2019 - remaster</td>\n",
       "      <td>0mTc5pHScWNXwvQN0rfSHl</td>\n",
       "      <td>0.974</td>\n",
       "    </tr>\n",
       "    <tr>\n",
       "      <th>5</th>\n",
       "      <td>Banda Los Recoditos</td>\n",
       "      <td>0.622</td>\n",
       "      <td>Si vieras como ando de preocupado aquÃ­ con un...</td>\n",
       "      <td>vieras como</td>\n",
       "      <td>6f040TcZTtEW8LaYwUQLMP</td>\n",
       "      <td>0.974</td>\n",
       "    </tr>\n",
       "    <tr>\n",
       "      <th>6</th>\n",
       "      <td>B*Witched</td>\n",
       "      <td>0.925</td>\n",
       "      <td>Oh Mickey You're so fine You're so fine You bl...</td>\n",
       "      <td>mickey</td>\n",
       "      <td>12yYZ8vXzEcXG6XGwi1C8x</td>\n",
       "      <td>0.973</td>\n",
       "    </tr>\n",
       "    <tr>\n",
       "      <th>7</th>\n",
       "      <td>Abra Moore</td>\n",
       "      <td>0.776</td>\n",
       "      <td>See I've been thinkin' it over It's all just a...</td>\n",
       "      <td>four leaf clover</td>\n",
       "      <td>20AePDsEmKOiaTWYbKbeH5</td>\n",
       "      <td>0.973</td>\n",
       "    </tr>\n",
       "    <tr>\n",
       "      <th>8</th>\n",
       "      <td>Brenda Lee</td>\n",
       "      <td>0.529</td>\n",
       "      <td>Won't you come home, Bill Bailey, won't you co...</td>\n",
       "      <td>bill bailey</td>\n",
       "      <td>4xJyoKoS3Sdy23k3uyOBpA</td>\n",
       "      <td>0.973</td>\n",
       "    </tr>\n",
       "    <tr>\n",
       "      <th>9</th>\n",
       "      <td>Fine Young Cannibals</td>\n",
       "      <td>0.703</td>\n",
       "      <td>Never had the good things only money can buy. ...</td>\n",
       "      <td>don't look back</td>\n",
       "      <td>1Iz4JdDxglpnjXzMHlpnOp</td>\n",
       "      <td>0.972</td>\n",
       "    </tr>\n",
       "  </tbody>\n",
       "</table>\n",
       "</div>"
      ],
      "text/plain": [
       "            artist_name  energy  \\\n",
       "0           Gary's Gang   0.638   \n",
       "1               Donovan   0.514   \n",
       "2     Eugene McGuinness   0.527   \n",
       "3                   883   0.950   \n",
       "4   The Dave Clark Five   0.835   \n",
       "5   Banda Los Recoditos   0.622   \n",
       "6             B*Witched   0.925   \n",
       "7            Abra Moore   0.776   \n",
       "8            Brenda Lee   0.529   \n",
       "9  Fine Young Cannibals   0.703   \n",
       "\n",
       "                                              lyrics  \\\n",
       "0  Love dancing!!!... I've been calling for your ...   \n",
       "1  From the album donovan Dare to be different - ...   \n",
       "2  And I've been putting it about Step right up, ...   \n",
       "3  La grande citt s'illumina gi con i neon e gli ...   \n",
       "4  (I'm in pieces, bits and pieces) Since you lef...   \n",
       "5  Si vieras como ando de preocupado aquÃ­ con un...   \n",
       "6  Oh Mickey You're so fine You're so fine You bl...   \n",
       "7  See I've been thinkin' it over It's all just a...   \n",
       "8  Won't you come home, Bill Bailey, won't you co...   \n",
       "9  Never had the good things only money can buy. ...   \n",
       "\n",
       "                          track_name               track_uri  valence  \n",
       "0           let's love dance tonight  4huL7QhzO49SW3emj2v6x3    0.980  \n",
       "1               dare to be different  77ScDbg6pF84vc9WX25FAQ    0.980  \n",
       "2                  she paints houses  4Htezs2THA2I8rE6wwtnJS    0.978  \n",
       "3        viaggio al centro del mondo  224k0iOwvyVVFGq7pcmekz    0.975  \n",
       "4  bits and pieces - 2019 - remaster  0mTc5pHScWNXwvQN0rfSHl    0.974  \n",
       "5                        vieras como  6f040TcZTtEW8LaYwUQLMP    0.974  \n",
       "6                             mickey  12yYZ8vXzEcXG6XGwi1C8x    0.973  \n",
       "7                   four leaf clover  20AePDsEmKOiaTWYbKbeH5    0.973  \n",
       "8                        bill bailey  4xJyoKoS3Sdy23k3uyOBpA    0.973  \n",
       "9                    don't look back  1Iz4JdDxglpnjXzMHlpnOp    0.972  "
      ]
     },
     "execution_count": 178,
     "metadata": {},
     "output_type": "execute_result"
    }
   ],
   "source": [
    "df_ssp = pd.DataFrame(ssp)\n",
    "df_ssp"
   ]
  },
  {
   "cell_type": "markdown",
   "metadata": {},
   "source": [
    "## Visualization (Valence Curve, Energy Curve)"
   ]
  },
  {
   "cell_type": "code",
   "execution_count": 130,
   "metadata": {},
   "outputs": [
    {
     "data": {
      "text/plain": [
       "<matplotlib.axes._subplots.AxesSubplot at 0x125b67bd0>"
      ]
     },
     "execution_count": 130,
     "metadata": {},
     "output_type": "execute_result"
    },
    {
     "data": {
      "image/png": "[encoded data removed]",
      "text/plain": [
       "<Figure size 432x288 with 1 Axes>"
      ]
     },
     "metadata": {
      "needs_background": "light"
     },
     "output_type": "display_data"
    }
   ],
   "source": [
    "df_ssp.plot.line(x='valence',y='energy')"
   ]
  },
  {
   "cell_type": "markdown",
   "metadata": {},
   "source": [
    "## Create Spotify Playlist"
   ]
  },
  {
   "cell_type": "code",
   "execution_count": 10,
   "metadata": {},
   "outputs": [],
   "source": [
    "import requests\n",
    "import json\n",
    "import pandas as pd\n",
    "import spotipy#authentication\n",
    "import spotipy.util as util#authentication\n",
    "from spotipy.oauth2 import SpotifyClientCredentials#authentication"
   ]
  },
  {
   "cell_type": "code",
   "execution_count": 11,
   "metadata": {},
   "outputs": [],
   "source": [
    "cid = '049ade7215e54c63a2b628f3784dc407'\n",
    "secret = '5d30770120ad4dbbabbb5ce538110e05'\n",
    "redirect_uri = 'http://google.com/'\n",
    "username = 'name'"
   ]
  },
  {
   "cell_type": "code",
   "execution_count": 15,
   "metadata": {
    "scrolled": true
   },
   "outputs": [
    {
     "name": "stdout",
     "output_type": "stream",
     "text": [
      "\n",
      "\n",
      "            User authentication requires interaction with your\n",
      "            web browser. Once you enter your credentials and\n",
      "            give authorization, you will be redirected to\n",
      "            a url.  Paste that url you were directed to to\n",
      "            complete the authorization.\n",
      "\n",
      "        \n",
      "Opened https://accounts.spotify.com/authorize?client_id=049ade7215e54c63a2b628f3784dc407&response_type=code&redirect_uri=http%3A%2F%2Fgoogle.com%2F&scope=playlist-modify-private in your browser\n",
      "\n",
      "\n",
      "Enter the URL you were redirected to: https://www.google.com/?code=AQBFDPLo0HnmtpT_I7pT6FyOew_CrTlB1dYVWFdaHdzaFUAUs_NhjUh15HivWQfyzwQLw0fSn0jZFVLItSOscoj173PSI2DGmNL6SazLJjWuTbt8dMi3_uFoqyTiMBaO6AjYhcAlcP7nvd-_svtxesoxfasy7PHKU-veKurh5ZgnyZzD_qXxaCqnPiLmVl9RuIpPoCsNrYOb85WHOg4wMdE\n",
      "\n",
      "\n",
      "\n",
      "\n",
      "            User authentication requires interaction with your\n",
      "            web browser. Once you enter your credentials and\n",
      "            give authorization, you will be redirected to\n",
      "            a url.  Paste that url you were directed to to\n",
      "            complete the authorization.\n",
      "\n",
      "        \n",
      "Opened https://accounts.spotify.com/authorize?client_id=049ade7215e54c63a2b628f3784dc407&response_type=code&redirect_uri=http%3A%2F%2Fgoogle.com%2F&scope=user-read-private in your browser\n",
      "\n",
      "\n",
      "Enter the URL you were redirected to: https://www.google.com/?code=AQBk5u8ef_XjEMXlxEp8hPNFt-kDJYcGoXymhuaT7aL_Rk5ist_o8q0YUJe8QDzT3HpBgkPLrmcTutjv2Kn6AkKeFhkqIo3Ohp2GjMHKz2uhnf2q0iEMr9pUATg5DLkDdYZuLjI9fHyRf43AXjmI6YUDYVDWfA68qesCy8umDWGPwE3LhKDRnPuJpsk9fxbKsgl7DdUCHPKOFE8\n",
      "\n",
      "\n"
     ]
    }
   ],
   "source": [
    "#Authentication\n",
    "\n",
    "scope = 'playlist-modify-private'\n",
    "token_playlist = util.prompt_for_user_token(username, scope, client_id=cid, client_secret=secret, redirect_uri=redirect_uri)\n",
    "\n",
    "if token_playlist:\n",
    "    sp_playlist = spotipy.Spotify(auth=token_playlist)\n",
    "else:\n",
    "    print(\"Can't get token for\", username)\n",
    "    \n",
    "#Authentication\n",
    "\n",
    "scope = 'user-read-private'\n",
    "token_user = util.prompt_for_user_token(username, scope, client_id=cid, client_secret=secret, redirect_uri=redirect_uri)\n",
    "\n",
    "if token_user:\n",
    "    sp_user = spotipy.Spotify(auth=token_user)\n",
    "else:\n",
    "    print(\"Can't get token for\", username)"
   ]
  },
  {
   "cell_type": "code",
   "execution_count": 16,
   "metadata": {},
   "outputs": [],
   "source": [
    "def get_user_id(url):\n",
    "    try:\n",
    "        resp = requests.get(url,headers={'Authorization': 'Bearer ' + token_user},\n",
    "                             #data={\"name\": \"SSP\"}\n",
    "                           )\n",
    "        \n",
    "        resp.raise_for_status()\n",
    "    except requests.exceptions.HTTPError as err:\n",
    "        print(err)\n",
    "        \n",
    "    \n",
    "    response = resp.json()\n",
    "    userid = response['id']\n",
    "    \n",
    "    return userid\n"
   ]
  },
  {
   "cell_type": "code",
   "execution_count": 17,
   "metadata": {},
   "outputs": [],
   "source": [
    "user_id = get_user_id('https://api.spotify.com/v1/me')"
   ]
  },
  {
   "cell_type": "code",
   "execution_count": 18,
   "metadata": {},
   "outputs": [
    {
     "data": {
      "text/plain": [
       "'124399179'"
      ]
     },
     "execution_count": 18,
     "metadata": {},
     "output_type": "execute_result"
    }
   ],
   "source": [
    "identification = user_id\n",
    "identification"
   ]
  },
  {
   "cell_type": "code",
   "execution_count": 19,
   "metadata": {},
   "outputs": [],
   "source": [
    "playlist = sp_playlist.user_playlist_create(identification,'SSP_Ideal', public=False, description=\"Ideal SSP\")"
   ]
  },
  {
   "cell_type": "code",
   "execution_count": 20,
   "metadata": {},
   "outputs": [
    {
     "data": {
      "text/plain": [
       "{'collaborative': False,\n",
       " 'description': 'Ideal SSP',\n",
       " 'external_urls': {'spotify': 'https://open.spotify.com/playlist/6vlZNMLF0TGkJlWdnWfObu'},\n",
       " 'followers': {'href': None, 'total': 0},\n",
       " 'href': 'https://api.spotify.com/v1/playlists/6vlZNMLF0TGkJlWdnWfObu',\n",
       " 'id': '6vlZNMLF0TGkJlWdnWfObu',\n",
       " 'images': [],\n",
       " 'name': 'SSP_Ideal',\n",
       " 'owner': {'display_name': 'Adam Goldstein',\n",
       "  'external_urls': {'spotify': 'https://open.spotify.com/user/124399179'},\n",
       "  'href': 'https://api.spotify.com/v1/users/124399179',\n",
       "  'id': '124399179',\n",
       "  'type': 'user',\n",
       "  'uri': 'spotify:user:124399179'},\n",
       " 'primary_color': None,\n",
       " 'public': False,\n",
       " 'snapshot_id': 'MSxjOGZmNWJhNmY1ZTYzMDFlMDUxMTg1ZTFkODY2Mzg4NjJhYTZjMjg4',\n",
       " 'tracks': {'href': 'https://api.spotify.com/v1/playlists/6vlZNMLF0TGkJlWdnWfObu/tracks',\n",
       "  'items': [],\n",
       "  'limit': 100,\n",
       "  'next': None,\n",
       "  'offset': 0,\n",
       "  'previous': None,\n",
       "  'total': 0},\n",
       " 'type': 'playlist',\n",
       " 'uri': 'spotify:playlist:6vlZNMLF0TGkJlWdnWfObu'}"
      ]
     },
     "execution_count": 20,
     "metadata": {},
     "output_type": "execute_result"
    }
   ],
   "source": [
    "playlist"
   ]
  },
  {
   "cell_type": "code",
   "execution_count": 21,
   "metadata": {},
   "outputs": [],
   "source": [
    "playlist_tracks = sp_playlist.user_playlist_add_tracks(identification,playlist['id'],make_playlist['track_uri'], position=None)"
   ]
  },
  {
   "cell_type": "markdown",
   "metadata": {},
   "source": [
    "## unigrams"
   ]
  },
  {
   "cell_type": "markdown",
   "metadata": {},
   "source": [
    "def display_topics(model, feature_names, no_top_words):\n",
    "    for topic_idx, topic in enumerate(model.components_):\n",
    "        print(\"Topic {i}:\".format(i=topic_idx))\n",
    "        print(\" \".join([feature_names[i]\n",
    "                        for i in topic.argsort()[:-no_top_words - 1:-1]]))\n",
    "#How many words per topic\n",
    "no_top_words = 4\n",
    "display_topics(nmf, tfidf_feature_names, no_top_words)"
   ]
  }
 ],
 "metadata": {
  "kernelspec": {
   "display_name": "Python 3",
   "language": "python",
   "name": "python3"
  },
  "language_info": {
   "codemirror_mode": {
    "name": "ipython",
    "version": 3
   },
   "file_extension": ".py",
   "mimetype": "text/x-python",
   "name": "python",
   "nbconvert_exporter": "python",
   "pygments_lexer": "ipython3",
   "version": "3.7.4"
  }
 },
 "nbformat": 4,
 "nbformat_minor": 2
}
