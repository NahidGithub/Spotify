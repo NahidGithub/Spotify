{
 "cells": [
  {
   "cell_type": "code",
   "execution_count": 1,
   "metadata": {},
   "outputs": [],
   "source": [
    "import pandas as pd\n",
    "import numpy as np\n",
    "from sklearn.feature_extraction.text import TfidfVectorizer,CountVectorizer\n",
    "from nltk import word_tokenize\n",
    "import boto3\n",
    "from s3 import get_file\n",
    "import re\n",
    "import mglearn\n",
    "import sklearn\n",
    "import yellowbrick\n",
    "from nltk.corpus import stopwords"
   ]
  },
  {
   "cell_type": "code",
   "execution_count": 2,
   "metadata": {},
   "outputs": [],
   "source": [
    "from sklearn.feature_extraction.stop_words import ENGLISH_STOP_WORDS"
   ]
  },
  {
   "cell_type": "code",
   "execution_count": 3,
   "metadata": {},
   "outputs": [],
   "source": [
    "s3 = boto3.resource('s3')\n",
    "lyrics = get_file(s3,'s3ssp',download_file='NLP_Data/master_lyrics_audio_features.csv',rename_file='0320_2020_nlp.csv')"
   ]
  },
  {
   "cell_type": "code",
   "execution_count": 4,
   "metadata": {},
   "outputs": [],
   "source": [
    "df = pd.read_csv(lyrics,sep='|',encoding='utf-8')"
   ]
  },
  {
   "cell_type": "code",
   "execution_count": 5,
   "metadata": {},
   "outputs": [],
   "source": [
    "df = df.drop(columns=['instrumentalness','key','mode','liveness','speechiness','time_signature'])"
   ]
  },
  {
   "cell_type": "code",
   "execution_count": 6,
   "metadata": {},
   "outputs": [
    {
     "data": {
      "text/html": [
       "<div>\n",
       "<style scoped>\n",
       "    .dataframe tbody tr th:only-of-type {\n",
       "        vertical-align: middle;\n",
       "    }\n",
       "\n",
       "    .dataframe tbody tr th {\n",
       "        vertical-align: top;\n",
       "    }\n",
       "\n",
       "    .dataframe thead th {\n",
       "        text-align: right;\n",
       "    }\n",
       "</style>\n",
       "<table border=\"1\" class=\"dataframe\">\n",
       "  <thead>\n",
       "    <tr style=\"text-align: right;\">\n",
       "      <th></th>\n",
       "      <th>artist_uri_x</th>\n",
       "      <th>artist_name</th>\n",
       "      <th>track_uri</th>\n",
       "      <th>track_name</th>\n",
       "      <th>lyrics</th>\n",
       "      <th>acousticness</th>\n",
       "      <th>danceability</th>\n",
       "      <th>energy</th>\n",
       "      <th>loudness</th>\n",
       "      <th>tempo</th>\n",
       "      <th>valence</th>\n",
       "    </tr>\n",
       "  </thead>\n",
       "  <tbody>\n",
       "    <tr>\n",
       "      <th>0</th>\n",
       "      <td>6vWDO969PvNqNYHIOW5v0m</td>\n",
       "      <td>Beyoncé</td>\n",
       "      <td>5Ui8M6tfknhXo4MuGHt3Dy</td>\n",
       "      <td>why don't you love me</td>\n",
       "      <td>N-n-now, honey\\nYou better sit down and look a...</td>\n",
       "      <td>0.0463</td>\n",
       "      <td>0.693</td>\n",
       "      <td>0.730</td>\n",
       "      <td>-4.571</td>\n",
       "      <td>136.882</td>\n",
       "      <td>0.7410</td>\n",
       "    </tr>\n",
       "    <tr>\n",
       "      <th>1</th>\n",
       "      <td>6vWDO969PvNqNYHIOW5v0m</td>\n",
       "      <td>Beyoncé</td>\n",
       "      <td>5dhPqcLr5EcSd7Fe4fslCq</td>\n",
       "      <td>save the hero</td>\n",
       "      <td>I lay alone awake at night\\nSorrow fills my ey...</td>\n",
       "      <td>0.6730</td>\n",
       "      <td>0.551</td>\n",
       "      <td>0.467</td>\n",
       "      <td>-10.364</td>\n",
       "      <td>116.966</td>\n",
       "      <td>0.1480</td>\n",
       "    </tr>\n",
       "    <tr>\n",
       "      <th>2</th>\n",
       "      <td>6vWDO969PvNqNYHIOW5v0m</td>\n",
       "      <td>Beyoncé</td>\n",
       "      <td>5dWTQXVHdoIsSLpEyS3woy</td>\n",
       "      <td>broken-hearted girl</td>\n",
       "      <td>Youre everything I thought you never were\\nAnd...</td>\n",
       "      <td>0.5030</td>\n",
       "      <td>0.336</td>\n",
       "      <td>0.424</td>\n",
       "      <td>-7.203</td>\n",
       "      <td>82.149</td>\n",
       "      <td>0.1590</td>\n",
       "    </tr>\n",
       "    <tr>\n",
       "      <th>3</th>\n",
       "      <td>6vWDO969PvNqNYHIOW5v0m</td>\n",
       "      <td>Beyoncé</td>\n",
       "      <td>0QRxJvOohS8yiGC1n98uFM</td>\n",
       "      <td>lift ev'ry voice and sing - homecoming live</td>\n",
       "      <td>He is always laughin' and flirting with me\\nAn...</td>\n",
       "      <td>0.1240</td>\n",
       "      <td>0.127</td>\n",
       "      <td>0.409</td>\n",
       "      <td>-13.089</td>\n",
       "      <td>79.904</td>\n",
       "      <td>0.0782</td>\n",
       "    </tr>\n",
       "    <tr>\n",
       "      <th>4</th>\n",
       "      <td>6vWDO969PvNqNYHIOW5v0m</td>\n",
       "      <td>Beyoncé</td>\n",
       "      <td>4DActPOAtak2m8meZeMt3B</td>\n",
       "      <td>no angel</td>\n",
       "      <td>This is for my fans\\n(Uhu, uhu)\\nThis is for m...</td>\n",
       "      <td>0.0424</td>\n",
       "      <td>0.571</td>\n",
       "      <td>0.466</td>\n",
       "      <td>-9.153</td>\n",
       "      <td>111.580</td>\n",
       "      <td>0.5120</td>\n",
       "    </tr>\n",
       "  </tbody>\n",
       "</table>\n",
       "</div>"
      ],
      "text/plain": [
       "             artist_uri_x artist_name               track_uri  \\\n",
       "0  6vWDO969PvNqNYHIOW5v0m     Beyoncé  5Ui8M6tfknhXo4MuGHt3Dy   \n",
       "1  6vWDO969PvNqNYHIOW5v0m     Beyoncé  5dhPqcLr5EcSd7Fe4fslCq   \n",
       "2  6vWDO969PvNqNYHIOW5v0m     Beyoncé  5dWTQXVHdoIsSLpEyS3woy   \n",
       "3  6vWDO969PvNqNYHIOW5v0m     Beyoncé  0QRxJvOohS8yiGC1n98uFM   \n",
       "4  6vWDO969PvNqNYHIOW5v0m     Beyoncé  4DActPOAtak2m8meZeMt3B   \n",
       "\n",
       "                                    track_name  \\\n",
       "0                        why don't you love me   \n",
       "1                                save the hero   \n",
       "2                          broken-hearted girl   \n",
       "3  lift ev'ry voice and sing - homecoming live   \n",
       "4                                     no angel   \n",
       "\n",
       "                                              lyrics  acousticness  \\\n",
       "0  N-n-now, honey\\nYou better sit down and look a...        0.0463   \n",
       "1  I lay alone awake at night\\nSorrow fills my ey...        0.6730   \n",
       "2  Youre everything I thought you never were\\nAnd...        0.5030   \n",
       "3  He is always laughin' and flirting with me\\nAn...        0.1240   \n",
       "4  This is for my fans\\n(Uhu, uhu)\\nThis is for m...        0.0424   \n",
       "\n",
       "   danceability  energy  loudness    tempo  valence  \n",
       "0         0.693   0.730    -4.571  136.882   0.7410  \n",
       "1         0.551   0.467   -10.364  116.966   0.1480  \n",
       "2         0.336   0.424    -7.203   82.149   0.1590  \n",
       "3         0.127   0.409   -13.089   79.904   0.0782  \n",
       "4         0.571   0.466    -9.153  111.580   0.5120  "
      ]
     },
     "execution_count": 6,
     "metadata": {},
     "output_type": "execute_result"
    }
   ],
   "source": [
    "df.head()"
   ]
  },
  {
   "cell_type": "code",
   "execution_count": 7,
   "metadata": {},
   "outputs": [],
   "source": [
    "df_lastfm_stopwords = pd.read_csv('lastfm-lyrics-analysis/stopwords.txt')"
   ]
  },
  {
   "cell_type": "code",
   "execution_count": 8,
   "metadata": {},
   "outputs": [],
   "source": [
    "lyrics = df['lyrics'].str.replace('\\n',' ')\n",
    "df['lyrics'] = lyrics.to_frame()\n",
    "lastfm_stopwords = df_lastfm_stopwords['a'].str.replace('\\n',' ')\n",
    "df_lastfm_stopwords['last_fm_stopwords'] = lastfm_stopwords.to_frame()\n",
    "#df_clean = .str.replace('(\\[.*\\])*','')"
   ]
  },
  {
   "cell_type": "code",
   "execution_count": 9,
   "metadata": {},
   "outputs": [
    {
     "data": {
      "text/html": [
       "<div>\n",
       "<style scoped>\n",
       "    .dataframe tbody tr th:only-of-type {\n",
       "        vertical-align: middle;\n",
       "    }\n",
       "\n",
       "    .dataframe tbody tr th {\n",
       "        vertical-align: top;\n",
       "    }\n",
       "\n",
       "    .dataframe thead th {\n",
       "        text-align: right;\n",
       "    }\n",
       "</style>\n",
       "<table border=\"1\" class=\"dataframe\">\n",
       "  <thead>\n",
       "    <tr style=\"text-align: right;\">\n",
       "      <th></th>\n",
       "      <th>a</th>\n",
       "      <th>last_fm_stopwords</th>\n",
       "    </tr>\n",
       "  </thead>\n",
       "  <tbody>\n",
       "    <tr>\n",
       "      <th>0</th>\n",
       "      <td>able</td>\n",
       "      <td>able</td>\n",
       "    </tr>\n",
       "    <tr>\n",
       "      <th>1</th>\n",
       "      <td>about</td>\n",
       "      <td>about</td>\n",
       "    </tr>\n",
       "    <tr>\n",
       "      <th>2</th>\n",
       "      <td>above</td>\n",
       "      <td>above</td>\n",
       "    </tr>\n",
       "    <tr>\n",
       "      <th>3</th>\n",
       "      <td>abst</td>\n",
       "      <td>abst</td>\n",
       "    </tr>\n",
       "    <tr>\n",
       "      <th>4</th>\n",
       "      <td>accordance</td>\n",
       "      <td>accordance</td>\n",
       "    </tr>\n",
       "  </tbody>\n",
       "</table>\n",
       "</div>"
      ],
      "text/plain": [
       "            a last_fm_stopwords\n",
       "0        able              able\n",
       "1       about             about\n",
       "2       above             above\n",
       "3        abst              abst\n",
       "4  accordance        accordance"
      ]
     },
     "execution_count": 9,
     "metadata": {},
     "output_type": "execute_result"
    }
   ],
   "source": [
    "df_lastfm_stopwords.head()"
   ]
  },
  {
   "cell_type": "code",
   "execution_count": 10,
   "metadata": {},
   "outputs": [],
   "source": [
    "df_lastfm_stopwords_list = df_lastfm_stopwords['last_fm_stopwords'].tolist()"
   ]
  },
  {
   "cell_type": "code",
   "execution_count": 11,
   "metadata": {},
   "outputs": [],
   "source": [
    "#In development delete rows with instumental as its column\n",
    "\n",
    "df = df.dropna()\n",
    "df_lyrics = df['lyrics']\n",
    "df_playlist = df\n",
    "df_playlist['instrumental'] = df_lyrics.apply(lambda x: x.find('instrumental'))\n",
    "df_playlist = df.drop(df[df['instrumental'] != -1].index)\n",
    "#df = df.drop(df[df['lyrics']=='This is an instrumental'].index)"
   ]
  },
  {
   "cell_type": "code",
   "execution_count": 12,
   "metadata": {},
   "outputs": [],
   "source": [
    "def lastfm_preprocessor(text):\n",
    "    tokens = word_tokenize(text)\n",
    "    return (\" \").join([word for word in tokens if word not in df_lastfm_stopwords_list])\n",
    "\n",
    "def nltk_preprocessor(text):\n",
    "    stop_words = stopwords.words('english')\n",
    "    tokens = word_tokenize(text)\n",
    "    return (\" \").join([word for word in tokens if word not in stop_words])"
   ]
  },
  {
   "cell_type": "code",
   "execution_count": 62,
   "metadata": {},
   "outputs": [],
   "source": [
    "df_demo = df_playlist.sample(50)\n",
    "\n",
    "df_demo['last_fm_lyrics'] = df_demo['lyrics'].apply(lambda x: lastfm_preprocessor(x))\n",
    "df_demo['nltk_lyrics'] = df_demo['last_fm_lyrics'].apply(lambda x: nltk_preprocessor(x))"
   ]
  },
  {
   "cell_type": "code",
   "execution_count": 63,
   "metadata": {
    "scrolled": true
   },
   "outputs": [
    {
     "data": {
      "text/html": [
       "<div>\n",
       "<style scoped>\n",
       "    .dataframe tbody tr th:only-of-type {\n",
       "        vertical-align: middle;\n",
       "    }\n",
       "\n",
       "    .dataframe tbody tr th {\n",
       "        vertical-align: top;\n",
       "    }\n",
       "\n",
       "    .dataframe thead th {\n",
       "        text-align: right;\n",
       "    }\n",
       "</style>\n",
       "<table border=\"1\" class=\"dataframe\">\n",
       "  <thead>\n",
       "    <tr style=\"text-align: right;\">\n",
       "      <th></th>\n",
       "      <th>artist_uri_x</th>\n",
       "      <th>artist_name</th>\n",
       "      <th>track_uri</th>\n",
       "      <th>track_name</th>\n",
       "      <th>lyrics</th>\n",
       "      <th>acousticness</th>\n",
       "      <th>danceability</th>\n",
       "      <th>energy</th>\n",
       "      <th>loudness</th>\n",
       "      <th>tempo</th>\n",
       "      <th>valence</th>\n",
       "      <th>instrumental</th>\n",
       "      <th>last_fm_lyrics</th>\n",
       "      <th>nltk_lyrics</th>\n",
       "    </tr>\n",
       "  </thead>\n",
       "  <tbody>\n",
       "    <tr>\n",
       "      <th>97702</th>\n",
       "      <td>5KEG7G8LDYlHgFDqZyEEs2</td>\n",
       "      <td>Chris Rea</td>\n",
       "      <td>2rNawLFXIfZ7A63OUE8hYO</td>\n",
       "      <td>e</td>\n",
       "      <td>Well she thinks she's looking so cool She thin...</td>\n",
       "      <td>0.2860</td>\n",
       "      <td>0.680</td>\n",
       "      <td>0.510</td>\n",
       "      <td>-13.389</td>\n",
       "      <td>131.983</td>\n",
       "      <td>0.2270</td>\n",
       "      <td>-1</td>\n",
       "      <td>Well thinks 's cool She thinks 's great 's a f...</td>\n",
       "      <td>Well thinks 's cool She thinks 's great 's foo...</td>\n",
       "    </tr>\n",
       "    <tr>\n",
       "      <th>143461</th>\n",
       "      <td>1TJbmc7jTpw78GKCiMpvDh</td>\n",
       "      <td>Blue October</td>\n",
       "      <td>54iTy9taCjjB8q9L0ybnWy</td>\n",
       "      <td>x amount of words</td>\n",
       "      <td>Relapse Prevent trigger intent Now drown High ...</td>\n",
       "      <td>0.1110</td>\n",
       "      <td>0.538</td>\n",
       "      <td>0.697</td>\n",
       "      <td>-9.774</td>\n",
       "      <td>106.111</td>\n",
       "      <td>0.4300</td>\n",
       "      <td>-1</td>\n",
       "      <td>Relapse Prevent trigger intent Now drown High ...</td>\n",
       "      <td>Relapse Prevent trigger intent Now drown High ...</td>\n",
       "    </tr>\n",
       "    <tr>\n",
       "      <th>186838</th>\n",
       "      <td>5HJ2kX5UTwN4Ns8fB5Rn1I</td>\n",
       "      <td>clipping.</td>\n",
       "      <td>0P85ffuKkKlhv87kyoHL1E</td>\n",
       "      <td>interlude 01 (freestyle)</td>\n",
       "      <td>The enemy, called the first shot on the first ...</td>\n",
       "      <td>0.0134</td>\n",
       "      <td>0.430</td>\n",
       "      <td>0.431</td>\n",
       "      <td>-11.464</td>\n",
       "      <td>124.585</td>\n",
       "      <td>0.0308</td>\n",
       "      <td>-1</td>\n",
       "      <td>The enemy , called shot ship Free trade , I 'm...</td>\n",
       "      <td>The enemy , called shot ship Free trade , I 'm...</td>\n",
       "    </tr>\n",
       "    <tr>\n",
       "      <th>106328</th>\n",
       "      <td>5KEG7G8LDYlHgFDqZyEEs2</td>\n",
       "      <td>Chris Rea</td>\n",
       "      <td>2rNawLFXIfZ7A63OUE8hYO</td>\n",
       "      <td>e</td>\n",
       "      <td>Between the devil and the deep blue sea Everyw...</td>\n",
       "      <td>0.2860</td>\n",
       "      <td>0.680</td>\n",
       "      <td>0.510</td>\n",
       "      <td>-13.389</td>\n",
       "      <td>131.983</td>\n",
       "      <td>0.2270</td>\n",
       "      <td>-1</td>\n",
       "      <td>Between devil deep blue sea Everywhere I turn ...</td>\n",
       "      <td>Between devil deep blue sea Everywhere I turn ...</td>\n",
       "    </tr>\n",
       "    <tr>\n",
       "      <th>117817</th>\n",
       "      <td>34ABXKUj0gzq7R8vXjCaNj</td>\n",
       "      <td>Funkmaster Flex</td>\n",
       "      <td>2iET2LLKAEOL2GraN5fJUj</td>\n",
       "      <td>r</td>\n",
       "      <td>Mi-Missy! (I'm Supa Dupa Fly) Mi-Missy! (Sup-S...</td>\n",
       "      <td>0.0468</td>\n",
       "      <td>0.688</td>\n",
       "      <td>0.917</td>\n",
       "      <td>-4.967</td>\n",
       "      <td>104.823</td>\n",
       "      <td>0.5370</td>\n",
       "      <td>-1</td>\n",
       "      <td>Mi-Missy ! ( I 'm Supa Dupa Fly ) Mi-Missy ! (...</td>\n",
       "      <td>Mi-Missy ! ( I 'm Supa Dupa Fly ) Mi-Missy ! (...</td>\n",
       "    </tr>\n",
       "  </tbody>\n",
       "</table>\n",
       "</div>"
      ],
      "text/plain": [
       "                  artist_uri_x      artist_name               track_uri  \\\n",
       "97702   5KEG7G8LDYlHgFDqZyEEs2        Chris Rea  2rNawLFXIfZ7A63OUE8hYO   \n",
       "143461  1TJbmc7jTpw78GKCiMpvDh     Blue October  54iTy9taCjjB8q9L0ybnWy   \n",
       "186838  5HJ2kX5UTwN4Ns8fB5Rn1I        clipping.  0P85ffuKkKlhv87kyoHL1E   \n",
       "106328  5KEG7G8LDYlHgFDqZyEEs2        Chris Rea  2rNawLFXIfZ7A63OUE8hYO   \n",
       "117817  34ABXKUj0gzq7R8vXjCaNj  Funkmaster Flex  2iET2LLKAEOL2GraN5fJUj   \n",
       "\n",
       "                      track_name  \\\n",
       "97702                          e   \n",
       "143461         x amount of words   \n",
       "186838  interlude 01 (freestyle)   \n",
       "106328                         e   \n",
       "117817                         r   \n",
       "\n",
       "                                                   lyrics  acousticness  \\\n",
       "97702   Well she thinks she's looking so cool She thin...        0.2860   \n",
       "143461  Relapse Prevent trigger intent Now drown High ...        0.1110   \n",
       "186838  The enemy, called the first shot on the first ...        0.0134   \n",
       "106328  Between the devil and the deep blue sea Everyw...        0.2860   \n",
       "117817  Mi-Missy! (I'm Supa Dupa Fly) Mi-Missy! (Sup-S...        0.0468   \n",
       "\n",
       "        danceability  energy  loudness    tempo  valence  instrumental  \\\n",
       "97702          0.680   0.510   -13.389  131.983   0.2270            -1   \n",
       "143461         0.538   0.697    -9.774  106.111   0.4300            -1   \n",
       "186838         0.430   0.431   -11.464  124.585   0.0308            -1   \n",
       "106328         0.680   0.510   -13.389  131.983   0.2270            -1   \n",
       "117817         0.688   0.917    -4.967  104.823   0.5370            -1   \n",
       "\n",
       "                                           last_fm_lyrics  \\\n",
       "97702   Well thinks 's cool She thinks 's great 's a f...   \n",
       "143461  Relapse Prevent trigger intent Now drown High ...   \n",
       "186838  The enemy , called shot ship Free trade , I 'm...   \n",
       "106328  Between devil deep blue sea Everywhere I turn ...   \n",
       "117817  Mi-Missy ! ( I 'm Supa Dupa Fly ) Mi-Missy ! (...   \n",
       "\n",
       "                                              nltk_lyrics  \n",
       "97702   Well thinks 's cool She thinks 's great 's foo...  \n",
       "143461  Relapse Prevent trigger intent Now drown High ...  \n",
       "186838  The enemy , called shot ship Free trade , I 'm...  \n",
       "106328  Between devil deep blue sea Everywhere I turn ...  \n",
       "117817  Mi-Missy ! ( I 'm Supa Dupa Fly ) Mi-Missy ! (...  "
      ]
     },
     "execution_count": 63,
     "metadata": {},
     "output_type": "execute_result"
    }
   ],
   "source": [
    "df_demo.head()"
   ]
  },
  {
   "cell_type": "code",
   "execution_count": 69,
   "metadata": {},
   "outputs": [
    {
     "data": {
      "text/html": [
       "<div>\n",
       "<style scoped>\n",
       "    .dataframe tbody tr th:only-of-type {\n",
       "        vertical-align: middle;\n",
       "    }\n",
       "\n",
       "    .dataframe tbody tr th {\n",
       "        vertical-align: top;\n",
       "    }\n",
       "\n",
       "    .dataframe thead th {\n",
       "        text-align: right;\n",
       "    }\n",
       "</style>\n",
       "<table border=\"1\" class=\"dataframe\">\n",
       "  <thead>\n",
       "    <tr style=\"text-align: right;\">\n",
       "      <th></th>\n",
       "      <th>artist_name</th>\n",
       "      <th>track_name</th>\n",
       "      <th>lyrics</th>\n",
       "      <th>last_fm_lyrics</th>\n",
       "      <th>nltk_lyrics</th>\n",
       "    </tr>\n",
       "  </thead>\n",
       "  <tbody>\n",
       "    <tr>\n",
       "      <th>97702</th>\n",
       "      <td>Chris Rea</td>\n",
       "      <td>e</td>\n",
       "      <td>Well she thinks she's looking so cool She thin...</td>\n",
       "      <td>Well thinks 's cool She thinks 's great 's a f...</td>\n",
       "      <td>Well thinks 's cool She thinks 's great 's foo...</td>\n",
       "    </tr>\n",
       "    <tr>\n",
       "      <th>143461</th>\n",
       "      <td>Blue October</td>\n",
       "      <td>x amount of words</td>\n",
       "      <td>Relapse Prevent trigger intent Now drown High ...</td>\n",
       "      <td>Relapse Prevent trigger intent Now drown High ...</td>\n",
       "      <td>Relapse Prevent trigger intent Now drown High ...</td>\n",
       "    </tr>\n",
       "    <tr>\n",
       "      <th>186838</th>\n",
       "      <td>clipping.</td>\n",
       "      <td>interlude 01 (freestyle)</td>\n",
       "      <td>The enemy, called the first shot on the first ...</td>\n",
       "      <td>The enemy , called shot ship Free trade , I 'm...</td>\n",
       "      <td>The enemy , called shot ship Free trade , I 'm...</td>\n",
       "    </tr>\n",
       "    <tr>\n",
       "      <th>106328</th>\n",
       "      <td>Chris Rea</td>\n",
       "      <td>e</td>\n",
       "      <td>Between the devil and the deep blue sea Everyw...</td>\n",
       "      <td>Between devil deep blue sea Everywhere I turn ...</td>\n",
       "      <td>Between devil deep blue sea Everywhere I turn ...</td>\n",
       "    </tr>\n",
       "    <tr>\n",
       "      <th>117817</th>\n",
       "      <td>Funkmaster Flex</td>\n",
       "      <td>r</td>\n",
       "      <td>Mi-Missy! (I'm Supa Dupa Fly) Mi-Missy! (Sup-S...</td>\n",
       "      <td>Mi-Missy ! ( I 'm Supa Dupa Fly ) Mi-Missy ! (...</td>\n",
       "      <td>Mi-Missy ! ( I 'm Supa Dupa Fly ) Mi-Missy ! (...</td>\n",
       "    </tr>\n",
       "    <tr>\n",
       "      <th>130750</th>\n",
       "      <td>Funkmaster Flex</td>\n",
       "      <td>r</td>\n",
       "      <td>Artist: Parliament Lyrics Song: Flashlight Lyr...</td>\n",
       "      <td>Artist : Parliament Lyrics Song : Flashlight L...</td>\n",
       "      <td>Artist : Parliament Lyrics Song : Flashlight L...</td>\n",
       "    </tr>\n",
       "    <tr>\n",
       "      <th>68902</th>\n",
       "      <td>The Civil Wars</td>\n",
       "      <td>oh henry</td>\n",
       "      <td>Oh the grass is green Everywhere but under me ...</td>\n",
       "      <td>Oh grass green Everywhere Or I a wedding band ...</td>\n",
       "      <td>Oh grass green Everywhere Or I wedding band In...</td>\n",
       "    </tr>\n",
       "    <tr>\n",
       "      <th>120749</th>\n",
       "      <td>Funkmaster Flex</td>\n",
       "      <td>r</td>\n",
       "      <td>[Eightball] Mic check one two baby, y'know Eig...</td>\n",
       "      <td>[ Eightball ] Mic check baby , y'know Eightbal...</td>\n",
       "      <td>[ Eightball ] Mic check baby , y'know Eightbal...</td>\n",
       "    </tr>\n",
       "    <tr>\n",
       "      <th>46688</th>\n",
       "      <td>Drowning Pool</td>\n",
       "      <td>this life</td>\n",
       "      <td>And when it's cold out I will wait for her And...</td>\n",
       "      <td>And 's cold I wait And I roam To edges earth A...</td>\n",
       "      <td>And 's cold I wait And I roam To edges earth A...</td>\n",
       "    </tr>\n",
       "    <tr>\n",
       "      <th>91881</th>\n",
       "      <td>Chris Rea</td>\n",
       "      <td>e</td>\n",
       "      <td>Born and raised in wilderness Of suburban shop...</td>\n",
       "      <td>Born raised wilderness Of suburban shops schoo...</td>\n",
       "      <td>Born raised wilderness Of suburban shops schoo...</td>\n",
       "    </tr>\n",
       "  </tbody>\n",
       "</table>\n",
       "</div>"
      ],
      "text/plain": [
       "            artist_name                track_name  \\\n",
       "97702         Chris Rea                         e   \n",
       "143461     Blue October         x amount of words   \n",
       "186838        clipping.  interlude 01 (freestyle)   \n",
       "106328        Chris Rea                         e   \n",
       "117817  Funkmaster Flex                         r   \n",
       "130750  Funkmaster Flex                         r   \n",
       "68902    The Civil Wars                  oh henry   \n",
       "120749  Funkmaster Flex                         r   \n",
       "46688     Drowning Pool                 this life   \n",
       "91881         Chris Rea                         e   \n",
       "\n",
       "                                                   lyrics  \\\n",
       "97702   Well she thinks she's looking so cool She thin...   \n",
       "143461  Relapse Prevent trigger intent Now drown High ...   \n",
       "186838  The enemy, called the first shot on the first ...   \n",
       "106328  Between the devil and the deep blue sea Everyw...   \n",
       "117817  Mi-Missy! (I'm Supa Dupa Fly) Mi-Missy! (Sup-S...   \n",
       "130750  Artist: Parliament Lyrics Song: Flashlight Lyr...   \n",
       "68902   Oh the grass is green Everywhere but under me ...   \n",
       "120749  [Eightball] Mic check one two baby, y'know Eig...   \n",
       "46688   And when it's cold out I will wait for her And...   \n",
       "91881   Born and raised in wilderness Of suburban shop...   \n",
       "\n",
       "                                           last_fm_lyrics  \\\n",
       "97702   Well thinks 's cool She thinks 's great 's a f...   \n",
       "143461  Relapse Prevent trigger intent Now drown High ...   \n",
       "186838  The enemy , called shot ship Free trade , I 'm...   \n",
       "106328  Between devil deep blue sea Everywhere I turn ...   \n",
       "117817  Mi-Missy ! ( I 'm Supa Dupa Fly ) Mi-Missy ! (...   \n",
       "130750  Artist : Parliament Lyrics Song : Flashlight L...   \n",
       "68902   Oh grass green Everywhere Or I a wedding band ...   \n",
       "120749  [ Eightball ] Mic check baby , y'know Eightbal...   \n",
       "46688   And 's cold I wait And I roam To edges earth A...   \n",
       "91881   Born raised wilderness Of suburban shops schoo...   \n",
       "\n",
       "                                              nltk_lyrics  \n",
       "97702   Well thinks 's cool She thinks 's great 's foo...  \n",
       "143461  Relapse Prevent trigger intent Now drown High ...  \n",
       "186838  The enemy , called shot ship Free trade , I 'm...  \n",
       "106328  Between devil deep blue sea Everywhere I turn ...  \n",
       "117817  Mi-Missy ! ( I 'm Supa Dupa Fly ) Mi-Missy ! (...  \n",
       "130750  Artist : Parliament Lyrics Song : Flashlight L...  \n",
       "68902   Oh grass green Everywhere Or I wedding band In...  \n",
       "120749  [ Eightball ] Mic check baby , y'know Eightbal...  \n",
       "46688   And 's cold I wait And I roam To edges earth A...  \n",
       "91881   Born raised wilderness Of suburban shops schoo...  "
      ]
     },
     "execution_count": 69,
     "metadata": {},
     "output_type": "execute_result"
    }
   ],
   "source": [
    "df_demo[['artist_name','track_name','lyrics','last_fm_lyrics','nltk_lyrics']].head(10)"
   ]
  },
  {
   "cell_type": "code",
   "execution_count": 65,
   "metadata": {},
   "outputs": [
    {
     "data": {
      "image/png": "[encoded data removed]",
      "text/plain": [
       "<Figure size 432x288 with 1 Axes>"
      ]
     },
     "metadata": {
      "needs_background": "light"
     },
     "output_type": "display_data"
    },
    {
     "data": {
      "text/plain": [
       "<matplotlib.axes._subplots.AxesSubplot at 0x12da11f50>"
      ]
     },
     "execution_count": 65,
     "metadata": {},
     "output_type": "execute_result"
    }
   ],
   "source": [
    "from sklearn.feature_extraction.text import CountVectorizer\n",
    "\n",
    "from yellowbrick.text import FreqDistVisualizer\n",
    "\n",
    "# Load the text data\n",
    "corpus = load_hobbies()\n",
    "\n",
    "vectorizer = CountVectorizer(stop_words='english')\n",
    "docs       = vectorizer.fit_transform(df_demo['nltk_lyrics'])\n",
    "features   = vectorizer.get_feature_names()\n",
    "\n",
    "visualizer = FreqDistVisualizer(features=features, orient='v',n=30)\n",
    "visualizer.fit(docs)\n",
    "visualizer.show()"
   ]
  },
  {
   "cell_type": "code",
   "execution_count": 66,
   "metadata": {},
   "outputs": [],
   "source": [
    "#Control Panel - Hyper Parameters\n",
    "\n",
    "#Count Vectorizer\n",
    "max_features = 500 #500\n",
    "max_df = .08\n",
    "\n",
    "\n",
    "\n",
    "#LDA\n",
    "n_topics = 3  #10\n",
    "\n",
    "\n",
    "#LDA Display\n",
    "display_n_chunks = 2 #5\n",
    "n_topics = 10        #20\n",
    "n_words = 5        #5\n",
    "\n"
   ]
  },
  {
   "cell_type": "code",
   "execution_count": 67,
   "metadata": {},
   "outputs": [],
   "source": [
    "#Count Vectorizer\n",
    "vect = CountVectorizer(max_features=max_features, max_df=max_df,stop_words='english')\n",
    "X = vect.fit_transform(df_demo['nltk_lyrics'])"
   ]
  },
  {
   "cell_type": "code",
   "execution_count": 68,
   "metadata": {},
   "outputs": [
    {
     "name": "stdout",
     "output_type": "stream",
     "text": [
      "lda.components_.shape: (10, 500)\n",
      "topic 0       topic 1       \n",
      "--------      --------      \n",
      "soup          leaving       \n",
      "missy         driving       \n",
      "icki          city          \n",
      "supa          inner         \n",
      "freak         youre         \n",
      "\n",
      "\n",
      "topic 2       topic 3       \n",
      "--------      --------      \n",
      "da            senza         \n",
      "funk          things        \n",
      "hada          wonder        \n",
      "ha            le            \n",
      "flash         ti            \n",
      "\n",
      "\n",
      "topic 4       topic 5       \n",
      "--------      --------      \n",
      "ha            arm           \n",
      "forever       asleep        \n",
      "voice         fell          \n",
      "em            numb          \n",
      "blue          sleep         \n",
      "\n",
      "\n",
      "topic 6       topic 7       \n",
      "--------      --------      \n",
      "choppa        sean          \n",
      "cold          girl          \n",
      "loving        inside        \n",
      "everybody     ass           \n",
      "dagger        boys          \n",
      "\n",
      "\n",
      "topic 8       topic 9       \n",
      "--------      --------      \n",
      "la            niggaz        \n",
      "es            sing          \n",
      "tu            eightball     \n",
      "amor          uhh           \n",
      "te            comin         \n",
      "\n",
      "\n"
     ]
    },
    {
     "name": "stderr",
     "output_type": "stream",
     "text": [
      "/Users/adamgoldstein/opt/anaconda3/lib/python3.7/site-packages/sklearn/decomposition/online_lda.py:314: DeprecationWarning: n_topics has been renamed to n_components in version 0.19 and will be removed in 0.21\n",
      "  DeprecationWarning)\n"
     ]
    }
   ],
   "source": [
    "from sklearn.decomposition import LatentDirichletAllocation\n",
    "lda = LatentDirichletAllocation(n_topics=n_topics, learning_method=\"batch\",\n",
    "                                max_iter=15, random_state=0)\n",
    "# We build the model and transform the data in one step\n",
    "# Computing transform takes some time,\n",
    "# and we can save time by doing both at once\n",
    "document_topics = lda.fit_transform(X)\n",
    "\n",
    "print(\"lda.components_.shape: {}\".format(lda.components_.shape))\n",
    "\n",
    "# For each topic (a row in the components_), sort the features (ascending)\n",
    "# Invert rows with [:, ::-1] to make sorting descending\n",
    "sorting = np.argsort(lda.components_, axis=1)[:, ::-1]\n",
    "# Get the feature names from the vectorizer\n",
    "feature_names = np.array(vect.get_feature_names())\n",
    "\n",
    "# Print out the 10 topics:\n",
    "mglearn.tools.print_topics(topics=range(n_topics), feature_names=feature_names,\n",
    "                           sorting=sorting, topics_per_chunk=display_n_chunks, n_words=n_words)"
   ]
  },
  {
   "cell_type": "code",
   "execution_count": 24,
   "metadata": {},
   "outputs": [
    {
     "data": {
      "text/plain": [
       "array(['200', '3000', '40', ..., 'zuibun', 'zutto', 'ãºltima'],\n",
       "      dtype='<U14')"
      ]
     },
     "execution_count": 24,
     "metadata": {},
     "output_type": "execute_result"
    }
   ],
   "source": [
    "feature_names"
   ]
  },
  {
   "cell_type": "markdown",
   "metadata": {},
   "source": [
    "## Topic Analysis"
   ]
  },
  {
   "cell_type": "code",
   "execution_count": null,
   "metadata": {},
   "outputs": [],
   "source": [
    "lda = LatentDirichletAllocation(n_components=3)\n",
    "    lda.fit(termFrequency)\n",
    "    for idx, topic in enumerate(lda.components_):\n",
    "        print (\"Topic \", idx, \" \".join(featureNames[i] for i in topic.argsort()[:-10 - 1:-1]))"
   ]
  },
  {
   "cell_type": "markdown",
   "metadata": {},
   "source": [
    "## Create Spotify Playlist"
   ]
  },
  {
   "cell_type": "code",
   "execution_count": null,
   "metadata": {},
   "outputs": [],
   "source": [
    "import requests\n",
    "import json\n",
    "import pandas as pd\n",
    "import spotipy#authentication\n",
    "import spotipy.util as util#authentication\n",
    "from spotipy.oauth2 import SpotifyClientCredentials#authentication"
   ]
  },
  {
   "cell_type": "code",
   "execution_count": null,
   "metadata": {},
   "outputs": [],
   "source": [
    "cid = '049ade7215e54c63a2b628f3784dc407'\n",
    "secret = '5d30770120ad4dbbabbb5ce538110e05'\n",
    "redirect_uri = 'http://google.com/'\n",
    "username = 'name'"
   ]
  },
  {
   "cell_type": "code",
   "execution_count": null,
   "metadata": {
    "scrolled": true
   },
   "outputs": [],
   "source": [
    "#Authentication\n",
    "\n",
    "scope = 'playlist-modify-private'\n",
    "token_playlist = util.prompt_for_user_token(username, scope, client_id=cid, client_secret=secret, redirect_uri=redirect_uri)\n",
    "\n",
    "if token_playlist:\n",
    "    sp_playlist = spotipy.Spotify(auth=token_playlist)\n",
    "else:\n",
    "    print(\"Can't get token for\", username)\n",
    "    \n",
    "#Authentication\n",
    "\n",
    "scope = 'user-read-private'\n",
    "token_user = util.prompt_for_user_token(username, scope, client_id=cid, client_secret=secret, redirect_uri=redirect_uri)\n",
    "\n",
    "if token_user:\n",
    "    sp_user = spotipy.Spotify(auth=token_user)\n",
    "else:\n",
    "    print(\"Can't get token for\", username)"
   ]
  },
  {
   "cell_type": "code",
   "execution_count": null,
   "metadata": {},
   "outputs": [],
   "source": [
    "def get_user_id(url):\n",
    "    try:\n",
    "        resp = requests.get(url,headers={'Authorization': 'Bearer ' + token_user},\n",
    "                             #data={\"name\": \"SSP\"}\n",
    "                           )\n",
    "        \n",
    "        resp.raise_for_status()\n",
    "    except requests.exceptions.HTTPError as err:\n",
    "        print(err)\n",
    "        \n",
    "    \n",
    "    response = resp.json()\n",
    "    userid = response['id']\n",
    "    \n",
    "    return userid\n"
   ]
  },
  {
   "cell_type": "code",
   "execution_count": null,
   "metadata": {},
   "outputs": [],
   "source": [
    "user_id = get_user_id('https://api.spotify.com/v1/me')"
   ]
  },
  {
   "cell_type": "code",
   "execution_count": null,
   "metadata": {},
   "outputs": [],
   "source": [
    "identification = user_id\n",
    "identification"
   ]
  },
  {
   "cell_type": "code",
   "execution_count": null,
   "metadata": {},
   "outputs": [],
   "source": [
    "playlist = sp_playlist.user_playlist_create(identification,'SSP', public=False, description=\"First SSP\")"
   ]
  },
  {
   "cell_type": "code",
   "execution_count": null,
   "metadata": {},
   "outputs": [],
   "source": [
    "playlist"
   ]
  },
  {
   "cell_type": "code",
   "execution_count": null,
   "metadata": {},
   "outputs": [],
   "source": [
    "playlist_tracks = sp_playlist.user_playlist_add_tracks(identification,playlist['id'],df_ssp['track_uri'], position=None)"
   ]
  },
  {
   "cell_type": "markdown",
   "metadata": {},
   "source": [
    "## Rough"
   ]
  },
  {
   "cell_type": "code",
   "execution_count": null,
   "metadata": {},
   "outputs": [],
   "source": [
    "#Pick from bag of words how many elements\n",
    "from sklearn.decomposition import NMF, LatentDirichletAllocation\n",
    "no_features = 500\n",
    "\n",
    "# NMF is able to use tf-idf\n",
    "tfidf_vectorizer = TfidfVectorizer(decode_error='strict',#strip_accents=,\n",
    "                                   stop_words='english',ngram_range=(1,1),\n",
    "                                   max_df=0.95,min_df=2, \n",
    "                                   max_features=no_features#vocabulary=,\n",
    "                                   #binary=,#norm=,\n",
    "                                   #use_idf=True,\n",
    "                                   #smooth_idf=True,\n",
    "                                   #sublinear_tf=\n",
    "                                   )\n",
    "\n",
    "\n",
    "tfidf = tfidf_vectorizer.fit_transform(df_playlist['lyrics'].values.astype('U'))\n",
    "tfidf_feature_names = tfidf_vectorizer.get_feature_names()"
   ]
  },
  {
   "cell_type": "code",
   "execution_count": null,
   "metadata": {},
   "outputs": [],
   "source": [
    "#Divide those elements into how many topics\n",
    "no_topics = 10\n",
    "\n",
    "# Run NMF\n",
    "nmf = NMF(n_components=no_topics, random_state=1, alpha=.1, l1_ratio=.5, init='nndsvd').fit(tfidf)"
   ]
  },
  {
   "cell_type": "code",
   "execution_count": null,
   "metadata": {},
   "outputs": [],
   "source": [
    "def display_topics(model, feature_names, no_top_words):\n",
    "    for topic_idx, topic in enumerate(model.components_):\n",
    "        print(\"Topic {i}:\".format(i=topic_idx))\n",
    "        print([feature_names[i] for i in topic.argsort()[:-no_top_words - 1:-1]])\n",
    "        a = []\n",
    "        b = a.append([feature_names[i] for i in topic.argsort()[:-no_top_words - 1:-1]])\n",
    "       \n",
    "        return a\n",
    "#How many terms per topic\n",
    "no_top_terms = 10\n",
    "a = display_topics(nmf, tfidf_feature_names, no_top_terms)"
   ]
  },
  {
   "cell_type": "code",
   "execution_count": null,
   "metadata": {},
   "outputs": [],
   "source": [
    "a[0]"
   ]
  },
  {
   "cell_type": "code",
   "execution_count": null,
   "metadata": {},
   "outputs": [],
   "source": [
    "ssp = []\n",
    "def playlist_element(lyrics,element,playlist_position):\n",
    "    if(lyrics.find(element)!= -1):\n",
    "        return playlist_position\n",
    "    else:\n",
    "        return None\n",
    "\n",
    "\n",
    "for slot in range(len(a[0])):\n",
    "    for element in a[0]:\n",
    "#reset to org state\n",
    "        df_playlist = df\n",
    "        df_playlist['playlist_index_{s}'.format(s=slot)] = df_playlist.apply(lambda x: playlist_element(x['lyrics']\n",
    "                                                                            ,element[slot],slot),axis=1)\n",
    "        x = df_playlist.dropna()\n",
    "        y = x[(x['valence'] == x['valence'].max())]\n",
    "        z = y[(y['energy'] == y['energy'].max())]\n",
    "        \n",
    "        print(z.track_uri.values[0])\n",
    "        ssp.append({'artist_name':z.artist_name.values[0],'track_name':z.track_name.values[0],'track_uri':z.track_uri.values[0],\n",
    "                   'valence':y.valence.values[0],'energy':z.energy.values[0],'lyrics':z.lyrics.values[0]})\n",
    "        \n",
    "        df_playlist = df_playlist.drop(index=z.index)\n"
   ]
  },
  {
   "cell_type": "code",
   "execution_count": null,
   "metadata": {},
   "outputs": [],
   "source": [
    "df_ssp = pd.DataFrame(ssp)\n",
    "df_ssp"
   ]
  },
  {
   "cell_type": "markdown",
   "metadata": {},
   "source": [
    "## Visualization (Valence Curve, Energy Curve)"
   ]
  },
  {
   "cell_type": "code",
   "execution_count": null,
   "metadata": {},
   "outputs": [],
   "source": [
    "df_ssp.plot.line(x='valence',y='energy')"
   ]
  },
  {
   "cell_type": "markdown",
   "metadata": {},
   "source": [
    "## unigrams"
   ]
  },
  {
   "cell_type": "markdown",
   "metadata": {},
   "source": [
    "def display_topics(model, feature_names, no_top_words):\n",
    "    for topic_idx, topic in enumerate(model.components_):\n",
    "        print(\"Topic {i}:\".format(i=topic_idx))\n",
    "        print(\" \".join([feature_names[i]\n",
    "                        for i in topic.argsort()[:-no_top_words - 1:-1]]))\n",
    "#How many words per topic\n",
    "no_top_words = 4\n",
    "display_topics(nmf, tfidf_feature_names, no_top_words)"
   ]
  }
 ],
 "metadata": {
  "kernelspec": {
   "display_name": "Python 3",
   "language": "python",
   "name": "python3"
  },
  "language_info": {
   "codemirror_mode": {
    "name": "ipython",
    "version": 3
   },
   "file_extension": ".py",
   "mimetype": "text/x-python",
   "name": "python",
   "nbconvert_exporter": "python",
   "pygments_lexer": "ipython3",
   "version": "3.7.4"
  }
 },
 "nbformat": 4,
 "nbformat_minor": 2
}
