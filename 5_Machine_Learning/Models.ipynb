{
 "cells": [
  {
   "cell_type": "markdown",
   "metadata": {},
   "source": [
    "##Model suggestions from Dr. Bengfort \n",
    "1) Gradient Boosting – might want to try them\n",
    "2) if svc is taking too long then recommend just using Stochastic Gradient Descent or Linear SVC - should improve the performance of the support vector machine and when you are working with support vector machine, make sure your trying polynomial kernels in addition to linear kernels\n",
    "3) Multinomial naïve bayes if not normally distributed\n",
    "4) Bayesian classifiers are going to perform the worst – this can be are baseline\n",
    "5) Smote yellowbrick.target class balance\n",
    "6) Filter down zero\n",
    "7) parrell functions\n",
    "\n",
    "\n",
    "\n",
    "!1) Gaussian Naïve Bayes if features are normally distributed\n",
    "!2) stick with support vector machines and logistic regression to preserve the linearity of the features  in an understandable way (natural binary classifiers)\n",
    "!3) Stick with support vector machines and logistic regression\n",
    "!4) Don’t know if you would get good results from Random Forest and K Near Neighbors, \n",
    "!5) Ada boost"
   ]
  },
  {
   "cell_type": "code",
   "execution_count": 1,
   "metadata": {},
   "outputs": [],
   "source": [
    "import pandas as pd\n",
    "import boto3\n",
    "from s3 import get_file\n",
    "\n",
    "import warnings \n",
    "\n",
    "warnings.filterwarnings(\"ignore\")\n"
   ]
  },
  {
   "cell_type": "code",
   "execution_count": 2,
   "metadata": {},
   "outputs": [],
   "source": [
    "def data(data):\n",
    "    df = pd.read_csv(data,sep='|')\n",
    "    return df"
   ]
  },
  {
   "cell_type": "code",
   "execution_count": 3,
   "metadata": {},
   "outputs": [],
   "source": [
    "#master_train_playlist.csv\n",
    "\n",
    "s3 = boto3.resource('s3')\n",
    "\n",
    "bucket = 's3ssp'\n",
    "\n",
    "train_data = data(get_file(s3,bucket,download_file='Analysis_Data/new_master_train_playlist.csv',rename_file = 'master_train_playlist.csv'))\n",
    "test_data = data(get_file(s3,bucket,download_file='Analysis_Data/test_ssp.csv',rename_file = 'test.csv'))\n"
   ]
  },
  {
   "cell_type": "code",
   "execution_count": 64,
   "metadata": {},
   "outputs": [
    {
     "data": {
      "text/plain": [
       "0    373533\n",
       "1     27533\n",
       "Name: target, dtype: int64"
      ]
     },
     "execution_count": 64,
     "metadata": {},
     "output_type": "execute_result"
    }
   ],
   "source": [
    "train_data.target.value_counts()"
   ]
  },
  {
   "cell_type": "code",
   "execution_count": 4,
   "metadata": {},
   "outputs": [],
   "source": [
    "#Sort columns to be alphabetical order\n",
    "\n",
    "df_train = train_data.reindex(sorted(train_data.columns), axis=1)\n",
    "df_test = test_data.reindex(sorted(test_data.columns), axis=1)"
   ]
  },
  {
   "cell_type": "code",
   "execution_count": 5,
   "metadata": {},
   "outputs": [],
   "source": [
    "df_train = df_train.drop(columns=['playlist','valence','loudness','danceability','energy'\n",
    "                                 ])\n",
    "\n",
    "df_test = df_test.drop(columns=['playlist','valence','loudness','danceability','energy'\n",
    "                               ])"
   ]
  },
  {
   "cell_type": "code",
   "execution_count": 67,
   "metadata": {},
   "outputs": [
    {
     "data": {
      "text/plain": [
       "Index(['acousticness', 'instrumentalness', 'key', 'liveness', 'mode',\n",
       "       'speechiness', 'target', 'tempo', 'time_signature'],\n",
       "      dtype='object')"
      ]
     },
     "execution_count": 67,
     "metadata": {},
     "output_type": "execute_result"
    }
   ],
   "source": [
    "df_train.columns"
   ]
  },
  {
   "cell_type": "markdown",
   "metadata": {},
   "source": [
    "## Pipeline"
   ]
  },
  {
   "cell_type": "markdown",
   "metadata": {},
   "source": [
    "## Set up Dataset"
   ]
  },
  {
   "cell_type": "code",
   "execution_count": 6,
   "metadata": {},
   "outputs": [
    {
     "data": {
      "text/plain": [
       "1    373533\n",
       "0    373533\n",
       "Name: target, dtype: int64"
      ]
     },
     "execution_count": 6,
     "metadata": {},
     "output_type": "execute_result"
    }
   ],
   "source": [
    "from sklearn.utils import resample\n",
    "\n",
    "# Separate majority and minority classes\n",
    "df_majority = df_train[df_train.target==0]\n",
    "df_minority = df_train[df_train.target==1]\n",
    " \n",
    "# Upsample minority class\n",
    "df_minority_upsampled = resample(df_minority, \n",
    "                                 replace=True,     # sample with replacement\n",
    "                                 n_samples=373533,    # to match majority class\n",
    "                                 random_state=123,) # reproducible results\n",
    " \n",
    "# Combine majority class with upsampled minority class\n",
    "df_train = pd.concat([df_majority, df_minority_upsampled])\n",
    " \n",
    "# Display new class counts\n",
    "df_train.target.value_counts()"
   ]
  },
  {
   "cell_type": "code",
   "execution_count": 7,
   "metadata": {},
   "outputs": [],
   "source": [
    "#Structure\n",
    "from sklearn.pipeline import Pipeline\n",
    "from sklearn.model_selection import train_test_split as tts\n",
    "from sklearn.model_selection import cross_val_score as cvs\n",
    "from sklearn.model_selection import StratifiedKFold as KFold\n",
    "from yellowbrick.model_selection import CVScores\n",
    "\n",
    "\n",
    "#Kernal\n",
    "from sklearn.gaussian_process.kernels import RBF\n",
    "\n",
    "\n",
    "#Classifier\n",
    "from sklearn.linear_model import LogisticRegression, RidgeClassifier\n",
    "from sklearn.neural_network import MLPClassifier\n",
    "from sklearn.neighbors import KNeighborsClassifier\n",
    "from sklearn.gaussian_process import GaussianProcessClassifier\n",
    "from sklearn.tree import DecisionTreeClassifier\n",
    "from sklearn.ensemble import RandomForestClassifier, AdaBoostClassifier,GradientBoostingClassifier,BaggingClassifier\n",
    "from sklearn.naive_bayes import GaussianNB\n",
    "from sklearn.discriminant_analysis import QuadraticDiscriminantAnalysis\n",
    "\n",
    "#Transform\n",
    "from sklearn.preprocessing import StandardScaler, RobustScaler, MaxAbsScaler,MinMaxScaler\n",
    "from sklearn.decomposition import FastICA\n",
    "from sklearn import preprocessing\n",
    "\n",
    "#Reports\n",
    "from yellowbrick.classifier import confusion_matrix,classification_report,DiscriminationThreshold\n",
    "\n",
    "from sklearn.metrics import accuracy_score, precision_score, recall_score,f1_score\n",
    "\n",
    "\n",
    "X = df_train[[col for col in df_train.columns if col != 'target']]\n",
    "\n",
    "y = df_train['target']\n",
    "\n",
    "X_train, X_test, y_train, y_test = tts(X,y, test_size=0.2)"
   ]
  },
  {
   "cell_type": "code",
   "execution_count": 8,
   "metadata": {},
   "outputs": [
    {
     "data": {
      "image/png": "[encoded data removed]",
      "text/plain": [
       "<Figure size 432x288 with 2 Axes>"
      ]
     },
     "metadata": {
      "needs_background": "light"
     },
     "output_type": "display_data"
    },
    {
     "data": {
      "text/plain": [
       "<matplotlib.axes._subplots.AxesSubplot at 0x12612f550>"
      ]
     },
     "execution_count": 8,
     "metadata": {},
     "output_type": "execute_result"
    }
   ],
   "source": [
    "from yellowbrick.datasets import load_credit\n",
    "from yellowbrick.features import Rank2D\n",
    "\n",
    "# Instantiate the visualizer with the Pearson ranking algorithm\n",
    "visualizer = Rank2D(algorithm='pearson')\n",
    "\n",
    "visualizer.fit(X_train, y_train)           # Fit the data to the visualizer\n",
    "visualizer.transform(X_train)        # Transform the data\n",
    "visualizer.show()              # Finalize and render the figure"
   ]
  },
  {
   "cell_type": "markdown",
   "metadata": {},
   "source": [
    "## Initial Model Testing"
   ]
  },
  {
   "cell_type": "code",
   "execution_count": 10,
   "metadata": {},
   "outputs": [
    {
     "data": {
      "image/png": "[encoded data removed]",
      "text/plain": [
       "<Figure size 432x288 with 1 Axes>"
      ]
     },
     "metadata": {
      "needs_background": "light"
     },
     "output_type": "display_data"
    },
    {
     "name": "stdout",
     "output_type": "stream",
     "text": [
      "BaggingClassifier\n"
     ]
    },
    {
     "ename": "IndexError",
     "evalue": "index 3 is out of bounds for axis 0 with size 3",
     "output_type": "error",
     "traceback": [
      "\u001b[0;31m---------------------------------------------------------------------------\u001b[0m",
      "\u001b[0;31mIndexError\u001b[0m                                Traceback (most recent call last)",
      "\u001b[0;32m<ipython-input-10-b6701ec7999c>\u001b[0m in \u001b[0;36m<module>\u001b[0;34m\u001b[0m\n\u001b[1;32m     92\u001b[0m     \u001b[0mprint\u001b[0m\u001b[0;34m(\u001b[0m\u001b[0mmodel_str\u001b[0m\u001b[0;34m[\u001b[0m\u001b[0;36m0\u001b[0m\u001b[0;34m:\u001b[0m\u001b[0mmodel_str\u001b[0m\u001b[0;34m.\u001b[0m\u001b[0mfind\u001b[0m\u001b[0;34m(\u001b[0m\u001b[0;34m'('\u001b[0m\u001b[0;34m,\u001b[0m\u001b[0;36m0\u001b[0m\u001b[0;34m)\u001b[0m\u001b[0;34m]\u001b[0m\u001b[0;34m.\u001b[0m\u001b[0mstrip\u001b[0m\u001b[0;34m(\u001b[0m\u001b[0;34m)\u001b[0m\u001b[0;34m)\u001b[0m\u001b[0;34m\u001b[0m\u001b[0;34m\u001b[0m\u001b[0m\n\u001b[1;32m     93\u001b[0m     \u001b[0;31m#print('Train CV Score = {x} '.format(x=cvs(model,X_train,y_train)[3]))\u001b[0m\u001b[0;34m\u001b[0m\u001b[0;34m\u001b[0m\u001b[0;34m\u001b[0m\u001b[0m\n\u001b[0;32m---> 94\u001b[0;31m     \u001b[0mprint\u001b[0m\u001b[0;34m(\u001b[0m\u001b[0;34m\"Test CV Score = {x}\"\u001b[0m\u001b[0;34m.\u001b[0m\u001b[0mformat\u001b[0m\u001b[0;34m(\u001b[0m\u001b[0mx\u001b[0m\u001b[0;34m=\u001b[0m\u001b[0mcvs\u001b[0m\u001b[0;34m(\u001b[0m\u001b[0mmodel\u001b[0m\u001b[0;34m,\u001b[0m\u001b[0mX_test\u001b[0m\u001b[0;34m,\u001b[0m\u001b[0my_test\u001b[0m\u001b[0;34m)\u001b[0m\u001b[0;34m[\u001b[0m\u001b[0;36m3\u001b[0m\u001b[0;34m]\u001b[0m\u001b[0;34m)\u001b[0m\u001b[0;34m)\u001b[0m\u001b[0;34m\u001b[0m\u001b[0;34m\u001b[0m\u001b[0m\n\u001b[0m\u001b[1;32m     95\u001b[0m     a.append({'Model':model[1],'Transformer':model[0],\n\u001b[1;32m     96\u001b[0m               \u001b[0;34m'Test Model Score'\u001b[0m\u001b[0;34m:\u001b[0m\u001b[0mcvs\u001b[0m\u001b[0;34m(\u001b[0m\u001b[0mmodel\u001b[0m\u001b[0;34m,\u001b[0m\u001b[0mX_test\u001b[0m\u001b[0;34m,\u001b[0m\u001b[0my_test\u001b[0m\u001b[0;34m)\u001b[0m\u001b[0;34m[\u001b[0m\u001b[0;36m3\u001b[0m\u001b[0;34m]\u001b[0m\u001b[0;34m,\u001b[0m\u001b[0;34m\u001b[0m\u001b[0;34m\u001b[0m\u001b[0m\n",
      "\u001b[0;31mIndexError\u001b[0m: index 3 is out of bounds for axis 0 with size 3"
     ]
    }
   ],
   "source": [
    "scaler = [StandardScaler(), RobustScaler(), MaxAbsScaler(),MinMaxScaler()]\n",
    "\n",
    "models = [\n",
    "    #Standard Scaler,QuantileTransformer random_state=0\n",
    "    \n",
    "    #Pipeline([\n",
    "    #        ('std',MinMaxScaler()),\n",
    "    #        ('reg',LogisticRegression(C=0.01,penalty='l1',solver='liblinear'))\n",
    "    #]),\n",
    "\n",
    "    #Pipeline([\n",
    "    #        ('std',StandardScaler()),\n",
    "    #        ('mlp',MLPClassifier())\n",
    "    #]),\n",
    "\n",
    "    #Does identify positive more than comparison\n",
    "    #Pipeline([\n",
    "    #        ('std',MinMaxScaler()),\n",
    "    #        ('rfc',RandomForestClassifier())\n",
    "    #]),\n",
    "\n",
    "    #Too many false positives and negatives    \n",
    "    #Pipeline([\n",
    "    #        ('std',MinMaxScaler()),\n",
    "    #        ('reg',AdaBoostClassifier())\n",
    "    #]),\n",
    "    #Robust Scaler leads to false positives above 3000\n",
    "\n",
    "\n",
    "    #Above 3000 for both false positives\n",
    "    #Pipeline([\n",
    "    #    ('std',StandardScaler()),\n",
    "    #    ('reg',KNeighborsClassifier())\n",
    "    #]),\n",
    "\n",
    "    #Pipeline([\n",
    "    #        ('std',StandardScaler()),\n",
    "    #        ('reg',DecisionTreeClassifier())\n",
    "    #]),\n",
    "        \n",
    "    #Pipeline([\n",
    "    #        ('std',StandardScaler()),\n",
    "    #        ('rc',RidgeClassifier())\n",
    "    #]),\n",
    "    \n",
    "    #Kills Kernal\n",
    "    \n",
    "    Pipeline([\n",
    "            ('std',StandardScaler()),\n",
    "            ('bc',BaggingClassifier())\n",
    "    ]),\n",
    "    \n",
    "     Pipeline([\n",
    "            ('std',StandardScaler()),\n",
    "            ('gbc',GradientBoostingClassifier())\n",
    "    ]),\n",
    "\n",
    "    #Above 3000 on false positives\n",
    "\n",
    "    #Kills Kernal\n",
    "    #Pipeline([\n",
    "    #        ('std',StandardScaler()),\n",
    "    #        ('reg',GaussianProcessClassifier())\n",
    "    #]),\n",
    "\n",
    "    #Pipeline([\n",
    "    #        ('std',StandardScaler()),\n",
    "    #        ('reg',GaussianNB())\n",
    "    #]),\n",
    "    #Pipeline([\n",
    "    #        ('std',StandardScaler()),\n",
    "    #        ('reg',QuadraticDiscriminantAnalysis())\n",
    "    #]),\n",
    "\n",
    "    \n",
    "]\n",
    "\n",
    "\n",
    "a = []\n",
    "\n",
    "for model in models:\n",
    "    model.fit(X_train,y_train)\n",
    "    _ = confusion_matrix(model, X_test, y_test,is_fitted=True)\n",
    "    #visualizer = DiscriminationThreshold(model)\n",
    "    #visualizer.fit(X_test, y_test)        # Fit the data to the visualizer\n",
    "    #visualizer.show()  \n",
    "    \n",
    "\n",
    "    \n",
    "    y_pred = model.predict(X_train)\n",
    "    model_str = str(model[1])\n",
    "    print(model_str[0:model_str.find('(',0)].strip())\n",
    "    #print('Train CV Score = {x} '.format(x=cvs(model,X_train,y_train)[3]))\n",
    "    print(\"Test CV Score = {x}\".format(x=cvs(model,X_test,y_test)[3]))\n",
    "    a.append({'Model':model[1],'Transformer':model[0],\n",
    "              'Test Model Score':cvs(model,X_test,y_test)[3],\n",
    "              'F1 Score':f1_score(y_train,y_pred),'Precision Score':precision_score(y_train,y_pred),\n",
    "              'Recall Score':recall_score(y_train,y_pred)})\n",
    "    \n",
    "\n",
    "\n",
    "#More complexity led to less precision\n",
    "#Robust Scaler \n",
    "#Pipeline([\n",
    "#        ('std',RobustScaler()),\n",
    "#        ('reg',LogisticRegression())\n",
    "#]),\n",
    "#Pipeline([\n",
    "#        ('std',RobustScaler()),\n",
    "#        ('reg',RandomForestClassifier(n_estimators=50))\n",
    "#]),\n",
    "\n",
    "\n",
    "\n",
    "    \n",
    "#Does identify positive more than comparison\n",
    "#Pipeline([\n",
    "#        ('std',StandardScaler()),\n",
    "#        ('reg',RandomForestClassifier())\n",
    "#]),\n",
    "    \n",
    "#Too many false positives and negatives    \n",
    "#Pipeline([\n",
    "#        ('std',StandardScaler()),\n",
    "#        ('reg',AdaBoostClassifier())\n",
    "#]),\n",
    "#Robust Scaler leads to false positives above 3000\n",
    "\n",
    "\n",
    "#Above 3000 for both false positives\n",
    "#Pipeline([\n",
    "#    ('std',StandardScaler()),\n",
    "#    ('reg',KNeighborsClassifier())\n",
    "#]),\n",
    "\n",
    "#Pipeline([\n",
    "#        ('std',StandardScaler()),\n",
    "#        ('reg',DecisionTreeClassifier())\n",
    "#]),\n",
    "\n",
    "#Above 3000 on false positives\n",
    "\n",
    "#Kills Kernal\n",
    "#Pipeline([\n",
    "#        ('std',StandardScaler()),\n",
    "#        ('reg',GaussianProcessClassifier())\n",
    "#]),\n",
    "\n",
    "#Pipeline([\n",
    "#        ('std',StandardScaler()),\n",
    "#        ('reg',GaussianNB())\n",
    "#]),\n",
    "#Pipeline([\n",
    "#        ('std',StandardScaler()),\n",
    "#        ('reg',QuadraticDiscriminantAnalysis())\n",
    "#]),\n",
    "\n",
    "\n",
    "\n"
   ]
  },
  {
   "cell_type": "code",
   "execution_count": 87,
   "metadata": {},
   "outputs": [
    {
     "data": {
      "text/html": [
       "<div>\n",
       "<style scoped>\n",
       "    .dataframe tbody tr th:only-of-type {\n",
       "        vertical-align: middle;\n",
       "    }\n",
       "\n",
       "    .dataframe tbody tr th {\n",
       "        vertical-align: top;\n",
       "    }\n",
       "\n",
       "    .dataframe thead th {\n",
       "        text-align: right;\n",
       "    }\n",
       "</style>\n",
       "<table border=\"1\" class=\"dataframe\">\n",
       "  <thead>\n",
       "    <tr style=\"text-align: right;\">\n",
       "      <th></th>\n",
       "      <th>Model</th>\n",
       "      <th>Transformer</th>\n",
       "      <th>Test Model Score</th>\n",
       "      <th>F1 Score</th>\n",
       "      <th>Precision Score</th>\n",
       "      <th>Recall Score</th>\n",
       "    </tr>\n",
       "  </thead>\n",
       "  <tbody>\n",
       "    <tr>\n",
       "      <th>0</th>\n",
       "      <td>(DecisionTreeClassifier(random_state=259682745...</td>\n",
       "      <td>StandardScaler()</td>\n",
       "      <td>0.879530</td>\n",
       "      <td>0.999866</td>\n",
       "      <td>0.999733</td>\n",
       "      <td>1.000000</td>\n",
       "    </tr>\n",
       "    <tr>\n",
       "      <th>1</th>\n",
       "      <td>([DecisionTreeRegressor(criterion='friedman_ms...</td>\n",
       "      <td>StandardScaler()</td>\n",
       "      <td>0.723388</td>\n",
       "      <td>0.738033</td>\n",
       "      <td>0.701716</td>\n",
       "      <td>0.778315</td>\n",
       "    </tr>\n",
       "  </tbody>\n",
       "</table>\n",
       "</div>"
      ],
      "text/plain": [
       "                                               Model       Transformer  \\\n",
       "0  (DecisionTreeClassifier(random_state=259682745...  StandardScaler()   \n",
       "1  ([DecisionTreeRegressor(criterion='friedman_ms...  StandardScaler()   \n",
       "\n",
       "   Test Model Score  F1 Score  Precision Score  Recall Score  \n",
       "0          0.879530  0.999866         0.999733      1.000000  \n",
       "1          0.723388  0.738033         0.701716      0.778315  "
      ]
     },
     "execution_count": 87,
     "metadata": {},
     "output_type": "execute_result"
    }
   ],
   "source": [
    "pd.DataFrame(a)"
   ]
  },
  {
   "cell_type": "markdown",
   "metadata": {},
   "source": [
    "## Grid Search Hyperparameter Tuning"
   ]
  },
  {
   "cell_type": "code",
   "execution_count": null,
   "metadata": {},
   "outputs": [],
   "source": [
    "from sklearn.model_selection import GridSearchCV\n",
    "\n",
    "#learning curve and validation curve \n",
    "\n",
    "def params(model):\n",
    "    model = str(model)\n",
    "    model = model[:model.find('(',0)]\n",
    "    \n",
    "    \n",
    "    if model == 'LogisticRegression':\n",
    "        param_grid = {\n",
    "        'reg__solver':['liblinear'],\n",
    "        'reg__penalty':['l1'],\n",
    "        'reg__C':[0.01],  \n",
    "        }\n",
    "        return param_grid\n",
    "    \n",
    "    elif model == 'RandomForestClassifier':\n",
    "        param_grid = {\n",
    "         #   'rfc__max_leaf_nodes':[1000,2000,3000],\n",
    "         #   'rfc__n_estimators':[100,150,200],\n",
    "         #   'rfc__criterion':['gini','entropy'],\n",
    "        'rfc__max_features': [1,2]\n",
    "        }\n",
    "        \n",
    "        return param_grid\n",
    "    \n",
    "    elif model == 'RidgeClassifier':\n",
    "        param_grid = {\n",
    "            'rc__alpha':[0.1]\n",
    "        }\n",
    "        return param_grid\n",
    "    \n",
    "    elif model == 'BaggingClassifier':\n",
    "        param_grid = {\n",
    "            'bc__n_estimators':[50]\n",
    "        }\n",
    "        return param_grid\n",
    "    \n",
    "    elif model == 'GradientBoostingClassifier':\n",
    "        param_grid = {\n",
    "            \n",
    "            'gbc__loss':['deviance', 'exponential'],\n",
    "            'gbc__criterion':['friedman_mse', 'mse', 'mae'],\n",
    "            \n",
    "            'gbc__learning_rate':[0.1,0.5,1],\n",
    "            'gbc__n_estimators':[100,150,200],\n",
    "        }\n",
    "        return param_grid\n",
    "    \n",
    "    elif model == 'MLPClassifier':\n",
    "        param_grid = {\n",
    "        #'mlp__solver':['sgd', 'adam'],\n",
    "        #'mlp__activation':['identity', 'logistic', 'tanh', 'relu'],\n",
    "        #'mlp__max_iter':[200,400,600,800,1000],  \n",
    "        #'mlp__learning_rate':['constant', 'invscaling', 'adaptive'],\n",
    "        #'mlp__learning_rate_init':['double',0.001,.01,.05,.1],\n",
    "        #'mlp__power_t':['double',.05,.08,1],\n",
    "        #'mlp__max_iterint':[200,250,300],\n",
    "        }\n",
    "        return param_grid\n",
    "    \n",
    "    else:\n",
    "        return None\n",
    "\n",
    "            \n",
    "    \n",
    "#if mode == 'RandomForestClassifier'"
   ]
  },
  {
   "cell_type": "code",
   "execution_count": 3,
   "metadata": {},
   "outputs": [
    {
     "ename": "NameError",
     "evalue": "name 'Pipeline' is not defined",
     "output_type": "error",
     "traceback": [
      "\u001b[0;31m---------------------------------------------------------------------------\u001b[0m",
      "\u001b[0;31mNameError\u001b[0m                                 Traceback (most recent call last)",
      "\u001b[0;32m<ipython-input-3-ebf97f637745>\u001b[0m in \u001b[0;36m<module>\u001b[0;34m\u001b[0m\n\u001b[1;32m      1\u001b[0m models = [\n\u001b[1;32m      2\u001b[0m     \u001b[0;31m#Standard Scaler,QuantileTransformer random_state=0\u001b[0m\u001b[0;34m\u001b[0m\u001b[0;34m\u001b[0m\u001b[0;34m\u001b[0m\u001b[0m\n\u001b[0;32m----> 3\u001b[0;31m     Pipeline([\n\u001b[0m\u001b[1;32m      4\u001b[0m             \u001b[0;34m(\u001b[0m\u001b[0;34m'std'\u001b[0m\u001b[0;34m,\u001b[0m\u001b[0mStandardScaler\u001b[0m\u001b[0;34m(\u001b[0m\u001b[0;34m)\u001b[0m\u001b[0;34m)\u001b[0m\u001b[0;34m,\u001b[0m\u001b[0;34m\u001b[0m\u001b[0;34m\u001b[0m\u001b[0m\n\u001b[1;32m      5\u001b[0m             \u001b[0;34m(\u001b[0m\u001b[0;34m'reg'\u001b[0m\u001b[0;34m,\u001b[0m\u001b[0mLogisticRegression\u001b[0m\u001b[0;34m(\u001b[0m\u001b[0;34m)\u001b[0m\u001b[0;34m)\u001b[0m\u001b[0;34m\u001b[0m\u001b[0;34m\u001b[0m\u001b[0m\n",
      "\u001b[0;31mNameError\u001b[0m: name 'Pipeline' is not defined"
     ]
    }
   ],
   "source": [
    "models = [\n",
    "    #Standard Scaler,QuantileTransformer random_state=0\n",
    "    Pipeline([\n",
    "            ('std',StandardScaler()),\n",
    "            ('reg',LogisticRegression())\n",
    "    ]),\n",
    "\n",
    "    #Pipeline([\n",
    "    #        ('std',StandardScaler()),\n",
    "    #        ('mlp',MLPClassifier())\n",
    "    #]),\n",
    "    \n",
    "    #Pipeline([\n",
    "    #        ('std',StandardScaler()),\n",
    "    #        ('rfc',RandomForestClassifier())\n",
    "    #]),\n",
    "    \n",
    "    #Pipeline([\n",
    "    #        ('std',StandardScaler()),\n",
    "    #        ('rc',RidgeClassifier())\n",
    "    #]),\n",
    "    \n",
    "    #Pipeline([\n",
    "    #        ('std',StandardScaler()),\n",
    "     #       ('bc',BaggingClassifier())\n",
    "    #]),\n",
    "    \n",
    "     Pipeline([\n",
    "            ('std',StandardScaler()),\n",
    "            ('gbc',GradientBoostingClassifier())\n",
    "    ]),\n",
    "]\n",
    "\n",
    "for model in models:\n",
    "    search = GridSearchCV(model,params(model[1]),cv=10)\n",
    "    search.fit(X_train, y_train)\n",
    "    _ = confusion_matrix(search, X_test, y_test,is_fitted=True)\n",
    "    #visualizer = DiscriminationThreshold(model)\n",
    "    #visualizer.fit(X_test, y_test)        # Fit the data to the visualizer\n",
    "    #visualizer.show() \n",
    "    model_str = str(model[1])\n",
    "    print(model_str[0:model_str.find('(',0)])\n",
    "    print(\"Best parameter (CV score={x}\".format(x=search.best_score_))\n",
    "    print(search.best_params_)\n",
    "    #model.predict(X_test,y_test)\n",
    "\n",
    "    a = pd.DataFrame(search.cv_results_)"
   ]
  },
  {
   "cell_type": "markdown",
   "metadata": {},
   "source": [
    "## Stop"
   ]
  },
  {
   "cell_type": "code",
   "execution_count": null,
   "metadata": {},
   "outputs": [],
   "source": [
    "import matplotlib.pyplot as plt\n",
    "\n",
    "# Create 2 side-by-side subplots\n",
    "fig, axes = plt.subplots(ncols=2, figsize=(8, 4))\n",
    "\n",
    "# Instantiate the ConfusionMatrix visualizer for an SVM model\n",
    "\n",
    "svm_confusion_matrix.fit(X_train, y_train)\n",
    "svm_confusion_matrix.score(X_test, y_test)\n",
    "\n",
    "# Create a cross-validation strategy\n",
    "strategy = StratifiedKFold(n_splits=12, shuffle=True)\n",
    "\n",
    "# Instantiate the CVScores visualizer for an SVM model\n",
    "svm_cv_scores = CVScores(\n",
    "    SVC(),\n",
    "    scoring=\"f1_weighted\",\n",
    "    cv=strategy,\n",
    "    ax=axes[1]\n",
    ")\n",
    "svm_cv_scores.fit(X, y)\n",
    "\n",
    "fig.suptitle(\"Performance of an SVM model on the occupancy dataset\")\n",
    "plt.tight_layout(rect=[0, 0.03, 1, 0.95])\n",
    "plt.show()"
   ]
  },
  {
   "cell_type": "markdown",
   "metadata": {},
   "source": [
    "## Logistical Regression"
   ]
  },
  {
   "cell_type": "markdown",
   "metadata": {},
   "source": [
    "from sklearn.model_selection import cross_val_score,train_test_split\n",
    "from yellowbrick.classifier import confusion_matrix,classification_report\n",
    "from sklearn.linear_model import LogisticRegression\n",
    "\n",
    "from sklearn.metrics import confusion_matrix\n",
    "\n",
    "\n",
    "X = df_train[[col for col in df_train.columns if col != 'target']]\n",
    "\n",
    "y = df_train['target']\n",
    "\n",
    "X_train, X_test, y_train, y_test = train_test_split(StandardScaler().fit_transform(X),y, test_size=0.2)\n",
    "\n",
    "model = LogisticRegression()\n",
    "model.fit(X_train, y_train)\n",
    "\n",
    "_ = confusion_matrix(model, X_test, y_test,is_fitted=True)\n",
    "\n",
    "\n",
    "#confusion_matrix(X_train, y_train)\n"
   ]
  },
  {
   "cell_type": "markdown",
   "metadata": {},
   "source": []
  },
  {
   "cell_type": "markdown",
   "metadata": {},
   "source": [
    "from sklearn.ensemble import RandomForestClassifier\n",
    "from sklearn.model_selection import cross_val_score,train_test_split\n",
    "from yellowbrick.classifier import confusion_matrix,classification_report\n",
    "\n",
    "\n",
    "X_train, X_test, y_train, y_test = train_test_split(X, y, test_size=0.2)\n",
    "\n",
    "model = LogisticRegression()\n",
    "model.fit(X_train, y_train)"
   ]
  },
  {
   "cell_type": "markdown",
   "metadata": {},
   "source": [
    "from sklearn.model_selection import cross_val_score,train_test_split\n",
    "from yellowbrick.classifier import confusion_matrix,classification_report\n",
    "from sklearn.linear_model import LogisticRegression\n",
    "from sklearn.preprocessing import StandardScaler\n",
    "from sklearn.ensemble import RandomForestClassifier\n",
    "\n",
    "\n",
    "X = df_train[[col for col in df_train.columns if col != 'target']]\n",
    "\n",
    "y = df_train['target']\n",
    "\n",
    "#Cross\n",
    "X_train, X_test, y_train, y_test = train_test_split(X, y, test_size=0.2)\n",
    "\n",
    "clf = RandomForestClassifier(n_estimators=100)\n",
    "clf.fit(X_train, y_train)\n",
    "print(clf.predict)\n",
    "\n",
    "\n",
    "\n",
    "\n",
    "\n",
    "\n",
    "#confusion_matrix(logreg, X_train, y_train, X_test, y_test)\n"
   ]
  },
  {
   "cell_type": "markdown",
   "metadata": {},
   "source": [
    "scores = cross_val_score(clf,X,y)"
   ]
  },
  {
   "cell_type": "markdown",
   "metadata": {},
   "source": [
    "from sklearn.model_selection import cross_val_score,train_test_split\n",
    "from yellowbrick.classifier import confusion_matrix,classification_report\n",
    "from sklearn.linear_model import LogisticRegression\n",
    "from sklearn.ensemble import RandomForestRegressor\n",
    "from sklearn.preprocessing import RobustScaler\n",
    "\n",
    "\n",
    "X = df_train[[col for col in df_train.columns if col != 'target']]\n",
    "\n",
    "y = df_train['target']\n",
    "logreg = LogisticRegression()\n",
    "\n",
    "\n",
    "#Cross\n",
    "X_train, X_test, y_train, y_test = train_test_split(RobustScaler().fit_transform(X), y, test_size=0.2)\n",
    "confusion_matrix(logreg, X_train, y_train, X_test, y_test)\n",
    "\n"
   ]
  },
  {
   "cell_type": "markdown",
   "metadata": {},
   "source": [
    "from sklearn.pipeline import Pipeline\n",
    "from sklearn.utils.validation import check_is_fitted\n",
    "from sklearn.ensemble import RandomForestRegressor\n",
    "from sklearn.preprocessing import OneHotEncoder\n",
    "from sklearn import svm\n",
    "from sklearn.model_selection import cross_val_score,train_test_split\n",
    "from yellowbrick.classifier import confusion_matrix,classification_report\n",
    "\n",
    "\n",
    "\n",
    "#RandomForestRegressor(n_estimators = 50)\n",
    "\n",
    "\n",
    "\n",
    "#enc = OneHotEncoder(handle_unknown='ignore')\n",
    "#enc.fit(X)\n",
    "#enc.categories_\n",
    "\n",
    "\n",
    "#Support Vector Machine\n",
    "#estimator = svm.SVC(gamma=.001#,kernel='linear',C=100)\n",
    "\n",
    "#confusion_matrix(estimator, *train_test_split(X, y, test_size=0.2))\n",
    "#scores = cross_val_score(estimator,X,y)\n",
    "#estimator.fit(X,y)\n",
    "#estimator.predict(df_test)\n",
    "#Cross value scores\n",
    "#cross_val_score(X,y)\n"
   ]
  },
  {
   "cell_type": "markdown",
   "metadata": {},
   "source": [
    "fromsklearn.neighborsimport KNeighborsClassifierfromsklearn.preprocessingimport StandardScalerfromsklearn.imputeimport SimpleImputerfromsklearn.pipelineimport Pipelinemodel = Pipeline([    ('impute', SimpleImputer(strategy='mean')),     ('scale', StandardScaler()),     ('knn', KNeighborsClassifier(n_neighbors=12))])# Update the hyperparameters of the modelmodel.set_params(knn__weights=\"distance\")model.fit(X_train, y_train)model.score(X_test, y_test)"
   ]
  },
  {
   "cell_type": "markdown",
   "metadata": {},
   "source": [
    "from sklearn.neighbors import KNeighborsClassifier\n",
    "from sklearn.preprocessing import StandardScaler \n",
    "from sklearn.impute import SimpleImputer\n",
    "from sklearn.pipeline import Pipeline\n",
    "\n",
    "model = Pipeline([('scale', StandardScaler()),\n",
    "                    ('reg',LogisticRegression(fit_intercept=False))\n",
    "                 ])\n",
    "\n",
    "X_train, X_test, y_train, y_test = train_test_split(X, y, test_size=0.2)\n",
    "confusion_matrix(model.reg, X_train, y_train, X_test, y_test)\n",
    "\n",
    "# Update the hyperparameters of the model\n",
    "\n"
   ]
  },
  {
   "cell_type": "markdown",
   "metadata": {},
   "source": [
    "from sklearn.preprocessing import StandardScaler\n",
    "from sklearn.datasets import make_classification\n",
    "from sklearn.model_selection import train_test_split\n",
    "from sklearn.pipeline import Pipeline\n",
    "from sklearn.linear_model import LogisticRegression\n",
    "from sklearn.ensemble import RandomForestRegressor\n",
    "\n",
    "#X, y = make_classification(random_state=0)\n",
    "X_train, X_test, y_train, y_test = train_test_split(X, y, random_state=0)\n",
    "\n",
    "model = [Pipeline([\n",
    "    ('scale', StandardScaler()),\n",
    "    ('reg'),LogisticRegression(fit_intercept=False)\n",
    "    ]),\n",
    "]\n",
    "\n",
    "#check_is_fitted(model,['support_fit_','support_','support_vectors_'])\n",
    "\n",
    "confusion_matrix(logreg, X_train, y_train, X_test, y_test)"
   ]
  },
  {
   "cell_type": "markdown",
   "metadata": {},
   "source": [
    "model = Pipeline([\n",
    "    ('std', StandardScaler()),\n",
    "    ('reg'),RandomForestRegressor(n_estimator=50)\n",
    "    ]),\n",
    "    Pipeline([\n",
    "    ('std', StandardScaler()),\n",
    "    ('reg'),MLPRegressor(hidden_layer_sizes=(100,100,100))\n",
    "    ]),\n",
    "    Pipeline([\n",
    "    ('std', RobustScaler()),\n",
    "    ('reg'),LogisticRegression(fit_intercept=False)\n",
    "    ]),\n",
    "    Pipeline([\n",
    "    ('std', RobustScaler()),\n",
    "    ('reg'),RandomForestRegressor(n_estimator=50)\n",
    "    ]),\n",
    "    Pipeline([\n",
    "    ('std', RobustScaler()),\n",
    "    ('reg'),MLPRegressor(hidden_layer_sizes=(100,100,100))\n",
    "    ]),"
   ]
  },
  {
   "cell_type": "code",
   "execution_count": null,
   "metadata": {},
   "outputs": [],
   "source": []
  }
 ],
 "metadata": {
  "kernelspec": {
   "display_name": "Python 3",
   "language": "python",
   "name": "python3"
  },
  "language_info": {
   "codemirror_mode": {
    "name": "ipython",
    "version": 3
   },
   "file_extension": ".py",
   "mimetype": "text/x-python",
   "name": "python",
   "nbconvert_exporter": "python",
   "pygments_lexer": "ipython3",
   "version": "3.7.4"
  }
 },
 "nbformat": 4,
 "nbformat_minor": 4
}
