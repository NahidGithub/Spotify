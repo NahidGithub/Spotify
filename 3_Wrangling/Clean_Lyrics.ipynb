{
 "cells": [
  {
   "cell_type": "code",
   "execution_count": 1,
   "metadata": {},
   "outputs": [],
   "source": [
    "import pandas as pd\n",
    "import numpy as np\n",
    "from sklearn.feature_extraction.text import TfidfVectorizer,CountVectorizer\n",
    "from nltk import word_tokenize\n",
    "import boto3\n",
    "from s3 import get_file\n",
    "import re\n",
    "import mglearn\n",
    "import sklearn\n",
    "import yellowbrick\n",
    "from nltk.corpus import stopwords"
   ]
  },
  {
   "cell_type": "code",
   "execution_count": 2,
   "metadata": {},
   "outputs": [],
   "source": [
    "from sklearn.feature_extraction.stop_words import ENGLISH_STOP_WORDS"
   ]
  },
  {
   "cell_type": "code",
   "execution_count": 4,
   "metadata": {},
   "outputs": [],
   "source": [
    "s3 = boto3.resource('s3')\n",
    "lyrics = get_file(s3,'s3ssp',download_file='NLP_Data/rough_lyrics_audio_features.csv',rename_file='0320_2020_nlp.csv')"
   ]
  },
  {
   "cell_type": "code",
   "execution_count": 17,
   "metadata": {},
   "outputs": [],
   "source": [
    "df = pd.read_csv(lyrics,sep='|',encoding='utf-8')\n",
    "df.head()\n",
    "df = df.drop_duplicates(['artist_uri_x','track_uri'])\n",
    "df_copy = df.copy().dropna()"
   ]
  },
  {
   "cell_type": "code",
   "execution_count": 18,
   "metadata": {},
   "outputs": [],
   "source": [
    "df_copy = df_copy.drop(columns=['instrumentalness','key','mode','liveness','speechiness','time_signature',\n",
    "                                'tempo','loudness'])"
   ]
  },
  {
   "cell_type": "markdown",
   "metadata": {},
   "source": [
    "## Clean of stop words from NLTK and Github Song Stopwords Resource"
   ]
  },
  {
   "cell_type": "code",
   "execution_count": 20,
   "metadata": {},
   "outputs": [
    {
     "data": {
      "text/html": [
       "<div>\n",
       "<style scoped>\n",
       "    .dataframe tbody tr th:only-of-type {\n",
       "        vertical-align: middle;\n",
       "    }\n",
       "\n",
       "    .dataframe tbody tr th {\n",
       "        vertical-align: top;\n",
       "    }\n",
       "\n",
       "    .dataframe thead th {\n",
       "        text-align: right;\n",
       "    }\n",
       "</style>\n",
       "<table border=\"1\" class=\"dataframe\">\n",
       "  <thead>\n",
       "    <tr style=\"text-align: right;\">\n",
       "      <th></th>\n",
       "      <th>artist_uri_x</th>\n",
       "      <th>artist_name</th>\n",
       "      <th>track_uri</th>\n",
       "      <th>track_name</th>\n",
       "      <th>lyrics</th>\n",
       "      <th>acousticness</th>\n",
       "      <th>danceability</th>\n",
       "      <th>energy</th>\n",
       "      <th>valence</th>\n",
       "    </tr>\n",
       "  </thead>\n",
       "  <tbody>\n",
       "    <tr>\n",
       "      <th>0</th>\n",
       "      <td>6vWDO969PvNqNYHIOW5v0m</td>\n",
       "      <td>Beyoncé</td>\n",
       "      <td>5Ui8M6tfknhXo4MuGHt3Dy</td>\n",
       "      <td>why don't you love me</td>\n",
       "      <td>N-n-now, honey\\nYou better sit down and look a...</td>\n",
       "      <td>0.0463</td>\n",
       "      <td>0.693</td>\n",
       "      <td>0.73</td>\n",
       "      <td>0.741</td>\n",
       "    </tr>\n",
       "  </tbody>\n",
       "</table>\n",
       "</div>"
      ],
      "text/plain": [
       "             artist_uri_x artist_name               track_uri  \\\n",
       "0  6vWDO969PvNqNYHIOW5v0m     Beyoncé  5Ui8M6tfknhXo4MuGHt3Dy   \n",
       "\n",
       "              track_name                                             lyrics  \\\n",
       "0  why don't you love me  N-n-now, honey\\nYou better sit down and look a...   \n",
       "\n",
       "   acousticness  danceability  energy  valence  \n",
       "0        0.0463         0.693    0.73    0.741  "
      ]
     },
     "execution_count": 20,
     "metadata": {},
     "output_type": "execute_result"
    }
   ],
   "source": [
    "df_copy.head(1)"
   ]
  },
  {
   "cell_type": "code",
   "execution_count": 21,
   "metadata": {},
   "outputs": [],
   "source": [
    "df_lastfm_stopwords = pd.read_csv('lastfm-lyrics-analysis/stopwords.txt',header=None)"
   ]
  },
  {
   "cell_type": "code",
   "execution_count": 22,
   "metadata": {},
   "outputs": [],
   "source": [
    "lyrics_list = df_copy['lyrics'].str.replace('\\n',' ')\n",
    "df_copy['lyrics'] = lyrics_list.to_frame()\n",
    "lastfm_stopwords = df_lastfm_stopwords[0].str.replace('\\n',' ')\n",
    "df_lastfm_stopwords['last_fm_stopwords'] = lastfm_stopwords.to_frame()\n",
    "#df_clean = .str.replace('(\\[.*\\])*','')"
   ]
  },
  {
   "cell_type": "code",
   "execution_count": 23,
   "metadata": {},
   "outputs": [
    {
     "data": {
      "text/html": [
       "<div>\n",
       "<style scoped>\n",
       "    .dataframe tbody tr th:only-of-type {\n",
       "        vertical-align: middle;\n",
       "    }\n",
       "\n",
       "    .dataframe tbody tr th {\n",
       "        vertical-align: top;\n",
       "    }\n",
       "\n",
       "    .dataframe thead th {\n",
       "        text-align: right;\n",
       "    }\n",
       "</style>\n",
       "<table border=\"1\" class=\"dataframe\">\n",
       "  <thead>\n",
       "    <tr style=\"text-align: right;\">\n",
       "      <th></th>\n",
       "      <th>0</th>\n",
       "      <th>last_fm_stopwords</th>\n",
       "    </tr>\n",
       "  </thead>\n",
       "  <tbody>\n",
       "    <tr>\n",
       "      <th>0</th>\n",
       "      <td>a</td>\n",
       "      <td>a</td>\n",
       "    </tr>\n",
       "    <tr>\n",
       "      <th>1</th>\n",
       "      <td>able</td>\n",
       "      <td>able</td>\n",
       "    </tr>\n",
       "    <tr>\n",
       "      <th>2</th>\n",
       "      <td>about</td>\n",
       "      <td>about</td>\n",
       "    </tr>\n",
       "    <tr>\n",
       "      <th>3</th>\n",
       "      <td>above</td>\n",
       "      <td>above</td>\n",
       "    </tr>\n",
       "    <tr>\n",
       "      <th>4</th>\n",
       "      <td>abst</td>\n",
       "      <td>abst</td>\n",
       "    </tr>\n",
       "  </tbody>\n",
       "</table>\n",
       "</div>"
      ],
      "text/plain": [
       "       0 last_fm_stopwords\n",
       "0      a                 a\n",
       "1   able              able\n",
       "2  about             about\n",
       "3  above             above\n",
       "4   abst              abst"
      ]
     },
     "execution_count": 23,
     "metadata": {},
     "output_type": "execute_result"
    }
   ],
   "source": [
    "df_lastfm_stopwords.head()"
   ]
  },
  {
   "cell_type": "code",
   "execution_count": 24,
   "metadata": {},
   "outputs": [],
   "source": [
    "df_lastfm_stopwords_list = df_lastfm_stopwords['last_fm_stopwords'].tolist()"
   ]
  },
  {
   "cell_type": "code",
   "execution_count": 25,
   "metadata": {},
   "outputs": [
    {
     "data": {
      "text/plain": [
       "list"
      ]
     },
     "execution_count": 25,
     "metadata": {},
     "output_type": "execute_result"
    }
   ],
   "source": [
    "type(df_lastfm_stopwords_list)"
   ]
  },
  {
   "cell_type": "code",
   "execution_count": 26,
   "metadata": {},
   "outputs": [],
   "source": [
    "df_english = pd.read_csv(\"stop-words/english.txt\",header=None)"
   ]
  },
  {
   "cell_type": "code",
   "execution_count": 27,
   "metadata": {},
   "outputs": [],
   "source": [
    "github_english_stopwords = df_english[0].str.replace('\\n',' ')\n",
    "df_english['github_english_stopwords'] = github_english_stopwords.to_frame()\n",
    "github_english_stopwords_list = df_english['github_english_stopwords'].tolist()"
   ]
  },
  {
   "cell_type": "code",
   "execution_count": 28,
   "metadata": {},
   "outputs": [
    {
     "data": {
      "text/plain": [
       "list"
      ]
     },
     "execution_count": 28,
     "metadata": {},
     "output_type": "execute_result"
    }
   ],
   "source": [
    "type(github_english_stopwords_list)"
   ]
  },
  {
   "cell_type": "code",
   "execution_count": 29,
   "metadata": {},
   "outputs": [],
   "source": [
    "df_spanish = pd.read_csv(\"stop-words/spanish.txt\",header=None)\n",
    "github_spanish_stopwords = df_spanish[0].str.replace('\\n',' ')\n",
    "df_spanish['github_spanish_stopwords'] = github_spanish_stopwords.to_frame()\n",
    "github_spanish_stopwords_list = df_spanish['github_spanish_stopwords'].tolist()"
   ]
  },
  {
   "cell_type": "code",
   "execution_count": 30,
   "metadata": {},
   "outputs": [
    {
     "data": {
      "text/plain": [
       "list"
      ]
     },
     "execution_count": 30,
     "metadata": {},
     "output_type": "execute_result"
    }
   ],
   "source": [
    "type(github_spanish_stopwords_list)"
   ]
  },
  {
   "cell_type": "markdown",
   "metadata": {},
   "source": [
    "## Clean from Instrumentals"
   ]
  },
  {
   "cell_type": "code",
   "execution_count": 31,
   "metadata": {},
   "outputs": [],
   "source": [
    "#Clean dataset of instrumentals\n",
    "df_playlist = df_copy.copy()\n",
    "\n",
    "df_playlist['instrumental'] = df_playlist['lyrics'].apply(lambda x: x.find('instrumental'))\n",
    "df_playlist = df_playlist.drop(df_playlist[df_playlist['instrumental'] != -1].index)\n",
    "#df = df.drop(df[df['lyrics']=='This is an instrumental'].index)"
   ]
  },
  {
   "cell_type": "code",
   "execution_count": 32,
   "metadata": {},
   "outputs": [],
   "source": [
    "df_playlist['Instrumental'] = df_playlist['lyrics'].apply(lambda x: x.find('Instrumental'))\n",
    "df_playlist =df_playlist.drop(df_playlist[df_playlist['Instrumental'] != -1].index)"
   ]
  },
  {
   "cell_type": "code",
   "execution_count": 33,
   "metadata": {},
   "outputs": [],
   "source": [
    "df_playlist['INSTRUMENTAL'] = df_playlist['lyrics'].apply(lambda x: x.find('INSTRUMENTAL'))\n",
    "df_playlist =df_playlist.drop(df_playlist[df_playlist['INSTRUMENTAL'] != -1].index)"
   ]
  },
  {
   "cell_type": "code",
   "execution_count": 34,
   "metadata": {},
   "outputs": [
    {
     "data": {
      "text/html": [
       "<div>\n",
       "<style scoped>\n",
       "    .dataframe tbody tr th:only-of-type {\n",
       "        vertical-align: middle;\n",
       "    }\n",
       "\n",
       "    .dataframe tbody tr th {\n",
       "        vertical-align: top;\n",
       "    }\n",
       "\n",
       "    .dataframe thead th {\n",
       "        text-align: right;\n",
       "    }\n",
       "</style>\n",
       "<table border=\"1\" class=\"dataframe\">\n",
       "  <thead>\n",
       "    <tr style=\"text-align: right;\">\n",
       "      <th></th>\n",
       "      <th>artist_uri_x</th>\n",
       "      <th>artist_name</th>\n",
       "      <th>track_uri</th>\n",
       "      <th>track_name</th>\n",
       "      <th>lyrics</th>\n",
       "      <th>acousticness</th>\n",
       "      <th>danceability</th>\n",
       "      <th>energy</th>\n",
       "      <th>valence</th>\n",
       "      <th>instrumental</th>\n",
       "      <th>Instrumental</th>\n",
       "      <th>INSTRUMENTAL</th>\n",
       "    </tr>\n",
       "  </thead>\n",
       "  <tbody>\n",
       "  </tbody>\n",
       "</table>\n",
       "</div>"
      ],
      "text/plain": [
       "Empty DataFrame\n",
       "Columns: [artist_uri_x, artist_name, track_uri, track_name, lyrics, acousticness, danceability, energy, valence, instrumental, Instrumental, INSTRUMENTAL]\n",
       "Index: []"
      ]
     },
     "execution_count": 34,
     "metadata": {},
     "output_type": "execute_result"
    }
   ],
   "source": [
    "df_playlist[df_playlist['lyrics'] == 'INSTRUMENTAL']"
   ]
  },
  {
   "cell_type": "code",
   "execution_count": 35,
   "metadata": {},
   "outputs": [],
   "source": [
    "def preprocessor(text,source):\n",
    "    tokens = word_tokenize(text)\n",
    "    return (\" \").join([word for word in tokens if word not in source])"
   ]
  },
  {
   "cell_type": "code",
   "execution_count": 36,
   "metadata": {},
   "outputs": [],
   "source": [
    "df_demo = df_playlist\n",
    "\n",
    "df_demo['git_english_lyrics'] = df_demo['lyrics'].apply(lambda x: preprocessor(x,github_english_stopwords_list))\n",
    "df_demo['git_spanish_lyrics'] = df_demo['git_english_lyrics'].apply(lambda x: preprocessor(x,github_spanish_stopwords_list))\n",
    "df_demo['last_fm_lyrics'] = df_demo['git_spanish_lyrics'].apply(lambda x: preprocessor(x,df_lastfm_stopwords_list))\n",
    "df_demo['nltk_lyrics'] = df_demo['last_fm_lyrics'].apply(lambda x: preprocessor(x,stopwords.words('english')))\n",
    "\n",
    "\n"
   ]
  },
  {
   "cell_type": "code",
   "execution_count": 37,
   "metadata": {
    "scrolled": true
   },
   "outputs": [
    {
     "data": {
      "text/html": [
       "<div>\n",
       "<style scoped>\n",
       "    .dataframe tbody tr th:only-of-type {\n",
       "        vertical-align: middle;\n",
       "    }\n",
       "\n",
       "    .dataframe tbody tr th {\n",
       "        vertical-align: top;\n",
       "    }\n",
       "\n",
       "    .dataframe thead th {\n",
       "        text-align: right;\n",
       "    }\n",
       "</style>\n",
       "<table border=\"1\" class=\"dataframe\">\n",
       "  <thead>\n",
       "    <tr style=\"text-align: right;\">\n",
       "      <th></th>\n",
       "      <th>artist_uri_x</th>\n",
       "      <th>artist_name</th>\n",
       "      <th>track_uri</th>\n",
       "      <th>track_name</th>\n",
       "      <th>lyrics</th>\n",
       "      <th>acousticness</th>\n",
       "      <th>danceability</th>\n",
       "      <th>energy</th>\n",
       "      <th>valence</th>\n",
       "      <th>instrumental</th>\n",
       "      <th>Instrumental</th>\n",
       "      <th>INSTRUMENTAL</th>\n",
       "      <th>git_english_lyrics</th>\n",
       "      <th>git_spanish_lyrics</th>\n",
       "      <th>last_fm_lyrics</th>\n",
       "      <th>nltk_lyrics</th>\n",
       "    </tr>\n",
       "  </thead>\n",
       "  <tbody>\n",
       "    <tr>\n",
       "      <th>0</th>\n",
       "      <td>6vWDO969PvNqNYHIOW5v0m</td>\n",
       "      <td>Beyoncé</td>\n",
       "      <td>5Ui8M6tfknhXo4MuGHt3Dy</td>\n",
       "      <td>why don't you love me</td>\n",
       "      <td>N-n-now, honey You better sit down and look ar...</td>\n",
       "      <td>0.0463</td>\n",
       "      <td>0.693</td>\n",
       "      <td>0.730</td>\n",
       "      <td>0.7410</td>\n",
       "      <td>-1</td>\n",
       "      <td>-1</td>\n",
       "      <td>-1</td>\n",
       "      <td>N-n-now , honey You sit 'Cause bumped yo ' hea...</td>\n",
       "      <td>N-n-now , honey You sit 'Cause bumped ' head A...</td>\n",
       "      <td>N-n-now , honey You sit 'Cause bumped ' head A...</td>\n",
       "      <td>N-n-now , honey You sit 'Cause bumped ' head A...</td>\n",
       "    </tr>\n",
       "    <tr>\n",
       "      <th>1</th>\n",
       "      <td>6vWDO969PvNqNYHIOW5v0m</td>\n",
       "      <td>Beyoncé</td>\n",
       "      <td>5dhPqcLr5EcSd7Fe4fslCq</td>\n",
       "      <td>save the hero</td>\n",
       "      <td>I lay alone awake at night Sorrow fills my eye...</td>\n",
       "      <td>0.6730</td>\n",
       "      <td>0.551</td>\n",
       "      <td>0.467</td>\n",
       "      <td>0.1480</td>\n",
       "      <td>-1</td>\n",
       "      <td>-1</td>\n",
       "      <td>-1</td>\n",
       "      <td>I lay awake night Sorrow fills eyes But I 'm s...</td>\n",
       "      <td>I lay awake night Sorrow fills eyes But I 'm s...</td>\n",
       "      <td>I lay awake night Sorrow fills eyes But I 'm s...</td>\n",
       "      <td>I lay awake night Sorrow fills eyes But I 'm s...</td>\n",
       "    </tr>\n",
       "    <tr>\n",
       "      <th>2</th>\n",
       "      <td>6vWDO969PvNqNYHIOW5v0m</td>\n",
       "      <td>Beyoncé</td>\n",
       "      <td>5dWTQXVHdoIsSLpEyS3woy</td>\n",
       "      <td>broken-hearted girl</td>\n",
       "      <td>Youre everything I thought you never were And ...</td>\n",
       "      <td>0.5030</td>\n",
       "      <td>0.336</td>\n",
       "      <td>0.424</td>\n",
       "      <td>0.1590</td>\n",
       "      <td>-1</td>\n",
       "      <td>-1</td>\n",
       "      <td>-1</td>\n",
       "      <td>Youre I And I couldve But live So ? Youre I I ...</td>\n",
       "      <td>Youre I And I couldve But live So ? Youre I I ...</td>\n",
       "      <td>Youre I And I couldve But live So ? Youre I I ...</td>\n",
       "      <td>Youre I And I couldve But live So ? Youre I I ...</td>\n",
       "    </tr>\n",
       "    <tr>\n",
       "      <th>3</th>\n",
       "      <td>6vWDO969PvNqNYHIOW5v0m</td>\n",
       "      <td>Beyoncé</td>\n",
       "      <td>0QRxJvOohS8yiGC1n98uFM</td>\n",
       "      <td>lift ev'ry voice and sing - homecoming live</td>\n",
       "      <td>He is always laughin' and flirting with me And...</td>\n",
       "      <td>0.1240</td>\n",
       "      <td>0.127</td>\n",
       "      <td>0.409</td>\n",
       "      <td>0.0782</td>\n",
       "      <td>-1</td>\n",
       "      <td>-1</td>\n",
       "      <td>-1</td>\n",
       "      <td>He laughin ' flirting And n't care As matter r...</td>\n",
       "      <td>He laughin ' flirting And n't care As matter r...</td>\n",
       "      <td>He laughin ' flirting And n't care As matter r...</td>\n",
       "      <td>He laughin ' flirting And n't care As matter r...</td>\n",
       "    </tr>\n",
       "    <tr>\n",
       "      <th>4</th>\n",
       "      <td>6vWDO969PvNqNYHIOW5v0m</td>\n",
       "      <td>Beyoncé</td>\n",
       "      <td>4DActPOAtak2m8meZeMt3B</td>\n",
       "      <td>no angel</td>\n",
       "      <td>This is for my fans (Uhu, uhu) This is for my ...</td>\n",
       "      <td>0.0424</td>\n",
       "      <td>0.571</td>\n",
       "      <td>0.466</td>\n",
       "      <td>0.5120</td>\n",
       "      <td>-1</td>\n",
       "      <td>-1</td>\n",
       "      <td>-1</td>\n",
       "      <td>This fans ( Uhu , uhu ) This destiny ( Uhu , u...</td>\n",
       "      <td>This fans ( Uhu , uhu ) This destiny ( Uhu , u...</td>\n",
       "      <td>This fans ( Uhu , uhu ) This destiny ( Uhu , u...</td>\n",
       "      <td>This fans ( Uhu , uhu ) This destiny ( Uhu , u...</td>\n",
       "    </tr>\n",
       "  </tbody>\n",
       "</table>\n",
       "</div>"
      ],
      "text/plain": [
       "             artist_uri_x artist_name               track_uri  \\\n",
       "0  6vWDO969PvNqNYHIOW5v0m     Beyoncé  5Ui8M6tfknhXo4MuGHt3Dy   \n",
       "1  6vWDO969PvNqNYHIOW5v0m     Beyoncé  5dhPqcLr5EcSd7Fe4fslCq   \n",
       "2  6vWDO969PvNqNYHIOW5v0m     Beyoncé  5dWTQXVHdoIsSLpEyS3woy   \n",
       "3  6vWDO969PvNqNYHIOW5v0m     Beyoncé  0QRxJvOohS8yiGC1n98uFM   \n",
       "4  6vWDO969PvNqNYHIOW5v0m     Beyoncé  4DActPOAtak2m8meZeMt3B   \n",
       "\n",
       "                                    track_name  \\\n",
       "0                        why don't you love me   \n",
       "1                                save the hero   \n",
       "2                          broken-hearted girl   \n",
       "3  lift ev'ry voice and sing - homecoming live   \n",
       "4                                     no angel   \n",
       "\n",
       "                                              lyrics  acousticness  \\\n",
       "0  N-n-now, honey You better sit down and look ar...        0.0463   \n",
       "1  I lay alone awake at night Sorrow fills my eye...        0.6730   \n",
       "2  Youre everything I thought you never were And ...        0.5030   \n",
       "3  He is always laughin' and flirting with me And...        0.1240   \n",
       "4  This is for my fans (Uhu, uhu) This is for my ...        0.0424   \n",
       "\n",
       "   danceability  energy  valence  instrumental  Instrumental  INSTRUMENTAL  \\\n",
       "0         0.693   0.730   0.7410            -1            -1            -1   \n",
       "1         0.551   0.467   0.1480            -1            -1            -1   \n",
       "2         0.336   0.424   0.1590            -1            -1            -1   \n",
       "3         0.127   0.409   0.0782            -1            -1            -1   \n",
       "4         0.571   0.466   0.5120            -1            -1            -1   \n",
       "\n",
       "                                  git_english_lyrics  \\\n",
       "0  N-n-now , honey You sit 'Cause bumped yo ' hea...   \n",
       "1  I lay awake night Sorrow fills eyes But I 'm s...   \n",
       "2  Youre I And I couldve But live So ? Youre I I ...   \n",
       "3  He laughin ' flirting And n't care As matter r...   \n",
       "4  This fans ( Uhu , uhu ) This destiny ( Uhu , u...   \n",
       "\n",
       "                                  git_spanish_lyrics  \\\n",
       "0  N-n-now , honey You sit 'Cause bumped ' head A...   \n",
       "1  I lay awake night Sorrow fills eyes But I 'm s...   \n",
       "2  Youre I And I couldve But live So ? Youre I I ...   \n",
       "3  He laughin ' flirting And n't care As matter r...   \n",
       "4  This fans ( Uhu , uhu ) This destiny ( Uhu , u...   \n",
       "\n",
       "                                      last_fm_lyrics  \\\n",
       "0  N-n-now , honey You sit 'Cause bumped ' head A...   \n",
       "1  I lay awake night Sorrow fills eyes But I 'm s...   \n",
       "2  Youre I And I couldve But live So ? Youre I I ...   \n",
       "3  He laughin ' flirting And n't care As matter r...   \n",
       "4  This fans ( Uhu , uhu ) This destiny ( Uhu , u...   \n",
       "\n",
       "                                         nltk_lyrics  \n",
       "0  N-n-now , honey You sit 'Cause bumped ' head A...  \n",
       "1  I lay awake night Sorrow fills eyes But I 'm s...  \n",
       "2  Youre I And I couldve But live So ? Youre I I ...  \n",
       "3  He laughin ' flirting And n't care As matter r...  \n",
       "4  This fans ( Uhu , uhu ) This destiny ( Uhu , u...  "
      ]
     },
     "execution_count": 37,
     "metadata": {},
     "output_type": "execute_result"
    }
   ],
   "source": [
    "df_demo.head()\n"
   ]
  },
  {
   "cell_type": "code",
   "execution_count": 44,
   "metadata": {},
   "outputs": [
    {
     "data": {
      "text/html": [
       "<div>\n",
       "<style scoped>\n",
       "    .dataframe tbody tr th:only-of-type {\n",
       "        vertical-align: middle;\n",
       "    }\n",
       "\n",
       "    .dataframe tbody tr th {\n",
       "        vertical-align: top;\n",
       "    }\n",
       "\n",
       "    .dataframe thead th {\n",
       "        text-align: right;\n",
       "    }\n",
       "</style>\n",
       "<table border=\"1\" class=\"dataframe\">\n",
       "  <thead>\n",
       "    <tr style=\"text-align: right;\">\n",
       "      <th></th>\n",
       "      <th>acousticness</th>\n",
       "      <th>danceability</th>\n",
       "      <th>energy</th>\n",
       "      <th>valence</th>\n",
       "    </tr>\n",
       "  </thead>\n",
       "  <tbody>\n",
       "    <tr>\n",
       "      <th>count</th>\n",
       "      <td>96906.000000</td>\n",
       "      <td>96906.000000</td>\n",
       "      <td>96906.000000</td>\n",
       "      <td>96906.000000</td>\n",
       "    </tr>\n",
       "    <tr>\n",
       "      <th>mean</th>\n",
       "      <td>0.226683</td>\n",
       "      <td>0.501299</td>\n",
       "      <td>0.683859</td>\n",
       "      <td>0.458357</td>\n",
       "    </tr>\n",
       "    <tr>\n",
       "      <th>std</th>\n",
       "      <td>0.298966</td>\n",
       "      <td>0.169198</td>\n",
       "      <td>0.243880</td>\n",
       "      <td>0.243246</td>\n",
       "    </tr>\n",
       "    <tr>\n",
       "      <th>min</th>\n",
       "      <td>0.000000</td>\n",
       "      <td>0.000000</td>\n",
       "      <td>0.000000</td>\n",
       "      <td>0.000000</td>\n",
       "    </tr>\n",
       "    <tr>\n",
       "      <th>25%</th>\n",
       "      <td>0.002570</td>\n",
       "      <td>0.382250</td>\n",
       "      <td>0.511000</td>\n",
       "      <td>0.259000</td>\n",
       "    </tr>\n",
       "    <tr>\n",
       "      <th>50%</th>\n",
       "      <td>0.061100</td>\n",
       "      <td>0.505000</td>\n",
       "      <td>0.735000</td>\n",
       "      <td>0.438000</td>\n",
       "    </tr>\n",
       "    <tr>\n",
       "      <th>75%</th>\n",
       "      <td>0.386000</td>\n",
       "      <td>0.622000</td>\n",
       "      <td>0.896000</td>\n",
       "      <td>0.647000</td>\n",
       "    </tr>\n",
       "    <tr>\n",
       "      <th>max</th>\n",
       "      <td>0.996000</td>\n",
       "      <td>0.985000</td>\n",
       "      <td>1.000000</td>\n",
       "      <td>0.996000</td>\n",
       "    </tr>\n",
       "  </tbody>\n",
       "</table>\n",
       "</div>"
      ],
      "text/plain": [
       "       acousticness  danceability        energy       valence\n",
       "count  96906.000000  96906.000000  96906.000000  96906.000000\n",
       "mean       0.226683      0.501299      0.683859      0.458357\n",
       "std        0.298966      0.169198      0.243880      0.243246\n",
       "min        0.000000      0.000000      0.000000      0.000000\n",
       "25%        0.002570      0.382250      0.511000      0.259000\n",
       "50%        0.061100      0.505000      0.735000      0.438000\n",
       "75%        0.386000      0.622000      0.896000      0.647000\n",
       "max        0.996000      0.985000      1.000000      0.996000"
      ]
     },
     "execution_count": 44,
     "metadata": {},
     "output_type": "execute_result"
    }
   ],
   "source": [
    "df_topic = df_demo[['artist_name','track_name','nltk_lyrics','acousticness','danceability','energy','valence']]\n",
    "df_topic = df_topic.rename(columns={'nltk_lyrics':'lyrics'})\n",
    "df_topic.describe()"
   ]
  },
  {
   "cell_type": "code",
   "execution_count": 45,
   "metadata": {},
   "outputs": [],
   "source": [
    "#df_topic[(df_topic['artist_name']=='Arcade Fire') & (df_topic['track_name']=='here comes the night time')]"
   ]
  },
  {
   "cell_type": "code",
   "execution_count": 46,
   "metadata": {},
   "outputs": [],
   "source": [
    "df_topic.to_csv('Data/master_lyrics_audio_features.csv',index=False,sep='|')"
   ]
  },
  {
   "cell_type": "code",
   "execution_count": null,
   "metadata": {},
   "outputs": [],
   "source": []
  }
 ],
 "metadata": {
  "kernelspec": {
   "display_name": "Python 3",
   "language": "python",
   "name": "python3"
  },
  "language_info": {
   "codemirror_mode": {
    "name": "ipython",
    "version": 3
   },
   "file_extension": ".py",
   "mimetype": "text/x-python",
   "name": "python",
   "nbconvert_exporter": "python",
   "pygments_lexer": "ipython3",
   "version": "3.7.4"
  }
 },
 "nbformat": 4,
 "nbformat_minor": 2
}
