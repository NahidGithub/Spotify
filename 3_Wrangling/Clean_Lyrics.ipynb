{
 "cells": [
  {
   "cell_type": "code",
   "execution_count": 1,
   "metadata": {},
   "outputs": [],
   "source": [
    "import pandas as pd\n",
    "import numpy as np\n",
    "import boto3\n",
    "import re\n",
    "\n",
    "from nltk import word_tokenize\n",
    "from nltk.corpus import stopwords\n",
    "import nltk\n",
    "\n",
    "from s3 import get_file,upload_file\n",
    "\n",
    "import string"
   ]
  },
  {
   "cell_type": "code",
   "execution_count": 2,
   "metadata": {},
   "outputs": [],
   "source": [
    "s3 = boto3.resource('s3')\n",
    "lyrics = get_file(s3,'s3ssp',download_file='NLP_Data/rough_lyrics_audio_features.csv',rename_file='0320_2020_nlp.csv')"
   ]
  },
  {
   "cell_type": "code",
   "execution_count": 3,
   "metadata": {},
   "outputs": [],
   "source": [
    "df = pd.read_csv(lyrics,sep='|',encoding='utf-8')\n",
    "df.head()\n",
    "df = df.drop_duplicates(['artist_uri_x','track_uri'])\n",
    "df_copy = df.copy().dropna()\n",
    "\n",
    "#Running on this variable\n",
    "df_sample = df_copy.head(10)"
   ]
  },
  {
   "cell_type": "markdown",
   "metadata": {},
   "source": [
    "## Clean from Instrumentals"
   ]
  },
  {
   "cell_type": "code",
   "execution_count": 4,
   "metadata": {},
   "outputs": [],
   "source": [
    "#Clean dataset of instrumentals\n",
    "df_playlist = df_copy.copy()\n",
    "\n",
    "df_playlist['instrumental'] = df_playlist['lyrics'].apply(lambda x: x.find('instrumental'))\n",
    "df_playlist = df_playlist.drop(df_playlist[df_playlist['instrumental'] != -1].index)\n",
    "#df = df.drop(df[df['lyrics']=='This is an instrumental'].index)"
   ]
  },
  {
   "cell_type": "code",
   "execution_count": 5,
   "metadata": {},
   "outputs": [],
   "source": [
    "df_playlist['Instrumental'] = df_playlist['lyrics'].apply(lambda x: x.find('Instrumental'))\n",
    "df_playlist =df_playlist.drop(df_playlist[df_playlist['Instrumental'] != -1].index)"
   ]
  },
  {
   "cell_type": "code",
   "execution_count": 6,
   "metadata": {},
   "outputs": [],
   "source": [
    "df_playlist['INSTRUMENTAL'] = df_playlist['lyrics'].apply(lambda x: x.find('INSTRUMENTAL'))\n",
    "df_playlist =df_playlist.drop(df_playlist[df_playlist['INSTRUMENTAL'] != -1].index)"
   ]
  },
  {
   "cell_type": "code",
   "execution_count": 7,
   "metadata": {},
   "outputs": [
    {
     "data": {
      "text/html": [
       "<div>\n",
       "<style scoped>\n",
       "    .dataframe tbody tr th:only-of-type {\n",
       "        vertical-align: middle;\n",
       "    }\n",
       "\n",
       "    .dataframe tbody tr th {\n",
       "        vertical-align: top;\n",
       "    }\n",
       "\n",
       "    .dataframe thead th {\n",
       "        text-align: right;\n",
       "    }\n",
       "</style>\n",
       "<table border=\"1\" class=\"dataframe\">\n",
       "  <thead>\n",
       "    <tr style=\"text-align: right;\">\n",
       "      <th></th>\n",
       "      <th>artist_uri_x</th>\n",
       "      <th>artist_name</th>\n",
       "      <th>track_uri</th>\n",
       "      <th>track_name</th>\n",
       "      <th>lyrics</th>\n",
       "      <th>acousticness</th>\n",
       "      <th>danceability</th>\n",
       "      <th>energy</th>\n",
       "      <th>instrumentalness</th>\n",
       "      <th>key</th>\n",
       "      <th>liveness</th>\n",
       "      <th>loudness</th>\n",
       "      <th>mode</th>\n",
       "      <th>speechiness</th>\n",
       "      <th>tempo</th>\n",
       "      <th>time_signature</th>\n",
       "      <th>valence</th>\n",
       "      <th>instrumental</th>\n",
       "      <th>Instrumental</th>\n",
       "      <th>INSTRUMENTAL</th>\n",
       "    </tr>\n",
       "  </thead>\n",
       "  <tbody>\n",
       "  </tbody>\n",
       "</table>\n",
       "</div>"
      ],
      "text/plain": [
       "Empty DataFrame\n",
       "Columns: [artist_uri_x, artist_name, track_uri, track_name, lyrics, acousticness, danceability, energy, instrumentalness, key, liveness, loudness, mode, speechiness, tempo, time_signature, valence, instrumental, Instrumental, INSTRUMENTAL]\n",
       "Index: []"
      ]
     },
     "execution_count": 7,
     "metadata": {},
     "output_type": "execute_result"
    }
   ],
   "source": [
    "df_playlist[df_playlist['lyrics'] == 'INSTRUMENTAL']"
   ]
  },
  {
   "cell_type": "markdown",
   "metadata": {},
   "source": [
    "## Clean of stop words from NLTK and Github Song Stopwords Resource"
   ]
  },
  {
   "cell_type": "code",
   "execution_count": 8,
   "metadata": {},
   "outputs": [],
   "source": [
    "def clean_stopwords(file,lyrics):\n",
    "    df_copy['lyrics'] = lyrics_list.to_frame()\n",
    "    lastfm_stopwords = df_lastfm_stopwords[0].str.replace('\\n',' ')\n",
    "    df_lastfm_stopwords['last_fm_stopwords'] = lastfm_stopwords.to_frame()\n",
    "    df_lastfm_stopwords_list = df_lastfm_stopwords['last_fm_stopwords'].tolist()\n",
    "    "
   ]
  },
  {
   "cell_type": "code",
   "execution_count": 9,
   "metadata": {},
   "outputs": [],
   "source": [
    "df_lastfm_stopwords = pd.read_csv('stopwords.txt',header=None)\n",
    "df_english = pd.read_csv(\"english.txt\",header=None)"
   ]
  },
  {
   "cell_type": "code",
   "execution_count": 10,
   "metadata": {},
   "outputs": [],
   "source": [
    "lyrics_list = df_copy['lyrics'].str.replace('\\n',' ')\n",
    "df_copy['lyrics'] = lyrics_list.to_frame()\n",
    "lastfm_stopwords = df_lastfm_stopwords[0].str.replace('\\n',' ')\n",
    "df_lastfm_stopwords['last_fm_stopwords'] = lastfm_stopwords.to_frame()\n",
    "#df_clean = .str.replace('(\\[.*\\])*','')\n",
    "df_lastfm_stopwords_list = df_lastfm_stopwords['last_fm_stopwords'].tolist()\n",
    "\n",
    "github_english_stopwords = df_english[0].str.replace('\\n',' ')\n",
    "df_english['github_english_stopwords'] = github_english_stopwords.to_frame()\n",
    "github_english_stopwords_list = df_english['github_english_stopwords'].tolist()\n",
    "\n",
    "\n",
    "\n"
   ]
  },
  {
   "cell_type": "code",
   "execution_count": 11,
   "metadata": {},
   "outputs": [
    {
     "data": {
      "text/html": [
       "<div>\n",
       "<style scoped>\n",
       "    .dataframe tbody tr th:only-of-type {\n",
       "        vertical-align: middle;\n",
       "    }\n",
       "\n",
       "    .dataframe tbody tr th {\n",
       "        vertical-align: top;\n",
       "    }\n",
       "\n",
       "    .dataframe thead th {\n",
       "        text-align: right;\n",
       "    }\n",
       "</style>\n",
       "<table border=\"1\" class=\"dataframe\">\n",
       "  <thead>\n",
       "    <tr style=\"text-align: right;\">\n",
       "      <th></th>\n",
       "      <th>0</th>\n",
       "      <th>last_fm_stopwords</th>\n",
       "    </tr>\n",
       "  </thead>\n",
       "  <tbody>\n",
       "    <tr>\n",
       "      <th>0</th>\n",
       "      <td>a</td>\n",
       "      <td>a</td>\n",
       "    </tr>\n",
       "    <tr>\n",
       "      <th>1</th>\n",
       "      <td>able</td>\n",
       "      <td>able</td>\n",
       "    </tr>\n",
       "    <tr>\n",
       "      <th>2</th>\n",
       "      <td>about</td>\n",
       "      <td>about</td>\n",
       "    </tr>\n",
       "    <tr>\n",
       "      <th>3</th>\n",
       "      <td>above</td>\n",
       "      <td>above</td>\n",
       "    </tr>\n",
       "    <tr>\n",
       "      <th>4</th>\n",
       "      <td>abst</td>\n",
       "      <td>abst</td>\n",
       "    </tr>\n",
       "  </tbody>\n",
       "</table>\n",
       "</div>"
      ],
      "text/plain": [
       "       0 last_fm_stopwords\n",
       "0      a                 a\n",
       "1   able              able\n",
       "2  about             about\n",
       "3  above             above\n",
       "4   abst              abst"
      ]
     },
     "execution_count": 11,
     "metadata": {},
     "output_type": "execute_result"
    }
   ],
   "source": [
    "df_lastfm_stopwords.head()"
   ]
  },
  {
   "cell_type": "code",
   "execution_count": 12,
   "metadata": {},
   "outputs": [],
   "source": [
    "df_lastfm_stopwords_list = df_lastfm_stopwords['last_fm_stopwords'].tolist()"
   ]
  },
  {
   "cell_type": "code",
   "execution_count": 13,
   "metadata": {},
   "outputs": [],
   "source": [
    "df_spanish = pd.read_csv(\"spanish.txt\",header=None)\n",
    "github_spanish_stopwords = df_spanish[0].str.replace('\\n',' ')\n",
    "df_spanish['github_spanish_stopwords'] = github_spanish_stopwords.to_frame()\n",
    "github_spanish_stopwords_list = df_spanish['github_spanish_stopwords'].tolist()"
   ]
  },
  {
   "cell_type": "code",
   "execution_count": 14,
   "metadata": {},
   "outputs": [
    {
     "data": {
      "text/plain": [
       "list"
      ]
     },
     "execution_count": 14,
     "metadata": {},
     "output_type": "execute_result"
    }
   ],
   "source": [
    "type(github_spanish_stopwords_list)"
   ]
  },
  {
   "cell_type": "code",
   "execution_count": 15,
   "metadata": {},
   "outputs": [],
   "source": [
    "import spacy\n",
    "regexp = re.compile('(?u)\\\\b\\\\w\\\\w+\\\\b')\n",
    "en_nlp = spacy.load('en_core_web_sm',disable=['parser','ner'])\n",
    "old_tokenizer = en_nlp.tokenizer\n",
    "en_nlp.tokenizer = lambda string: old_tokenizer.tokens_from_list(regexp.findall(string))"
   ]
  },
  {
   "cell_type": "code",
   "execution_count": 16,
   "metadata": {},
   "outputs": [],
   "source": [
    "def d_preprocessor(lyric):\n",
    "        doc_spacy = en_nlp(lyric)\n",
    "        lemma_lyric = [token.lemma_ for token in doc_spacy]\n",
    "        lemma = ' '.join(lemma_lyric)\n",
    "        return lemma.lower()"
   ]
  },
  {
   "cell_type": "code",
   "execution_count": 17,
   "metadata": {},
   "outputs": [
    {
     "name": "stderr",
     "output_type": "stream",
     "text": [
      "/Users/adamgoldstein/opt/anaconda3/lib/python3.7/site-packages/ipykernel_launcher.py:1: SettingWithCopyWarning: \n",
      "A value is trying to be set on a copy of a slice from a DataFrame.\n",
      "Try using .loc[row_indexer,col_indexer] = value instead\n",
      "\n",
      "See the caveats in the documentation: https://pandas.pydata.org/pandas-docs/stable/user_guide/indexing.html#returning-a-view-versus-a-copy\n",
      "  \"\"\"Entry point for launching an IPython kernel.\n"
     ]
    }
   ],
   "source": [
    "df_sample['lemma'] = df_sample['lyrics'].apply(lambda x: d_preprocessor(x))"
   ]
  },
  {
   "cell_type": "code",
   "execution_count": 18,
   "metadata": {},
   "outputs": [
    {
     "data": {
      "text/html": [
       "<div>\n",
       "<style scoped>\n",
       "    .dataframe tbody tr th:only-of-type {\n",
       "        vertical-align: middle;\n",
       "    }\n",
       "\n",
       "    .dataframe tbody tr th {\n",
       "        vertical-align: top;\n",
       "    }\n",
       "\n",
       "    .dataframe thead th {\n",
       "        text-align: right;\n",
       "    }\n",
       "</style>\n",
       "<table border=\"1\" class=\"dataframe\">\n",
       "  <thead>\n",
       "    <tr style=\"text-align: right;\">\n",
       "      <th></th>\n",
       "      <th>lyrics</th>\n",
       "      <th>lemma</th>\n",
       "    </tr>\n",
       "  </thead>\n",
       "  <tbody>\n",
       "    <tr>\n",
       "      <th>0</th>\n",
       "      <td>N-n-now, honey You better sit down and look ar...</td>\n",
       "      <td>now honey -pron- better sit down and look arou...</td>\n",
       "    </tr>\n",
       "    <tr>\n",
       "      <th>1</th>\n",
       "      <td>I lay alone awake at night Sorrow fills my eye...</td>\n",
       "      <td>lay alone awake at night sorrow fill -pron- ey...</td>\n",
       "    </tr>\n",
       "    <tr>\n",
       "      <th>2</th>\n",
       "      <td>Youre everything I thought you never were And ...</td>\n",
       "      <td>youre everything think -pron- never be and not...</td>\n",
       "    </tr>\n",
       "    <tr>\n",
       "      <th>3</th>\n",
       "      <td>He is always laughin' and flirting with me And...</td>\n",
       "      <td>-pron- be always laughin and flirt with -pron-...</td>\n",
       "    </tr>\n",
       "    <tr>\n",
       "      <th>4</th>\n",
       "      <td>This is for my fans (Uhu, uhu) This is for my ...</td>\n",
       "      <td>this be for -pron- fan uhu uhu this be for -pr...</td>\n",
       "    </tr>\n",
       "    <tr>\n",
       "      <th>6</th>\n",
       "      <td>[Verse 1: Beyonce] I've been watching for the ...</td>\n",
       "      <td>verse beyonce ve be watch for the sign take tr...</td>\n",
       "    </tr>\n",
       "    <tr>\n",
       "      <th>7</th>\n",
       "      <td>[Verse 1] When the palm of my two hands hold e...</td>\n",
       "      <td>verse when the palm of -pron- two hand hold ea...</td>\n",
       "    </tr>\n",
       "    <tr>\n",
       "      <th>8</th>\n",
       "      <td>[Intro: Presenter] The winner is Beyonce Knowl...</td>\n",
       "      <td>intro presenter the winner be beyonce knowles ...</td>\n",
       "    </tr>\n",
       "    <tr>\n",
       "      <th>10</th>\n",
       "      <td>[Intro] Your challengers are a young group fro...</td>\n",
       "      <td>intro -pron- challenger be young group from ho...</td>\n",
       "    </tr>\n",
       "    <tr>\n",
       "      <th>11</th>\n",
       "      <td>Part 1: \"YoncÃ©\" [Intro] Let me hear you say \"...</td>\n",
       "      <td>part yoncã intro let -pron- hear -pron- say he...</td>\n",
       "    </tr>\n",
       "  </tbody>\n",
       "</table>\n",
       "</div>"
      ],
      "text/plain": [
       "                                               lyrics  \\\n",
       "0   N-n-now, honey You better sit down and look ar...   \n",
       "1   I lay alone awake at night Sorrow fills my eye...   \n",
       "2   Youre everything I thought you never were And ...   \n",
       "3   He is always laughin' and flirting with me And...   \n",
       "4   This is for my fans (Uhu, uhu) This is for my ...   \n",
       "6   [Verse 1: Beyonce] I've been watching for the ...   \n",
       "7   [Verse 1] When the palm of my two hands hold e...   \n",
       "8   [Intro: Presenter] The winner is Beyonce Knowl...   \n",
       "10  [Intro] Your challengers are a young group fro...   \n",
       "11  Part 1: \"YoncÃ©\" [Intro] Let me hear you say \"...   \n",
       "\n",
       "                                                lemma  \n",
       "0   now honey -pron- better sit down and look arou...  \n",
       "1   lay alone awake at night sorrow fill -pron- ey...  \n",
       "2   youre everything think -pron- never be and not...  \n",
       "3   -pron- be always laughin and flirt with -pron-...  \n",
       "4   this be for -pron- fan uhu uhu this be for -pr...  \n",
       "6   verse beyonce ve be watch for the sign take tr...  \n",
       "7   verse when the palm of -pron- two hand hold ea...  \n",
       "8   intro presenter the winner be beyonce knowles ...  \n",
       "10  intro -pron- challenger be young group from ho...  \n",
       "11  part yoncã intro let -pron- hear -pron- say he...  "
      ]
     },
     "execution_count": 18,
     "metadata": {},
     "output_type": "execute_result"
    }
   ],
   "source": [
    "df_sample[['lyrics','lemma']]"
   ]
  },
  {
   "cell_type": "markdown",
   "metadata": {},
   "source": [
    "## Clean stopwords and punctuation"
   ]
  },
  {
   "cell_type": "code",
   "execution_count": 19,
   "metadata": {},
   "outputs": [],
   "source": [
    "def preprocessor(text,source):\n",
    "    tokens = word_tokenize(text)\n",
    "    return (\" \").join([word for word in tokens if word not in source and word != '-pron-' and word.isalpha()])\n",
    "            \n",
    "    #return (\" \").join([word for word in if word.lower() not in source])"
   ]
  },
  {
   "cell_type": "code",
   "execution_count": 20,
   "metadata": {},
   "outputs": [
    {
     "name": "stderr",
     "output_type": "stream",
     "text": [
      "[nltk_data] Downloading package punkt to\n",
      "[nltk_data]     /Users/adamgoldstein/nltk_data...\n",
      "[nltk_data]   Package punkt is already up-to-date!\n",
      "[nltk_data] Downloading package stopwords to\n",
      "[nltk_data]     /Users/adamgoldstein/nltk_data...\n",
      "[nltk_data]   Package stopwords is already up-to-date!\n"
     ]
    },
    {
     "data": {
      "text/plain": [
       "True"
      ]
     },
     "execution_count": 20,
     "metadata": {},
     "output_type": "execute_result"
    }
   ],
   "source": [
    "nltk.download('punkt')\n",
    "nltk.download('stopwords')"
   ]
  },
  {
   "cell_type": "markdown",
   "metadata": {},
   "source": [
    "## Add German Words and Two Letter Words and other stopwords neccessary"
   ]
  },
  {
   "cell_type": "code",
   "execution_count": 21,
   "metadata": {},
   "outputs": [
    {
     "name": "stderr",
     "output_type": "stream",
     "text": [
      "/Users/adamgoldstein/opt/anaconda3/lib/python3.7/site-packages/ipykernel_launcher.py:3: SettingWithCopyWarning: \n",
      "A value is trying to be set on a copy of a slice from a DataFrame.\n",
      "Try using .loc[row_indexer,col_indexer] = value instead\n",
      "\n",
      "See the caveats in the documentation: https://pandas.pydata.org/pandas-docs/stable/user_guide/indexing.html#returning-a-view-versus-a-copy\n",
      "  This is separate from the ipykernel package so we can avoid doing imports until\n",
      "/Users/adamgoldstein/opt/anaconda3/lib/python3.7/site-packages/ipykernel_launcher.py:4: SettingWithCopyWarning: \n",
      "A value is trying to be set on a copy of a slice from a DataFrame.\n",
      "Try using .loc[row_indexer,col_indexer] = value instead\n",
      "\n",
      "See the caveats in the documentation: https://pandas.pydata.org/pandas-docs/stable/user_guide/indexing.html#returning-a-view-versus-a-copy\n",
      "  after removing the cwd from sys.path.\n",
      "/Users/adamgoldstein/opt/anaconda3/lib/python3.7/site-packages/ipykernel_launcher.py:5: SettingWithCopyWarning: \n",
      "A value is trying to be set on a copy of a slice from a DataFrame.\n",
      "Try using .loc[row_indexer,col_indexer] = value instead\n",
      "\n",
      "See the caveats in the documentation: https://pandas.pydata.org/pandas-docs/stable/user_guide/indexing.html#returning-a-view-versus-a-copy\n",
      "  \"\"\"\n",
      "/Users/adamgoldstein/opt/anaconda3/lib/python3.7/site-packages/ipykernel_launcher.py:6: SettingWithCopyWarning: \n",
      "A value is trying to be set on a copy of a slice from a DataFrame.\n",
      "Try using .loc[row_indexer,col_indexer] = value instead\n",
      "\n",
      "See the caveats in the documentation: https://pandas.pydata.org/pandas-docs/stable/user_guide/indexing.html#returning-a-view-versus-a-copy\n",
      "  \n"
     ]
    }
   ],
   "source": [
    "df_demo = df_sample\n",
    "\n",
    "df_demo['git_english_lyrics'] = df_demo['lemma'].apply(lambda x: preprocessor(x,github_english_stopwords_list))\n",
    "df_demo['git_spanish_lyrics'] = df_demo['git_english_lyrics'].apply(lambda x: preprocessor(x,github_spanish_stopwords_list))\n",
    "df_demo['last_fm_lyrics'] = df_demo['git_spanish_lyrics'].apply(lambda x: preprocessor(x,df_lastfm_stopwords_list))\n",
    "df_demo['nltk_lyrics'] = df_demo['last_fm_lyrics'].apply(lambda x: preprocessor(x,stopwords.words('english')))\n",
    "\n",
    "#df_demo['nltk_lyrics'] = df_demo['git_spanish_lyrics'].apply(lambda x: preprocessor(x,stopwords.words('english')))\n"
   ]
  },
  {
   "cell_type": "markdown",
   "metadata": {},
   "source": [
    "## Clean Lyrics Dataset"
   ]
  },
  {
   "cell_type": "code",
   "execution_count": 22,
   "metadata": {},
   "outputs": [],
   "source": [
    "df_topic = df_demo[['artist_name','track_name','track_uri','acousticness','danceability','energy','valence'\n",
    "                    ,'instrumentalness','key','mode','liveness','speechiness','time_signature',\n",
    "                    'tempo','loudness','nltk_lyrics']]\n",
    "df_topic = df_topic.rename(columns={'nltk_lyrics':'lyrics'})"
   ]
  },
  {
   "cell_type": "code",
   "execution_count": 23,
   "metadata": {},
   "outputs": [
    {
     "data": {
      "text/plain": [
       "array(['honey sit bump head love talk sense baby hate kid dog check credential friend woman love baby love damn easy love baby damn easy beauty class style ass care care looka money bank account notice love baby love damn easy love baby damn easy beauty heart head book sharp care smart bedroom happy nasty tune ooh love baby love damn easy love baby damn easy love love lovely plain dumb',\n",
       "       'lay awake night sorrow eye strong disguise leave shoulder lean guess soldier gon save hero leave save hero save girl save save bottle hurt guess living lie mind day die bring life simple word gesture beautiful bury treasure eye lead pot gold save hero leave save hero save girl save save drive crazy save save save hero leave save hero save girl save save',\n",
       "       'couldve live forget love forgive break heart time hate erase time hurt tear hate pain day wan babe break heart wan breath babe wan play love love break heart wan play break hearte girlno broken hearted girl broken hearted girl feel afraid respect feel deserve heart time hate complain afraid walk hate happy day wan babe break heart wan breath babe wan play love love break heart wan play broken hearted girl nono broken hearted girl beoooo live meyeah ta afraid broken heart spread wing fly yeah yeah yeah ohh ohh ohh wan baby wan broken heart breath baby wan play love love break heart wan play broken hearted girl broken hearted girl broken hearted girl nono broken hearted girl broken hearted girl',\n",
       "       'laughin flirt care matter real distance actin deserve girl startin baby guess finally happen prove love true baby crew chill dance homeboy pay attention tend pay attention baby guess finally happen prove love true baby boy affection lovin cool baby boy fool baby guess finally happen prove love true woman baby gon guess finally happen prove yourl ove true baby',\n",
       "       'fan uhu uhu destiny uhu uhu fan uhu uhu future love uhu uhu friend uhu uhu future child uhu uhu mother mother future friend love love love bring life advise wisdom strength earth angel grateful trust love love unconditionally earth angel grateful trust love love unconditionally messenger heaven matter unhappy smile admire pure heart pray earth angel grateful trust love love unconditionally earth angel grateful trust love love unconditionally reach teach earth angel grateful trust love love unconditionally earth angel grateful trust love love unconditionally earth angel grateful trust love love unconditionally earth angel grateful trust love love unconditionally',\n",
       "       'verse beyonce watch sign trip mind lost fine conversation breakup separation feel baby gon oooh baby worried hook drake wan roll girl girl time song girl sleep girl time song girl wan roll wan roll girl time song girl hood treat wassup verse beyonce mind bedtime rest kingdom heart marry married hold carry pre hook beyoncã deal deal deal carry stay hook drake beyoncã wan wan fuck hear wan fuck hear belong hook drake wan roll girl girl time song girl sleep girl time song girl wan roll wan roll girl time song girl hood treat wassup verse drake late bout night rest sleep deep pre hook drake deal deal deal carry stay hook drake beyoncã wan wan fuck hear wan fuck hear belong hook drake wan roll girl girl time song girl sleep girl time song girl wan roll wan roll girl time song girl hood treat wassup verse drake ta pull gon pull ghost mma thriller mma mma hand talking baby girl feel real feel finish talk worry bitch listen talk cuz wan happy girl swear friend hate daddy funny nigga true belong outro beyonce belong',\n",
       "       'verse palm hand hold feel hand voice scream ear feel hear stand mirror view eye guess pre hook beyonce frank ocean super power subtle power super power tough love super power shark super power bear hook beyonce frank ocean slow slow live break break verse scare hope spare tough love feel air baby tough love super power law sky fall super power super power law plenty super power pre hook beyonce frank ocean super power subtle power super power tough love super power shark oohhh bear super power hook beyonce frank ocean slow slow live plenty power break break outro break break',\n",
       "       'intro presenter winner beyonce knowles female pop vocalist clap intro beyonce judge pick parent love love houston verse beyonce drift knowledge cat cat walk woman solemn sing song solomon salamader flight midnight mind spoonfe pluralized eye beach forest edge preach gutter ignore climb wall cuz shit hear bore shit bore record label bore trust record label tear people planet stay alive stay alive stay alive stay alive stay alive stay alive stay alive people planet stay alive rou ou und rou ou und rou ou und rou ou und rou ou und rou ou und rou ou und rou ou und rou ou und rou ou und rou ou und rou ou und rou ou und rou ou und rou ou und rou ou und rou ou und rou ou und rou ou und rou ou und rou ou und rou ou und rou ou und rou ou und rou ou und rou ou und rou ou und rou ou und soul sale win money reap sow perfection verse haunt haunt heart lull ghost sheet haunt haunt wicked tongue bedroom runway slap pin doorway kiss bite fuck verse heart lull ghost sheet haunt haunt wicked tongue haunt haunt outro',\n",
       "       'intro challenger houston beyonce lativia nina nicky kelly ashley hip hop rappin girls tyme bout town drippin candy ground ground town town verse beyonce girl dreamt forget forget respect bow bitch time live life wise twisted twist shit bow bitch bow bitch bow bow bitch crown bow bitch bow bow bitch crown town bitch town bitch crown crown bow bitch town drippin candy ground ground town town drippin candy ground verse chimamanda ngozi adichie teach girl shrink girl ambition aim successful successful threaten female expect aspire marriage expect life choice mind marriage marriage source joy love mutual support teach girl aspire marriage teach boy raise girl competitor job accomplishment attention teach girl sexual boy feminist person social political economic equality sex verse beyonce wake flawless post flawless ride flawless flossin flawless diamond flawless diamond flawless rock flawless rock flawless wake wake flawless lady em wake wake flawless lady em tonight god damn god damn tonight god damn god damn momma teach training daddy teach love hater sister teach speak mind feel god damn fine verse beyonce wake flawless post flawless ride flawless flossin flawless diamond flawless diamond flawless rock flawless rock flawless wake wake flawless lady em wake wake flawless lady em tonight god damn god damn tonight god damn god damn outro judges champion skeleton groove stars perfect score challenger girls tyme receive star skeleton groove champion congratulation week',\n",
       "       'yoncã intro hear hey carter hey carter hey carter hey carter verse club girl post diamond fang grill brooklyn brim eye sit boy smoke girl instagram cake pound circulate image time babe bridge boy walk babe babe babe baby aim babe babe babe babe verse drop bass mane bass radio speed slow treble puff mid booty roll tongue cuz wan smash write sneeze beat beat sicker yoncã mouth liquor yoncã mouth liquor yoncã mouth liquor yoncã mouth liquor liquor liquor yoncã mouth liquor yoncã mouth liquor yoncã mouth liquor liquor liquor partition produce timbaland jerome harmon justin timberlake beyoncã knowle key wane mike dean boots verse driver roll partition driver roll partition yonce knee minute dress gon club mascara red lipstick smudge horny yeah fuck pop button rip blouse monica lewinsky gown pre hook daddy daddy bring towel baby baby betta slow minute dress gon club hook wan girl girl girl girl wan girl girl kinda girl verse driver roll partition fast driver roll partition fast swear camera flash handprint footprint glass handprint grip ass private music blast peach nasty red wine drip talk trash chauffeur eavesdropping crash pre hook daddy daddy rip fur baby baby sweat hair minute dress gon club hook bridge est ce aimes sexe sexe veux dire activitã physique coã aim intã resse pas sexe homme pensent fã ministes dã testent sexe mais est une activitã trã stimulante naturelle femmes adorent hook'],\n",
       "      dtype=object)"
      ]
     },
     "execution_count": 23,
     "metadata": {},
     "output_type": "execute_result"
    }
   ],
   "source": [
    "df_topic['lyrics'].values"
   ]
  },
  {
   "cell_type": "code",
   "execution_count": 24,
   "metadata": {},
   "outputs": [],
   "source": [
    "#df_topic[(df_topic['artist_name']=='Arcade Fire') & (df_topic['track_name']=='here comes the night time')]"
   ]
  },
  {
   "cell_type": "code",
   "execution_count": 25,
   "metadata": {},
   "outputs": [],
   "source": [
    "#df_topic.to_csv('master_lyrics_audio_features.csv',index=False,sep='|')"
   ]
  },
  {
   "cell_type": "markdown",
   "metadata": {},
   "source": [
    "## Upload file to S3"
   ]
  },
  {
   "cell_type": "code",
   "execution_count": 26,
   "metadata": {},
   "outputs": [],
   "source": [
    "#upload_file(s3,'s3ssp',upload_file='master_lyrics_audio_features.csv',rename_file='NLP_Data/master_lyrics_audio_features.csv')"
   ]
  },
  {
   "cell_type": "code",
   "execution_count": null,
   "metadata": {},
   "outputs": [],
   "source": []
  }
 ],
 "metadata": {
  "kernelspec": {
   "display_name": "Python 3",
   "language": "python",
   "name": "python3"
  },
  "language_info": {
   "codemirror_mode": {
    "name": "ipython",
    "version": 3
   },
   "file_extension": ".py",
   "mimetype": "text/x-python",
   "name": "python",
   "nbconvert_exporter": "python",
   "pygments_lexer": "ipython3",
   "version": "3.7.6"
  }
 },
 "nbformat": 4,
 "nbformat_minor": 2
}
