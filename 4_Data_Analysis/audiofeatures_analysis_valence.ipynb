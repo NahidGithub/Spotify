{
 "cells": [
  {
   "cell_type": "code",
   "execution_count": 34,
   "metadata": {},
   "outputs": [],
   "source": [
    "import os\n",
    "import boto3\n",
    "import pandas as pd\n",
    "import numpy as np\n",
    "import matplotlib.pyplot as plt\n",
    "%matplotlib inline"
   ]
  },
  {
   "cell_type": "code",
   "execution_count": 3,
   "metadata": {},
   "outputs": [],
   "source": [
    "from s3ssp import get_file"
   ]
  },
  {
   "cell_type": "code",
   "execution_count": 4,
   "metadata": {},
   "outputs": [],
   "source": [
    "s3 = boto3.resource('s3')"
   ]
  },
  {
   "cell_type": "code",
   "execution_count": 6,
   "metadata": {},
   "outputs": [
    {
     "data": {
      "text/plain": [
       "'audiofeatures.csv'"
      ]
     },
     "execution_count": 6,
     "metadata": {},
     "output_type": "execute_result"
    }
   ],
   "source": [
    "get_file(s3, \"s3ssp\", download_file=\"Analysis_Data/master_audiofeatures_track_uri.csv\", rename_file=\"audiofeatures.csv\")"
   ]
  },
  {
   "cell_type": "code",
   "execution_count": 7,
   "metadata": {},
   "outputs": [],
   "source": [
    "df = pd.read_csv(\"audiofeatures.csv\", sep = '|')"
   ]
  },
  {
   "cell_type": "code",
   "execution_count": 8,
   "metadata": {},
   "outputs": [
    {
     "data": {
      "text/html": [
       "<div>\n",
       "<style scoped>\n",
       "    .dataframe tbody tr th:only-of-type {\n",
       "        vertical-align: middle;\n",
       "    }\n",
       "\n",
       "    .dataframe tbody tr th {\n",
       "        vertical-align: top;\n",
       "    }\n",
       "\n",
       "    .dataframe thead th {\n",
       "        text-align: right;\n",
       "    }\n",
       "</style>\n",
       "<table border=\"1\" class=\"dataframe\">\n",
       "  <thead>\n",
       "    <tr style=\"text-align: right;\">\n",
       "      <th></th>\n",
       "      <th>artist_uri</th>\n",
       "      <th>artist_name</th>\n",
       "      <th>album_uri</th>\n",
       "      <th>track_uri</th>\n",
       "      <th>track_name</th>\n",
       "      <th>danceability</th>\n",
       "      <th>energy</th>\n",
       "      <th>key</th>\n",
       "      <th>loudness</th>\n",
       "      <th>mode</th>\n",
       "      <th>speechiness</th>\n",
       "      <th>acousticness</th>\n",
       "      <th>instrumentalness</th>\n",
       "      <th>liveness</th>\n",
       "      <th>valence</th>\n",
       "      <th>tempo</th>\n",
       "      <th>time_signature</th>\n",
       "    </tr>\n",
       "  </thead>\n",
       "  <tbody>\n",
       "    <tr>\n",
       "      <th>0</th>\n",
       "      <td>3bBWKHfpepPOychRNFzg4q</td>\n",
       "      <td>Al Di Meola</td>\n",
       "      <td>7xbyqbmIudUFYHsgHEvcwp</td>\n",
       "      <td>7cVA2h2HRlE2mOxhXEmtro</td>\n",
       "      <td>Here Comes the Sun</td>\n",
       "      <td>0.503</td>\n",
       "      <td>0.656</td>\n",
       "      <td>2</td>\n",
       "      <td>-4.768</td>\n",
       "      <td>1</td>\n",
       "      <td>0.0315</td>\n",
       "      <td>0.236</td>\n",
       "      <td>0.836</td>\n",
       "      <td>0.3550</td>\n",
       "      <td>0.472</td>\n",
       "      <td>130.073</td>\n",
       "      <td>4</td>\n",
       "    </tr>\n",
       "    <tr>\n",
       "      <th>1</th>\n",
       "      <td>3bBWKHfpepPOychRNFzg4q</td>\n",
       "      <td>Al Di Meola</td>\n",
       "      <td>7xbyqbmIudUFYHsgHEvcwp</td>\n",
       "      <td>5N6IdYnIYaATgQKHg9CZJP</td>\n",
       "      <td>Golden Slumbers</td>\n",
       "      <td>0.258</td>\n",
       "      <td>0.540</td>\n",
       "      <td>0</td>\n",
       "      <td>-6.730</td>\n",
       "      <td>1</td>\n",
       "      <td>0.0288</td>\n",
       "      <td>0.220</td>\n",
       "      <td>0.789</td>\n",
       "      <td>0.0754</td>\n",
       "      <td>0.436</td>\n",
       "      <td>83.048</td>\n",
       "      <td>4</td>\n",
       "    </tr>\n",
       "    <tr>\n",
       "      <th>2</th>\n",
       "      <td>3bBWKHfpepPOychRNFzg4q</td>\n",
       "      <td>Al Di Meola</td>\n",
       "      <td>7xbyqbmIudUFYHsgHEvcwp</td>\n",
       "      <td>2Fz3MpPkiUPEH6d4Heuipp</td>\n",
       "      <td>Dear Prudence</td>\n",
       "      <td>0.595</td>\n",
       "      <td>0.634</td>\n",
       "      <td>7</td>\n",
       "      <td>-7.057</td>\n",
       "      <td>1</td>\n",
       "      <td>0.0303</td>\n",
       "      <td>0.783</td>\n",
       "      <td>0.747</td>\n",
       "      <td>0.0989</td>\n",
       "      <td>0.489</td>\n",
       "      <td>108.009</td>\n",
       "      <td>4</td>\n",
       "    </tr>\n",
       "    <tr>\n",
       "      <th>3</th>\n",
       "      <td>3bBWKHfpepPOychRNFzg4q</td>\n",
       "      <td>Al Di Meola</td>\n",
       "      <td>7xbyqbmIudUFYHsgHEvcwp</td>\n",
       "      <td>4yDo6bylEHQMbAaXLKSvwl</td>\n",
       "      <td>Norwegian Wood</td>\n",
       "      <td>0.334</td>\n",
       "      <td>0.744</td>\n",
       "      <td>2</td>\n",
       "      <td>-5.317</td>\n",
       "      <td>1</td>\n",
       "      <td>0.0370</td>\n",
       "      <td>0.576</td>\n",
       "      <td>0.771</td>\n",
       "      <td>0.0860</td>\n",
       "      <td>0.639</td>\n",
       "      <td>169.865</td>\n",
       "      <td>3</td>\n",
       "    </tr>\n",
       "    <tr>\n",
       "      <th>4</th>\n",
       "      <td>3bBWKHfpepPOychRNFzg4q</td>\n",
       "      <td>Al Di Meola</td>\n",
       "      <td>7xbyqbmIudUFYHsgHEvcwp</td>\n",
       "      <td>1kgKtxtHLvRPrmvX8ns79t</td>\n",
       "      <td>Mother Nature's Son</td>\n",
       "      <td>0.724</td>\n",
       "      <td>0.636</td>\n",
       "      <td>2</td>\n",
       "      <td>-6.874</td>\n",
       "      <td>1</td>\n",
       "      <td>0.0310</td>\n",
       "      <td>0.673</td>\n",
       "      <td>0.833</td>\n",
       "      <td>0.1230</td>\n",
       "      <td>0.679</td>\n",
       "      <td>129.989</td>\n",
       "      <td>4</td>\n",
       "    </tr>\n",
       "  </tbody>\n",
       "</table>\n",
       "</div>"
      ],
      "text/plain": [
       "               artist_uri  artist_name               album_uri  \\\n",
       "0  3bBWKHfpepPOychRNFzg4q  Al Di Meola  7xbyqbmIudUFYHsgHEvcwp   \n",
       "1  3bBWKHfpepPOychRNFzg4q  Al Di Meola  7xbyqbmIudUFYHsgHEvcwp   \n",
       "2  3bBWKHfpepPOychRNFzg4q  Al Di Meola  7xbyqbmIudUFYHsgHEvcwp   \n",
       "3  3bBWKHfpepPOychRNFzg4q  Al Di Meola  7xbyqbmIudUFYHsgHEvcwp   \n",
       "4  3bBWKHfpepPOychRNFzg4q  Al Di Meola  7xbyqbmIudUFYHsgHEvcwp   \n",
       "\n",
       "                track_uri           track_name  danceability  energy  key  \\\n",
       "0  7cVA2h2HRlE2mOxhXEmtro   Here Comes the Sun         0.503   0.656    2   \n",
       "1  5N6IdYnIYaATgQKHg9CZJP      Golden Slumbers         0.258   0.540    0   \n",
       "2  2Fz3MpPkiUPEH6d4Heuipp        Dear Prudence         0.595   0.634    7   \n",
       "3  4yDo6bylEHQMbAaXLKSvwl       Norwegian Wood         0.334   0.744    2   \n",
       "4  1kgKtxtHLvRPrmvX8ns79t  Mother Nature's Son         0.724   0.636    2   \n",
       "\n",
       "   loudness  mode  speechiness  acousticness  instrumentalness  liveness  \\\n",
       "0    -4.768     1       0.0315         0.236             0.836    0.3550   \n",
       "1    -6.730     1       0.0288         0.220             0.789    0.0754   \n",
       "2    -7.057     1       0.0303         0.783             0.747    0.0989   \n",
       "3    -5.317     1       0.0370         0.576             0.771    0.0860   \n",
       "4    -6.874     1       0.0310         0.673             0.833    0.1230   \n",
       "\n",
       "   valence    tempo  time_signature  \n",
       "0    0.472  130.073               4  \n",
       "1    0.436   83.048               4  \n",
       "2    0.489  108.009               4  \n",
       "3    0.639  169.865               3  \n",
       "4    0.679  129.989               4  "
      ]
     },
     "execution_count": 8,
     "metadata": {},
     "output_type": "execute_result"
    }
   ],
   "source": [
    "df.head()"
   ]
  },
  {
   "cell_type": "code",
   "execution_count": 17,
   "metadata": {},
   "outputs": [
    {
     "data": {
      "text/plain": [
       "array([[<matplotlib.axes._subplots.AxesSubplot object at 0x114adacd0>]],\n",
       "      dtype=object)"
      ]
     },
     "execution_count": 17,
     "metadata": {},
     "output_type": "execute_result"
    },
    {
     "data": {
      "image/png": "[encoded data removed]",
      "text/plain": [
       "<Figure size 432x288 with 1 Axes>"
      ]
     },
     "metadata": {
      "needs_background": "light"
     },
     "output_type": "display_data"
    },
    {
     "data": {
      "image/png": "[encoded data removed]",
      "text/plain": [
       "<Figure size 432x288 with 1 Axes>"
      ]
     },
     "metadata": {
      "needs_background": "light"
     },
     "output_type": "display_data"
    },
    {
     "data": {
      "image/png": "[encoded data removed]",
      "text/plain": [
       "<Figure size 432x288 with 1 Axes>"
      ]
     },
     "metadata": {
      "needs_background": "light"
     },
     "output_type": "display_data"
    },
    {
     "data": {
      "image/png": "[encoded data removed]",
      "text/plain": [
       "<Figure size 432x288 with 1 Axes>"
      ]
     },
     "metadata": {
      "needs_background": "light"
     },
     "output_type": "display_data"
    }
   ],
   "source": [
    "df.hist(['danceability'])\n",
    "df.hist(['valence'])\n",
    "df.hist(['energy'])\n",
    "df.hist(['tempo'])"
   ]
  },
  {
   "cell_type": "code",
   "execution_count": 28,
   "metadata": {},
   "outputs": [
    {
     "data": {
      "text/plain": [
       "array([<matplotlib.axes._subplots.AxesSubplot object at 0x11581ee50>],\n",
       "      dtype=object)"
      ]
     },
     "execution_count": 28,
     "metadata": {},
     "output_type": "execute_result"
    },
    {
     "data": {
      "image/png": "[encoded data removed]",
      "text/plain": [
       "<Figure size 432x288 with 2 Axes>"
      ]
     },
     "metadata": {
      "needs_background": "light"
     },
     "output_type": "display_data"
    }
   ],
   "source": [
    "fig, axes = plt.subplots(1, 2)\n",
    "df.hist(['valence'], bins=50, ax=axes[0])\n",
    "df.hist(['energy'], bins=50, ax=axes[1])\n"
   ]
  },
  {
   "cell_type": "code",
   "execution_count": 36,
   "metadata": {},
   "outputs": [
    {
     "data": {
      "text/plain": [
       "array([[<matplotlib.axes._subplots.AxesSubplot object at 0x11827bdd0>,\n",
       "        <matplotlib.axes._subplots.AxesSubplot object at 0x1177a9a90>],\n",
       "       [<matplotlib.axes._subplots.AxesSubplot object at 0x117ecc810>,\n",
       "        <matplotlib.axes._subplots.AxesSubplot object at 0x1182a9e10>]],\n",
       "      dtype=object)"
      ]
     },
     "execution_count": 36,
     "metadata": {},
     "output_type": "execute_result"
    },
    {
     "data": {
      "image/png": "[encoded data removed]",
      "text/plain": [
       "<Figure size 432x288 with 4 Axes>"
      ]
     },
     "metadata": {
      "needs_background": "light"
     },
     "output_type": "display_data"
    }
   ],
   "source": [
    "df.hist(['valence', 'danceability', 'energy'], bins=50)"
   ]
  },
  {
   "cell_type": "code",
   "execution_count": 37,
   "metadata": {},
   "outputs": [
    {
     "data": {
      "text/plain": [
       "0.3932011466717247"
      ]
     },
     "execution_count": 37,
     "metadata": {},
     "output_type": "execute_result"
    }
   ],
   "source": [
    "df['valence'].corr(df['energy'])"
   ]
  },
  {
   "cell_type": "code",
   "execution_count": 38,
   "metadata": {},
   "outputs": [
    {
     "data": {
      "text/plain": [
       "0.5409652380661368"
      ]
     },
     "execution_count": 38,
     "metadata": {},
     "output_type": "execute_result"
    }
   ],
   "source": [
    "df['valence'].corr(df['danceability'])"
   ]
  },
  {
   "cell_type": "code",
   "execution_count": 48,
   "metadata": {},
   "outputs": [
    {
     "data": {
      "text/plain": [
       "0.7652786843515987"
      ]
     },
     "execution_count": 48,
     "metadata": {},
     "output_type": "execute_result"
    }
   ],
   "source": [
    "df['energy'].corr(df['loudness'])"
   ]
  },
  {
   "cell_type": "code",
   "execution_count": 47,
   "metadata": {},
   "outputs": [
    {
     "data": {
      "text/plain": [
       "-0.03387361463726303"
      ]
     },
     "execution_count": 47,
     "metadata": {},
     "output_type": "execute_result"
    }
   ],
   "source": [
    "df['danceability'].corr(df['tempo'])"
   ]
  },
  {
   "cell_type": "code",
   "execution_count": 44,
   "metadata": {},
   "outputs": [
    {
     "data": {
      "text/plain": [
       "-0.03387361463726303"
      ]
     },
     "execution_count": 44,
     "metadata": {},
     "output_type": "execute_result"
    }
   ],
   "source": [
    "df['danceability'].corr(df['tempo'])"
   ]
  },
  {
   "cell_type": "code",
   "execution_count": 49,
   "metadata": {},
   "outputs": [
    {
     "data": {
      "text/plain": [
       "0.238359965857996"
      ]
     },
     "execution_count": 49,
     "metadata": {},
     "output_type": "execute_result"
    }
   ],
   "source": [
    "df['tempo'].corr(df['energy'])"
   ]
  },
  {
   "cell_type": "code",
   "execution_count": 46,
   "metadata": {},
   "outputs": [
    {
     "data": {
      "text/plain": [
       "-0.11041242596908082"
      ]
     },
     "execution_count": 46,
     "metadata": {},
     "output_type": "execute_result"
    }
   ],
   "source": [
    "df['instrumentalness'].corr(df['speechiness'])"
   ]
  },
  {
   "cell_type": "code",
   "execution_count": null,
   "metadata": {},
   "outputs": [],
   "source": []
  },
  {
   "cell_type": "code",
   "execution_count": 40,
   "metadata": {},
   "outputs": [
    {
     "data": {
      "text/plain": [
       "array([[<matplotlib.axes._subplots.AxesSubplot object at 0x117a13890>]],\n",
       "      dtype=object)"
      ]
     },
     "execution_count": 40,
     "metadata": {},
     "output_type": "execute_result"
    },
    {
     "data": {
      "image/png": "[encoded data removed]",
      "text/plain": [
       "<Figure size 432x288 with 1 Axes>"
      ]
     },
     "metadata": {
      "needs_background": "light"
     },
     "output_type": "display_data"
    }
   ],
   "source": [
    "df.hist(['tempo'])"
   ]
  },
  {
   "cell_type": "code",
   "execution_count": null,
   "metadata": {},
   "outputs": [],
   "source": []
  }
 ],
 "metadata": {
  "kernelspec": {
   "display_name": "Python 3",
   "language": "python",
   "name": "python3"
  },
  "language_info": {
   "codemirror_mode": {
    "name": "ipython",
    "version": 3
   },
   "file_extension": ".py",
   "mimetype": "text/x-python",
   "name": "python",
   "nbconvert_exporter": "python",
   "pygments_lexer": "ipython3",
   "version": "3.7.4"
  }
 },
 "nbformat": 4,
 "nbformat_minor": 2
}
